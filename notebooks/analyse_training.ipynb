{
 "cells": [
  {
   "cell_type": "code",
   "execution_count": 141,
   "id": "initial_id",
   "metadata": {
    "ExecuteTime": {
     "end_time": "2024-04-14T00:51:55.403566800Z",
     "start_time": "2024-04-14T00:51:54.648628400Z"
    },
    "collapsed": true,
    "jupyter": {
     "outputs_hidden": true
    }
   },
   "outputs": [],
   "source": [
    "import sklearn\n",
    "import numpy as np # linear algebra\n",
    "import pandas as pd \n",
    "import matplotlib.pyplot as plt\n",
    "\n",
    "from sklearn.ensemble import RandomForestClassifier\n",
    "\n",
    "from src.models.train_model import CrossValidate\n",
    "from src.models.metrics import Measure\n",
    "\n",
    "import warnings\n",
    "\n",
    "warnings.filterwarnings(\"ignore\")\n"
   ]
  },
  {
   "cell_type": "markdown",
   "id": "625a4872a7bd651e",
   "metadata": {
    "collapsed": false
   },
   "source": [
    "Leaf Classification"
   ]
  },
  {
   "cell_type": "code",
   "execution_count": 142,
   "id": "6e916a0db3fc6cbf",
   "metadata": {
    "ExecuteTime": {
     "end_time": "2024-04-14T00:51:58.651623Z",
     "start_time": "2024-04-14T00:51:55.381000400Z"
    },
    "collapsed": false
   },
   "outputs": [],
   "source": [
    "data_dir_path = '../data/external'\n",
    "data = pd.read_csv(data_dir_path + \"/train.csv\")"
   ]
  },
  {
   "cell_type": "markdown",
   "id": "48fe1759bbce5255",
   "metadata": {
    "collapsed": false
   },
   "source": [
    "## Pre-traitement des données\n",
    "### Separer les classes de features\n",
    "`y_train` = classes or label\n",
    "`x_train` = features"
   ]
  },
  {
   "cell_type": "code",
   "execution_count": 143,
   "id": "1bd9a156f35c2fee",
   "metadata": {
    "ExecuteTime": {
     "end_time": "2024-04-14T00:51:59.351216500Z",
     "start_time": "2024-04-14T00:51:58.629959100Z"
    },
    "collapsed": false
   },
   "outputs": [
    {
     "data": {
      "text/html": [
       "<div>\n",
       "<style scoped>\n",
       "    .dataframe tbody tr th:only-of-type {\n",
       "        vertical-align: middle;\n",
       "    }\n",
       "\n",
       "    .dataframe tbody tr th {\n",
       "        vertical-align: top;\n",
       "    }\n",
       "\n",
       "    .dataframe thead th {\n",
       "        text-align: right;\n",
       "    }\n",
       "</style>\n",
       "<table border=\"1\" class=\"dataframe\">\n",
       "  <thead>\n",
       "    <tr style=\"text-align: right;\">\n",
       "      <th></th>\n",
       "      <th>id</th>\n",
       "      <th>species</th>\n",
       "      <th>margin1</th>\n",
       "      <th>margin2</th>\n",
       "      <th>margin3</th>\n",
       "      <th>margin4</th>\n",
       "      <th>margin5</th>\n",
       "      <th>margin6</th>\n",
       "      <th>margin7</th>\n",
       "      <th>margin8</th>\n",
       "      <th>...</th>\n",
       "      <th>texture55</th>\n",
       "      <th>texture56</th>\n",
       "      <th>texture57</th>\n",
       "      <th>texture58</th>\n",
       "      <th>texture59</th>\n",
       "      <th>texture60</th>\n",
       "      <th>texture61</th>\n",
       "      <th>texture62</th>\n",
       "      <th>texture63</th>\n",
       "      <th>texture64</th>\n",
       "    </tr>\n",
       "  </thead>\n",
       "  <tbody>\n",
       "    <tr>\n",
       "      <th>0</th>\n",
       "      <td>1</td>\n",
       "      <td>Acer_Opalus</td>\n",
       "      <td>0.007812</td>\n",
       "      <td>0.023438</td>\n",
       "      <td>0.023438</td>\n",
       "      <td>0.003906</td>\n",
       "      <td>0.011719</td>\n",
       "      <td>0.009766</td>\n",
       "      <td>0.027344</td>\n",
       "      <td>0.0</td>\n",
       "      <td>...</td>\n",
       "      <td>0.007812</td>\n",
       "      <td>0.000000</td>\n",
       "      <td>0.002930</td>\n",
       "      <td>0.002930</td>\n",
       "      <td>0.035156</td>\n",
       "      <td>0.00000</td>\n",
       "      <td>0.000000</td>\n",
       "      <td>0.004883</td>\n",
       "      <td>0.000000</td>\n",
       "      <td>0.025391</td>\n",
       "    </tr>\n",
       "    <tr>\n",
       "      <th>1</th>\n",
       "      <td>2</td>\n",
       "      <td>Pterocarya_Stenoptera</td>\n",
       "      <td>0.005859</td>\n",
       "      <td>0.000000</td>\n",
       "      <td>0.031250</td>\n",
       "      <td>0.015625</td>\n",
       "      <td>0.025391</td>\n",
       "      <td>0.001953</td>\n",
       "      <td>0.019531</td>\n",
       "      <td>0.0</td>\n",
       "      <td>...</td>\n",
       "      <td>0.000977</td>\n",
       "      <td>0.000000</td>\n",
       "      <td>0.000000</td>\n",
       "      <td>0.000977</td>\n",
       "      <td>0.023438</td>\n",
       "      <td>0.00000</td>\n",
       "      <td>0.000000</td>\n",
       "      <td>0.000977</td>\n",
       "      <td>0.039062</td>\n",
       "      <td>0.022461</td>\n",
       "    </tr>\n",
       "    <tr>\n",
       "      <th>2</th>\n",
       "      <td>3</td>\n",
       "      <td>Quercus_Hartwissiana</td>\n",
       "      <td>0.005859</td>\n",
       "      <td>0.009766</td>\n",
       "      <td>0.019531</td>\n",
       "      <td>0.007812</td>\n",
       "      <td>0.003906</td>\n",
       "      <td>0.005859</td>\n",
       "      <td>0.068359</td>\n",
       "      <td>0.0</td>\n",
       "      <td>...</td>\n",
       "      <td>0.154300</td>\n",
       "      <td>0.000000</td>\n",
       "      <td>0.005859</td>\n",
       "      <td>0.000977</td>\n",
       "      <td>0.007812</td>\n",
       "      <td>0.00000</td>\n",
       "      <td>0.000000</td>\n",
       "      <td>0.000000</td>\n",
       "      <td>0.020508</td>\n",
       "      <td>0.002930</td>\n",
       "    </tr>\n",
       "    <tr>\n",
       "      <th>3</th>\n",
       "      <td>5</td>\n",
       "      <td>Tilia_Tomentosa</td>\n",
       "      <td>0.000000</td>\n",
       "      <td>0.003906</td>\n",
       "      <td>0.023438</td>\n",
       "      <td>0.005859</td>\n",
       "      <td>0.021484</td>\n",
       "      <td>0.019531</td>\n",
       "      <td>0.023438</td>\n",
       "      <td>0.0</td>\n",
       "      <td>...</td>\n",
       "      <td>0.000000</td>\n",
       "      <td>0.000977</td>\n",
       "      <td>0.000000</td>\n",
       "      <td>0.000000</td>\n",
       "      <td>0.020508</td>\n",
       "      <td>0.00000</td>\n",
       "      <td>0.000000</td>\n",
       "      <td>0.017578</td>\n",
       "      <td>0.000000</td>\n",
       "      <td>0.047852</td>\n",
       "    </tr>\n",
       "    <tr>\n",
       "      <th>4</th>\n",
       "      <td>6</td>\n",
       "      <td>Quercus_Variabilis</td>\n",
       "      <td>0.005859</td>\n",
       "      <td>0.003906</td>\n",
       "      <td>0.048828</td>\n",
       "      <td>0.009766</td>\n",
       "      <td>0.013672</td>\n",
       "      <td>0.015625</td>\n",
       "      <td>0.005859</td>\n",
       "      <td>0.0</td>\n",
       "      <td>...</td>\n",
       "      <td>0.096680</td>\n",
       "      <td>0.000000</td>\n",
       "      <td>0.021484</td>\n",
       "      <td>0.000000</td>\n",
       "      <td>0.000000</td>\n",
       "      <td>0.00000</td>\n",
       "      <td>0.000000</td>\n",
       "      <td>0.000000</td>\n",
       "      <td>0.000000</td>\n",
       "      <td>0.031250</td>\n",
       "    </tr>\n",
       "    <tr>\n",
       "      <th>5</th>\n",
       "      <td>8</td>\n",
       "      <td>Magnolia_Salicifolia</td>\n",
       "      <td>0.070312</td>\n",
       "      <td>0.093750</td>\n",
       "      <td>0.033203</td>\n",
       "      <td>0.001953</td>\n",
       "      <td>0.000000</td>\n",
       "      <td>0.152340</td>\n",
       "      <td>0.007812</td>\n",
       "      <td>0.0</td>\n",
       "      <td>...</td>\n",
       "      <td>0.145510</td>\n",
       "      <td>0.000000</td>\n",
       "      <td>0.041992</td>\n",
       "      <td>0.000000</td>\n",
       "      <td>0.005859</td>\n",
       "      <td>0.00000</td>\n",
       "      <td>0.000000</td>\n",
       "      <td>0.000000</td>\n",
       "      <td>0.001953</td>\n",
       "      <td>0.013672</td>\n",
       "    </tr>\n",
       "    <tr>\n",
       "      <th>6</th>\n",
       "      <td>10</td>\n",
       "      <td>Quercus_Canariensis</td>\n",
       "      <td>0.021484</td>\n",
       "      <td>0.031250</td>\n",
       "      <td>0.017578</td>\n",
       "      <td>0.009766</td>\n",
       "      <td>0.001953</td>\n",
       "      <td>0.042969</td>\n",
       "      <td>0.039062</td>\n",
       "      <td>0.0</td>\n",
       "      <td>...</td>\n",
       "      <td>0.085938</td>\n",
       "      <td>0.000000</td>\n",
       "      <td>0.040039</td>\n",
       "      <td>0.000000</td>\n",
       "      <td>0.009766</td>\n",
       "      <td>0.00000</td>\n",
       "      <td>0.000000</td>\n",
       "      <td>0.000000</td>\n",
       "      <td>0.039062</td>\n",
       "      <td>0.003906</td>\n",
       "    </tr>\n",
       "    <tr>\n",
       "      <th>7</th>\n",
       "      <td>11</td>\n",
       "      <td>Quercus_Rubra</td>\n",
       "      <td>0.000000</td>\n",
       "      <td>0.000000</td>\n",
       "      <td>0.037109</td>\n",
       "      <td>0.050781</td>\n",
       "      <td>0.003906</td>\n",
       "      <td>0.000000</td>\n",
       "      <td>0.003906</td>\n",
       "      <td>0.0</td>\n",
       "      <td>...</td>\n",
       "      <td>0.038086</td>\n",
       "      <td>0.025391</td>\n",
       "      <td>0.009766</td>\n",
       "      <td>0.002930</td>\n",
       "      <td>0.021484</td>\n",
       "      <td>0.00000</td>\n",
       "      <td>0.037109</td>\n",
       "      <td>0.006836</td>\n",
       "      <td>0.002930</td>\n",
       "      <td>0.036133</td>\n",
       "    </tr>\n",
       "    <tr>\n",
       "      <th>8</th>\n",
       "      <td>14</td>\n",
       "      <td>Quercus_Brantii</td>\n",
       "      <td>0.005859</td>\n",
       "      <td>0.001953</td>\n",
       "      <td>0.033203</td>\n",
       "      <td>0.015625</td>\n",
       "      <td>0.001953</td>\n",
       "      <td>0.000000</td>\n",
       "      <td>0.023438</td>\n",
       "      <td>0.0</td>\n",
       "      <td>...</td>\n",
       "      <td>0.000000</td>\n",
       "      <td>0.000000</td>\n",
       "      <td>0.008789</td>\n",
       "      <td>0.000000</td>\n",
       "      <td>0.017578</td>\n",
       "      <td>0.00000</td>\n",
       "      <td>0.000000</td>\n",
       "      <td>0.000977</td>\n",
       "      <td>0.033203</td>\n",
       "      <td>0.074219</td>\n",
       "    </tr>\n",
       "    <tr>\n",
       "      <th>9</th>\n",
       "      <td>15</td>\n",
       "      <td>Salix_Fragilis</td>\n",
       "      <td>0.000000</td>\n",
       "      <td>0.000000</td>\n",
       "      <td>0.009766</td>\n",
       "      <td>0.037109</td>\n",
       "      <td>0.072266</td>\n",
       "      <td>0.000000</td>\n",
       "      <td>0.000000</td>\n",
       "      <td>0.0</td>\n",
       "      <td>...</td>\n",
       "      <td>0.000000</td>\n",
       "      <td>0.000000</td>\n",
       "      <td>0.000000</td>\n",
       "      <td>0.070312</td>\n",
       "      <td>0.013672</td>\n",
       "      <td>0.19238</td>\n",
       "      <td>0.000000</td>\n",
       "      <td>0.074219</td>\n",
       "      <td>0.000000</td>\n",
       "      <td>0.000000</td>\n",
       "    </tr>\n",
       "  </tbody>\n",
       "</table>\n",
       "<p>10 rows × 194 columns</p>\n",
       "</div>"
      ],
      "text/plain": [
       "   id                species   margin1   margin2   margin3   margin4  \\\n",
       "0   1            Acer_Opalus  0.007812  0.023438  0.023438  0.003906   \n",
       "1   2  Pterocarya_Stenoptera  0.005859  0.000000  0.031250  0.015625   \n",
       "2   3   Quercus_Hartwissiana  0.005859  0.009766  0.019531  0.007812   \n",
       "3   5        Tilia_Tomentosa  0.000000  0.003906  0.023438  0.005859   \n",
       "4   6     Quercus_Variabilis  0.005859  0.003906  0.048828  0.009766   \n",
       "5   8   Magnolia_Salicifolia  0.070312  0.093750  0.033203  0.001953   \n",
       "6  10    Quercus_Canariensis  0.021484  0.031250  0.017578  0.009766   \n",
       "7  11          Quercus_Rubra  0.000000  0.000000  0.037109  0.050781   \n",
       "8  14        Quercus_Brantii  0.005859  0.001953  0.033203  0.015625   \n",
       "9  15         Salix_Fragilis  0.000000  0.000000  0.009766  0.037109   \n",
       "\n",
       "    margin5   margin6   margin7  margin8  ...  texture55  texture56  \\\n",
       "0  0.011719  0.009766  0.027344      0.0  ...   0.007812   0.000000   \n",
       "1  0.025391  0.001953  0.019531      0.0  ...   0.000977   0.000000   \n",
       "2  0.003906  0.005859  0.068359      0.0  ...   0.154300   0.000000   \n",
       "3  0.021484  0.019531  0.023438      0.0  ...   0.000000   0.000977   \n",
       "4  0.013672  0.015625  0.005859      0.0  ...   0.096680   0.000000   \n",
       "5  0.000000  0.152340  0.007812      0.0  ...   0.145510   0.000000   \n",
       "6  0.001953  0.042969  0.039062      0.0  ...   0.085938   0.000000   \n",
       "7  0.003906  0.000000  0.003906      0.0  ...   0.038086   0.025391   \n",
       "8  0.001953  0.000000  0.023438      0.0  ...   0.000000   0.000000   \n",
       "9  0.072266  0.000000  0.000000      0.0  ...   0.000000   0.000000   \n",
       "\n",
       "   texture57  texture58  texture59  texture60  texture61  texture62  \\\n",
       "0   0.002930   0.002930   0.035156    0.00000   0.000000   0.004883   \n",
       "1   0.000000   0.000977   0.023438    0.00000   0.000000   0.000977   \n",
       "2   0.005859   0.000977   0.007812    0.00000   0.000000   0.000000   \n",
       "3   0.000000   0.000000   0.020508    0.00000   0.000000   0.017578   \n",
       "4   0.021484   0.000000   0.000000    0.00000   0.000000   0.000000   \n",
       "5   0.041992   0.000000   0.005859    0.00000   0.000000   0.000000   \n",
       "6   0.040039   0.000000   0.009766    0.00000   0.000000   0.000000   \n",
       "7   0.009766   0.002930   0.021484    0.00000   0.037109   0.006836   \n",
       "8   0.008789   0.000000   0.017578    0.00000   0.000000   0.000977   \n",
       "9   0.000000   0.070312   0.013672    0.19238   0.000000   0.074219   \n",
       "\n",
       "   texture63  texture64  \n",
       "0   0.000000   0.025391  \n",
       "1   0.039062   0.022461  \n",
       "2   0.020508   0.002930  \n",
       "3   0.000000   0.047852  \n",
       "4   0.000000   0.031250  \n",
       "5   0.001953   0.013672  \n",
       "6   0.039062   0.003906  \n",
       "7   0.002930   0.036133  \n",
       "8   0.033203   0.074219  \n",
       "9   0.000000   0.000000  \n",
       "\n",
       "[10 rows x 194 columns]"
      ]
     },
     "execution_count": 143,
     "metadata": {},
     "output_type": "execute_result"
    }
   ],
   "source": [
    "data.head(10)"
   ]
  },
  {
   "cell_type": "markdown",
   "id": "ed15ad5131a5c36e",
   "metadata": {
    "collapsed": false
   },
   "source": [
    "## Mise à l'échelle et Encodage d'etiquette\n",
    "\n",
    "(La class LeafDataPreprocessing nous permet de réaliser ces prétraitements à ce niveau)\n",
    "\n",
    "#### Mise à l'échelle\n",
    "La mise à l'échelle des données, ou normalisation, est une étape cruciale en prétraitement des données. le but :\n",
    "\n",
    "1. **Uniformité**: Elle assure que toutes les caractéristiques numériques contribuent également à l'analyse sans être biaisées par leur échelle d'origine.\n",
    "\n",
    "2. **Meilleure convergence**: Beaucoup d'algorithmes de machine learning, comme les réseaux de neurones et les méthodes de descente de gradient, convergent plus rapidement lorsque les données sont mises à l'échelle.\n",
    "\n",
    "3. **Amélioration des performances**: Certains algorithmes, en particulier ceux qui utilisent des mesures de distance comme k-means ou k-NN, ont de meilleures performances si toutes les caractéristiques sont sur une échelle comparable.\n",
    "\n",
    "4. **Stabilité numérique**: La mise à l'échelle peut aussi aider à éviter des problèmes numériques qui peuvent survenir lorsque les caractéristiques ont des ordres de grandeur très différents.\n",
    "\n",
    "En somme, la mise à l'échelle des données aide à rendre le processus d'apprentissage automatique plus efficace et plus stable."
   ]
  },
  {
   "cell_type": "code",
   "execution_count": 144,
   "id": "d4931d9e94624856",
   "metadata": {
    "ExecuteTime": {
     "end_time": "2024-04-14T00:52:02.076542200Z",
     "start_time": "2024-04-14T00:51:59.357212900Z"
    },
    "collapsed": false
   },
   "outputs": [],
   "source": [
    "from src.data.preprocessing_data import LeafDataPreprocessing\n",
    "processed_data = LeafDataPreprocessing(data=data, normalized=True)\n"
   ]
  },
  {
   "cell_type": "code",
   "execution_count": 145,
   "id": "27bea0271e18794",
   "metadata": {
    "ExecuteTime": {
     "end_time": "2024-04-14T00:52:02.925120400Z",
     "start_time": "2024-04-14T00:52:02.146619300Z"
    },
    "collapsed": false
   },
   "outputs": [
    {
     "data": {
      "text/html": [
       "<div>\n",
       "<style scoped>\n",
       "    .dataframe tbody tr th:only-of-type {\n",
       "        vertical-align: middle;\n",
       "    }\n",
       "\n",
       "    .dataframe tbody tr th {\n",
       "        vertical-align: top;\n",
       "    }\n",
       "\n",
       "    .dataframe thead th {\n",
       "        text-align: right;\n",
       "    }\n",
       "</style>\n",
       "<table border=\"1\" class=\"dataframe\">\n",
       "  <thead>\n",
       "    <tr style=\"text-align: right;\">\n",
       "      <th></th>\n",
       "      <th>id</th>\n",
       "      <th>margin1</th>\n",
       "      <th>margin2</th>\n",
       "      <th>margin3</th>\n",
       "      <th>margin4</th>\n",
       "      <th>margin5</th>\n",
       "      <th>margin6</th>\n",
       "      <th>margin7</th>\n",
       "      <th>margin8</th>\n",
       "      <th>margin9</th>\n",
       "      <th>...</th>\n",
       "      <th>texture55</th>\n",
       "      <th>texture56</th>\n",
       "      <th>texture57</th>\n",
       "      <th>texture58</th>\n",
       "      <th>texture59</th>\n",
       "      <th>texture60</th>\n",
       "      <th>texture61</th>\n",
       "      <th>texture62</th>\n",
       "      <th>texture63</th>\n",
       "      <th>texture64</th>\n",
       "    </tr>\n",
       "  </thead>\n",
       "  <tbody>\n",
       "    <tr>\n",
       "      <th>count</th>\n",
       "      <td>990.000000</td>\n",
       "      <td>990.000000</td>\n",
       "      <td>990.000000</td>\n",
       "      <td>990.000000</td>\n",
       "      <td>990.000000</td>\n",
       "      <td>990.000000</td>\n",
       "      <td>990.000000</td>\n",
       "      <td>990.000000</td>\n",
       "      <td>990.000000</td>\n",
       "      <td>990.000000</td>\n",
       "      <td>...</td>\n",
       "      <td>990.000000</td>\n",
       "      <td>990.000000</td>\n",
       "      <td>990.000000</td>\n",
       "      <td>990.000000</td>\n",
       "      <td>990.000000</td>\n",
       "      <td>990.000000</td>\n",
       "      <td>990.000000</td>\n",
       "      <td>990.000000</td>\n",
       "      <td>990.000000</td>\n",
       "      <td>990.000000</td>\n",
       "    </tr>\n",
       "    <tr>\n",
       "      <th>mean</th>\n",
       "      <td>799.595960</td>\n",
       "      <td>0.017412</td>\n",
       "      <td>0.028539</td>\n",
       "      <td>0.031988</td>\n",
       "      <td>0.023280</td>\n",
       "      <td>0.014264</td>\n",
       "      <td>0.038579</td>\n",
       "      <td>0.019202</td>\n",
       "      <td>0.001083</td>\n",
       "      <td>0.007167</td>\n",
       "      <td>...</td>\n",
       "      <td>0.036501</td>\n",
       "      <td>0.005024</td>\n",
       "      <td>0.015944</td>\n",
       "      <td>0.011586</td>\n",
       "      <td>0.016108</td>\n",
       "      <td>0.014017</td>\n",
       "      <td>0.002688</td>\n",
       "      <td>0.020291</td>\n",
       "      <td>0.008989</td>\n",
       "      <td>0.019420</td>\n",
       "    </tr>\n",
       "    <tr>\n",
       "      <th>std</th>\n",
       "      <td>452.477568</td>\n",
       "      <td>0.019739</td>\n",
       "      <td>0.038855</td>\n",
       "      <td>0.025847</td>\n",
       "      <td>0.028411</td>\n",
       "      <td>0.018390</td>\n",
       "      <td>0.052030</td>\n",
       "      <td>0.017511</td>\n",
       "      <td>0.002743</td>\n",
       "      <td>0.008933</td>\n",
       "      <td>...</td>\n",
       "      <td>0.063403</td>\n",
       "      <td>0.019321</td>\n",
       "      <td>0.023214</td>\n",
       "      <td>0.025040</td>\n",
       "      <td>0.015335</td>\n",
       "      <td>0.060151</td>\n",
       "      <td>0.011415</td>\n",
       "      <td>0.039040</td>\n",
       "      <td>0.013791</td>\n",
       "      <td>0.022768</td>\n",
       "    </tr>\n",
       "    <tr>\n",
       "      <th>min</th>\n",
       "      <td>1.000000</td>\n",
       "      <td>0.000000</td>\n",
       "      <td>0.000000</td>\n",
       "      <td>0.000000</td>\n",
       "      <td>0.000000</td>\n",
       "      <td>0.000000</td>\n",
       "      <td>0.000000</td>\n",
       "      <td>0.000000</td>\n",
       "      <td>0.000000</td>\n",
       "      <td>0.000000</td>\n",
       "      <td>...</td>\n",
       "      <td>0.000000</td>\n",
       "      <td>0.000000</td>\n",
       "      <td>0.000000</td>\n",
       "      <td>0.000000</td>\n",
       "      <td>0.000000</td>\n",
       "      <td>0.000000</td>\n",
       "      <td>0.000000</td>\n",
       "      <td>0.000000</td>\n",
       "      <td>0.000000</td>\n",
       "      <td>0.000000</td>\n",
       "    </tr>\n",
       "    <tr>\n",
       "      <th>25%</th>\n",
       "      <td>415.250000</td>\n",
       "      <td>0.001953</td>\n",
       "      <td>0.001953</td>\n",
       "      <td>0.013672</td>\n",
       "      <td>0.005859</td>\n",
       "      <td>0.001953</td>\n",
       "      <td>0.000000</td>\n",
       "      <td>0.005859</td>\n",
       "      <td>0.000000</td>\n",
       "      <td>0.001953</td>\n",
       "      <td>...</td>\n",
       "      <td>0.000000</td>\n",
       "      <td>0.000000</td>\n",
       "      <td>0.000977</td>\n",
       "      <td>0.000000</td>\n",
       "      <td>0.004883</td>\n",
       "      <td>0.000000</td>\n",
       "      <td>0.000000</td>\n",
       "      <td>0.000000</td>\n",
       "      <td>0.000000</td>\n",
       "      <td>0.000977</td>\n",
       "    </tr>\n",
       "    <tr>\n",
       "      <th>50%</th>\n",
       "      <td>802.500000</td>\n",
       "      <td>0.009766</td>\n",
       "      <td>0.011719</td>\n",
       "      <td>0.025391</td>\n",
       "      <td>0.013672</td>\n",
       "      <td>0.007812</td>\n",
       "      <td>0.015625</td>\n",
       "      <td>0.015625</td>\n",
       "      <td>0.000000</td>\n",
       "      <td>0.005859</td>\n",
       "      <td>...</td>\n",
       "      <td>0.004883</td>\n",
       "      <td>0.000000</td>\n",
       "      <td>0.005859</td>\n",
       "      <td>0.000977</td>\n",
       "      <td>0.012695</td>\n",
       "      <td>0.000000</td>\n",
       "      <td>0.000000</td>\n",
       "      <td>0.003906</td>\n",
       "      <td>0.002930</td>\n",
       "      <td>0.011719</td>\n",
       "    </tr>\n",
       "    <tr>\n",
       "      <th>75%</th>\n",
       "      <td>1195.500000</td>\n",
       "      <td>0.025391</td>\n",
       "      <td>0.041016</td>\n",
       "      <td>0.044922</td>\n",
       "      <td>0.029297</td>\n",
       "      <td>0.017578</td>\n",
       "      <td>0.056153</td>\n",
       "      <td>0.029297</td>\n",
       "      <td>0.000000</td>\n",
       "      <td>0.007812</td>\n",
       "      <td>...</td>\n",
       "      <td>0.043701</td>\n",
       "      <td>0.000000</td>\n",
       "      <td>0.022217</td>\n",
       "      <td>0.009766</td>\n",
       "      <td>0.021484</td>\n",
       "      <td>0.000000</td>\n",
       "      <td>0.000000</td>\n",
       "      <td>0.023438</td>\n",
       "      <td>0.012695</td>\n",
       "      <td>0.029297</td>\n",
       "    </tr>\n",
       "    <tr>\n",
       "      <th>max</th>\n",
       "      <td>1584.000000</td>\n",
       "      <td>0.087891</td>\n",
       "      <td>0.205080</td>\n",
       "      <td>0.156250</td>\n",
       "      <td>0.169920</td>\n",
       "      <td>0.111330</td>\n",
       "      <td>0.310550</td>\n",
       "      <td>0.091797</td>\n",
       "      <td>0.031250</td>\n",
       "      <td>0.076172</td>\n",
       "      <td>...</td>\n",
       "      <td>0.429690</td>\n",
       "      <td>0.202150</td>\n",
       "      <td>0.172850</td>\n",
       "      <td>0.200200</td>\n",
       "      <td>0.106450</td>\n",
       "      <td>0.578130</td>\n",
       "      <td>0.151370</td>\n",
       "      <td>0.375980</td>\n",
       "      <td>0.086914</td>\n",
       "      <td>0.141600</td>\n",
       "    </tr>\n",
       "  </tbody>\n",
       "</table>\n",
       "<p>8 rows × 193 columns</p>\n",
       "</div>"
      ],
      "text/plain": [
       "                id     margin1     margin2     margin3     margin4  \\\n",
       "count   990.000000  990.000000  990.000000  990.000000  990.000000   \n",
       "mean    799.595960    0.017412    0.028539    0.031988    0.023280   \n",
       "std     452.477568    0.019739    0.038855    0.025847    0.028411   \n",
       "min       1.000000    0.000000    0.000000    0.000000    0.000000   \n",
       "25%     415.250000    0.001953    0.001953    0.013672    0.005859   \n",
       "50%     802.500000    0.009766    0.011719    0.025391    0.013672   \n",
       "75%    1195.500000    0.025391    0.041016    0.044922    0.029297   \n",
       "max    1584.000000    0.087891    0.205080    0.156250    0.169920   \n",
       "\n",
       "          margin5     margin6     margin7     margin8     margin9  ...  \\\n",
       "count  990.000000  990.000000  990.000000  990.000000  990.000000  ...   \n",
       "mean     0.014264    0.038579    0.019202    0.001083    0.007167  ...   \n",
       "std      0.018390    0.052030    0.017511    0.002743    0.008933  ...   \n",
       "min      0.000000    0.000000    0.000000    0.000000    0.000000  ...   \n",
       "25%      0.001953    0.000000    0.005859    0.000000    0.001953  ...   \n",
       "50%      0.007812    0.015625    0.015625    0.000000    0.005859  ...   \n",
       "75%      0.017578    0.056153    0.029297    0.000000    0.007812  ...   \n",
       "max      0.111330    0.310550    0.091797    0.031250    0.076172  ...   \n",
       "\n",
       "        texture55   texture56   texture57   texture58   texture59   texture60  \\\n",
       "count  990.000000  990.000000  990.000000  990.000000  990.000000  990.000000   \n",
       "mean     0.036501    0.005024    0.015944    0.011586    0.016108    0.014017   \n",
       "std      0.063403    0.019321    0.023214    0.025040    0.015335    0.060151   \n",
       "min      0.000000    0.000000    0.000000    0.000000    0.000000    0.000000   \n",
       "25%      0.000000    0.000000    0.000977    0.000000    0.004883    0.000000   \n",
       "50%      0.004883    0.000000    0.005859    0.000977    0.012695    0.000000   \n",
       "75%      0.043701    0.000000    0.022217    0.009766    0.021484    0.000000   \n",
       "max      0.429690    0.202150    0.172850    0.200200    0.106450    0.578130   \n",
       "\n",
       "        texture61   texture62   texture63   texture64  \n",
       "count  990.000000  990.000000  990.000000  990.000000  \n",
       "mean     0.002688    0.020291    0.008989    0.019420  \n",
       "std      0.011415    0.039040    0.013791    0.022768  \n",
       "min      0.000000    0.000000    0.000000    0.000000  \n",
       "25%      0.000000    0.000000    0.000000    0.000977  \n",
       "50%      0.000000    0.003906    0.002930    0.011719  \n",
       "75%      0.000000    0.023438    0.012695    0.029297  \n",
       "max      0.151370    0.375980    0.086914    0.141600  \n",
       "\n",
       "[8 rows x 193 columns]"
      ]
     },
     "execution_count": 145,
     "metadata": {},
     "output_type": "execute_result"
    }
   ],
   "source": [
    "processed_data.describe()"
   ]
  },
  {
   "cell_type": "code",
   "execution_count": 146,
   "id": "98c4425f01e72d81",
   "metadata": {
    "ExecuteTime": {
     "end_time": "2024-04-14T00:52:04.015108200Z",
     "start_time": "2024-04-14T00:52:02.937829300Z"
    },
    "collapsed": false
   },
   "outputs": [
    {
     "name": "stdout",
     "output_type": "stream",
     "text": [
      "Nombre  de classe :  (99,)\n"
     ]
    }
   ],
   "source": [
    "classes = processed_data.get_classes()\n",
    "\n",
    "print(\"Nombre  de classe : \", classes.shape)"
   ]
  },
  {
   "cell_type": "code",
   "execution_count": 147,
   "id": "baf9791dc76b8ba2",
   "metadata": {
    "ExecuteTime": {
     "end_time": "2024-04-14T00:52:04.111956300Z",
     "start_time": "2024-04-14T00:52:02.999494Z"
    },
    "collapsed": false
   },
   "outputs": [],
   "source": [
    "t_train = processed_data.y_train\n",
    "d_train = processed_data.x_train"
   ]
  },
  {
   "cell_type": "code",
   "execution_count": 148,
   "id": "9d8b31eceafac4b2",
   "metadata": {
    "ExecuteTime": {
     "end_time": "2024-04-14T00:52:04.114953800Z",
     "start_time": "2024-04-14T00:52:03.594111600Z"
    },
    "collapsed": false
   },
   "outputs": [
    {
     "name": "stdout",
     "output_type": "stream",
     "text": [
      "Nombre de features  : (990, 192)\n",
      "Nombre de classe : (990,)\n"
     ]
    }
   ],
   "source": [
    "print(\"Nombre de features  :\", d_train.shape)\n",
    "print(\"Nombre de classe :\", t_train.shape)\n"
   ]
  },
  {
   "cell_type": "markdown",
   "id": "cf69b3870c3c41d2",
   "metadata": {
    "collapsed": false
   },
   "source": [
    "Séparation des données"
   ]
  },
  {
   "cell_type": "code",
   "execution_count": 149,
   "id": "3424ccb393579a40",
   "metadata": {
    "ExecuteTime": {
     "end_time": "2024-04-14T00:52:04.219097100Z",
     "start_time": "2024-04-14T00:52:03.637460200Z"
    },
    "collapsed": false
   },
   "outputs": [
    {
     "name": "stdout",
     "output_type": "stream",
     "text": [
      "x_train shape : (792, 192)\n",
      "y_train shape : (792,)\n",
      "x_test shape : (198, 192)\n",
      "y_test shape : (198,)\n"
     ]
    }
   ],
   "source": [
    "x_train,x_test, y_train, y_test = processed_data.split_train_and_test(d_train, t_train, ratio=0.2)\n",
    "print(\"x_train shape :\", x_train.shape)\n",
    "print(\"y_train shape :\", y_train.shape)\n",
    "print(\"x_test shape :\", x_test.shape)\n",
    "print(\"y_test shape :\", y_test.shape)"
   ]
  },
  {
   "cell_type": "markdown",
   "id": "2bc80c96251728f2",
   "metadata": {
    "collapsed": false
   },
   "source": [
    "# Experimentation \n",
    "\n",
    "##### (6 methode)\n",
    "- Une methode à hypothèse Gaussienne : Naive Bayes -> GaussianNB\n",
    "- Logistic Regression\n",
    "- Stochastic Gradient Descent\n",
    "- MLP\n",
    "- Random Forest\n",
    "- SVM\n",
    "- AdaBoost \n"
   ]
  },
  {
   "cell_type": "markdown",
   "id": "9e7d0ee9e7ed059a",
   "metadata": {
    "collapsed": false
   },
   "source": [
    "## Entrainment avec une méthode gaussienne"
   ]
  },
  {
   "cell_type": "code",
   "execution_count": 77,
   "id": "675d1e9ce34f07cd",
   "metadata": {
    "ExecuteTime": {
     "end_time": "2024-04-13T01:48:31.306578400Z",
     "start_time": "2024-04-13T01:48:30.834159800Z"
    },
    "collapsed": false
   },
   "outputs": [
    {
     "name": "stdout",
     "output_type": "stream",
     "text": [
      "\n",
      "Train Score:\n",
      "Accuracy : 0.9987373737373737\n",
      "Precision : 0.9988776655443322\n",
      "Recall : 0.9987373737373737\n",
      "F1-score : 0.998732422261834\n",
      "\n",
      "Test Score :\n",
      "Accuracy : 0.6111111111111112\n",
      "Precision : 0.6080246913580247\n",
      "Recall : 0.6111111111111112\n",
      "F1-score : 0.5720888539070358\n"
     ]
    }
   ],
   "source": [
    "from sklearn.metrics import accuracy_score, precision_score, recall_score, f1_score\n",
    "from sklearn.naive_bayes import GaussianNB\n",
    "# Créer un modèle Naive Bayes gaussien\n",
    "gnb = GaussianNB()\n",
    "\n",
    "# Entraîner le modèle sur les données d'entraînement\n",
    "gnb.fit(x_train, y_train)\n",
    "\n",
    "metrics = Measure(gnb,x_train,y_train, x_test, y_test)\n",
    "metrics.show_metrics_train()\n",
    "metrics.show_metrics_test()\n"
   ]
  },
  {
   "cell_type": "markdown",
   "id": "d54dba5de604b11d",
   "metadata": {
    "collapsed": false
   },
   "source": [
    "Il semble que la méthode Gaussienne ne donne pas de bons résultats si nous regardons les tests (il surapprend sur les données d'entrainement), nous allons passer un test de normalités pour voir si nos sont suivent une distribution gaussienne (Tests statistique)."
   ]
  },
  {
   "cell_type": "markdown",
   "id": "c28d1844130d5bb2",
   "metadata": {
    "collapsed": false
   },
   "source": [
    "### Tests (statistique) d'hypothèse gaussienne des données"
   ]
  },
  {
   "cell_type": "markdown",
   "id": "f930270a01a518d",
   "metadata": {
    "collapsed": false
   },
   "source": [
    "Nous avons effectué 3 test :\n",
    "\n",
    "Test de Shapiro-Wilk :\n",
    "- Le test de Shapiro-Wilk est utilisé pour tester l'hypothèse nulle selon laquelle un échantillon provient d'une population normalement distribuée. Il est particulièrement adapté aux petits échantillons et est considéré comme l'un des tests les plus puissants pour détecter les écarts par rapport à la normalité.\n",
    "\t\n",
    "Test de Kolmogorov-Smirnov :\n",
    "- Le test de Kolmogorov-Smirnov est un test non paramétrique qui compare la distribution cumulative d'un échantillon avec une distribution de référence ou compare deux échantillons pour déterminer s'ils proviennent de la même distribution. Il est utile pour les grands échantillons et est sensible aux différences dans les emplacements et les formes des distributions.\n",
    "\t\n",
    "Test d'Anderson-Darling :\n",
    "- Le test d'Anderson-Darling est similaire au test de Kolmogorov-Smirnov, mais il donne plus de poids aux queues de la distribution de l'échantillon. Cela le rend plus sensible aux écarts dans les extrémités de la distribution et c'est un choix robuste pour tester la normalité.\n"
   ]
  },
  {
   "cell_type": "code",
   "execution_count": 78,
   "id": "da95599b1da2832f",
   "metadata": {
    "ExecuteTime": {
     "end_time": "2024-04-13T01:52:48.075569700Z",
     "start_time": "2024-04-13T01:52:48.033033700Z"
    },
    "collapsed": false
   },
   "outputs": [],
   "source": [
    "from src.data.normality_check import NormalityDistributionCheck\n",
    "# 'get_processed_data()' est un DataFrame avec la forme (990, 192)\n",
    "xdata = processed_data.get_processed_data().to_numpy() \n",
    "normality_check = NormalityDistributionCheck(data=xdata)"
   ]
  },
  {
   "cell_type": "code",
   "execution_count": 79,
   "id": "42f71cd63f4f4d0",
   "metadata": {
    "ExecuteTime": {
     "end_time": "2024-04-13T01:52:54.234954800Z",
     "start_time": "2024-04-13T01:52:54.181757300Z"
    },
    "collapsed": false
   },
   "outputs": [
    {
     "name": "stdout",
     "output_type": "stream",
     "text": [
      "Valeur de la statistique de test (Shapiro-Wilk) : 0.04047077539927135\n",
      "Valeur-p (p-value) : 3.310562594061702e-201\n",
      "L'hypothèse de normalité est rejetée.\n"
     ]
    }
   ],
   "source": [
    "# Test de Shapiro-Wilk pour la normalité\n",
    "# Ce test est adapté pour les petits échantillons (< 5000)\n",
    "normality_check.shapiro_wilk_test()\n"
   ]
  },
  {
   "cell_type": "markdown",
   "id": "85d2d069f64e9e3",
   "metadata": {
    "collapsed": false
   },
   "source": []
  },
  {
   "cell_type": "code",
   "execution_count": 80,
   "id": "99a612116c97509d",
   "metadata": {
    "ExecuteTime": {
     "end_time": "2024-04-13T01:52:59.345691300Z",
     "start_time": "2024-04-13T01:52:59.251999700Z"
    },
    "collapsed": false
   },
   "outputs": [
    {
     "name": "stdout",
     "output_type": "stream",
     "text": [
      "Statistique de test (Kolmogorov-Smirnov) : 0.5\n",
      "Valeur-p (p-value) : 0.0\n",
      "L'hypothèse de normalité est rejetée.\n"
     ]
    }
   ],
   "source": [
    "# Test de Kolmogorov-Smirnov (comparaison avec une distribution normale)\n",
    "normality_check.kolmogorov_smirnov_test()"
   ]
  },
  {
   "cell_type": "code",
   "execution_count": 81,
   "id": "5c2f2b6c1323ad0c",
   "metadata": {
    "ExecuteTime": {
     "end_time": "2024-04-13T01:53:29.856468500Z",
     "start_time": "2024-04-13T01:53:29.258438100Z"
    },
    "collapsed": false
   },
   "outputs": [
    {
     "name": "stdout",
     "output_type": "stream",
     "text": [
      "Statistique de test (Anderson-Darling) : 72341.24445513345\n",
      "A un niveau de signification de 15.0%, les données ne semblent pas normales (statistique >= 0.576).\n",
      "A un niveau de signification de 10.0%, les données ne semblent pas normales (statistique >= 0.656).\n",
      "A un niveau de signification de 5.0%, les données ne semblent pas normales (statistique >= 0.787).\n",
      "A un niveau de signification de 2.5%, les données ne semblent pas normales (statistique >= 0.918).\n",
      "A un niveau de signification de 1.0%, les données ne semblent pas normales (statistique >= 1.092).\n"
     ]
    }
   ],
   "source": [
    "# Test d'Anderson-Darling (comparaison avec une distribution normale)\n",
    "normality_check.anderson_darling_test()"
   ]
  },
  {
   "cell_type": "markdown",
   "id": "b419b9d9d7594b86",
   "metadata": {
    "collapsed": false
   },
   "source": []
  },
  {
   "cell_type": "markdown",
   "id": "cb93a6a7b82f4ce5",
   "metadata": {
    "collapsed": false
   },
   "source": [
    "Les trois tests de normalité effectuée jusque lá, montre que les données ne semble pas suivre une distribution gaussienne.\n"
   ]
  },
  {
   "cell_type": "markdown",
   "id": "d3112978b300a2d6",
   "metadata": {
    "collapsed": false
   },
   "source": [
    "### RE-entrainment avec methode gaussienne avec la recherche de meilleures hyperparametres"
   ]
  },
  {
   "cell_type": "code",
   "execution_count": 87,
   "id": "1668e00c52ed6d8",
   "metadata": {
    "ExecuteTime": {
     "end_time": "2024-04-13T02:00:59.514185900Z",
     "start_time": "2024-04-13T02:00:57.496032800Z"
    },
    "collapsed": false
   },
   "outputs": [
    {
     "name": "stdout",
     "output_type": "stream",
     "text": [
      "Meilleur var_smoothing trouvé: {'var_smoothing': 0.01}\n",
      "Meilleur score d'accuracy trouvé: <bound method CrossValidate.best_score of <src.models.train_model.CrossValidate object at 0x000001E83064B010>>\n",
      "\n",
      "Train Score:\n",
      "Accuracy : 0.9987373737373737\n",
      "Precision : 0.9988776655443322\n",
      "Recall : 0.9987373737373737\n",
      "F1-score : 0.998732422261834\n",
      "\n",
      "Test Score :\n",
      "Accuracy : 0.9848484848484849\n",
      "Precision : 0.9915824915824917\n",
      "Recall : 0.9848484848484849\n",
      "F1-score : 0.9845117845117846\n"
     ]
    }
   ],
   "source": [
    "from sklearn.model_selection import GridSearchCV\n",
    "from sklearn.naive_bayes import GaussianNB\n",
    "\n",
    "# Définir la grille de valeurs pour var_smoothing à rechercher\n",
    "gnb_params = {'var_smoothing': [1e-9, 1e-7, 1e-6, 1e-5, 1e-3, 1e-2]}\n",
    "\n",
    "# Initialiser le classifieur GaussianNB\n",
    "gnb_model = GaussianNB()\n",
    "\n",
    "# Initialiser GridSearchCV avec le classifieur et la grille de paramètres\n",
    "gnb_cross_val = CrossValidate(model=gnb_model, params=gnb_params, k_fold=4, metric='accuracy')\n",
    "# Effectuer la recherche des meilleurs paramètres en utilisant les données d'entraînement\n",
    "gnb_cross_val.train(x_train, y_train)\n",
    "\n",
    "# Afficher les meilleurs hyperparamètres trouvés\n",
    "print(\"Meilleur var_smoothing trouvé:\", gnb_cross_val.best_params)\n",
    "print(\"Meilleur score d'accuracy trouvé:\", gnb_cross_val.best_score)\n",
    "\n",
    "# Entraîner le modèle avec les meilleurs hyperparamètres trouvés\n",
    "best_gnb_model = gnb_cross_val.best_model\n",
    "metrics = Measure(best_gnb_model,x_train,y_train, x_test, y_test)\n",
    "metrics.show_metrics_train()\n",
    "metrics.show_metrics_test()\n"
   ]
  },
  {
   "cell_type": "markdown",
   "id": "94f263bee9c8bdf",
   "metadata": {
    "collapsed": false
   },
   "source": [
    "# Entrainement sur des méthodes sans hypothèses\n"
   ]
  },
  {
   "cell_type": "markdown",
   "id": "8a2aab55f9768641",
   "metadata": {
    "collapsed": false
   },
   "source": [
    "## Experimentation sur Random Forest"
   ]
  },
  {
   "cell_type": "markdown",
   "id": "b2f6cee703c03aae",
   "metadata": {
    "collapsed": false
   },
   "source": [
    "Implementation naive du Random Forest avec ses parametres par défaut,"
   ]
  },
  {
   "cell_type": "code",
   "execution_count": 102,
   "id": "25d0d42ddb3e083f",
   "metadata": {
    "ExecuteTime": {
     "end_time": "2024-04-13T13:51:28.014738900Z",
     "start_time": "2024-04-13T13:51:23.546201800Z"
    },
    "collapsed": false
   },
   "outputs": [
    {
     "name": "stdout",
     "output_type": "stream",
     "text": [
      "OOB error score :  0.32323232323232326\n",
      "\n",
      "Train Score:\n",
      "Accuracy : 0.7941919191919192\n",
      "Precision : 0.8217045860985255\n",
      "Recall : 0.7941919191919192\n",
      "F1-score : 0.7822964123297175\n",
      "\n",
      "Test Score :\n",
      "Accuracy : 0.6363636363636364\n",
      "Precision : 0.5808080808080808\n",
      "Recall : 0.6363636363636364\n",
      "F1-score : 0.5847189847189848\n"
     ]
    }
   ],
   "source": [
    "from sklearn.model_selection import cross_val_score\n",
    "\n",
    "rfc_model1 = RandomForestClassifier(n_estimators=20, max_features= None, max_depth = 10, oob_score = True)\n",
    "rfc_model1.fit(x_train, y_train)\n",
    "\n",
    "print(\"OOB error score : \", rfc_model1.oob_score_)\n",
    "metrics = Measure(rfc_model1,x_train,y_train, x_test, y_test)\n",
    "metrics.show_metrics_train()\n",
    "metrics.show_metrics_test()\n"
   ]
  },
  {
   "cell_type": "markdown",
   "id": "14d0e5be6f48fcd7",
   "metadata": {
    "collapsed": false
   },
   "source": [
    "#### Mesure de la performance sur les nombres d'arbres différents"
   ]
  },
  {
   "cell_type": "markdown",
   "id": "471d3a58f91f05fe",
   "metadata": {
    "collapsed": false
   },
   "source": [
    "Le score OOB (Out of Bag) est un moyen de valider les performances d'un modèle Random Forest.\n",
    "\t\n",
    "Dans une forêt aléatoire, plusieurs arbres de décision sont formés sur différents sous-ensembles de données de formation originales à l'aide d'une technique appelée bagging (Bootstrap Aggregation).\n",
    "\t\n",
    "Chaque arbre est formé sur un échantillon bootstrap (un sous-ensemble aléatoire de données avec remplacement).\n",
    "\t\n",
    "Le score OOB est calculé en évaluant les prédictions du modèle sur les échantillons sortis du sac (points de données qui n'étaient pas inclus dans l'échantillon bootstrap pour un arbre particulier).\n",
    "\t\n",
    "Essentiellement, chaque arbre est testé sur les points de données qu’il n’a pas vus lors de la formation.\n",
    "\t\n",
    "Le score OOB fournit une estimation de la capacité du modèle à se généraliser à des données invisibles."
   ]
  },
  {
   "cell_type": "code",
   "execution_count": 103,
   "id": "e528c6c59ad1951",
   "metadata": {
    "ExecuteTime": {
     "end_time": "2024-04-13T14:20:22.797091700Z",
     "start_time": "2024-04-13T14:16:03.136136100Z"
    },
    "collapsed": false
   },
   "outputs": [
    {
     "data": {
      "image/png": "[encoded data removed]",
      "text/plain": [
       "<Figure size 640x480 with 1 Axes>"
      ]
     },
     "metadata": {},
     "output_type": "display_data"
    }
   ],
   "source": [
    "from src.features.utils import find_best_split\n",
    "from sklearn.model_selection import cross_val_score, StratifiedKFold\n",
    "\n",
    "# Effectuer la validation croisée stratifiée avec différentes valeurs pour le nombre d'arbres\n",
    "min_trees = 20\n",
    "max_trees = 300\n",
    "num_trees = list(range(min_trees, max_trees+1, 20))\n",
    "mean_accuracy = [] # moyen\n",
    "std_accuracy = [] # ecart-type\n",
    "\n",
    "# Trouver un n_split pour notre ensemble de données\n",
    "n_splits, _ = find_best_split(x_train.shape[0], 5)\n",
    "\n",
    "# Boucle sur chaque nombre d'arbres à tester\n",
    "for n_trees in num_trees:\n",
    "    rf_clf = RandomForestClassifier(n_estimators=n_trees)\n",
    "    \n",
    "    # Utiliser la validation croisée stratifiée\n",
    "    accuracy_scores = CrossValidate.cv_score(rf_clf, x_train, y_train, scoring='accuracy')\n",
    "    \n",
    "    # Calculer la moyenne et l'écart type des scores d'accuracy\n",
    "    mean_accuracy.append(np.mean(accuracy_scores))\n",
    "    std_accuracy.append(np.std(accuracy_scores))\n",
    "\n",
    "# Afficher la courbe de l'accuracy en fonction du nombre d'arbres\n",
    "plt.errorbar(num_trees, mean_accuracy, yerr=std_accuracy, fmt='-o')\n",
    "plt.title('Evolution de l\\'accuracy pour RandomForestClassifier')\n",
    "plt.xlabel('Nombre d\\'arbres')\n",
    "plt.ylabel('Accuracy')\n",
    "plt.show()\n"
   ]
  },
  {
   "cell_type": "markdown",
   "id": "b86780301330ffee",
   "metadata": {
    "collapsed": false
   },
   "source": [
    "Plus nous augmentons les nombres d'arbre plus la precision augmente"
   ]
  },
  {
   "cell_type": "markdown",
   "id": "3a32c21134e04a1e",
   "metadata": {
    "collapsed": false
   },
   "source": [
    "### Mesure de l'erreur sur les nombres d'arbres différents\n",
    "\n",
    "Experimentation sur trois arbres différents"
   ]
  },
  {
   "cell_type": "code",
   "execution_count": 104,
   "id": "ac1cf8ad36ff924",
   "metadata": {
    "ExecuteTime": {
     "end_time": "2024-04-13T14:43:00.974986100Z",
     "start_time": "2024-04-13T14:40:39.033801Z"
    },
    "collapsed": false
   },
   "outputs": [
    {
     "data": {
      "image/png": "[encoded data removed]",
      "text/plain": [
       "<Figure size 640x480 with 1 Axes>"
      ]
     },
     "metadata": {},
     "output_type": "display_data"
    }
   ],
   "source": [
    "from collections import OrderedDict\n",
    "\n",
    "import matplotlib.pyplot as plt\n",
    "\n",
    "from sklearn.datasets import make_classification\n",
    "from sklearn.ensemble import RandomForestClassifier\n",
    "\n",
    "RANDOM_STATE = 42\n",
    "\n",
    "# REMARQUE : définir le paramètre de construction `warm_start` sur `True` désactive la prise en charge des ensembles parallélisés mais est nécessaire pour suivre la trajectoire des erreurs OOB pendant la formation.\n",
    "\n",
    "# Chaque arbre à un nombre de caractéristiques différent [max_features] à considérer lors de la recherche de la meilleure division pour chaque nœud de l’arbre.\n",
    "ensemble_rf_clfs = [\n",
    "    (\n",
    "        \"max_features='sqrt'\",\n",
    "        RandomForestClassifier(\n",
    "            warm_start=True,\n",
    "            oob_score=True,\n",
    "            max_features=\"sqrt\",\n",
    "            random_state=RANDOM_STATE,\n",
    "        ),\n",
    "    ),\n",
    "    (\n",
    "        \"max_features='log2'\",\n",
    "        RandomForestClassifier(\n",
    "            warm_start=True,\n",
    "            max_features=\"log2\",\n",
    "            oob_score=True,\n",
    "            random_state=RANDOM_STATE,\n",
    "        ),\n",
    "    ),\n",
    "    (\n",
    "        \"max_features=None\",\n",
    "        RandomForestClassifier(\n",
    "            warm_start=True,\n",
    "            max_features=None,\n",
    "            oob_score=True,\n",
    "            random_state=RANDOM_STATE,\n",
    "        ),\n",
    "    ),\n",
    "]\n",
    "\n",
    "# Mappez un nom de classificateur à une liste de paires (<n_estimators>, <error rate>).\n",
    "error_rate = OrderedDict((label, []) for label, _ in ensemble_rf_clfs)\n",
    "\n",
    "# Plage de valeurs `n_estimators` à explorer.\n",
    "min_estimators = 20\n",
    "max_estimators = 300\n",
    "\n",
    "\n",
    "for label, clf in ensemble_rf_clfs:\n",
    "    for i in range(min_estimators, max_estimators + 1, 10):\n",
    "        clf.set_params(n_estimators=i)\n",
    "        clf.fit(x_train, y_train)\n",
    "\n",
    "        # Enregistrez l'erreur OOB pour chaque paramètre `n_estimators=i`.\n",
    "        oob_error = 1 - clf.oob_score_\n",
    "        error_rate[label].append((i, oob_error))\n",
    "\n",
    "# Générez le tracé « Taux d'erreur OOB » par rapport aux « n_estimators ».\n",
    "for label, clf_err in error_rate.items():\n",
    "    xs, ys = zip(*clf_err)\n",
    "    plt.plot(xs, ys, label=label)\n",
    "    \n",
    "plt.title('Evolution de l\\'erreur OOB pour RandomForestClassifier')\n",
    "plt.xlim(min_estimators, max_estimators)\n",
    "plt.xlabel(\"Nombre d\\'arbres\")\n",
    "plt.ylabel(\"OOB error rate\")\n",
    "plt.legend(loc=\"upper right\")\n",
    "plt.show()"
   ]
  },
  {
   "cell_type": "markdown",
   "id": "61bc30fef2748acf",
   "metadata": {
    "collapsed": false
   },
   "source": []
  },
  {
   "cell_type": "markdown",
   "id": "a2837978164c23fe",
   "metadata": {
    "collapsed": false
   },
   "source": [
    "### Random Forest : La recherche de meilleurs d'hyperparamètres"
   ]
  },
  {
   "cell_type": "code",
   "execution_count": 115,
   "id": "8716e65f3639d0b6",
   "metadata": {
    "ExecuteTime": {
     "end_time": "2024-04-13T18:16:36.022548900Z",
     "start_time": "2024-04-13T18:09:40.030318200Z"
    },
    "collapsed": false
   },
   "outputs": [
    {
     "name": "stdout",
     "output_type": "stream",
     "text": [
      "Ramdom Forest Meilleurs hyperparamètres : {'criterion': 'gini', 'max_depth': None, 'min_samples_split': 5, 'n_estimators': 100}\n",
      "\n",
      "Train Score:\n",
      "Accuracy : 1.0\n",
      "Precision : 1.0\n",
      "Recall : 1.0\n",
      "F1-score : 1.0\n",
      "\n",
      "Test Score :\n",
      "Accuracy : 0.9848484848484849\n",
      "Precision : 0.9915824915824917\n",
      "Recall : 0.9848484848484849\n",
      "F1-score : 0.9845117845117846\n"
     ]
    }
   ],
   "source": [
    "# Définir les hyperparamètres à rechercher\n",
    "rfc_param_grid = {\n",
    "    'n_estimators': [10, 50, 100],\n",
    "    'max_depth': [None, 10, 20],\n",
    "    'min_samples_split': [2, 5, 10],\n",
    "    'criterion':[\"gini\", \"entropy\", \"log_loss\"]\n",
    "}\n",
    "\n",
    "# Créer une instance du modèle Random Forest\n",
    "rfc_model = RandomForestClassifier(oob_score=True)\n",
    "\n",
    "# Effectuer une recherche des hyperparamètres avec validation croisée\n",
    "rfc_cross_val = CrossValidate(model=rfc_model, params=rfc_param_grid, k_fold=4, metric='accuracy')\n",
    "rfc_cross_val.train(x_train, y_train)\n",
    "\n",
    "# Entraîner le modèle avec les meilleurs hyperparamètres trouvés\n",
    "best_hp_rfc = rfc_cross_val.best_params\n",
    "best_rfc_model = rfc_cross_val.best_model\n",
    "best_rfc_model.fit(x_train, y_train)\n",
    "# Afficher les meilleurs hyperparamètres trouvés\n",
    "print(\"Ramdom Forest Meilleurs hyperparamètres :\", best_hp_rfc)\n",
    "metrics = Measure(best_rfc_model,x_train,y_train, x_test, y_test)\n",
    "metrics.show_metrics_train()\n",
    "metrics.show_metrics_test()"
   ]
  },
  {
   "cell_type": "markdown",
   "id": "3e67eaa5b7271992",
   "metadata": {
    "collapsed": false
   },
   "source": [
    "Nous obtenons des meilleurs performances aprés la recherche meilleurs hyperparamètres comparé aux résultat précédant du Random Forest"
   ]
  },
  {
   "cell_type": "markdown",
   "id": "327988bfe62abe91",
   "metadata": {
    "collapsed": false
   },
   "source": [
    "## Support Vector Machine"
   ]
  },
  {
   "cell_type": "markdown",
   "id": "676fdc692aab51f7",
   "metadata": {
    "collapsed": false
   },
   "source": [
    "Implementation naïve de SVM"
   ]
  },
  {
   "cell_type": "code",
   "execution_count": 55,
   "id": "f663aa7cfaa910bc",
   "metadata": {
    "ExecuteTime": {
     "end_time": "2024-04-12T00:20:45.743318500Z",
     "start_time": "2024-04-12T00:20:45.281531Z"
    },
    "collapsed": false
   },
   "outputs": [
    {
     "name": "stdout",
     "output_type": "stream",
     "text": [
      "\n",
      "Train Score:\n",
      "Accuracy : 0.9974747474747475\n",
      "Precision : 0.9977553310886643\n",
      "Recall : 0.9974747474747475\n",
      "F1-score : 0.997464844523668\n",
      "\n",
      "Test Score :\n",
      "Accuracy : 0.9797979797979798\n",
      "Precision : 0.9865319865319865\n",
      "Recall : 0.9797979797979798\n",
      "F1-score : 0.9784511784511786\n"
     ]
    }
   ],
   "source": [
    "from sklearn.svm import SVC\n",
    "\n",
    "svc_model = SVC()\n",
    "svc_model.fit(x_train, y_train)\n",
    "\n",
    "metrics = Measure(svc_model,x_train,y_train, x_test, y_test)\n",
    "metrics.show_metrics_train()\n",
    "metrics.show_metrics_test()"
   ]
  },
  {
   "cell_type": "markdown",
   "id": "253c7ee546fcaa92",
   "metadata": {
    "collapsed": false
   },
   "source": [
    " On peut remarquer une amélioration des performances après la recherche d'hyperparamètres du point de vue de la métrique de justesse (accuracy) \n",
    " \n"
   ]
  },
  {
   "cell_type": "markdown",
   "id": "779e665e02a8317b",
   "metadata": {
    "collapsed": false
   },
   "source": [
    "Learning Curve? Une question intéressante qu'on peut se poser est s'il serait intéressant de chercher à récolter d'autres données. Autrement dit si la quantité de données influencent assez les performaces. Au travers de la courbe d'apprentissage, il est possible de s'en faire une idée"
   ]
  },
  {
   "cell_type": "code",
   "execution_count": 116,
   "id": "ab1d35bfe17a53e6",
   "metadata": {
    "ExecuteTime": {
     "end_time": "2024-04-13T18:19:22.390734300Z",
     "start_time": "2024-04-13T18:19:20.321914900Z"
    },
    "collapsed": false
   },
   "outputs": [
    {
     "data": {
      "image/png": "[encoded data removed]",
      "text/plain": [
       "<Figure size 1000x600 with 1 Axes>"
      ]
     },
     "metadata": {},
     "output_type": "display_data"
    }
   ],
   "source": [
    "acc_iter_svm_train = []\n",
    "acc_iter_svm_test = []\n",
    "\n",
    "for i in range(10):\n",
    "    svc_iter = SVC(C= 0.1, degree = 1, gamma = 10, kernel= 'poly', max_iter=i)\n",
    "    svc_iter.fit(x_train, y_train)\n",
    "    y_pred_train = svc_iter.predict(x_train)\n",
    "    y_pred_test = svc_iter.predict(x_test)\n",
    "    accu_svm_train = accuracy_score(y_train, y_pred_train)    \n",
    "    accu_svm_test = accuracy_score(y_test, y_pred_test) \n",
    "    acc_iter_svm_train.append(accu_svm_train)\n",
    "    acc_iter_svm_test.append(accu_svm_test)\n",
    "\n",
    "\n",
    "plt.figure(figsize=(10, 6))\n",
    "plt.plot(range(10), acc_iter_svm_train, label='Accuracy sur les données d\\'entraînement')\n",
    "plt.plot(range(10), acc_iter_svm_test, label='Accuracy sur les données de validation')\n",
    "plt.xlabel('Itérations')\n",
    "plt.ylabel('Accuracy')\n",
    "plt.title('Évolution de l\\'accuracy après chaque itération')\n",
    "plt.legend()\n",
    "plt.grid()\n",
    "plt.show()"
   ]
  },
  {
   "cell_type": "code",
   "execution_count": null,
   "id": "1f35ffd56ce4676f",
   "metadata": {
    "collapsed": false
   },
   "outputs": [],
   "source": []
  },
  {
   "cell_type": "markdown",
   "id": "85705bb8658b0151",
   "metadata": {
    "collapsed": false
   },
   "source": [
    "#### La recherche d'hyperparametre pour le SVM"
   ]
  },
  {
   "cell_type": "code",
   "execution_count": 117,
   "id": "321d3dda7f7506d1",
   "metadata": {
    "ExecuteTime": {
     "end_time": "2024-04-13T18:24:24.383410700Z",
     "start_time": "2024-04-13T18:19:34.625115900Z"
    },
    "collapsed": false
   },
   "outputs": [
    {
     "name": "stdout",
     "output_type": "stream",
     "text": [
      "SVM Meilleurs hyperparamètres : {'C': 0.1, 'degree': 1, 'gamma': 10, 'kernel': 'poly'}\n",
      "\n",
      "Train Score:\n",
      "Accuracy : 1.0\n",
      "Precision : 1.0\n",
      "Recall : 1.0\n",
      "F1-score : 1.0\n",
      "\n",
      "Test Score :\n",
      "Accuracy : 0.98989898989899\n",
      "Precision : 0.9932659932659934\n",
      "Recall : 0.98989898989899\n",
      "F1-score : 0.9892255892255892\n"
     ]
    }
   ],
   "source": [
    "param_grid_svm = {\n",
    "    'kernel': ['linear', 'poly', 'rbf', 'sigmoid'],\n",
    "    'C': [0.001, 0.01, 0.1, 1, 10],\n",
    "    'gamma': [0.1, 1, 10],\n",
    "    'degree': np.arange(0, 11)\n",
    "}\n",
    "svc_model = SVC()\n",
    "\n",
    "svm_cross_val = CrossValidate(model=svc_model, params=param_grid_svm, k_fold=4, metric='accuracy')\n",
    "svm_cross_val.train(x_train, y_train)\n",
    "\n",
    "\n",
    "# Entraîner le modèle avec les meilleurs hyperparamètres trouvés\n",
    "best_hp = svm_cross_val.best_params\n",
    "best_lr_model = svm_cross_val.best_model\n",
    "\n",
    "# Afficher les meilleurs hyperparamètres trouvés\n",
    "print(\"SVM Meilleurs hyperparamètres :\", best_hp)\n",
    "metrics = Measure(best_lr_model,x_train,y_train, x_test, y_test)\n",
    "metrics.show_metrics_train()\n",
    "metrics.show_metrics_test()"
   ]
  },
  {
   "cell_type": "code",
   "execution_count": 2,
   "id": "1669e20f",
   "metadata": {},
   "outputs": [
    {
     "ename": "NameError",
     "evalue": "name 'SVC' is not defined",
     "output_type": "error",
     "traceback": [
      "\u001b[1;31m---------------------------------------------------------------------------\u001b[0m",
      "\u001b[1;31mNameError\u001b[0m                                 Traceback (most recent call last)",
      "Cell \u001b[1;32mIn[2], line 1\u001b[0m\n\u001b[1;32m----> 1\u001b[0m model_svc \u001b[38;5;241m=\u001b[39m \u001b[43mSVC\u001b[49m(C\u001b[38;5;241m=\u001b[39m\u001b[38;5;241m0.1\u001b[39m, degree\u001b[38;5;241m=\u001b[39m\u001b[38;5;241m1\u001b[39m, gamma\u001b[38;5;241m=\u001b[39m\u001b[38;5;241m10\u001b[39m, kernel\u001b[38;5;241m=\u001b[39m\u001b[38;5;124m'\u001b[39m\u001b[38;5;124mpoly\u001b[39m\u001b[38;5;124m'\u001b[39m)\n",
      "\u001b[1;31mNameError\u001b[0m: name 'SVC' is not defined"
     ]
    }
   ],
   "source": [
    "model_svc = SVC(C=0.1, degree=1, gamma=10, kernel='poly')"
   ]
  },
  {
   "cell_type": "markdown",
   "id": "6375dd83ef505c55",
   "metadata": {
    "collapsed": false
   },
   "source": [
    "## Stochastic Gradient Descent"
   ]
  },
  {
   "cell_type": "markdown",
   "id": "cff9da99f369bbe6",
   "metadata": {
    "collapsed": false
   },
   "source": [
    "Implementation naïve de SGD"
   ]
  },
  {
   "cell_type": "code",
   "execution_count": 46,
   "id": "27e8ea86fca68c85",
   "metadata": {
    "ExecuteTime": {
     "end_time": "2024-04-12T00:16:35.096465200Z",
     "start_time": "2024-04-12T00:16:34.807062900Z"
    },
    "collapsed": false
   },
   "outputs": [
    {
     "name": "stdout",
     "output_type": "stream",
     "text": [
      "\n",
      "Train Score:\n",
      "Accuracy : 0.9924242424242424\n",
      "Precision : 0.9938781756963575\n",
      "Recall : 0.9924242424242424\n",
      "F1-score : 0.9922713681227613\n",
      "\n",
      "Test Score :\n",
      "Accuracy : 0.9242424242424242\n",
      "Precision : 0.9282828282828284\n",
      "Recall : 0.9242424242424242\n",
      "F1-score : 0.9128427128427128\n"
     ]
    }
   ],
   "source": [
    "from sklearn.linear_model import SGDClassifier\n",
    "\n",
    "\n",
    "sgdc_model = SGDClassifier()\n",
    "sgdc_model.fit(x_train, y_train)\n",
    "\n",
    "metrics = Measure(sgdc_model,x_train,y_train, x_test, y_test)\n",
    "metrics.show_metrics_train()\n",
    "metrics.show_metrics_test()"
   ]
  },
  {
   "cell_type": "markdown",
   "id": "b0d41c3493ef0617",
   "metadata": {
    "collapsed": false
   },
   "source": [
    "#### La recherche d'hyperparametre pour la SGD"
   ]
  },
  {
   "cell_type": "code",
   "execution_count": 47,
   "id": "9ddf29f71b32b084",
   "metadata": {
    "ExecuteTime": {
     "end_time": "2024-04-12T00:17:39.908071200Z",
     "start_time": "2024-04-12T00:16:51.168483400Z"
    },
    "collapsed": false
   },
   "outputs": [
    {
     "name": "stdout",
     "output_type": "stream",
     "text": [
      "SGD Meilleurs hyperparamètres : {'alpha': 0.0001, 'loss': 'log_loss', 'penalty': 'l2'}\n",
      "\n",
      "Train Score:\n",
      "Accuracy : 1.0\n",
      "Precision : 1.0\n",
      "Recall : 1.0\n",
      "F1-score : 1.0\n",
      "\n",
      "Test Score :\n",
      "Accuracy : 0.9797979797979798\n",
      "Precision : 0.9865319865319866\n",
      "Recall : 0.9797979797979798\n",
      "F1-score : 0.9784511784511786\n"
     ]
    }
   ],
   "source": [
    "param_grid_sgdc = {\n",
    "    'loss': ['hinge', 'perceptron', 'log_loss', 'log'],\n",
    "    'penalty': ['l1', 'l2'],\n",
    "    'alpha': [1e-4, 1.e-3, 1e-2, 1.e-1 , 1],  \n",
    "}\n",
    "sgdc_model = SGDClassifier()\n",
    "sgd_cross_val = CrossValidate(model=sgdc_model, params=param_grid_sgdc, k_fold=4, metric='accuracy')\n",
    "sgd_cross_val.train(x_train, y_train)\n",
    "\n",
    "# Entraîner le modèle avec les meilleurs hyperparamètres trouvés\n",
    "best_hp = sgd_cross_val.best_params\n",
    "best_lr_model = sgd_cross_val.best_model\n",
    "# Afficher les meilleurs hyperparamètres trouvés\n",
    "print(\"SGD Meilleurs hyperparamètres :\", best_hp)\n",
    "metrics = Measure(best_lr_model,x_train,y_train, x_test, y_test)\n",
    "metrics.show_metrics_train()\n",
    "metrics.show_metrics_test()"
   ]
  },
  {
   "cell_type": "markdown",
   "id": "e59b3827449be90c",
   "metadata": {
    "collapsed": false
   },
   "source": [
    " De la même manière qu'avec le modèle précédent, une amélioration nette et plus conséquente des performances est observée après la recherche d'hyperparamètres toujours du point de vue de la métrique de justesse(accuracy) \n",
    " \n",
    "La particularité de ce modèle(SGDC) est qu'il effectue un apprentissage itératif et mets à jour les paramètre au fur et à mesure de l,entrainement. D'où l'intérêt d'observer la convergence progressive de notre modèle."
   ]
  },
  {
   "cell_type": "code",
   "execution_count": 53,
   "id": "334b9c4b766d7eaf",
   "metadata": {
    "ExecuteTime": {
     "end_time": "2024-04-12T00:20:33.847730300Z",
     "start_time": "2024-04-12T00:20:19.690014900Z"
    },
    "collapsed": false
   },
   "outputs": [
    {
     "name": "stdout",
     "output_type": "stream",
     "text": [
      "Itération n° 1 : =============> acc train: 0.5138888888888888 loss train: 6.952878634921156  ¦¦ acc_test:  0.46464646464646464 loss tess:  8.139140490446367\n",
      "Itération n° 2 : =============> acc train: 0.8169191919191919 loss train: 1.2815004233975777  ¦¦ acc_test:  0.7525252525252525 loss tess:  1.9032165122452116\n",
      "Itération n° 3 : =============> acc train: 0.9166666666666666 loss train: 0.8098970453443217  ¦¦ acc_test:  0.8585858585858586 loss tess:  1.0736114697181285\n",
      "Itération n° 4 : =============> acc train: 0.9242424242424242 loss train: 0.6257897344054  ¦¦ acc_test:  0.8434343434343434 loss tess:  0.9263479598554645\n",
      "Itération n° 5 : =============> acc train: 0.9633838383838383 loss train: 0.38216439986620077  ¦¦ acc_test:  0.9292929292929293 loss tess:  0.6014074082476009\n",
      "Itération n° 6 : =============> acc train: 0.9823232323232324 loss train: 0.12218386784211584  ¦¦ acc_test:  0.9494949494949495 loss tess:  0.3204403634618911\n",
      "Itération n° 7 : =============> acc train: 0.9924242424242424 loss train: 0.06477785292027485  ¦¦ acc_test:  0.9696969696969697 loss tess:  0.1952468276709359\n",
      "Itération n° 8 : =============> acc train: 0.9974747474747475 loss train: 0.0713206921030432  ¦¦ acc_test:  0.9646464646464646 loss tess:  0.1965059353564978\n",
      "Itération n° 9 : =============> acc train: 0.9936868686868687 loss train: 0.08183682283939918  ¦¦ acc_test:  0.9696969696969697 loss tess:  0.20333676034632242\n",
      "Itération n° 10 : =============> acc train: 0.9974747474747475 loss train: 0.07770183534809123  ¦¦ acc_test:  0.9747474747474747 loss tess:  0.190434796464631\n",
      "Itération n° 11 : =============> acc train: 1.0 loss train: 0.07941449368286707  ¦¦ acc_test:  0.9848484848484849 loss tess:  0.17431590486762863\n",
      "Itération n° 12 : =============> acc train: 1.0 loss train: 0.08214430301233078  ¦¦ acc_test:  0.9848484848484849 loss tess:  0.17278945737229504\n",
      "Itération n° 13 : =============> acc train: 1.0 loss train: 0.09275528151747733  ¦¦ acc_test:  0.98989898989899 loss tess:  0.18067083928449024\n",
      "Itération n° 14 : =============> acc train: 1.0 loss train: 0.09178897237255468  ¦¦ acc_test:  0.9848484848484849 loss tess:  0.18947847687546177\n",
      "Itération n° 15 : =============> acc train: 1.0 loss train: 0.0933103977190262  ¦¦ acc_test:  0.9848484848484849 loss tess:  0.18751819748174967\n"
     ]
    }
   ],
   "source": [
    "from sklearn.metrics import accuracy_score, log_loss\n",
    "\n",
    "model_sgdc = SGDClassifier(alpha=0.0001, loss='log_loss', penalty='l2')\n",
    "\n",
    "losses_train = []     # Liste pour stocker les valeurs de la perte sur les données d'entraînement\n",
    "accuracies_train = []  # Liste pour stocker les valeurs de l'accuracy sur les données d'entraînement\n",
    "losses_val = []       # Liste pour stocker les valeurs de la perte sur les données de validation\n",
    "accuracies_val = []   # Liste pour stocker les valeurs de l'accuracy sur les données de validation\n",
    "\n",
    "\n",
    "\n",
    "batch_size = 32\n",
    "nbr_epoch = int(len(x_train) / batch_size) + 1\n",
    "train_batches = np.array_split(x_train, nbr_epoch)\n",
    "target_batches = np.array_split(y_train, nbr_epoch)\n",
    "max_iter = 15\n",
    "\n",
    "for i in range(max_iter):\n",
    "    for epoch in range(nbr_epoch):\n",
    "        model_sgdc.partial_fit(train_batches[epoch], target_batches[epoch], classes=np.unique(y_train))\n",
    "        \n",
    "    # Calcul de la perte et de l'accuracy sur les données d'entraînement\n",
    "    y_train_prob = model_sgdc.predict_proba(x_train)\n",
    "    loss_train = log_loss(y_train, y_train_prob)\n",
    "    y_pred_train = model_sgdc.predict(x_train)\n",
    "    accuracy_train = accuracy_score(y_train, y_pred_train)\n",
    "\n",
    "    # Calcul de la perte et de l'accuracy sur les données de validation\n",
    "    y_val_prob = model_sgdc.predict_proba(x_test)\n",
    "    loss_val = log_loss(y_test, y_val_prob)\n",
    "    y_pred_val = model_sgdc.predict(x_test)\n",
    "    accuracy_val = accuracy_score(y_test, y_pred_val)\n",
    "        \n",
    "    # Stockage des valeurs\n",
    "    losses_train.append(loss_train)\n",
    "    accuracies_train.append(accuracy_train)\n",
    "    losses_val.append(loss_val)\n",
    "    accuracies_val.append(accuracy_val)\n",
    "    print('Itération n°',i+1,': =============> acc train:', accuracy_train, 'loss train:', loss_train,' ¦¦ acc_test: ', accuracy_val, 'loss tess: ', loss_val)"
   ]
  },
  {
   "cell_type": "code",
   "execution_count": 54,
   "id": "71630c1299ccd585",
   "metadata": {
    "ExecuteTime": {
     "end_time": "2024-04-12T00:20:34.254706900Z",
     "start_time": "2024-04-12T00:20:33.850262800Z"
    },
    "collapsed": false
   },
   "outputs": [
    {
     "data": {
      "image/png": "[encoded data removed]",
      "text/plain": [
       "<Figure size 1000x600 with 1 Axes>"
      ]
     },
     "metadata": {},
     "output_type": "display_data"
    },
    {
     "data": {
      "image/png": "[encoded data removed]",
      "text/plain": [
       "<Figure size 1000x600 with 1 Axes>"
      ]
     },
     "metadata": {},
     "output_type": "display_data"
    }
   ],
   "source": [
    "steps = range(max_iter)\n",
    "\n",
    "plt.figure(figsize=(10, 6))\n",
    "plt.plot(steps, losses_train, label='Perte sur les données d\\'entraînement')\n",
    "plt.plot(steps, losses_val, label='Perte sur les données de validation')\n",
    "plt.xlabel('Itérations')\n",
    "plt.ylabel('Perte (Loss)')\n",
    "plt.title('Évolution de la perte après chaque itération')\n",
    "plt.legend()\n",
    "plt.grid()\n",
    "plt.show()\n",
    "\n",
    "plt.figure(figsize=(10, 6))\n",
    "plt.plot(steps, accuracies_train, label='Accuracy sur les données d\\'entraînement')\n",
    "plt.plot(steps, accuracies_val, label='Accuracy sur les données de validation')\n",
    "plt.xlabel('Itérations')\n",
    "plt.ylabel('Accuracy')\n",
    "plt.title('Évolution de l\\'accuracy après chaque itération')\n",
    "plt.legend()\n",
    "plt.grid()\n",
    "plt.show()"
   ]
  },
  {
   "cell_type": "markdown",
   "id": "1ce86d4788ab9664",
   "metadata": {
    "collapsed": false
   },
   "source": [
    "## Entrainement Logistic Regression"
   ]
  },
  {
   "cell_type": "markdown",
   "id": "3e62c1444fab4993",
   "metadata": {
    "collapsed": false
   },
   "source": [
    "Implementation naïve de Logistic Regression"
   ]
  },
  {
   "cell_type": "code",
   "execution_count": 161,
   "id": "aae2295a810086ed",
   "metadata": {
    "ExecuteTime": {
     "end_time": "2024-04-14T01:40:51.011400800Z",
     "start_time": "2024-04-14T01:40:49.691419600Z"
    }
   },
   "outputs": [
    {
     "name": "stdout",
     "output_type": "stream",
     "text": [
      "\n",
      "Train Score:\n",
      "Accuracy : 0.9191919191919192\n",
      "Precision : 0.931349935137814\n",
      "Recall : 0.9191919191919192\n",
      "F1-score : 0.914911500799014\n",
      "\n",
      "Test Score :\n",
      "Accuracy : 0.8484848484848485\n",
      "Precision : 0.8535353535353535\n",
      "Recall : 0.8484848484848485\n",
      "F1-score : 0.8306397306397306\n"
     ]
    }
   ],
   "source": [
    "from src.models.metrics import Measure\n",
    "from sklearn.linear_model import LogisticRegression\n",
    "lr_model = LogisticRegression(solver='liblinear', penalty='l1')\n",
    "lr_model.fit(x_train, y_train)\n",
    "\n",
    "metrics = Measure(lr_model,x_train,y_train, x_test, y_test)\n",
    "metrics.show_metrics_train()\n",
    "metrics.show_metrics_test()"
   ]
  },
  {
   "cell_type": "markdown",
   "id": "501b521b3edaed48",
   "metadata": {
    "collapsed": false
   },
   "source": [
    "#### La recherche d'hyperparametre pour la logistic regression"
   ]
  },
  {
   "cell_type": "code",
   "execution_count": 128,
   "id": "a5d497a0302ab2d9",
   "metadata": {
    "ExecuteTime": {
     "end_time": "2024-04-13T18:39:41.919548Z",
     "start_time": "2024-04-13T18:37:09.600447500Z"
    },
    "collapsed": false
   },
   "outputs": [
    {
     "name": "stdout",
     "output_type": "stream",
     "text": [
      "Logistic Regression Meilleurs hyperparamètres : {'C': 1.0, 'penalty': 'l2', 'solver': 'lbfgs'}\n",
      "\n",
      "Train Score:\n",
      "Accuracy : 0.9987373737373737\n",
      "Precision : 0.9988776655443322\n",
      "Recall : 0.9987373737373737\n",
      "F1-score : 0.998732422261834\n",
      "\n",
      "Test Score :\n",
      "Accuracy : 0.98989898989899\n",
      "Precision : 0.9932659932659934\n",
      "Recall : 0.98989898989899\n",
      "F1-score : 0.9892255892255892\n"
     ]
    }
   ],
   "source": [
    "lr_param_grid = {\n",
    "    'solver': ['lbfgs', 'liblinear', 'newton-cholesky'],\n",
    "    'C': np.logspace(-3, 3, 7),\n",
    "    'penalty' : ['l1', 'l2', 'elasticnet', None],\n",
    "}\n",
    "\n",
    "lr_model = LogisticRegression(random_state=42)\n",
    "\n",
    "lr_cross_val = CrossValidate(model=lr_model, params=lr_param_grid, k_fold=4, metric='accuracy')\n",
    "lr_cross_val.train(x_train, y_train)\n",
    "\n",
    "# Entraîner le modèle avec les meilleurs hyperparamètres trouvés\n",
    "best_hp_lr = lr_cross_val.best_params\n",
    "best_lr_model = lr_cross_val.best_model\n",
    "# Afficher les meilleurs hyperparamètres trouvés\n",
    "print(\"Logistic Regression Meilleurs hyperparamètres :\", best_hp_lr)\n",
    "metrics = Measure(best_lr_model,x_train,y_train, x_test, y_test)\n",
    "metrics.show_metrics_train()\n",
    "metrics.show_metrics_test()\n"
   ]
  },
  {
   "cell_type": "code",
   "execution_count": null,
   "id": "c740a7d4bbd456e4",
   "metadata": {
    "collapsed": false
   },
   "outputs": [],
   "source": []
  },
  {
   "cell_type": "code",
   "execution_count": null,
   "id": "ea8550ddaf6640fd",
   "metadata": {
    "collapsed": false
   },
   "outputs": [],
   "source": []
  },
  {
   "cell_type": "markdown",
   "id": "39f85e01c458ee09",
   "metadata": {
    "collapsed": false
   },
   "source": [
    "## Entrainement MLP"
   ]
  },
  {
   "cell_type": "markdown",
   "id": "cd9ed2d086e26c40",
   "metadata": {
    "collapsed": false
   },
   "source": [
    "Implementation naïve de MLP"
   ]
  },
  {
   "cell_type": "code",
   "execution_count": 150,
   "id": "92a97d2747be2ba8",
   "metadata": {
    "ExecuteTime": {
     "end_time": "2024-04-14T00:56:06.360989500Z",
     "start_time": "2024-04-14T00:56:05.114504800Z"
    },
    "collapsed": false
   },
   "outputs": [
    {
     "name": "stdout",
     "output_type": "stream",
     "text": [
      "Meilleurs loss 1.663734527885141\n",
      "\n",
      "Train Score:\n",
      "Accuracy : 0.7108585858585859\n",
      "Precision : 0.7248440870544256\n",
      "Recall : 0.7108585858585859\n",
      "F1-score : 0.6684635481302517\n",
      "\n",
      "Test Score :\n",
      "Accuracy : 0.6363636363636364\n",
      "Precision : 0.6131313131313132\n",
      "Recall : 0.6363636363636364\n",
      "F1-score : 0.5947570947570947\n"
     ]
    }
   ],
   "source": [
    "from sklearn.neural_network import MLPClassifier\n",
    "\n",
    "mlp_model = MLPClassifier(hidden_layer_sizes=(5,), random_state=42)\n",
    "mlp_model.fit(x_train, y_train)\n",
    "print(f\"Meilleurs loss {mlp_model.best_loss_}\")\n",
    "metrics = Measure(mlp_model,x_train,y_train, x_test, y_test)\n",
    "metrics.show_metrics_train()\n",
    "metrics.show_metrics_test()\n"
   ]
  },
  {
   "cell_type": "markdown",
   "id": "31f6d398de594138",
   "metadata": {
    "collapsed": false
   },
   "source": [
    "Avec l'implementation naïve de MLP il faut plus de 5000 iterations pour converger, "
   ]
  },
  {
   "cell_type": "markdown",
   "id": "d9be45198db3bf8a",
   "metadata": {
    "collapsed": false
   },
   "source": [
    "#### Analyse de l'amélioration de parametre avec les nombres de couche "
   ]
  },
  {
   "cell_type": "markdown",
   "id": "b68e98ee7636425d",
   "metadata": {
    "collapsed": false
   },
   "source": [
    "Est-que augmenter le nombre de couche est une améliore nos performances ?"
   ]
  },
  {
   "cell_type": "code",
   "execution_count": 131,
   "id": "90c2416d9905d3d6",
   "metadata": {
    "ExecuteTime": {
     "end_time": "2024-04-13T19:00:21.415016300Z",
     "start_time": "2024-04-13T19:00:05.758294200Z"
    },
    "collapsed": false
   },
   "outputs": [
    {
     "data": {
      "image/png": "[encoded data removed]",
      "text/plain": [
       "<Figure size 640x480 with 1 Axes>"
      ]
     },
     "metadata": {},
     "output_type": "display_data"
    }
   ],
   "source": [
    "# Définir une plage de valeurs pour le nombre de couches cachées\n",
    "max_layer = 21\n",
    "hidden_layer_sizes = [(i,) for i in range(1, max_layer)]  # de 1 à 20 couches cachées\n",
    "\n",
    "# Initialiser des listes pour stocker les performances\n",
    "train_accuracy = []\n",
    "test_accuracy = []\n",
    "\n",
    "# Boucler sur chaque nombre de couches cachées\n",
    "for hidden_layers in hidden_layer_sizes:\n",
    "    # Initialiser le classifieur MLP avec le nombre de couches cachées actuel\n",
    "    mlp = MLPClassifier(hidden_layer_sizes=hidden_layers, random_state=42)\n",
    "    \n",
    "    # Entraîner le modèle sur les données d'entraînement\n",
    "    mlp.fit(x_train, y_train)\n",
    "    \n",
    "    # Prédire les étiquettes sur les données d'entraînement et de test\n",
    "    y_train_pred = mlp.predict(x_train)\n",
    "    y_test_pred = mlp.predict(x_test)\n",
    "    \n",
    "    # Calculer l'accuracy sur les données d'entraînement et de test\n",
    "    train_accuracy.append(accuracy_score(y_train, y_train_pred))\n",
    "    test_accuracy.append(accuracy_score(y_test, y_test_pred))\n",
    "\n",
    "# Tracer la performance du MLP en fonction du nombre de couches cachées\n",
    "plt.plot(range(1, max_layer), train_accuracy, label='Train Accuracy')\n",
    "plt.plot(range(1, max_layer), test_accuracy, label='Test Accuracy')\n",
    "plt.xlabel('Nombre de couches cachées')\n",
    "plt.ylabel('Accuracy')\n",
    "plt.title('Performance du MLP en fonction du nombre de couches cachées')\n",
    "plt.legend()\n",
    "plt.show()"
   ]
  },
  {
   "cell_type": "code",
   "execution_count": 151,
   "id": "543c89bca96e1b8c",
   "metadata": {
    "ExecuteTime": {
     "end_time": "2024-04-14T01:16:23.806294200Z",
     "start_time": "2024-04-14T01:15:38.229303900Z"
    },
    "collapsed": false
   },
   "outputs": [
    {
     "data": {
      "image/png": "[encoded data removed]",
      "text/plain": [
       "<Figure size 640x480 with 1 Axes>"
      ]
     },
     "metadata": {},
     "output_type": "display_data"
    }
   ],
   "source": [
    "import numpy as np\n",
    "import matplotlib.pyplot as plt\n",
    "from sklearn.neural_network import MLPClassifier\n",
    "max_layer = 41\n",
    "hidden_layer_sizes = [(i,) for i in range(1, max_layer)] \n",
    "# Paramètres pour les différentes architectures de MLP\n",
    "layer_sizes = hidden_layer_sizes \n",
    "best_losses = []\n",
    "\n",
    "# Entraîner le modèle pour chaque architecture et enregistrer la meilleure perte\n",
    "for sizes in layer_sizes:\n",
    "    mlp_model = MLPClassifier(hidden_layer_sizes=sizes, random_state=42)\n",
    "    mlp_model.fit(x_train, y_train)\n",
    "    best_losses.append(mlp_model.best_loss_)\n",
    "\n",
    "# Afficher la meilleure perte en fonction du nombre de couches\n",
    "plt.plot(range(1, max_layer), best_losses, marker='o')\n",
    "plt.title('Meilleure perte du MLP en fonction du nombre de couches')\n",
    "plt.xlabel('Nombre de couches')\n",
    "plt.ylabel('Meilleure perte')\n",
    "#plt.xticks(range(len(layer_sizes)), range(1, max_layer, 10))\n",
    "plt.grid(True)\n",
    "plt.show()"
   ]
  },
  {
   "cell_type": "markdown",
   "id": "28a2fa90b9078a81",
   "metadata": {
    "collapsed": false
   },
   "source": [
    "trouvons les meilleurs compromis entre nombre des couches et autres hyperparametres"
   ]
  },
  {
   "cell_type": "markdown",
   "id": "604a972c82cf7a70",
   "metadata": {
    "collapsed": false
   },
   "source": [
    "#### La recherche des meillleurs hyperparametre pou MLP"
   ]
  },
  {
   "cell_type": "code",
   "execution_count": 132,
   "id": "89715c9e1e370c7a",
   "metadata": {
    "ExecuteTime": {
     "end_time": "2024-04-13T19:07:31.051625100Z",
     "start_time": "2024-04-13T19:02:52.784058200Z"
    },
    "collapsed": false
   },
   "outputs": [],
   "source": [
    "from src.models.train_model import CrossValidate\n",
    "from sklearn.neural_network import MLPClassifier\n",
    "\n",
    "# Définir les hyperparamètres à rechercher\n",
    "param_grid = {\n",
    "    'hidden_layer_sizes': [(100,), (50, 50), (100, 50, 100)],\n",
    "    'activation': ['relu', 'tanh','softmax', 'elu', 'selu'],\n",
    "    # Différentes valeurs pour alpha pour tester la régularisation L2\n",
    "    'alpha': [0.00001,0.0001, 0.001, 0.01, 0.1] ,\n",
    "    'early_stopping': [True],\n",
    "    'n_iter_no_change': [5, 10, 20]\n",
    "}\n",
    "\n",
    "# Créer une instance du modèle MLP\n",
    "mpl_model = MLPClassifier()\n",
    "\n",
    "# Effectuer une recherche des hyperparamètres avec validation croisée\n",
    "grid_search = CrossValidate(model=mpl_model, params=param_grid, k_fold=4, metric='accuracy')\n",
    "grid_search.train(x_train, y_train)\n"
   ]
  },
  {
   "cell_type": "code",
   "execution_count": 133,
   "id": "54087357bb66f6db",
   "metadata": {
    "ExecuteTime": {
     "end_time": "2024-04-13T19:20:39.241520800Z",
     "start_time": "2024-04-13T19:20:38.759868400Z"
    },
    "collapsed": false
   },
   "outputs": [
    {
     "name": "stdout",
     "output_type": "stream",
     "text": [
      "MLP Meilleurs hyperparamètres : {'activation': 'relu', 'alpha': 1e-05, 'early_stopping': True, 'hidden_layer_sizes': (100,), 'n_iter_no_change': 20}\n"
     ]
    }
   ],
   "source": [
    "print(\"MLP Meilleurs hyperparamètres :\", grid_search.best_params)"
   ]
  },
  {
   "cell_type": "markdown",
   "id": "d16d15769ac1148c",
   "metadata": {
    "collapsed": false
   },
   "source": [
    "La recheche de mailleurs hyperparametre nous montre  que nous n'avons pas besoin d'une structure complexe pour avoir de meilleurs resultat seulement avec hidden_layer_sizes de (100,) c'est déjà suffisant."
   ]
  },
  {
   "cell_type": "code",
   "execution_count": 134,
   "id": "f094d6549d3833bd",
   "metadata": {
    "ExecuteTime": {
     "end_time": "2024-04-13T19:21:10.047092400Z",
     "start_time": "2024-04-13T19:21:09.188836300Z"
    },
    "collapsed": false
   },
   "outputs": [
    {
     "name": "stdout",
     "output_type": "stream",
     "text": [
      "MLP Meilleurs hyperparamètres : {'activation': 'relu', 'alpha': 1e-05, 'early_stopping': True, 'hidden_layer_sizes': (100,), 'n_iter_no_change': 20}\n",
      "Log Loss : 0.41933323660073607\n",
      "\n",
      "Train Score:\n",
      "Accuracy : 0.9924242424242424\n",
      "Precision : 0.9932659932659932\n",
      "Recall : 0.9924242424242424\n",
      "F1-score : 0.9923945335710042\n",
      "\n",
      "Test Score :\n",
      "Accuracy : 0.9797979797979798\n",
      "Precision : 0.9865319865319865\n",
      "Recall : 0.9797979797979798\n",
      "F1-score : 0.9784511784511786\n"
     ]
    }
   ],
   "source": [
    "best_mlp_model = grid_search.best_model\n",
    "\n",
    "# Afficher les meilleurs hyperparamètres trouvés\n",
    "print(\"MLP Meilleurs hyperparamètres :\", grid_search.best_params)\n",
    "\n",
    "y_pred_proba = best_mlp_model.predict_proba(x_test)  # Probabilités prédites pour log_loss\n",
    "# Calculer la perte (loss)\n",
    "loss = log_loss(y_test, y_pred_proba)\n",
    "\n",
    "print(f\"Log Loss : {loss}\")\n",
    "\n",
    "# Entraîner le modèle avec les meilleurs hyperparamètres trouvés\n",
    "\n",
    "metrics = Measure(best_mlp_model,x_train,y_train, x_test, y_test)\n",
    "metrics.show_metrics_train()\n",
    "metrics.show_metrics_test()"
   ]
  },
  {
   "cell_type": "markdown",
   "id": "af273b26a10d3b30",
   "metadata": {
    "collapsed": false
   },
   "source": [
    "Loss curve"
   ]
  },
  {
   "cell_type": "code",
   "execution_count": 135,
   "id": "5a958964cd0d8635",
   "metadata": {
    "ExecuteTime": {
     "end_time": "2024-04-13T19:21:33.429349500Z",
     "start_time": "2024-04-13T19:21:33.236140300Z"
    },
    "collapsed": false
   },
   "outputs": [
    {
     "data": {
      "image/png": "[encoded data removed]",
      "text/plain": [
       "<Figure size 640x480 with 1 Axes>"
      ]
     },
     "metadata": {},
     "output_type": "display_data"
    }
   ],
   "source": [
    "plt.plot(best_mlp_model.loss_curve_)\n",
    "plt.title('Courbe de perte du MLPClassifier')\n",
    "plt.xlabel('Nombre d\\'itérations')\n",
    "plt.ylabel('Perte')\n",
    "plt.show()"
   ]
  },
  {
   "cell_type": "markdown",
   "id": "7636124587b02ee",
   "metadata": {
    "collapsed": false
   },
   "source": [
    "Accuracy curve"
   ]
  },
  {
   "cell_type": "code",
   "execution_count": 136,
   "id": "3b9675ef741353",
   "metadata": {
    "ExecuteTime": {
     "end_time": "2024-04-13T19:21:39.679652Z",
     "start_time": "2024-04-13T19:21:39.491076Z"
    },
    "collapsed": false
   },
   "outputs": [
    {
     "data": {
      "image/png": "[encoded data removed]",
      "text/plain": [
       "<Figure size 640x480 with 1 Axes>"
      ]
     },
     "metadata": {},
     "output_type": "display_data"
    }
   ],
   "source": [
    "\n",
    "# Récupérer l'accuracy à chaque itération\n",
    "train_accuracy = best_mlp_model.validation_scores_\n",
    "\n",
    "# Afficher la courbe d'accuracy\n",
    "plt.plot(np.arange(1, len(train_accuracy) + 1), train_accuracy)\n",
    "plt.title('Courbe d\\'accuracy du MLPClassifier')\n",
    "plt.xlabel('Nombre d\\'itérations')\n",
    "plt.ylabel('Accuracy')\n",
    "plt.show()"
   ]
  },
  {
   "cell_type": "code",
   "execution_count": null,
   "id": "1d90fb94c297efad",
   "metadata": {
    "collapsed": false
   },
   "outputs": [],
   "source": []
  },
  {
   "cell_type": "markdown",
   "id": "99a32ffebca5868b",
   "metadata": {
    "collapsed": false
   },
   "source": [
    "##"
   ]
  },
  {
   "cell_type": "markdown",
   "id": "7dec7c30587233f7",
   "metadata": {
    "collapsed": false
   },
   "source": []
  },
  {
   "cell_type": "code",
   "execution_count": null,
   "id": "606f0e27a6c789e4",
   "metadata": {
    "ExecuteTime": {
     "start_time": "2024-04-02T23:32:25.482130100Z"
    },
    "collapsed": false
   },
   "outputs": [],
   "source": []
  },
  {
   "cell_type": "markdown",
   "id": "2035af58f6f0e32b",
   "metadata": {
    "collapsed": false
   },
   "source": [
    "### Résultats\n",
    "\n",
    "Résultats :\n",
    "\n",
    "| Model | Best Parameter | Accuracy Train Score | Accuracy Train Score |\n",
    "--------|----------------|----------------------|----------------------|\n",
    "| Random Forest |  | 100% | |\n",
    "| MLP |  | 100% | |\n",
    "\n",
    "\n",
    "- Random Forest  Meilleurs hyperparamètres : {'max_depth': None, 'min_samples_split': 2, 'n_estimators': 100}\n",
    "- MLP Meilleurs hyperparamètres : {'activation': 'relu', 'alpha': 0.0001, 'early_stopping': True, 'hidden_layer_sizes': (100,), 'n_iter_no_change': 20, 'tol': 0.001}\n",
    "- "
   ]
  },
  {
   "cell_type": "code",
   "execution_count": null,
   "id": "c32be993a36e694",
   "metadata": {
    "ExecuteTime": {
     "start_time": "2024-04-02T23:32:25.484608500Z"
    },
    "collapsed": false
   },
   "outputs": [],
   "source": []
  },
  {
   "cell_type": "code",
   "execution_count": null,
   "id": "995f44bf054d17eb",
   "metadata": {
    "collapsed": false
   },
   "outputs": [],
   "source": []
  },
  {
   "cell_type": "markdown",
   "id": "e460e7ead005238d",
   "metadata": {
    "collapsed": false
   },
   "source": [
    "============================================================================"
   ]
  },
  {
   "cell_type": "markdown",
   "id": "e82225e8ee8bf572",
   "metadata": {
    "collapsed": false
   },
   "source": [
    "# Reduction de dimension avec PCA"
   ]
  },
  {
   "cell_type": "markdown",
   "id": "5875de3aec2087d6",
   "metadata": {
    "collapsed": false
   },
   "source": [
    " Comme on pu le remarrquer plus haut, la trop frande quantité d'attribut empeche une visualisation correcte des données.\n",
    "Nous allons tenter de réduits la dimension de nos données et voir l'influence sur les performances de nos modèles.\n",
    "\n",
    "Comment allons nous décider du nombre de composantes environs à utiliser? Un bon indice peut être obtenu via une ACP."
   ]
  },
  {
   "cell_type": "code",
   "execution_count": 58,
   "id": "b9bd0b941cd7e02d",
   "metadata": {
    "ExecuteTime": {
     "end_time": "2024-04-12T00:53:26.643817100Z",
     "start_time": "2024-04-12T00:53:25.876924400Z"
    },
    "collapsed": false
   },
   "outputs": [
    {
     "data": {
      "application/vnd.plotly.v1+json": {
       "config": {
        "plotlyServerURL": "https://plot.ly"
       },
       "data": [
        {
         "line": {
          "dash": "dash"
         },
         "marker": {
          "size": 8,
          "symbol": "circle"
         },
         "mode": "lines+markers",
         "type": "scatter",
         "x": [
          1,
          2,
          3,
          4,
          5,
          6,
          7,
          8,
          9,
          10,
          11,
          12,
          13,
          14,
          15,
          16,
          17,
          18,
          19,
          20,
          21,
          22,
          23,
          24,
          25,
          26,
          27,
          28,
          29,
          30,
          31,
          32,
          33,
          34,
          35,
          36,
          37,
          38,
          39,
          40,
          41,
          42,
          43,
          44,
          45,
          46,
          47,
          48,
          49,
          50,
          51,
          52,
          53,
          54,
          55,
          56,
          57,
          58,
          59,
          60,
          61,
          62,
          63,
          64,
          65,
          66,
          67,
          68,
          69,
          70,
          71,
          72,
          73,
          74,
          75,
          76,
          77,
          78,
          79,
          80,
          81,
          82,
          83,
          84,
          85,
          86,
          87,
          88,
          89,
          90,
          91,
          92,
          93,
          94,
          95,
          96,
          97,
          98,
          99,
          100,
          101,
          102,
          103,
          104,
          105,
          106,
          107,
          108,
          109,
          110,
          111,
          112,
          113,
          114,
          115,
          116,
          117,
          118,
          119,
          120,
          121,
          122,
          123,
          124,
          125,
          126,
          127,
          128,
          129,
          130,
          131,
          132,
          133,
          134,
          135,
          136,
          137,
          138,
          139,
          140,
          141,
          142,
          143,
          144,
          145,
          146,
          147,
          148,
          149,
          150,
          151,
          152,
          153,
          154,
          155,
          156,
          157,
          158,
          159,
          160,
          161,
          162,
          163,
          164,
          165,
          166,
          167,
          168,
          169,
          170,
          171,
          172,
          173,
          174,
          175,
          176,
          177,
          178,
          179,
          180,
          181,
          182,
          183,
          184,
          185,
          186,
          187,
          188,
          189,
          190,
          191,
          192
         ],
         "y": [
          0.22960268225901048,
          0.36854847175218886,
          0.43043448679669133,
          0.4906648491443212,
          0.533663767873725,
          0.5723025479008145,
          0.6070124380474649,
          0.6345407271724416,
          0.6578241980305614,
          0.6765401737281425,
          0.6938835105407724,
          0.710537502518392,
          0.7260502830200601,
          0.7396532930943901,
          0.7511562697216432,
          0.7621572797549331,
          0.7729701400932505,
          0.7823436207535754,
          0.7914606361624802,
          0.799996074152077,
          0.807660078014097,
          0.8149320698334609,
          0.822015275492687,
          0.828471865781327,
          0.8347025666041843,
          0.8403748157148394,
          0.8459849808419521,
          0.8511720295017128,
          0.8561357415487362,
          0.8607007449383484,
          0.8648923038455043,
          0.8690174370148663,
          0.8728994960982795,
          0.8767216290420218,
          0.8803363262473034,
          0.8838508720330577,
          0.8872919790970842,
          0.890631454297511,
          0.893866475682296,
          0.8969359746707398,
          0.8999248445885084,
          0.902785869884988,
          0.9055462952866331,
          0.9082846053022465,
          0.9108796593592304,
          0.9134533371536037,
          0.915912641812048,
          0.9182790536110178,
          0.9205679945848457,
          0.9227864086905009,
          0.9249375728318593,
          0.9269960729067553,
          0.9289979938081139,
          0.9309540203378058,
          0.9328613926691403,
          0.9346708954917143,
          0.9364510623950606,
          0.9382096076809587,
          0.9399308609481015,
          0.9415928859415251,
          0.9432099022549518,
          0.9448063552128217,
          0.9463707962619866,
          0.9479102734710562,
          0.9494104118279368,
          0.9508614285569484,
          0.9523013721030075,
          0.9537012041999025,
          0.9550596499235369,
          0.9563775820844301,
          0.9576693201695877,
          0.9589067487143084,
          0.96013097561586,
          0.9613307999370225,
          0.962499127572549,
          0.9636531481024903,
          0.9647921040027895,
          0.9658913255786862,
          0.9669266448737749,
          0.9679580991244034,
          0.968980272686611,
          0.9699533545025906,
          0.9709080901036446,
          0.9718277200934109,
          0.9727394072777761,
          0.9736164754448116,
          0.9744747317653532,
          0.975313956003659,
          0.9761227497399461,
          0.9769154061972671,
          0.9776890135128146,
          0.9784533188321343,
          0.9791885657593584,
          0.9799106289324907,
          0.9806180667717798,
          0.9813117961886745,
          0.9819867370131552,
          0.9826504277763203,
          0.9833127729225286,
          0.9839360374510279,
          0.9845478007684244,
          0.9851388358169043,
          0.985720762405967,
          0.9862902018382866,
          0.9868508316867698,
          0.9874006384478917,
          0.9879335088575337,
          0.9884474526234797,
          0.9889462926828367,
          0.9894416105391557,
          0.9899218434785869,
          0.9903978882688957,
          0.9908581894716123,
          0.9913140917718476,
          0.9917521977343421,
          0.9921828045734442,
          0.992589603229121,
          0.9929892435282823,
          0.9933832902584431,
          0.9937465440378976,
          0.9941013996799258,
          0.9944490056810835,
          0.9947797195268885,
          0.9951072902745143,
          0.9954153117904421,
          0.9957180455032186,
          0.996005325347976,
          0.9962815886825622,
          0.9965513195500038,
          0.9968100244321562,
          0.997058957731792,
          0.9972984373907836,
          0.9975238074605269,
          0.9977388643267663,
          0.997948539993574,
          0.998149506636367,
          0.9983371520734251,
          0.9985059588563976,
          0.9986609262831042,
          0.998802166743248,
          0.9989352906684085,
          0.9990541264495877,
          0.999161454383031,
          0.9992558863090804,
          0.99933815334532,
          0.9994094841545667,
          0.9994744304994689,
          0.9995234080506321,
          0.9995695107432387,
          0.9996118476687179,
          0.9996493456762195,
          0.9996804815478174,
          0.9997082890169284,
          0.9997342115759608,
          0.9997591741531685,
          0.999779908284793,
          0.99979789975608,
          0.9998147396445295,
          0.9998290870936346,
          0.999842530659708,
          0.9998546507508815,
          0.9998661910487034,
          0.9998768309740966,
          0.9998862014767584,
          0.9998954037394739,
          0.9999034084435305,
          0.9999110589501978,
          0.9999177967667345,
          0.9999242729108491,
          0.9999302717370645,
          0.9999360021214659,
          0.9999415101913814,
          0.9999465966063806,
          0.9999513675856542,
          0.9999558688949636,
          0.9999600995249723,
          0.9999640243190195,
          0.9999679434167591,
          0.9999716340246981,
          0.9999751647079806,
          0.9999785298932213,
          0.9999815476666171,
          0.999984379554124,
          0.9999870731436791,
          0.999989679032483,
          0.9999921907184481,
          0.9999945753051698,
          0.9999967001511652,
          0.9999984601604032,
          0.9999999999977441,
          0.9999999999994159,
          1.0000000000000007
         ]
        }
       ],
       "layout": {
        "template": {
         "data": {
          "bar": [
           {
            "error_x": {
             "color": "#2a3f5f"
            },
            "error_y": {
             "color": "#2a3f5f"
            },
            "marker": {
             "line": {
              "color": "#E5ECF6",
              "width": 0.5
             },
             "pattern": {
              "fillmode": "overlay",
              "size": 10,
              "solidity": 0.2
             }
            },
            "type": "bar"
           }
          ],
          "barpolar": [
           {
            "marker": {
             "line": {
              "color": "#E5ECF6",
              "width": 0.5
             },
             "pattern": {
              "fillmode": "overlay",
              "size": 10,
              "solidity": 0.2
             }
            },
            "type": "barpolar"
           }
          ],
          "carpet": [
           {
            "aaxis": {
             "endlinecolor": "#2a3f5f",
             "gridcolor": "white",
             "linecolor": "white",
             "minorgridcolor": "white",
             "startlinecolor": "#2a3f5f"
            },
            "baxis": {
             "endlinecolor": "#2a3f5f",
             "gridcolor": "white",
             "linecolor": "white",
             "minorgridcolor": "white",
             "startlinecolor": "#2a3f5f"
            },
            "type": "carpet"
           }
          ],
          "choropleth": [
           {
            "colorbar": {
             "outlinewidth": 0,
             "ticks": ""
            },
            "type": "choropleth"
           }
          ],
          "contour": [
           {
            "colorbar": {
             "outlinewidth": 0,
             "ticks": ""
            },
            "colorscale": [
             [
              0,
              "#0d0887"
             ],
             [
              0.1111111111111111,
              "#46039f"
             ],
             [
              0.2222222222222222,
              "#7201a8"
             ],
             [
              0.3333333333333333,
              "#9c179e"
             ],
             [
              0.4444444444444444,
              "#bd3786"
             ],
             [
              0.5555555555555556,
              "#d8576b"
             ],
             [
              0.6666666666666666,
              "#ed7953"
             ],
             [
              0.7777777777777778,
              "#fb9f3a"
             ],
             [
              0.8888888888888888,
              "#fdca26"
             ],
             [
              1,
              "#f0f921"
             ]
            ],
            "type": "contour"
           }
          ],
          "contourcarpet": [
           {
            "colorbar": {
             "outlinewidth": 0,
             "ticks": ""
            },
            "type": "contourcarpet"
           }
          ],
          "heatmap": [
           {
            "colorbar": {
             "outlinewidth": 0,
             "ticks": ""
            },
            "colorscale": [
             [
              0,
              "#0d0887"
             ],
             [
              0.1111111111111111,
              "#46039f"
             ],
             [
              0.2222222222222222,
              "#7201a8"
             ],
             [
              0.3333333333333333,
              "#9c179e"
             ],
             [
              0.4444444444444444,
              "#bd3786"
             ],
             [
              0.5555555555555556,
              "#d8576b"
             ],
             [
              0.6666666666666666,
              "#ed7953"
             ],
             [
              0.7777777777777778,
              "#fb9f3a"
             ],
             [
              0.8888888888888888,
              "#fdca26"
             ],
             [
              1,
              "#f0f921"
             ]
            ],
            "type": "heatmap"
           }
          ],
          "heatmapgl": [
           {
            "colorbar": {
             "outlinewidth": 0,
             "ticks": ""
            },
            "colorscale": [
             [
              0,
              "#0d0887"
             ],
             [
              0.1111111111111111,
              "#46039f"
             ],
             [
              0.2222222222222222,
              "#7201a8"
             ],
             [
              0.3333333333333333,
              "#9c179e"
             ],
             [
              0.4444444444444444,
              "#bd3786"
             ],
             [
              0.5555555555555556,
              "#d8576b"
             ],
             [
              0.6666666666666666,
              "#ed7953"
             ],
             [
              0.7777777777777778,
              "#fb9f3a"
             ],
             [
              0.8888888888888888,
              "#fdca26"
             ],
             [
              1,
              "#f0f921"
             ]
            ],
            "type": "heatmapgl"
           }
          ],
          "histogram": [
           {
            "marker": {
             "pattern": {
              "fillmode": "overlay",
              "size": 10,
              "solidity": 0.2
             }
            },
            "type": "histogram"
           }
          ],
          "histogram2d": [
           {
            "colorbar": {
             "outlinewidth": 0,
             "ticks": ""
            },
            "colorscale": [
             [
              0,
              "#0d0887"
             ],
             [
              0.1111111111111111,
              "#46039f"
             ],
             [
              0.2222222222222222,
              "#7201a8"
             ],
             [
              0.3333333333333333,
              "#9c179e"
             ],
             [
              0.4444444444444444,
              "#bd3786"
             ],
             [
              0.5555555555555556,
              "#d8576b"
             ],
             [
              0.6666666666666666,
              "#ed7953"
             ],
             [
              0.7777777777777778,
              "#fb9f3a"
             ],
             [
              0.8888888888888888,
              "#fdca26"
             ],
             [
              1,
              "#f0f921"
             ]
            ],
            "type": "histogram2d"
           }
          ],
          "histogram2dcontour": [
           {
            "colorbar": {
             "outlinewidth": 0,
             "ticks": ""
            },
            "colorscale": [
             [
              0,
              "#0d0887"
             ],
             [
              0.1111111111111111,
              "#46039f"
             ],
             [
              0.2222222222222222,
              "#7201a8"
             ],
             [
              0.3333333333333333,
              "#9c179e"
             ],
             [
              0.4444444444444444,
              "#bd3786"
             ],
             [
              0.5555555555555556,
              "#d8576b"
             ],
             [
              0.6666666666666666,
              "#ed7953"
             ],
             [
              0.7777777777777778,
              "#fb9f3a"
             ],
             [
              0.8888888888888888,
              "#fdca26"
             ],
             [
              1,
              "#f0f921"
             ]
            ],
            "type": "histogram2dcontour"
           }
          ],
          "mesh3d": [
           {
            "colorbar": {
             "outlinewidth": 0,
             "ticks": ""
            },
            "type": "mesh3d"
           }
          ],
          "parcoords": [
           {
            "line": {
             "colorbar": {
              "outlinewidth": 0,
              "ticks": ""
             }
            },
            "type": "parcoords"
           }
          ],
          "pie": [
           {
            "automargin": true,
            "type": "pie"
           }
          ],
          "scatter": [
           {
            "fillpattern": {
             "fillmode": "overlay",
             "size": 10,
             "solidity": 0.2
            },
            "type": "scatter"
           }
          ],
          "scatter3d": [
           {
            "line": {
             "colorbar": {
              "outlinewidth": 0,
              "ticks": ""
             }
            },
            "marker": {
             "colorbar": {
              "outlinewidth": 0,
              "ticks": ""
             }
            },
            "type": "scatter3d"
           }
          ],
          "scattercarpet": [
           {
            "marker": {
             "colorbar": {
              "outlinewidth": 0,
              "ticks": ""
             }
            },
            "type": "scattercarpet"
           }
          ],
          "scattergeo": [
           {
            "marker": {
             "colorbar": {
              "outlinewidth": 0,
              "ticks": ""
             }
            },
            "type": "scattergeo"
           }
          ],
          "scattergl": [
           {
            "marker": {
             "colorbar": {
              "outlinewidth": 0,
              "ticks": ""
             }
            },
            "type": "scattergl"
           }
          ],
          "scattermapbox": [
           {
            "marker": {
             "colorbar": {
              "outlinewidth": 0,
              "ticks": ""
             }
            },
            "type": "scattermapbox"
           }
          ],
          "scatterpolar": [
           {
            "marker": {
             "colorbar": {
              "outlinewidth": 0,
              "ticks": ""
             }
            },
            "type": "scatterpolar"
           }
          ],
          "scatterpolargl": [
           {
            "marker": {
             "colorbar": {
              "outlinewidth": 0,
              "ticks": ""
             }
            },
            "type": "scatterpolargl"
           }
          ],
          "scatterternary": [
           {
            "marker": {
             "colorbar": {
              "outlinewidth": 0,
              "ticks": ""
             }
            },
            "type": "scatterternary"
           }
          ],
          "surface": [
           {
            "colorbar": {
             "outlinewidth": 0,
             "ticks": ""
            },
            "colorscale": [
             [
              0,
              "#0d0887"
             ],
             [
              0.1111111111111111,
              "#46039f"
             ],
             [
              0.2222222222222222,
              "#7201a8"
             ],
             [
              0.3333333333333333,
              "#9c179e"
             ],
             [
              0.4444444444444444,
              "#bd3786"
             ],
             [
              0.5555555555555556,
              "#d8576b"
             ],
             [
              0.6666666666666666,
              "#ed7953"
             ],
             [
              0.7777777777777778,
              "#fb9f3a"
             ],
             [
              0.8888888888888888,
              "#fdca26"
             ],
             [
              1,
              "#f0f921"
             ]
            ],
            "type": "surface"
           }
          ],
          "table": [
           {
            "cells": {
             "fill": {
              "color": "#EBF0F8"
             },
             "line": {
              "color": "white"
             }
            },
            "header": {
             "fill": {
              "color": "#C8D4E3"
             },
             "line": {
              "color": "white"
             }
            },
            "type": "table"
           }
          ]
         },
         "layout": {
          "annotationdefaults": {
           "arrowcolor": "#2a3f5f",
           "arrowhead": 0,
           "arrowwidth": 1
          },
          "autotypenumbers": "strict",
          "coloraxis": {
           "colorbar": {
            "outlinewidth": 0,
            "ticks": ""
           }
          },
          "colorscale": {
           "diverging": [
            [
             0,
             "#8e0152"
            ],
            [
             0.1,
             "#c51b7d"
            ],
            [
             0.2,
             "#de77ae"
            ],
            [
             0.3,
             "#f1b6da"
            ],
            [
             0.4,
             "#fde0ef"
            ],
            [
             0.5,
             "#f7f7f7"
            ],
            [
             0.6,
             "#e6f5d0"
            ],
            [
             0.7,
             "#b8e186"
            ],
            [
             0.8,
             "#7fbc41"
            ],
            [
             0.9,
             "#4d9221"
            ],
            [
             1,
             "#276419"
            ]
           ],
           "sequential": [
            [
             0,
             "#0d0887"
            ],
            [
             0.1111111111111111,
             "#46039f"
            ],
            [
             0.2222222222222222,
             "#7201a8"
            ],
            [
             0.3333333333333333,
             "#9c179e"
            ],
            [
             0.4444444444444444,
             "#bd3786"
            ],
            [
             0.5555555555555556,
             "#d8576b"
            ],
            [
             0.6666666666666666,
             "#ed7953"
            ],
            [
             0.7777777777777778,
             "#fb9f3a"
            ],
            [
             0.8888888888888888,
             "#fdca26"
            ],
            [
             1,
             "#f0f921"
            ]
           ],
           "sequentialminus": [
            [
             0,
             "#0d0887"
            ],
            [
             0.1111111111111111,
             "#46039f"
            ],
            [
             0.2222222222222222,
             "#7201a8"
            ],
            [
             0.3333333333333333,
             "#9c179e"
            ],
            [
             0.4444444444444444,
             "#bd3786"
            ],
            [
             0.5555555555555556,
             "#d8576b"
            ],
            [
             0.6666666666666666,
             "#ed7953"
            ],
            [
             0.7777777777777778,
             "#fb9f3a"
            ],
            [
             0.8888888888888888,
             "#fdca26"
            ],
            [
             1,
             "#f0f921"
            ]
           ]
          },
          "colorway": [
           "#636efa",
           "#EF553B",
           "#00cc96",
           "#ab63fa",
           "#FFA15A",
           "#19d3f3",
           "#FF6692",
           "#B6E880",
           "#FF97FF",
           "#FECB52"
          ],
          "font": {
           "color": "#2a3f5f"
          },
          "geo": {
           "bgcolor": "white",
           "lakecolor": "white",
           "landcolor": "#E5ECF6",
           "showlakes": true,
           "showland": true,
           "subunitcolor": "white"
          },
          "hoverlabel": {
           "align": "left"
          },
          "hovermode": "closest",
          "mapbox": {
           "style": "light"
          },
          "paper_bgcolor": "white",
          "plot_bgcolor": "#E5ECF6",
          "polar": {
           "angularaxis": {
            "gridcolor": "white",
            "linecolor": "white",
            "ticks": ""
           },
           "bgcolor": "#E5ECF6",
           "radialaxis": {
            "gridcolor": "white",
            "linecolor": "white",
            "ticks": ""
           }
          },
          "scene": {
           "xaxis": {
            "backgroundcolor": "#E5ECF6",
            "gridcolor": "white",
            "gridwidth": 2,
            "linecolor": "white",
            "showbackground": true,
            "ticks": "",
            "zerolinecolor": "white"
           },
           "yaxis": {
            "backgroundcolor": "#E5ECF6",
            "gridcolor": "white",
            "gridwidth": 2,
            "linecolor": "white",
            "showbackground": true,
            "ticks": "",
            "zerolinecolor": "white"
           },
           "zaxis": {
            "backgroundcolor": "#E5ECF6",
            "gridcolor": "white",
            "gridwidth": 2,
            "linecolor": "white",
            "showbackground": true,
            "ticks": "",
            "zerolinecolor": "white"
           }
          },
          "shapedefaults": {
           "line": {
            "color": "#2a3f5f"
           }
          },
          "ternary": {
           "aaxis": {
            "gridcolor": "white",
            "linecolor": "white",
            "ticks": ""
           },
           "baxis": {
            "gridcolor": "white",
            "linecolor": "white",
            "ticks": ""
           },
           "bgcolor": "#E5ECF6",
           "caxis": {
            "gridcolor": "white",
            "linecolor": "white",
            "ticks": ""
           }
          },
          "title": {
           "x": 0.05
          },
          "xaxis": {
           "automargin": true,
           "gridcolor": "white",
           "linecolor": "white",
           "ticks": "",
           "title": {
            "standoff": 15
           },
           "zerolinecolor": "white",
           "zerolinewidth": 2
          },
          "yaxis": {
           "automargin": true,
           "gridcolor": "white",
           "linecolor": "white",
           "ticks": "",
           "title": {
            "standoff": 15
           },
           "zerolinecolor": "white",
           "zerolinewidth": 2
          }
         }
        },
        "title": {
         "text": "Ratio de variance expliquée cumulée par nombre de composantes"
        },
        "xaxis": {
         "title": {
          "text": "Nombre de composants"
         }
        },
        "yaxis": {
         "title": {
          "text": "Ratio de variance expliquée cumulée"
         }
        }
       }
      },
      "text/html": [
       "<div>                            <div id=\"60c34862-2e34-4235-8f45-114e608516bb\" class=\"plotly-graph-div\" style=\"height:525px; width:100%;\"></div>            <script type=\"text/javascript\">                require([\"plotly\"], function(Plotly) {                    window.PLOTLYENV=window.PLOTLYENV || {};                                    if (document.getElementById(\"60c34862-2e34-4235-8f45-114e608516bb\")) {                    Plotly.newPlot(                        \"60c34862-2e34-4235-8f45-114e608516bb\",                        [{\"line\":{\"dash\":\"dash\"},\"marker\":{\"size\":8,\"symbol\":\"circle\"},\"mode\":\"lines+markers\",\"x\":[1,2,3,4,5,6,7,8,9,10,11,12,13,14,15,16,17,18,19,20,21,22,23,24,25,26,27,28,29,30,31,32,33,34,35,36,37,38,39,40,41,42,43,44,45,46,47,48,49,50,51,52,53,54,55,56,57,58,59,60,61,62,63,64,65,66,67,68,69,70,71,72,73,74,75,76,77,78,79,80,81,82,83,84,85,86,87,88,89,90,91,92,93,94,95,96,97,98,99,100,101,102,103,104,105,106,107,108,109,110,111,112,113,114,115,116,117,118,119,120,121,122,123,124,125,126,127,128,129,130,131,132,133,134,135,136,137,138,139,140,141,142,143,144,145,146,147,148,149,150,151,152,153,154,155,156,157,158,159,160,161,162,163,164,165,166,167,168,169,170,171,172,173,174,175,176,177,178,179,180,181,182,183,184,185,186,187,188,189,190,191,192],\"y\":[0.22960268225901048,0.36854847175218886,0.43043448679669133,0.4906648491443212,0.533663767873725,0.5723025479008145,0.6070124380474649,0.6345407271724416,0.6578241980305614,0.6765401737281425,0.6938835105407724,0.710537502518392,0.7260502830200601,0.7396532930943901,0.7511562697216432,0.7621572797549331,0.7729701400932505,0.7823436207535754,0.7914606361624802,0.799996074152077,0.807660078014097,0.8149320698334609,0.822015275492687,0.828471865781327,0.8347025666041843,0.8403748157148394,0.8459849808419521,0.8511720295017128,0.8561357415487362,0.8607007449383484,0.8648923038455043,0.8690174370148663,0.8728994960982795,0.8767216290420218,0.8803363262473034,0.8838508720330577,0.8872919790970842,0.890631454297511,0.893866475682296,0.8969359746707398,0.8999248445885084,0.902785869884988,0.9055462952866331,0.9082846053022465,0.9108796593592304,0.9134533371536037,0.915912641812048,0.9182790536110178,0.9205679945848457,0.9227864086905009,0.9249375728318593,0.9269960729067553,0.9289979938081139,0.9309540203378058,0.9328613926691403,0.9346708954917143,0.9364510623950606,0.9382096076809587,0.9399308609481015,0.9415928859415251,0.9432099022549518,0.9448063552128217,0.9463707962619866,0.9479102734710562,0.9494104118279368,0.9508614285569484,0.9523013721030075,0.9537012041999025,0.9550596499235369,0.9563775820844301,0.9576693201695877,0.9589067487143084,0.96013097561586,0.9613307999370225,0.962499127572549,0.9636531481024903,0.9647921040027895,0.9658913255786862,0.9669266448737749,0.9679580991244034,0.968980272686611,0.9699533545025906,0.9709080901036446,0.9718277200934109,0.9727394072777761,0.9736164754448116,0.9744747317653532,0.975313956003659,0.9761227497399461,0.9769154061972671,0.9776890135128146,0.9784533188321343,0.9791885657593584,0.9799106289324907,0.9806180667717798,0.9813117961886745,0.9819867370131552,0.9826504277763203,0.9833127729225286,0.9839360374510279,0.9845478007684244,0.9851388358169043,0.985720762405967,0.9862902018382866,0.9868508316867698,0.9874006384478917,0.9879335088575337,0.9884474526234797,0.9889462926828367,0.9894416105391557,0.9899218434785869,0.9903978882688957,0.9908581894716123,0.9913140917718476,0.9917521977343421,0.9921828045734442,0.992589603229121,0.9929892435282823,0.9933832902584431,0.9937465440378976,0.9941013996799258,0.9944490056810835,0.9947797195268885,0.9951072902745143,0.9954153117904421,0.9957180455032186,0.996005325347976,0.9962815886825622,0.9965513195500038,0.9968100244321562,0.997058957731792,0.9972984373907836,0.9975238074605269,0.9977388643267663,0.997948539993574,0.998149506636367,0.9983371520734251,0.9985059588563976,0.9986609262831042,0.998802166743248,0.9989352906684085,0.9990541264495877,0.999161454383031,0.9992558863090804,0.99933815334532,0.9994094841545667,0.9994744304994689,0.9995234080506321,0.9995695107432387,0.9996118476687179,0.9996493456762195,0.9996804815478174,0.9997082890169284,0.9997342115759608,0.9997591741531685,0.999779908284793,0.99979789975608,0.9998147396445295,0.9998290870936346,0.999842530659708,0.9998546507508815,0.9998661910487034,0.9998768309740966,0.9998862014767584,0.9998954037394739,0.9999034084435305,0.9999110589501978,0.9999177967667345,0.9999242729108491,0.9999302717370645,0.9999360021214659,0.9999415101913814,0.9999465966063806,0.9999513675856542,0.9999558688949636,0.9999600995249723,0.9999640243190195,0.9999679434167591,0.9999716340246981,0.9999751647079806,0.9999785298932213,0.9999815476666171,0.999984379554124,0.9999870731436791,0.999989679032483,0.9999921907184481,0.9999945753051698,0.9999967001511652,0.9999984601604032,0.9999999999977441,0.9999999999994159,1.0000000000000007],\"type\":\"scatter\"}],                        {\"template\":{\"data\":{\"histogram2dcontour\":[{\"type\":\"histogram2dcontour\",\"colorbar\":{\"outlinewidth\":0,\"ticks\":\"\"},\"colorscale\":[[0.0,\"#0d0887\"],[0.1111111111111111,\"#46039f\"],[0.2222222222222222,\"#7201a8\"],[0.3333333333333333,\"#9c179e\"],[0.4444444444444444,\"#bd3786\"],[0.5555555555555556,\"#d8576b\"],[0.6666666666666666,\"#ed7953\"],[0.7777777777777778,\"#fb9f3a\"],[0.8888888888888888,\"#fdca26\"],[1.0,\"#f0f921\"]]}],\"choropleth\":[{\"type\":\"choropleth\",\"colorbar\":{\"outlinewidth\":0,\"ticks\":\"\"}}],\"histogram2d\":[{\"type\":\"histogram2d\",\"colorbar\":{\"outlinewidth\":0,\"ticks\":\"\"},\"colorscale\":[[0.0,\"#0d0887\"],[0.1111111111111111,\"#46039f\"],[0.2222222222222222,\"#7201a8\"],[0.3333333333333333,\"#9c179e\"],[0.4444444444444444,\"#bd3786\"],[0.5555555555555556,\"#d8576b\"],[0.6666666666666666,\"#ed7953\"],[0.7777777777777778,\"#fb9f3a\"],[0.8888888888888888,\"#fdca26\"],[1.0,\"#f0f921\"]]}],\"heatmap\":[{\"type\":\"heatmap\",\"colorbar\":{\"outlinewidth\":0,\"ticks\":\"\"},\"colorscale\":[[0.0,\"#0d0887\"],[0.1111111111111111,\"#46039f\"],[0.2222222222222222,\"#7201a8\"],[0.3333333333333333,\"#9c179e\"],[0.4444444444444444,\"#bd3786\"],[0.5555555555555556,\"#d8576b\"],[0.6666666666666666,\"#ed7953\"],[0.7777777777777778,\"#fb9f3a\"],[0.8888888888888888,\"#fdca26\"],[1.0,\"#f0f921\"]]}],\"heatmapgl\":[{\"type\":\"heatmapgl\",\"colorbar\":{\"outlinewidth\":0,\"ticks\":\"\"},\"colorscale\":[[0.0,\"#0d0887\"],[0.1111111111111111,\"#46039f\"],[0.2222222222222222,\"#7201a8\"],[0.3333333333333333,\"#9c179e\"],[0.4444444444444444,\"#bd3786\"],[0.5555555555555556,\"#d8576b\"],[0.6666666666666666,\"#ed7953\"],[0.7777777777777778,\"#fb9f3a\"],[0.8888888888888888,\"#fdca26\"],[1.0,\"#f0f921\"]]}],\"contourcarpet\":[{\"type\":\"contourcarpet\",\"colorbar\":{\"outlinewidth\":0,\"ticks\":\"\"}}],\"contour\":[{\"type\":\"contour\",\"colorbar\":{\"outlinewidth\":0,\"ticks\":\"\"},\"colorscale\":[[0.0,\"#0d0887\"],[0.1111111111111111,\"#46039f\"],[0.2222222222222222,\"#7201a8\"],[0.3333333333333333,\"#9c179e\"],[0.4444444444444444,\"#bd3786\"],[0.5555555555555556,\"#d8576b\"],[0.6666666666666666,\"#ed7953\"],[0.7777777777777778,\"#fb9f3a\"],[0.8888888888888888,\"#fdca26\"],[1.0,\"#f0f921\"]]}],\"surface\":[{\"type\":\"surface\",\"colorbar\":{\"outlinewidth\":0,\"ticks\":\"\"},\"colorscale\":[[0.0,\"#0d0887\"],[0.1111111111111111,\"#46039f\"],[0.2222222222222222,\"#7201a8\"],[0.3333333333333333,\"#9c179e\"],[0.4444444444444444,\"#bd3786\"],[0.5555555555555556,\"#d8576b\"],[0.6666666666666666,\"#ed7953\"],[0.7777777777777778,\"#fb9f3a\"],[0.8888888888888888,\"#fdca26\"],[1.0,\"#f0f921\"]]}],\"mesh3d\":[{\"type\":\"mesh3d\",\"colorbar\":{\"outlinewidth\":0,\"ticks\":\"\"}}],\"scatter\":[{\"fillpattern\":{\"fillmode\":\"overlay\",\"size\":10,\"solidity\":0.2},\"type\":\"scatter\"}],\"parcoords\":[{\"type\":\"parcoords\",\"line\":{\"colorbar\":{\"outlinewidth\":0,\"ticks\":\"\"}}}],\"scatterpolargl\":[{\"type\":\"scatterpolargl\",\"marker\":{\"colorbar\":{\"outlinewidth\":0,\"ticks\":\"\"}}}],\"bar\":[{\"error_x\":{\"color\":\"#2a3f5f\"},\"error_y\":{\"color\":\"#2a3f5f\"},\"marker\":{\"line\":{\"color\":\"#E5ECF6\",\"width\":0.5},\"pattern\":{\"fillmode\":\"overlay\",\"size\":10,\"solidity\":0.2}},\"type\":\"bar\"}],\"scattergeo\":[{\"type\":\"scattergeo\",\"marker\":{\"colorbar\":{\"outlinewidth\":0,\"ticks\":\"\"}}}],\"scatterpolar\":[{\"type\":\"scatterpolar\",\"marker\":{\"colorbar\":{\"outlinewidth\":0,\"ticks\":\"\"}}}],\"histogram\":[{\"marker\":{\"pattern\":{\"fillmode\":\"overlay\",\"size\":10,\"solidity\":0.2}},\"type\":\"histogram\"}],\"scattergl\":[{\"type\":\"scattergl\",\"marker\":{\"colorbar\":{\"outlinewidth\":0,\"ticks\":\"\"}}}],\"scatter3d\":[{\"type\":\"scatter3d\",\"line\":{\"colorbar\":{\"outlinewidth\":0,\"ticks\":\"\"}},\"marker\":{\"colorbar\":{\"outlinewidth\":0,\"ticks\":\"\"}}}],\"scattermapbox\":[{\"type\":\"scattermapbox\",\"marker\":{\"colorbar\":{\"outlinewidth\":0,\"ticks\":\"\"}}}],\"scatterternary\":[{\"type\":\"scatterternary\",\"marker\":{\"colorbar\":{\"outlinewidth\":0,\"ticks\":\"\"}}}],\"scattercarpet\":[{\"type\":\"scattercarpet\",\"marker\":{\"colorbar\":{\"outlinewidth\":0,\"ticks\":\"\"}}}],\"carpet\":[{\"aaxis\":{\"endlinecolor\":\"#2a3f5f\",\"gridcolor\":\"white\",\"linecolor\":\"white\",\"minorgridcolor\":\"white\",\"startlinecolor\":\"#2a3f5f\"},\"baxis\":{\"endlinecolor\":\"#2a3f5f\",\"gridcolor\":\"white\",\"linecolor\":\"white\",\"minorgridcolor\":\"white\",\"startlinecolor\":\"#2a3f5f\"},\"type\":\"carpet\"}],\"table\":[{\"cells\":{\"fill\":{\"color\":\"#EBF0F8\"},\"line\":{\"color\":\"white\"}},\"header\":{\"fill\":{\"color\":\"#C8D4E3\"},\"line\":{\"color\":\"white\"}},\"type\":\"table\"}],\"barpolar\":[{\"marker\":{\"line\":{\"color\":\"#E5ECF6\",\"width\":0.5},\"pattern\":{\"fillmode\":\"overlay\",\"size\":10,\"solidity\":0.2}},\"type\":\"barpolar\"}],\"pie\":[{\"automargin\":true,\"type\":\"pie\"}]},\"layout\":{\"autotypenumbers\":\"strict\",\"colorway\":[\"#636efa\",\"#EF553B\",\"#00cc96\",\"#ab63fa\",\"#FFA15A\",\"#19d3f3\",\"#FF6692\",\"#B6E880\",\"#FF97FF\",\"#FECB52\"],\"font\":{\"color\":\"#2a3f5f\"},\"hovermode\":\"closest\",\"hoverlabel\":{\"align\":\"left\"},\"paper_bgcolor\":\"white\",\"plot_bgcolor\":\"#E5ECF6\",\"polar\":{\"bgcolor\":\"#E5ECF6\",\"angularaxis\":{\"gridcolor\":\"white\",\"linecolor\":\"white\",\"ticks\":\"\"},\"radialaxis\":{\"gridcolor\":\"white\",\"linecolor\":\"white\",\"ticks\":\"\"}},\"ternary\":{\"bgcolor\":\"#E5ECF6\",\"aaxis\":{\"gridcolor\":\"white\",\"linecolor\":\"white\",\"ticks\":\"\"},\"baxis\":{\"gridcolor\":\"white\",\"linecolor\":\"white\",\"ticks\":\"\"},\"caxis\":{\"gridcolor\":\"white\",\"linecolor\":\"white\",\"ticks\":\"\"}},\"coloraxis\":{\"colorbar\":{\"outlinewidth\":0,\"ticks\":\"\"}},\"colorscale\":{\"sequential\":[[0.0,\"#0d0887\"],[0.1111111111111111,\"#46039f\"],[0.2222222222222222,\"#7201a8\"],[0.3333333333333333,\"#9c179e\"],[0.4444444444444444,\"#bd3786\"],[0.5555555555555556,\"#d8576b\"],[0.6666666666666666,\"#ed7953\"],[0.7777777777777778,\"#fb9f3a\"],[0.8888888888888888,\"#fdca26\"],[1.0,\"#f0f921\"]],\"sequentialminus\":[[0.0,\"#0d0887\"],[0.1111111111111111,\"#46039f\"],[0.2222222222222222,\"#7201a8\"],[0.3333333333333333,\"#9c179e\"],[0.4444444444444444,\"#bd3786\"],[0.5555555555555556,\"#d8576b\"],[0.6666666666666666,\"#ed7953\"],[0.7777777777777778,\"#fb9f3a\"],[0.8888888888888888,\"#fdca26\"],[1.0,\"#f0f921\"]],\"diverging\":[[0,\"#8e0152\"],[0.1,\"#c51b7d\"],[0.2,\"#de77ae\"],[0.3,\"#f1b6da\"],[0.4,\"#fde0ef\"],[0.5,\"#f7f7f7\"],[0.6,\"#e6f5d0\"],[0.7,\"#b8e186\"],[0.8,\"#7fbc41\"],[0.9,\"#4d9221\"],[1,\"#276419\"]]},\"xaxis\":{\"gridcolor\":\"white\",\"linecolor\":\"white\",\"ticks\":\"\",\"title\":{\"standoff\":15},\"zerolinecolor\":\"white\",\"automargin\":true,\"zerolinewidth\":2},\"yaxis\":{\"gridcolor\":\"white\",\"linecolor\":\"white\",\"ticks\":\"\",\"title\":{\"standoff\":15},\"zerolinecolor\":\"white\",\"automargin\":true,\"zerolinewidth\":2},\"scene\":{\"xaxis\":{\"backgroundcolor\":\"#E5ECF6\",\"gridcolor\":\"white\",\"linecolor\":\"white\",\"showbackground\":true,\"ticks\":\"\",\"zerolinecolor\":\"white\",\"gridwidth\":2},\"yaxis\":{\"backgroundcolor\":\"#E5ECF6\",\"gridcolor\":\"white\",\"linecolor\":\"white\",\"showbackground\":true,\"ticks\":\"\",\"zerolinecolor\":\"white\",\"gridwidth\":2},\"zaxis\":{\"backgroundcolor\":\"#E5ECF6\",\"gridcolor\":\"white\",\"linecolor\":\"white\",\"showbackground\":true,\"ticks\":\"\",\"zerolinecolor\":\"white\",\"gridwidth\":2}},\"shapedefaults\":{\"line\":{\"color\":\"#2a3f5f\"}},\"annotationdefaults\":{\"arrowcolor\":\"#2a3f5f\",\"arrowhead\":0,\"arrowwidth\":1},\"geo\":{\"bgcolor\":\"white\",\"landcolor\":\"#E5ECF6\",\"subunitcolor\":\"white\",\"showland\":true,\"showlakes\":true,\"lakecolor\":\"white\"},\"title\":{\"x\":0.05},\"mapbox\":{\"style\":\"light\"}}},\"xaxis\":{\"title\":{\"text\":\"Nombre de composants\"}},\"yaxis\":{\"title\":{\"text\":\"Ratio de variance expliqu\\u00e9e cumul\\u00e9e\"}},\"title\":{\"text\":\"Ratio de variance expliqu\\u00e9e cumul\\u00e9e par nombre de composantes\"}},                        {\"responsive\": true}                    ).then(function(){\n",
       "                            \n",
       "var gd = document.getElementById('60c34862-2e34-4235-8f45-114e608516bb');\n",
       "var x = new MutationObserver(function (mutations, observer) {{\n",
       "        var display = window.getComputedStyle(gd).display;\n",
       "        if (!display || display === 'none') {{\n",
       "            console.log([gd, 'removed!']);\n",
       "            Plotly.purge(gd);\n",
       "            observer.disconnect();\n",
       "        }}\n",
       "}});\n",
       "\n",
       "// Listen for the removal of the full notebook cells\n",
       "var notebookContainer = gd.closest('#notebook-container');\n",
       "if (notebookContainer) {{\n",
       "    x.observe(notebookContainer, {childList: true});\n",
       "}}\n",
       "\n",
       "// Listen for the clearing of the current output cell\n",
       "var outputEl = gd.closest('.output');\n",
       "if (outputEl) {{\n",
       "    x.observe(outputEl, {childList: true});\n",
       "}}\n",
       "\n",
       "                        })                };                });            </script>        </div>"
      ]
     },
     "metadata": {},
     "output_type": "display_data"
    }
   ],
   "source": [
    "import plotly.graph_objects as go\n",
    "import numpy as np\n",
    "from sklearn.decomposition import PCA\n",
    "\n",
    "X_acp = x_train\n",
    "pca = PCA().fit(X_acp)\n",
    "\n",
    "cumulative_variance_ratio = np.cumsum(pca.explained_variance_ratio_)\n",
    "\n",
    "fig = go.Figure()\n",
    "fig.add_trace(go.Scatter(\n",
    "    x=list(range(1, len(cumulative_variance_ratio) + 1)),  # Conversion en liste\n",
    "    y=cumulative_variance_ratio,\n",
    "    mode='lines+markers',\n",
    "    marker=dict(symbol='circle', size=8),\n",
    "    line=dict(dash='dash'),\n",
    "))\n",
    "\n",
    "fig.update_layout(\n",
    "    xaxis_title='Nombre de composants',\n",
    "    yaxis_title='Ratio de variance expliquée cumulée',\n",
    "    title='Ratio de variance expliquée cumulée par nombre de composantes',\n",
    ")\n",
    "\n",
    "fig.show()"
   ]
  },
  {
   "cell_type": "markdown",
   "id": "63de33c09fda8393",
   "metadata": {
    "collapsed": false
   },
   "source": []
  },
  {
   "cell_type": "code",
   "execution_count": 56,
   "id": "dbadc626c906042f",
   "metadata": {
    "ExecuteTime": {
     "end_time": "2024-04-12T00:42:06.260728200Z",
     "start_time": "2024-04-12T00:42:06.222695800Z"
    },
    "collapsed": false
   },
   "outputs": [],
   "source": []
  },
  {
   "cell_type": "markdown",
   "id": "8721bac7831ba315",
   "metadata": {
    "collapsed": false
   },
   "source": [
    " #### Entrainenement du random Forest aprés reduction de dimension "
   ]
  },
  {
   "cell_type": "code",
   "execution_count": 138,
   "id": "641eccdd3b913c8c",
   "metadata": {
    "ExecuteTime": {
     "end_time": "2024-04-13T19:39:28.738340Z",
     "start_time": "2024-04-13T19:39:24.017617300Z"
    },
    "collapsed": false
   },
   "outputs": [
    {
     "name": "stdout",
     "output_type": "stream",
     "text": [
      "\n",
      "Train Score:\n",
      "Accuracy : 1.0\n",
      "Precision : 1.0\n",
      "Recall : 1.0\n",
      "F1-score : 1.0\n",
      "\n",
      "Test Score :\n",
      "Accuracy : 0.9646464646464646\n",
      "Precision : 0.9764309764309763\n",
      "Recall : 0.9646464646464646\n",
      "F1-score : 0.9632996632996632\n"
     ]
    }
   ],
   "source": [
    "### Random Forest avec reduction de dimension PCA \n",
    "from sklearn.decomposition import PCA\n",
    "from sklearn.ensemble import RandomForestClassifier\n",
    "from sklearn.pipeline import Pipeline\n",
    "\n",
    "    \n",
    "# Création d'un pipeline avec standardisation, PCA et classification\n",
    "rf_pipeline = Pipeline([\n",
    "    ('pca', PCA(n_components=0.95)),\n",
    "    ('classifier',RandomForestClassifier())\n",
    "])\n",
    "    \n",
    "# Entraînement du modèle\n",
    "rf_pipeline.fit(x_train, y_train)\n",
    "\n",
    "# Prédictions sur les données de test\n",
    "metrics = Measure(rf_pipeline,x_train,y_train, x_test, y_test)\n",
    "metrics.show_metrics_train()\n",
    "metrics.show_metrics_test()"
   ]
  },
  {
   "cell_type": "markdown",
   "id": "610ad3b9438b81a5",
   "metadata": {
    "collapsed": false
   },
   "source": [
    "L'entrainement aprés reduction de dimension donne un bon resultats aussi mais la recherche d' hyperparametre est suffisant pour notre dataset."
   ]
  },
  {
   "cell_type": "markdown",
   "id": "e3649f1fedb72f79",
   "metadata": {
    "collapsed": false
   },
   "source": [
    " #### Entrainenement du MLP aprés reduction de dimension "
   ]
  },
  {
   "cell_type": "code",
   "execution_count": 153,
   "id": "5a97b3ef67394b55",
   "metadata": {
    "ExecuteTime": {
     "end_time": "2024-04-14T01:19:38.057040800Z",
     "start_time": "2024-04-14T01:19:34.339904900Z"
    },
    "collapsed": false
   },
   "outputs": [
    {
     "name": "stdout",
     "output_type": "stream",
     "text": [
      "\n",
      "Train Score:\n",
      "Accuracy : 1.0\n",
      "Precision : 1.0\n",
      "Recall : 1.0\n",
      "F1-score : 1.0\n",
      "\n",
      "Test Score :\n",
      "Accuracy : 0.98989898989899\n",
      "Precision : 0.9932659932659934\n",
      "Recall : 0.98989898989899\n",
      "F1-score : 0.9892255892255892\n"
     ]
    }
   ],
   "source": [
    "from sklearn.neural_network import MLPClassifier\n",
    "\n",
    "mlp_pipeline = Pipeline([\n",
    "    ('pca', PCA(n_components=0.95)),\n",
    "    ('classifier',MLPClassifier())\n",
    "])\n",
    "\n",
    "mlp_pipeline.fit(x_train, y_train)\n",
    "metrics = Measure(mlp_pipeline,x_train,y_train, x_test, y_test)\n",
    "metrics.show_metrics_train()\n",
    "metrics.show_metrics_test()"
   ]
  },
  {
   "cell_type": "code",
   "execution_count": 1,
   "id": "a6e15d66",
   "metadata": {},
   "outputs": [],
   "source": [
    "def acp_performances(model_fitted, X_test, y_test):\n",
    "    y_pred = model_fitted.predict(X_test)\n",
    "\n",
    "    # Calcul des métriques\n",
    "    accuracy = accuracy_score(y_test, y_pred)\n",
    "    precision = precision_score(y_test, y_pred, average='macro')\n",
    "    recall = recall_score(y_test, y_pred, average='macro')\n",
    "    f1 = f1_score(y_test, y_pred, average='macro')\n",
    "\n",
    "    return accuracy, precision, recall, f1"
   ]
  },
  {
   "cell_type": "code",
   "execution_count": null,
   "id": "d434355a",
   "metadata": {},
   "outputs": [],
   "source": [
    "# Réalisation de l'ACP\n",
    "from sklearn.model_selection import train_test_split\n",
    "from sklearn.pipeline import Pipeline\n",
    "\n",
    "# métriques pour svc\n",
    "acc_acp_svc = []\n",
    "pre_acp_svc = []\n",
    "rec_acp_svc = []\n",
    "f1s_acp_svc = []\n",
    "\n",
    "# métriques pour sgdc\n",
    "acc_acp_sgdc = []\n",
    "pre_acp_sgdc = []\n",
    "rec_acp_sgdc = []\n",
    "f1s_acp_sgdc = []\n",
    "\n",
    "\n",
    "    \n",
    "for i in range(70, 193):\n",
    "    # Création d'un pipeline avec standardisation, PCA et classification\n",
    "    svc_pipeline = Pipeline([\n",
    "        #('scaler', StandardScaler()),\n",
    "        ('pca', PCA(n_components=i)),\n",
    "        # avec les meilleurs hyperparametres trouvées\n",
    "        ('classifier', model_svc)\n",
    "    ])\n",
    "\n",
    "    sgdc_pipeline = Pipeline([\n",
    "        #('scaler', StandardScaler()),\n",
    "        ('pca', PCA(n_components=i)),\n",
    "        # avec les meilleurs hyperparametres trouvées\n",
    "        ('classifier', model_sgdc)\n",
    "    ])\n",
    "    \n",
    "    # Entraînement du modèle\n",
    "    svc_pipeline.fit(x_train, y_train)\n",
    "    sgdc_pipeline.fit(x_train, y_train)\n",
    "    \n",
    "    # Résultat après entrainement\n",
    "\n",
    "    #SVC\n",
    "    acc_svc, pre_svc, rec_svc, f1s_svc = acp_performances(svc_pipeline, x_test, y_test)\n",
    "    acc_acp_svc.append(acc_svc)\n",
    "    pre_acp_svc.append(pre_svc) \n",
    "    rec_acp_svc.append(rec_svc) \n",
    "    f1s_acp_svc.append(f1s_svc) \n",
    "\n",
    "    #SGDC\n",
    "    acc_sgdc, pre_sgdc, rec_sgdc, f1s_sgdc = acp_performances(sgdc_pipeline, x_test, y_test)\n",
    "    acc_acp_sgdc.append(acc_sgdc)\n",
    "    pre_acp_sgdc.append(pre_sgdc) \n",
    "    rec_acp_sgdc.append(rec_sgdc) \n",
    "    f1s_acp_sgdc.append(f1s_sgdc)"
   ]
  },
  {
   "cell_type": "code",
   "execution_count": null,
   "id": "3fb727ab",
   "metadata": {},
   "outputs": [],
   "source": [
    "import plotly.graph_objects as go\n",
    "x_data = list(range(70, 193))"
   ]
  },
  {
   "cell_type": "code",
   "execution_count": null,
   "id": "da9c98fb",
   "metadata": {},
   "outputs": [],
   "source": [
    "# SVC\n",
    "acc_curve_svc = go.Scatter(x=x_data, y=acc_acp_svc, mode='lines', name='Accuracy')\n",
    "pre_curve_svc = go.Scatter(x=x_data, y=pre_acp_svc, mode='lines', name='Precision')\n",
    "rec_curve_svc = go.Scatter(x=x_data, y=rec_acp_svc, mode='lines', name='Recall')\n",
    "f1s_curve_svc = go.Scatter(x=x_data, y=f1s_acp_svc, mode='lines', name='F1Score')\n",
    "\n",
    "fig_svc = go.Figure()\n",
    "fig_svc.add_trace(acc_curve_svc)\n",
    "fig_svc.add_trace(pre_curve_svc)\n",
    "fig_svc.add_trace(rec_curve_svc)\n",
    "fig_svc.add_trace(f1s_curve_svc)\n",
    "\n",
    "fig_svc.update_layout(title='Performances en fonction du nombre de composants',\n",
    "                   xaxis_title='Nombre de composantes',\n",
    "                   yaxis_title='Valeurs des métriques')\n",
    "\n",
    "fig_svc.show()"
   ]
  },
  {
   "cell_type": "code",
   "execution_count": null,
   "id": "6e795f28",
   "metadata": {},
   "outputs": [],
   "source": [
    "acc_curve_sgdc = go.Scatter(x=x_data, y=acc_acp_sgdc, mode='lines', name='Accuracy')\n",
    "pre_curve_sgdc = go.Scatter(x=x_data, y=pre_acp_sgdc, mode='lines', name='Precision')\n",
    "rec_curve_sgdc = go.Scatter(x=x_data, y=rec_acp_sgdc, mode='lines', name='Recall')\n",
    "f1s_curve_sgdc = go.Scatter(x=x_data, y=f1s_acp_sgdc, mode='lines', name='F1Score')\n",
    "\n",
    "fig_sgdc = go.Figure()\n",
    "fig_sgdc.add_trace(acc_curve_sgdc)\n",
    "fig_sgdc.add_trace(pre_curve_sgdc)\n",
    "fig_sgdc.add_trace(rec_curve_sgdc)\n",
    "fig_sgdc.add_trace(f1s_curve_sgdc)\n",
    "\n",
    "fig_sgdc.update_layout(title='Performances en fonction du nombre de composants',\n",
    "                   xaxis_title='Nombre de composantes',\n",
    "                   yaxis_title='Valeurs des métriques')\n",
    "\n",
    "fig_sgdc.show()"
   ]
  },
  {
   "cell_type": "markdown",
   "id": "3fa0112b0568f08e",
   "metadata": {
    "collapsed": false
   },
   "source": [
    "### Voting Classifier"
   ]
  },
  {
   "cell_type": "markdown",
   "id": "46e848734630faf1",
   "metadata": {
    "collapsed": false
   },
   "source": [
    "Faire voter les meilleurs modele\n",
    "\n",
    "GNB Meilleur var_smoothing trouvé: {'var_smoothing': 0.01}\n",
    "Ramdom Forest Meilleurs hyperparamètres : {'criterion': 'gini', 'max_depth': None, 'min_samples_split': 2, 'n_estimators': 100}\n",
    "SGD Meilleurs hyperparamètres : {'alpha': 0.0001, 'loss': 'log_loss', 'penalty': 'l2'}\n",
    "SVM Meilleurs hyperparamètres : {'C': 0.1, 'degree': 1, 'gamma': 10, 'kernel': 'poly'}\n",
    "Logistic Regression Meilleurs hyperparamètres : {'C': 1.0, 'penalty': 'l2', 'solver': 'lbfgs'}\n",
    "MLP Meilleurs hyperparamètres : {'activation': 'relu', 'alpha': 1e-05, 'early_stopping': True, 'hidden_layer_sizes': (100,), 'n_iter_no_change': 20}\n",
    "\n"
   ]
  },
  {
   "cell_type": "code",
   "execution_count": 140,
   "id": "61c30acbb06b7a44",
   "metadata": {
    "ExecuteTime": {
     "end_time": "2024-04-13T19:49:09.481281400Z",
     "start_time": "2024-04-13T19:48:30.181129Z"
    },
    "collapsed": false
   },
   "outputs": [
    {
     "name": "stdout",
     "output_type": "stream",
     "text": [
      "Accuracy: 0.9874 (+/- 0.0025) [Logistic Regression]\n",
      "Accuracy: 0.9672 (+/- 0.0076) [Random Forest]\n",
      "Accuracy: 0.9773 (+/- 0.0091) [Gaussian Naive Bayes]\n",
      "Accuracy: 0.9684 (+/- 0.0042) [Stochastic Gradient Descent]\n",
      "Accuracy: 0.9874 (+/- 0.0076) [Support Vector Machine]\n",
      "Accuracy: 0.9798 (+/- 0.0000) [Multi-Layer Perceptron]\n",
      "Accuracy: 0.9861 (+/- 0.0042) [Ensemble Vote]\n"
     ]
    }
   ],
   "source": [
    "from sklearn.model_selection import cross_val_score\n",
    "from sklearn.linear_model import LogisticRegression\n",
    "from sklearn.naive_bayes import GaussianNB\n",
    "from sklearn.ensemble import RandomForestClassifier\n",
    "from sklearn.ensemble import VotingClassifier\n",
    "\n",
    "\n",
    "gnb_clf = GaussianNB(var_smoothing=0.01)\n",
    "lr_clf = LogisticRegression(C=1.0, penalty='l2', solver='lbfgs', random_state=42)\n",
    "rf_clf = RandomForestClassifier(criterion = 'gini', min_samples_split = 2, n_estimators = 100, random_state=42)\n",
    "sdg_clf = SGDClassifier(alpha=0.0001, loss='log_loss', penalty='l2', random_state=42)\n",
    "svm_clf = SVC(C=1.0, degree=1, gamma=10, kernel= 'poly', random_state=42)\n",
    "mlp_clf = MLPClassifier(hidden_layer_sizes=(100,), random_state=42)\n",
    "\n",
    "_estimators = [\n",
    "        ('lr', lr_clf), \n",
    "        ('rf', rf_clf), \n",
    "        ('gnb', gnb_clf),\n",
    "        ('sdg',sdg_clf),\n",
    "        ('svm', svm_clf), \n",
    "        ('mlp',mlp_clf),  \n",
    "    ]\n",
    "m_model = [\n",
    "    'Logistic Regression', \n",
    "    'Random Forest', \n",
    "    'Gaussian Naive Bayes', \n",
    "    'Stochastic Gradient Descent', \n",
    "    'Support Vector Machine', \n",
    "    'Multi-Layer Perceptron', \n",
    "    'Ensemble Vote']\n",
    "\n",
    "voting_clf = VotingClassifier(\n",
    "    estimators=_estimators,\n",
    "    voting='hard')\n",
    "\n",
    "m_estimators = _estimators.copy()\n",
    "m_estimators.append(('voting', voting_clf))\n",
    "\n",
    "for clf, label in zip(m_estimators, m_model ):\n",
    "    scores = cross_val_score(clf[1], x_train, y_train, scoring='accuracy', cv=4)\n",
    "    print(\"Accuracy: %0.4f (+/- %0.4f) [%s]\" % (scores.mean(), scores.std(), label))\n"
   ],
   "metadata": {
    "collapsed": false,
    "ExecuteTime": {
     "end_time": "2024-04-14T01:51:31.654010400Z",
     "start_time": "2024-04-14T01:50:56.341723600Z"
    }
   },
   "id": "61c30acbb06b7a44",
   "execution_count": 165
  },
  {
   "cell_type": "markdown",
   "source": [
    "Accuracy: 0.9874 (+/- 0.0025) [Logistic Regression]\n",
    "Accuracy: 0.9672 (+/- 0.0076) [Random Forest]\n",
    "Accuracy: 0.9773 (+/- 0.0091) [Gaussian Naive Bayes]\n",
    "Accuracy: 0.9684 (+/- 0.0042) [Stochastic Gradient Descent]\n",
    "Accuracy: 0.9874 (+/- 0.0076) [Support Vector Machine]\n",
    "Accuracy: 0.9798 (+/- 0.0000) [Multi-Layer Perceptron]\n",
    "Accuracy: 0.9861 (+/- 0.0042) [Ensemble Vote]"
   ],
   "metadata": {
    "collapsed": false
   },
   "id": "52515b002e2d01b3"
  },
  {
   "cell_type": "code",
   "execution_count": 56,
   "id": "1ad50ed910236a65",
   "metadata": {
    "ExecuteTime": {
     "end_time": "2024-04-12T00:42:07.272676Z",
     "start_time": "2024-04-12T00:42:07.130176700Z"
    },
    "collapsed": false
   },
   "outputs": [],
   "source": []
  },
  {
   "cell_type": "code",
   "execution_count": 56,
   "id": "52cb43143dfae8c9",
   "metadata": {
    "ExecuteTime": {
     "end_time": "2024-04-12T00:42:07.312726Z",
     "start_time": "2024-04-12T00:42:07.273182Z"
    },
    "collapsed": false
   },
   "outputs": [],
   "source": []
  },
  {
   "cell_type": "code",
   "execution_count": null,
   "id": "6f58fa83278cfbc1",
   "metadata": {
    "collapsed": false
   },
   "outputs": [],
   "source": []
  }
 ],
 "metadata": {
  "kernelspec": {
   "display_name": "Python 3 (ipykernel)",
   "language": "python",
   "name": "python3"
  },
  "language_info": {
   "codemirror_mode": {
    "name": "ipython",
    "version": 3
   },
   "file_extension": ".py",
   "mimetype": "text/x-python",
   "name": "python",
   "nbconvert_exporter": "python",
   "pygments_lexer": "ipython3",
   "version": "3.11.7"
  }
 },
 "nbformat": 4,
 "nbformat_minor": 5
}
