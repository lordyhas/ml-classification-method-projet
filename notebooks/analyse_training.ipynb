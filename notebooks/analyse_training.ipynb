{
 "cells": [
  {
   "cell_type": "code",
   "execution_count": 1,
   "id": "initial_id",
   "metadata": {
    "collapsed": true,
    "ExecuteTime": {
     "end_time": "2024-03-22T22:06:17.771595900Z",
     "start_time": "2024-03-22T22:06:16.963226800Z"
    }
   },
   "outputs": [],
   "source": [
    "import sklearn\n",
    "import numpy as np # linear algebra\n",
    "import pandas as pd \n",
    "\n",
    "from sklearn.preprocessing import LabelEncoder, MinMaxScaler\n",
    "from sklearn.model_selection import train_test_split"
   ]
  },
  {
   "cell_type": "markdown",
   "source": [
    "Leaf Classification"
   ],
   "metadata": {
    "collapsed": false
   },
   "id": "625a4872a7bd651e"
  },
  {
   "cell_type": "code",
   "outputs": [],
   "source": [
    "data_dir_path = '../data/external'\n",
    "\n",
    "data = pd.read_csv(data_dir_path + \"/train.csv\")"
   ],
   "metadata": {
    "collapsed": false,
    "ExecuteTime": {
     "end_time": "2024-03-22T22:06:17.846168800Z",
     "start_time": "2024-03-22T22:06:17.769538300Z"
    }
   },
   "id": "6e916a0db3fc6cbf",
   "execution_count": 2
  },
  {
   "cell_type": "markdown",
   "source": [
    "## Pre-traitement des données\n",
    "### Separer les classes de features\n",
    "`y_train` = classes or label\n",
    "`x_train` = features"
   ],
   "metadata": {
    "collapsed": false
   },
   "id": "48fe1759bbce5255"
  },
  {
   "cell_type": "code",
   "outputs": [],
   "source": [
    "from src.data.preprocessing_data import LeafDataPreprocessing\n",
    "processed_data = LeafDataPreprocessing(data=data, normalized=True)"
   ],
   "metadata": {
    "collapsed": false,
    "ExecuteTime": {
     "end_time": "2024-03-22T22:06:18.185010200Z",
     "start_time": "2024-03-22T22:06:18.075129300Z"
    }
   },
   "id": "b0b701ab459f05e9",
   "execution_count": 11
  },
  {
   "cell_type": "markdown",
   "source": [],
   "metadata": {
    "collapsed": false
   },
   "id": "7dec7c30587233f7"
  }
 ],
 "metadata": {
  "kernelspec": {
   "display_name": "Python 3",
   "language": "python",
   "name": "python3"
  },
  "language_info": {
   "codemirror_mode": {
    "name": "ipython",
    "version": 2
   },
   "file_extension": ".py",
   "mimetype": "text/x-python",
   "name": "python",
   "nbconvert_exporter": "python",
   "pygments_lexer": "ipython2",
   "version": "2.7.6"
  }
 },
 "nbformat": 4,
 "nbformat_minor": 5
}
