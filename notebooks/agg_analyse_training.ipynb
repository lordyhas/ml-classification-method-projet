{
 "cells": [
  {
   "cell_type": "code",
   "execution_count": 36,
   "id": "initial_id",
   "metadata": {
    "ExecuteTime": {
     "end_time": "2024-04-12T00:16:19.587123900Z",
     "start_time": "2024-04-12T00:16:19.256580600Z"
    },
    "collapsed": true,
    "jupyter": {
     "outputs_hidden": true
    }
   },
   "outputs": [],
   "source": [
    "import sklearn\n",
    "import numpy as np # linear algebra\n",
    "import pandas as pd \n",
    "import matplotlib.pyplot as plt\n",
    "\n",
    "from sklearn.ensemble import RandomForestClassifier\n",
    "from sklearn.ensemble import ExtraTreesClassifier\n",
    "from sklearn.tree import DecisionTreeClassifier\n",
    "\n",
    "from src.models.train_model import CrossValidate\n",
    "from src.models.metrics import Measure\n",
    "\n",
    "import warnings\n",
    "\n",
    "warnings.filterwarnings(\"ignore\")\n"
   ]
  },
  {
   "cell_type": "markdown",
   "id": "625a4872a7bd651e",
   "metadata": {
    "collapsed": false
   },
   "source": [
    "Leaf Classification"
   ]
  },
  {
   "cell_type": "code",
   "execution_count": 37,
   "id": "6e916a0db3fc6cbf",
   "metadata": {
    "ExecuteTime": {
     "end_time": "2024-04-12T00:16:19.984882400Z",
     "start_time": "2024-04-12T00:16:19.587623900Z"
    },
    "collapsed": false
   },
   "outputs": [],
   "source": [
    "data_dir_path = '../data/external'\n",
    "data = pd.read_csv(data_dir_path + \"/train.csv\")"
   ]
  },
  {
   "cell_type": "markdown",
   "id": "48fe1759bbce5255",
   "metadata": {
    "collapsed": false
   },
   "source": [
    "## Pre-traitement des données\n",
    "### Separer les classes de features\n",
    "`y_train` = classes or label\n",
    "`x_train` = features"
   ]
  },
  {
   "cell_type": "code",
   "execution_count": 38,
   "id": "1bd9a156f35c2fee",
   "metadata": {
    "ExecuteTime": {
     "end_time": "2024-04-12T00:16:20.116895700Z",
     "start_time": "2024-04-12T00:16:19.879249Z"
    },
    "collapsed": false
   },
   "outputs": [
    {
     "data": {
      "text/html": [
       "<div>\n",
       "<style scoped>\n",
       "    .dataframe tbody tr th:only-of-type {\n",
       "        vertical-align: middle;\n",
       "    }\n",
       "\n",
       "    .dataframe tbody tr th {\n",
       "        vertical-align: top;\n",
       "    }\n",
       "\n",
       "    .dataframe thead th {\n",
       "        text-align: right;\n",
       "    }\n",
       "</style>\n",
       "<table border=\"1\" class=\"dataframe\">\n",
       "  <thead>\n",
       "    <tr style=\"text-align: right;\">\n",
       "      <th></th>\n",
       "      <th>id</th>\n",
       "      <th>species</th>\n",
       "      <th>margin1</th>\n",
       "      <th>margin2</th>\n",
       "      <th>margin3</th>\n",
       "      <th>margin4</th>\n",
       "      <th>margin5</th>\n",
       "      <th>margin6</th>\n",
       "      <th>margin7</th>\n",
       "      <th>margin8</th>\n",
       "      <th>...</th>\n",
       "      <th>texture55</th>\n",
       "      <th>texture56</th>\n",
       "      <th>texture57</th>\n",
       "      <th>texture58</th>\n",
       "      <th>texture59</th>\n",
       "      <th>texture60</th>\n",
       "      <th>texture61</th>\n",
       "      <th>texture62</th>\n",
       "      <th>texture63</th>\n",
       "      <th>texture64</th>\n",
       "    </tr>\n",
       "  </thead>\n",
       "  <tbody>\n",
       "    <tr>\n",
       "      <th>0</th>\n",
       "      <td>1</td>\n",
       "      <td>Acer_Opalus</td>\n",
       "      <td>0.007812</td>\n",
       "      <td>0.023438</td>\n",
       "      <td>0.023438</td>\n",
       "      <td>0.003906</td>\n",
       "      <td>0.011719</td>\n",
       "      <td>0.009766</td>\n",
       "      <td>0.027344</td>\n",
       "      <td>0.0</td>\n",
       "      <td>...</td>\n",
       "      <td>0.007812</td>\n",
       "      <td>0.000000</td>\n",
       "      <td>0.002930</td>\n",
       "      <td>0.002930</td>\n",
       "      <td>0.035156</td>\n",
       "      <td>0.00000</td>\n",
       "      <td>0.000000</td>\n",
       "      <td>0.004883</td>\n",
       "      <td>0.000000</td>\n",
       "      <td>0.025391</td>\n",
       "    </tr>\n",
       "    <tr>\n",
       "      <th>1</th>\n",
       "      <td>2</td>\n",
       "      <td>Pterocarya_Stenoptera</td>\n",
       "      <td>0.005859</td>\n",
       "      <td>0.000000</td>\n",
       "      <td>0.031250</td>\n",
       "      <td>0.015625</td>\n",
       "      <td>0.025391</td>\n",
       "      <td>0.001953</td>\n",
       "      <td>0.019531</td>\n",
       "      <td>0.0</td>\n",
       "      <td>...</td>\n",
       "      <td>0.000977</td>\n",
       "      <td>0.000000</td>\n",
       "      <td>0.000000</td>\n",
       "      <td>0.000977</td>\n",
       "      <td>0.023438</td>\n",
       "      <td>0.00000</td>\n",
       "      <td>0.000000</td>\n",
       "      <td>0.000977</td>\n",
       "      <td>0.039062</td>\n",
       "      <td>0.022461</td>\n",
       "    </tr>\n",
       "    <tr>\n",
       "      <th>2</th>\n",
       "      <td>3</td>\n",
       "      <td>Quercus_Hartwissiana</td>\n",
       "      <td>0.005859</td>\n",
       "      <td>0.009766</td>\n",
       "      <td>0.019531</td>\n",
       "      <td>0.007812</td>\n",
       "      <td>0.003906</td>\n",
       "      <td>0.005859</td>\n",
       "      <td>0.068359</td>\n",
       "      <td>0.0</td>\n",
       "      <td>...</td>\n",
       "      <td>0.154300</td>\n",
       "      <td>0.000000</td>\n",
       "      <td>0.005859</td>\n",
       "      <td>0.000977</td>\n",
       "      <td>0.007812</td>\n",
       "      <td>0.00000</td>\n",
       "      <td>0.000000</td>\n",
       "      <td>0.000000</td>\n",
       "      <td>0.020508</td>\n",
       "      <td>0.002930</td>\n",
       "    </tr>\n",
       "    <tr>\n",
       "      <th>3</th>\n",
       "      <td>5</td>\n",
       "      <td>Tilia_Tomentosa</td>\n",
       "      <td>0.000000</td>\n",
       "      <td>0.003906</td>\n",
       "      <td>0.023438</td>\n",
       "      <td>0.005859</td>\n",
       "      <td>0.021484</td>\n",
       "      <td>0.019531</td>\n",
       "      <td>0.023438</td>\n",
       "      <td>0.0</td>\n",
       "      <td>...</td>\n",
       "      <td>0.000000</td>\n",
       "      <td>0.000977</td>\n",
       "      <td>0.000000</td>\n",
       "      <td>0.000000</td>\n",
       "      <td>0.020508</td>\n",
       "      <td>0.00000</td>\n",
       "      <td>0.000000</td>\n",
       "      <td>0.017578</td>\n",
       "      <td>0.000000</td>\n",
       "      <td>0.047852</td>\n",
       "    </tr>\n",
       "    <tr>\n",
       "      <th>4</th>\n",
       "      <td>6</td>\n",
       "      <td>Quercus_Variabilis</td>\n",
       "      <td>0.005859</td>\n",
       "      <td>0.003906</td>\n",
       "      <td>0.048828</td>\n",
       "      <td>0.009766</td>\n",
       "      <td>0.013672</td>\n",
       "      <td>0.015625</td>\n",
       "      <td>0.005859</td>\n",
       "      <td>0.0</td>\n",
       "      <td>...</td>\n",
       "      <td>0.096680</td>\n",
       "      <td>0.000000</td>\n",
       "      <td>0.021484</td>\n",
       "      <td>0.000000</td>\n",
       "      <td>0.000000</td>\n",
       "      <td>0.00000</td>\n",
       "      <td>0.000000</td>\n",
       "      <td>0.000000</td>\n",
       "      <td>0.000000</td>\n",
       "      <td>0.031250</td>\n",
       "    </tr>\n",
       "    <tr>\n",
       "      <th>5</th>\n",
       "      <td>8</td>\n",
       "      <td>Magnolia_Salicifolia</td>\n",
       "      <td>0.070312</td>\n",
       "      <td>0.093750</td>\n",
       "      <td>0.033203</td>\n",
       "      <td>0.001953</td>\n",
       "      <td>0.000000</td>\n",
       "      <td>0.152340</td>\n",
       "      <td>0.007812</td>\n",
       "      <td>0.0</td>\n",
       "      <td>...</td>\n",
       "      <td>0.145510</td>\n",
       "      <td>0.000000</td>\n",
       "      <td>0.041992</td>\n",
       "      <td>0.000000</td>\n",
       "      <td>0.005859</td>\n",
       "      <td>0.00000</td>\n",
       "      <td>0.000000</td>\n",
       "      <td>0.000000</td>\n",
       "      <td>0.001953</td>\n",
       "      <td>0.013672</td>\n",
       "    </tr>\n",
       "    <tr>\n",
       "      <th>6</th>\n",
       "      <td>10</td>\n",
       "      <td>Quercus_Canariensis</td>\n",
       "      <td>0.021484</td>\n",
       "      <td>0.031250</td>\n",
       "      <td>0.017578</td>\n",
       "      <td>0.009766</td>\n",
       "      <td>0.001953</td>\n",
       "      <td>0.042969</td>\n",
       "      <td>0.039062</td>\n",
       "      <td>0.0</td>\n",
       "      <td>...</td>\n",
       "      <td>0.085938</td>\n",
       "      <td>0.000000</td>\n",
       "      <td>0.040039</td>\n",
       "      <td>0.000000</td>\n",
       "      <td>0.009766</td>\n",
       "      <td>0.00000</td>\n",
       "      <td>0.000000</td>\n",
       "      <td>0.000000</td>\n",
       "      <td>0.039062</td>\n",
       "      <td>0.003906</td>\n",
       "    </tr>\n",
       "    <tr>\n",
       "      <th>7</th>\n",
       "      <td>11</td>\n",
       "      <td>Quercus_Rubra</td>\n",
       "      <td>0.000000</td>\n",
       "      <td>0.000000</td>\n",
       "      <td>0.037109</td>\n",
       "      <td>0.050781</td>\n",
       "      <td>0.003906</td>\n",
       "      <td>0.000000</td>\n",
       "      <td>0.003906</td>\n",
       "      <td>0.0</td>\n",
       "      <td>...</td>\n",
       "      <td>0.038086</td>\n",
       "      <td>0.025391</td>\n",
       "      <td>0.009766</td>\n",
       "      <td>0.002930</td>\n",
       "      <td>0.021484</td>\n",
       "      <td>0.00000</td>\n",
       "      <td>0.037109</td>\n",
       "      <td>0.006836</td>\n",
       "      <td>0.002930</td>\n",
       "      <td>0.036133</td>\n",
       "    </tr>\n",
       "    <tr>\n",
       "      <th>8</th>\n",
       "      <td>14</td>\n",
       "      <td>Quercus_Brantii</td>\n",
       "      <td>0.005859</td>\n",
       "      <td>0.001953</td>\n",
       "      <td>0.033203</td>\n",
       "      <td>0.015625</td>\n",
       "      <td>0.001953</td>\n",
       "      <td>0.000000</td>\n",
       "      <td>0.023438</td>\n",
       "      <td>0.0</td>\n",
       "      <td>...</td>\n",
       "      <td>0.000000</td>\n",
       "      <td>0.000000</td>\n",
       "      <td>0.008789</td>\n",
       "      <td>0.000000</td>\n",
       "      <td>0.017578</td>\n",
       "      <td>0.00000</td>\n",
       "      <td>0.000000</td>\n",
       "      <td>0.000977</td>\n",
       "      <td>0.033203</td>\n",
       "      <td>0.074219</td>\n",
       "    </tr>\n",
       "    <tr>\n",
       "      <th>9</th>\n",
       "      <td>15</td>\n",
       "      <td>Salix_Fragilis</td>\n",
       "      <td>0.000000</td>\n",
       "      <td>0.000000</td>\n",
       "      <td>0.009766</td>\n",
       "      <td>0.037109</td>\n",
       "      <td>0.072266</td>\n",
       "      <td>0.000000</td>\n",
       "      <td>0.000000</td>\n",
       "      <td>0.0</td>\n",
       "      <td>...</td>\n",
       "      <td>0.000000</td>\n",
       "      <td>0.000000</td>\n",
       "      <td>0.000000</td>\n",
       "      <td>0.070312</td>\n",
       "      <td>0.013672</td>\n",
       "      <td>0.19238</td>\n",
       "      <td>0.000000</td>\n",
       "      <td>0.074219</td>\n",
       "      <td>0.000000</td>\n",
       "      <td>0.000000</td>\n",
       "    </tr>\n",
       "  </tbody>\n",
       "</table>\n",
       "<p>10 rows × 194 columns</p>\n",
       "</div>"
      ],
      "text/plain": [
       "   id                species   margin1   margin2   margin3   margin4  \\\n",
       "0   1            Acer_Opalus  0.007812  0.023438  0.023438  0.003906   \n",
       "1   2  Pterocarya_Stenoptera  0.005859  0.000000  0.031250  0.015625   \n",
       "2   3   Quercus_Hartwissiana  0.005859  0.009766  0.019531  0.007812   \n",
       "3   5        Tilia_Tomentosa  0.000000  0.003906  0.023438  0.005859   \n",
       "4   6     Quercus_Variabilis  0.005859  0.003906  0.048828  0.009766   \n",
       "5   8   Magnolia_Salicifolia  0.070312  0.093750  0.033203  0.001953   \n",
       "6  10    Quercus_Canariensis  0.021484  0.031250  0.017578  0.009766   \n",
       "7  11          Quercus_Rubra  0.000000  0.000000  0.037109  0.050781   \n",
       "8  14        Quercus_Brantii  0.005859  0.001953  0.033203  0.015625   \n",
       "9  15         Salix_Fragilis  0.000000  0.000000  0.009766  0.037109   \n",
       "\n",
       "    margin5   margin6   margin7  margin8  ...  texture55  texture56  \\\n",
       "0  0.011719  0.009766  0.027344      0.0  ...   0.007812   0.000000   \n",
       "1  0.025391  0.001953  0.019531      0.0  ...   0.000977   0.000000   \n",
       "2  0.003906  0.005859  0.068359      0.0  ...   0.154300   0.000000   \n",
       "3  0.021484  0.019531  0.023438      0.0  ...   0.000000   0.000977   \n",
       "4  0.013672  0.015625  0.005859      0.0  ...   0.096680   0.000000   \n",
       "5  0.000000  0.152340  0.007812      0.0  ...   0.145510   0.000000   \n",
       "6  0.001953  0.042969  0.039062      0.0  ...   0.085938   0.000000   \n",
       "7  0.003906  0.000000  0.003906      0.0  ...   0.038086   0.025391   \n",
       "8  0.001953  0.000000  0.023438      0.0  ...   0.000000   0.000000   \n",
       "9  0.072266  0.000000  0.000000      0.0  ...   0.000000   0.000000   \n",
       "\n",
       "   texture57  texture58  texture59  texture60  texture61  texture62  \\\n",
       "0   0.002930   0.002930   0.035156    0.00000   0.000000   0.004883   \n",
       "1   0.000000   0.000977   0.023438    0.00000   0.000000   0.000977   \n",
       "2   0.005859   0.000977   0.007812    0.00000   0.000000   0.000000   \n",
       "3   0.000000   0.000000   0.020508    0.00000   0.000000   0.017578   \n",
       "4   0.021484   0.000000   0.000000    0.00000   0.000000   0.000000   \n",
       "5   0.041992   0.000000   0.005859    0.00000   0.000000   0.000000   \n",
       "6   0.040039   0.000000   0.009766    0.00000   0.000000   0.000000   \n",
       "7   0.009766   0.002930   0.021484    0.00000   0.037109   0.006836   \n",
       "8   0.008789   0.000000   0.017578    0.00000   0.000000   0.000977   \n",
       "9   0.000000   0.070312   0.013672    0.19238   0.000000   0.074219   \n",
       "\n",
       "   texture63  texture64  \n",
       "0   0.000000   0.025391  \n",
       "1   0.039062   0.022461  \n",
       "2   0.020508   0.002930  \n",
       "3   0.000000   0.047852  \n",
       "4   0.000000   0.031250  \n",
       "5   0.001953   0.013672  \n",
       "6   0.039062   0.003906  \n",
       "7   0.002930   0.036133  \n",
       "8   0.033203   0.074219  \n",
       "9   0.000000   0.000000  \n",
       "\n",
       "[10 rows x 194 columns]"
      ]
     },
     "execution_count": 38,
     "metadata": {},
     "output_type": "execute_result"
    }
   ],
   "source": [
    "data.head(10)"
   ]
  },
  {
   "cell_type": "code",
   "execution_count": 39,
   "id": "d4931d9e94624856",
   "metadata": {
    "ExecuteTime": {
     "end_time": "2024-04-12T00:16:20.308538Z",
     "start_time": "2024-04-12T00:16:20.062906500Z"
    },
    "collapsed": false
   },
   "outputs": [],
   "source": [
    "from src.data.preprocessing_data import LeafDataPreprocessing\n",
    "processed_data = LeafDataPreprocessing(data=data, normalized=True)\n"
   ]
  },
  {
   "cell_type": "code",
   "execution_count": 40,
   "id": "27bea0271e18794",
   "metadata": {
    "ExecuteTime": {
     "end_time": "2024-04-12T00:16:20.823401500Z",
     "start_time": "2024-04-12T00:16:20.280198300Z"
    },
    "collapsed": false
   },
   "outputs": [
    {
     "data": {
      "text/html": [
       "<div>\n",
       "<style scoped>\n",
       "    .dataframe tbody tr th:only-of-type {\n",
       "        vertical-align: middle;\n",
       "    }\n",
       "\n",
       "    .dataframe tbody tr th {\n",
       "        vertical-align: top;\n",
       "    }\n",
       "\n",
       "    .dataframe thead th {\n",
       "        text-align: right;\n",
       "    }\n",
       "</style>\n",
       "<table border=\"1\" class=\"dataframe\">\n",
       "  <thead>\n",
       "    <tr style=\"text-align: right;\">\n",
       "      <th></th>\n",
       "      <th>id</th>\n",
       "      <th>margin1</th>\n",
       "      <th>margin2</th>\n",
       "      <th>margin3</th>\n",
       "      <th>margin4</th>\n",
       "      <th>margin5</th>\n",
       "      <th>margin6</th>\n",
       "      <th>margin7</th>\n",
       "      <th>margin8</th>\n",
       "      <th>margin9</th>\n",
       "      <th>...</th>\n",
       "      <th>texture55</th>\n",
       "      <th>texture56</th>\n",
       "      <th>texture57</th>\n",
       "      <th>texture58</th>\n",
       "      <th>texture59</th>\n",
       "      <th>texture60</th>\n",
       "      <th>texture61</th>\n",
       "      <th>texture62</th>\n",
       "      <th>texture63</th>\n",
       "      <th>texture64</th>\n",
       "    </tr>\n",
       "  </thead>\n",
       "  <tbody>\n",
       "    <tr>\n",
       "      <th>count</th>\n",
       "      <td>990.000000</td>\n",
       "      <td>990.000000</td>\n",
       "      <td>990.000000</td>\n",
       "      <td>990.000000</td>\n",
       "      <td>990.000000</td>\n",
       "      <td>990.000000</td>\n",
       "      <td>990.000000</td>\n",
       "      <td>990.000000</td>\n",
       "      <td>990.000000</td>\n",
       "      <td>990.000000</td>\n",
       "      <td>...</td>\n",
       "      <td>990.000000</td>\n",
       "      <td>990.000000</td>\n",
       "      <td>990.000000</td>\n",
       "      <td>990.000000</td>\n",
       "      <td>990.000000</td>\n",
       "      <td>990.000000</td>\n",
       "      <td>990.000000</td>\n",
       "      <td>990.000000</td>\n",
       "      <td>990.000000</td>\n",
       "      <td>990.000000</td>\n",
       "    </tr>\n",
       "    <tr>\n",
       "      <th>mean</th>\n",
       "      <td>799.595960</td>\n",
       "      <td>0.017412</td>\n",
       "      <td>0.028539</td>\n",
       "      <td>0.031988</td>\n",
       "      <td>0.023280</td>\n",
       "      <td>0.014264</td>\n",
       "      <td>0.038579</td>\n",
       "      <td>0.019202</td>\n",
       "      <td>0.001083</td>\n",
       "      <td>0.007167</td>\n",
       "      <td>...</td>\n",
       "      <td>0.036501</td>\n",
       "      <td>0.005024</td>\n",
       "      <td>0.015944</td>\n",
       "      <td>0.011586</td>\n",
       "      <td>0.016108</td>\n",
       "      <td>0.014017</td>\n",
       "      <td>0.002688</td>\n",
       "      <td>0.020291</td>\n",
       "      <td>0.008989</td>\n",
       "      <td>0.019420</td>\n",
       "    </tr>\n",
       "    <tr>\n",
       "      <th>std</th>\n",
       "      <td>452.477568</td>\n",
       "      <td>0.019739</td>\n",
       "      <td>0.038855</td>\n",
       "      <td>0.025847</td>\n",
       "      <td>0.028411</td>\n",
       "      <td>0.018390</td>\n",
       "      <td>0.052030</td>\n",
       "      <td>0.017511</td>\n",
       "      <td>0.002743</td>\n",
       "      <td>0.008933</td>\n",
       "      <td>...</td>\n",
       "      <td>0.063403</td>\n",
       "      <td>0.019321</td>\n",
       "      <td>0.023214</td>\n",
       "      <td>0.025040</td>\n",
       "      <td>0.015335</td>\n",
       "      <td>0.060151</td>\n",
       "      <td>0.011415</td>\n",
       "      <td>0.039040</td>\n",
       "      <td>0.013791</td>\n",
       "      <td>0.022768</td>\n",
       "    </tr>\n",
       "    <tr>\n",
       "      <th>min</th>\n",
       "      <td>1.000000</td>\n",
       "      <td>0.000000</td>\n",
       "      <td>0.000000</td>\n",
       "      <td>0.000000</td>\n",
       "      <td>0.000000</td>\n",
       "      <td>0.000000</td>\n",
       "      <td>0.000000</td>\n",
       "      <td>0.000000</td>\n",
       "      <td>0.000000</td>\n",
       "      <td>0.000000</td>\n",
       "      <td>...</td>\n",
       "      <td>0.000000</td>\n",
       "      <td>0.000000</td>\n",
       "      <td>0.000000</td>\n",
       "      <td>0.000000</td>\n",
       "      <td>0.000000</td>\n",
       "      <td>0.000000</td>\n",
       "      <td>0.000000</td>\n",
       "      <td>0.000000</td>\n",
       "      <td>0.000000</td>\n",
       "      <td>0.000000</td>\n",
       "    </tr>\n",
       "    <tr>\n",
       "      <th>25%</th>\n",
       "      <td>415.250000</td>\n",
       "      <td>0.001953</td>\n",
       "      <td>0.001953</td>\n",
       "      <td>0.013672</td>\n",
       "      <td>0.005859</td>\n",
       "      <td>0.001953</td>\n",
       "      <td>0.000000</td>\n",
       "      <td>0.005859</td>\n",
       "      <td>0.000000</td>\n",
       "      <td>0.001953</td>\n",
       "      <td>...</td>\n",
       "      <td>0.000000</td>\n",
       "      <td>0.000000</td>\n",
       "      <td>0.000977</td>\n",
       "      <td>0.000000</td>\n",
       "      <td>0.004883</td>\n",
       "      <td>0.000000</td>\n",
       "      <td>0.000000</td>\n",
       "      <td>0.000000</td>\n",
       "      <td>0.000000</td>\n",
       "      <td>0.000977</td>\n",
       "    </tr>\n",
       "    <tr>\n",
       "      <th>50%</th>\n",
       "      <td>802.500000</td>\n",
       "      <td>0.009766</td>\n",
       "      <td>0.011719</td>\n",
       "      <td>0.025391</td>\n",
       "      <td>0.013672</td>\n",
       "      <td>0.007812</td>\n",
       "      <td>0.015625</td>\n",
       "      <td>0.015625</td>\n",
       "      <td>0.000000</td>\n",
       "      <td>0.005859</td>\n",
       "      <td>...</td>\n",
       "      <td>0.004883</td>\n",
       "      <td>0.000000</td>\n",
       "      <td>0.005859</td>\n",
       "      <td>0.000977</td>\n",
       "      <td>0.012695</td>\n",
       "      <td>0.000000</td>\n",
       "      <td>0.000000</td>\n",
       "      <td>0.003906</td>\n",
       "      <td>0.002930</td>\n",
       "      <td>0.011719</td>\n",
       "    </tr>\n",
       "    <tr>\n",
       "      <th>75%</th>\n",
       "      <td>1195.500000</td>\n",
       "      <td>0.025391</td>\n",
       "      <td>0.041016</td>\n",
       "      <td>0.044922</td>\n",
       "      <td>0.029297</td>\n",
       "      <td>0.017578</td>\n",
       "      <td>0.056153</td>\n",
       "      <td>0.029297</td>\n",
       "      <td>0.000000</td>\n",
       "      <td>0.007812</td>\n",
       "      <td>...</td>\n",
       "      <td>0.043701</td>\n",
       "      <td>0.000000</td>\n",
       "      <td>0.022217</td>\n",
       "      <td>0.009766</td>\n",
       "      <td>0.021484</td>\n",
       "      <td>0.000000</td>\n",
       "      <td>0.000000</td>\n",
       "      <td>0.023438</td>\n",
       "      <td>0.012695</td>\n",
       "      <td>0.029297</td>\n",
       "    </tr>\n",
       "    <tr>\n",
       "      <th>max</th>\n",
       "      <td>1584.000000</td>\n",
       "      <td>0.087891</td>\n",
       "      <td>0.205080</td>\n",
       "      <td>0.156250</td>\n",
       "      <td>0.169920</td>\n",
       "      <td>0.111330</td>\n",
       "      <td>0.310550</td>\n",
       "      <td>0.091797</td>\n",
       "      <td>0.031250</td>\n",
       "      <td>0.076172</td>\n",
       "      <td>...</td>\n",
       "      <td>0.429690</td>\n",
       "      <td>0.202150</td>\n",
       "      <td>0.172850</td>\n",
       "      <td>0.200200</td>\n",
       "      <td>0.106450</td>\n",
       "      <td>0.578130</td>\n",
       "      <td>0.151370</td>\n",
       "      <td>0.375980</td>\n",
       "      <td>0.086914</td>\n",
       "      <td>0.141600</td>\n",
       "    </tr>\n",
       "  </tbody>\n",
       "</table>\n",
       "<p>8 rows × 193 columns</p>\n",
       "</div>"
      ],
      "text/plain": [
       "                id     margin1     margin2     margin3     margin4  \\\n",
       "count   990.000000  990.000000  990.000000  990.000000  990.000000   \n",
       "mean    799.595960    0.017412    0.028539    0.031988    0.023280   \n",
       "std     452.477568    0.019739    0.038855    0.025847    0.028411   \n",
       "min       1.000000    0.000000    0.000000    0.000000    0.000000   \n",
       "25%     415.250000    0.001953    0.001953    0.013672    0.005859   \n",
       "50%     802.500000    0.009766    0.011719    0.025391    0.013672   \n",
       "75%    1195.500000    0.025391    0.041016    0.044922    0.029297   \n",
       "max    1584.000000    0.087891    0.205080    0.156250    0.169920   \n",
       "\n",
       "          margin5     margin6     margin7     margin8     margin9  ...  \\\n",
       "count  990.000000  990.000000  990.000000  990.000000  990.000000  ...   \n",
       "mean     0.014264    0.038579    0.019202    0.001083    0.007167  ...   \n",
       "std      0.018390    0.052030    0.017511    0.002743    0.008933  ...   \n",
       "min      0.000000    0.000000    0.000000    0.000000    0.000000  ...   \n",
       "25%      0.001953    0.000000    0.005859    0.000000    0.001953  ...   \n",
       "50%      0.007812    0.015625    0.015625    0.000000    0.005859  ...   \n",
       "75%      0.017578    0.056153    0.029297    0.000000    0.007812  ...   \n",
       "max      0.111330    0.310550    0.091797    0.031250    0.076172  ...   \n",
       "\n",
       "        texture55   texture56   texture57   texture58   texture59   texture60  \\\n",
       "count  990.000000  990.000000  990.000000  990.000000  990.000000  990.000000   \n",
       "mean     0.036501    0.005024    0.015944    0.011586    0.016108    0.014017   \n",
       "std      0.063403    0.019321    0.023214    0.025040    0.015335    0.060151   \n",
       "min      0.000000    0.000000    0.000000    0.000000    0.000000    0.000000   \n",
       "25%      0.000000    0.000000    0.000977    0.000000    0.004883    0.000000   \n",
       "50%      0.004883    0.000000    0.005859    0.000977    0.012695    0.000000   \n",
       "75%      0.043701    0.000000    0.022217    0.009766    0.021484    0.000000   \n",
       "max      0.429690    0.202150    0.172850    0.200200    0.106450    0.578130   \n",
       "\n",
       "        texture61   texture62   texture63   texture64  \n",
       "count  990.000000  990.000000  990.000000  990.000000  \n",
       "mean     0.002688    0.020291    0.008989    0.019420  \n",
       "std      0.011415    0.039040    0.013791    0.022768  \n",
       "min      0.000000    0.000000    0.000000    0.000000  \n",
       "25%      0.000000    0.000000    0.000000    0.000977  \n",
       "50%      0.000000    0.003906    0.002930    0.011719  \n",
       "75%      0.000000    0.023438    0.012695    0.029297  \n",
       "max      0.151370    0.375980    0.086914    0.141600  \n",
       "\n",
       "[8 rows x 193 columns]"
      ]
     },
     "execution_count": 40,
     "metadata": {},
     "output_type": "execute_result"
    }
   ],
   "source": [
    "processed_data.describe()"
   ]
  },
  {
   "cell_type": "code",
   "execution_count": 41,
   "id": "98c4425f01e72d81",
   "metadata": {
    "ExecuteTime": {
     "end_time": "2024-04-12T00:16:20.874054700Z",
     "start_time": "2024-04-12T00:16:20.575021Z"
    },
    "collapsed": false
   },
   "outputs": [
    {
     "name": "stdout",
     "output_type": "stream",
     "text": [
      "Nombre  de classe :  (99,)\n"
     ]
    }
   ],
   "source": [
    "classes = processed_data.get_classes()\n",
    "\n",
    "print(\"Nombre  de classe : \", classes.shape)"
   ]
  },
  {
   "cell_type": "markdown",
   "id": "e0de925cb135c094",
   "metadata": {
    "collapsed": false
   },
   "source": [
    "#### Encoder les labels en numérique"
   ]
  },
  {
   "cell_type": "code",
   "execution_count": 42,
   "id": "fb1563ff72ff60bf",
   "metadata": {
    "ExecuteTime": {
     "end_time": "2024-04-12T00:16:21.040936700Z",
     "start_time": "2024-04-12T00:16:20.824400900Z"
    },
    "collapsed": false
   },
   "outputs": [
    {
     "data": {
      "text/plain": [
       "0       3\n",
       "1      49\n",
       "2      65\n",
       "3      94\n",
       "4      84\n",
       "       ..\n",
       "985    40\n",
       "986     5\n",
       "987    11\n",
       "988    78\n",
       "989    50\n",
       "Name: species, Length: 990, dtype: int32"
      ]
     },
     "execution_count": 42,
     "metadata": {},
     "output_type": "execute_result"
    }
   ],
   "source": [
    "t_train = processed_data.y_train\n",
    "t_train"
   ]
  },
  {
   "cell_type": "markdown",
   "id": "1b3f467d46c7e537",
   "metadata": {
    "collapsed": false
   },
   "source": [
    "### Mise à l'échelle\n",
    "La mise à l'échelle des données, ou normalisation, est une étape cruciale en prétraitement des données. le but :\n",
    "\n",
    "\n",
    "1. **Uniformité**: Elle assure que toutes les caractéristiques numériques contribuent également à l'analyse sans être biaisées par leur échelle d'origine.\n",
    "\n",
    "2. **Meilleure convergence**: Beaucoup d'algorithmes de machine learning, comme les réseaux de neurones et les méthodes de descente de gradient, convergent plus rapidement lorsque les données sont mises à l'échelle.\n",
    "\n",
    "3. **Amélioration des performances**: Certains algorithmes, en particulier ceux qui utilisent des mesures de distance comme k-means ou k-NN, ont de meilleures performances si toutes les caractéristiques sont sur une échelle comparable.\n",
    "\n",
    "4. **Stabilité numérique**: La mise à l'échelle peut aussi aider à éviter des problèmes numériques qui peuvent survenir lorsque les caractéristiques ont des ordres de grandeur très différents.\n",
    "\n",
    "En somme, la mise à l'échelle des données aide à rendre le processus d'apprentissage automatique plus efficace et plus stable."
   ]
  },
  {
   "cell_type": "code",
   "execution_count": 43,
   "id": "baf9791dc76b8ba2",
   "metadata": {
    "ExecuteTime": {
     "end_time": "2024-04-12T00:16:21.153418200Z",
     "start_time": "2024-04-12T00:16:20.988512400Z"
    },
    "collapsed": false
   },
   "outputs": [],
   "source": [
    "d_train = processed_data.x_train"
   ]
  },
  {
   "cell_type": "code",
   "execution_count": 44,
   "id": "9d8b31eceafac4b2",
   "metadata": {
    "ExecuteTime": {
     "end_time": "2024-04-12T00:16:21.481450600Z",
     "start_time": "2024-04-12T00:16:21.121973800Z"
    },
    "collapsed": false
   },
   "outputs": [
    {
     "name": "stdout",
     "output_type": "stream",
     "text": [
      "Nombre de features  : (990, 192)\n",
      "Nombre de classe : (990,)\n"
     ]
    }
   ],
   "source": [
    "print(\"Nombre de features  :\", d_train.shape)\n",
    "print(\"Nombre de classe :\", t_train.shape)\n"
   ]
  },
  {
   "cell_type": "markdown",
   "id": "cf69b3870c3c41d2",
   "metadata": {
    "collapsed": false
   },
   "source": [
    "### split data "
   ]
  },
  {
   "cell_type": "code",
   "execution_count": 45,
   "id": "3424ccb393579a40",
   "metadata": {
    "ExecuteTime": {
     "end_time": "2024-04-12T00:16:21.607194700Z",
     "start_time": "2024-04-12T00:16:21.484452700Z"
    },
    "collapsed": false
   },
   "outputs": [
    {
     "name": "stdout",
     "output_type": "stream",
     "text": [
      "x_train shape : (792, 192)\n",
      "y_train shape : (792,)\n",
      "x_test shape : (198, 192)\n",
      "y_test shape : (198,)\n"
     ]
    }
   ],
   "source": [
    "x_train,x_test, y_train, y_test = processed_data.split_train_and_test(d_train, t_train, ratio=0.2)\n",
    "print(\"x_train shape :\", x_train.shape)\n",
    "print(\"y_train shape :\", y_train.shape)\n",
    "print(\"x_test shape :\", x_test.shape)\n",
    "print(\"y_test shape :\", y_test.shape)"
   ]
  },
  {
   "cell_type": "markdown",
   "id": "2bc80c96251728f2",
   "metadata": {
    "collapsed": false
   },
   "source": []
  },
  {
   "cell_type": "code",
   "execution_count": 19,
   "id": "54ab4326b94e236a",
   "metadata": {
    "ExecuteTime": {
     "end_time": "2024-04-11T23:36:56.334121600Z",
     "start_time": "2024-04-11T23:36:56.197265200Z"
    },
    "collapsed": false
   },
   "outputs": [],
   "source": [
    "### "
   ]
  },
  {
   "cell_type": "code",
   "execution_count": 11,
   "id": "867fa5d85b717cf6",
   "metadata": {
    "ExecuteTime": {
     "end_time": "2024-04-11T22:30:27.463440700Z",
     "start_time": "2024-04-11T22:30:26.976907400Z"
    },
    "collapsed": false
   },
   "outputs": [],
   "source": []
  },
  {
   "cell_type": "markdown",
   "id": "9e7d0ee9e7ed059a",
   "metadata": {
    "collapsed": false
   },
   "source": [
    "## Entrainment avec une méthode gaussienne"
   ]
  },
  {
   "cell_type": "code",
   "execution_count": 12,
   "id": "675d1e9ce34f07cd",
   "metadata": {
    "ExecuteTime": {
     "end_time": "2024-04-11T22:30:27.480183100Z",
     "start_time": "2024-04-11T22:30:26.982041200Z"
    },
    "collapsed": false
   },
   "outputs": [
    {
     "name": "stdout",
     "output_type": "stream",
     "text": [
      "Accuracy: 0.6111111111111112\n",
      "Precision: 0.8100448933782268\n",
      "Recall: 0.6111111111111112\n",
      "F1-score: 0.5720888539070358\n"
     ]
    }
   ],
   "source": [
    "from sklearn.metrics import accuracy_score, precision_score, recall_score, f1_score\n",
    "from sklearn.naive_bayes import GaussianNB\n",
    "\n",
    "# Créer un modèle Naive Bayes gaussien\n",
    "gnb = GaussianNB()\n",
    "\n",
    "# Entraîner le modèle sur les données d'entraînement\n",
    "gnb.fit(x_train, y_train)\n",
    "\n",
    "# Faire des prédictions sur les données de test\n",
    "y_pred = gnb.predict(x_test)\n",
    "\n",
    "# Calculer l'accuracy\n",
    "accuracy = accuracy_score(y_test, y_pred)\n",
    "\n",
    "# Calculer la precision\n",
    "precision = precision_score(y_test, y_pred, average='macro', zero_division=1)\n",
    "\n",
    "# Calculer le recall\n",
    "recall = recall_score(y_test, y_pred, average='macro',zero_division=1)\n",
    "\n",
    "# Calculer le F1-score\n",
    "f1 = f1_score(y_test, y_pred, average='macro', zero_division=1)\n",
    "\n",
    "print(\"Accuracy:\", accuracy)\n",
    "print(\"Precision:\", precision)\n",
    "print(\"Recall:\", recall)\n",
    "print(\"F1-score:\", f1)\n"
   ]
  },
  {
   "cell_type": "markdown",
   "id": "d54dba5de604b11d",
   "metadata": {
    "collapsed": false
   },
   "source": [
    "Il semble que la methode Gaussienne ne donne pas de bons résultats, nous allons essayer de require les nombre de données aberrantes dans le datasets mais nous passons d'abord autest de normalités "
   ]
  },
  {
   "cell_type": "code",
   "execution_count": 12,
   "id": "262af88919c6d264",
   "metadata": {
    "ExecuteTime": {
     "end_time": "2024-04-11T22:30:27.482191700Z",
     "start_time": "2024-04-11T22:30:27.018930900Z"
    },
    "collapsed": false
   },
   "outputs": [],
   "source": []
  },
  {
   "cell_type": "markdown",
   "id": "c28d1844130d5bb2",
   "metadata": {
    "collapsed": false
   },
   "source": [
    "### Teste d'hypothèse gaussienne des données"
   ]
  },
  {
   "cell_type": "code",
   "execution_count": 13,
   "id": "da95599b1da2832f",
   "metadata": {
    "ExecuteTime": {
     "end_time": "2024-04-11T22:30:28.398383700Z",
     "start_time": "2024-04-11T22:30:27.023965Z"
    },
    "collapsed": false
   },
   "outputs": [],
   "source": [
    "from src.data.normality_check import NormalityDistributionCheck\n",
    "# 'data' est un DataFrame avec la forme (990, 192)\n",
    "xdata = processed_data.get_processed_data().to_numpy() \n",
    "normality_check = NormalityDistributionCheck(data=xdata)"
   ]
  },
  {
   "cell_type": "code",
   "execution_count": 14,
   "id": "42f71cd63f4f4d0",
   "metadata": {
    "ExecuteTime": {
     "end_time": "2024-04-11T22:30:28.404384600Z",
     "start_time": "2024-04-11T22:30:27.791978800Z"
    },
    "collapsed": false
   },
   "outputs": [
    {
     "name": "stdout",
     "output_type": "stream",
     "text": [
      "Valeur de la statistique de test (Shapiro-Wilk) : 0.04047077539927135\n",
      "Valeur-p (p-value) : 3.310562594061702e-201\n",
      "L'hypothèse de normalité est rejetée.\n"
     ]
    },
    {
     "name": "stderr",
     "output_type": "stream",
     "text": [
      "C:\\Users\\lordyhas\\PycharmProjects\\ift712-final-project\\src\\data\\normality_check.py:39: UserWarning: scipy.stats.shapiro: For N > 5000, computed p-value may not be accurate. Current N is 192060.\n",
      "  shapiro_results = stats.shapiro(self.data.flatten())\n"
     ]
    }
   ],
   "source": [
    "# Test de Shapiro-Wilk pour la normalité\n",
    "# Ce test est adapté pour les petits échantillons (< 5000)\n",
    "normality_check.shapiro_wilk_test()\n"
   ]
  },
  {
   "cell_type": "markdown",
   "id": "85d2d069f64e9e3",
   "metadata": {
    "collapsed": false
   },
   "source": []
  },
  {
   "cell_type": "code",
   "execution_count": 15,
   "id": "99a612116c97509d",
   "metadata": {
    "ExecuteTime": {
     "end_time": "2024-04-11T22:30:28.501864500Z",
     "start_time": "2024-04-11T22:30:27.816374200Z"
    },
    "collapsed": false
   },
   "outputs": [
    {
     "name": "stdout",
     "output_type": "stream",
     "text": [
      "Statistique de test (Kolmogorov-Smirnov) : 0.5\n",
      "Valeur-p (p-value) : 0.0\n",
      "L'hypothèse de normalité est rejetée.\n"
     ]
    }
   ],
   "source": [
    "# Test de Kolmogorov-Smirnov (comparaison avec une distribution normale)\n",
    "normality_check.kolmogorov_smirnov_test()"
   ]
  },
  {
   "cell_type": "markdown",
   "id": "4d079f0f8f7c2ec6",
   "metadata": {
    "collapsed": false
   },
   "source": []
  },
  {
   "cell_type": "code",
   "execution_count": 16,
   "id": "5c2f2b6c1323ad0c",
   "metadata": {
    "ExecuteTime": {
     "end_time": "2024-04-11T22:30:28.503860200Z",
     "start_time": "2024-04-11T22:30:27.856026400Z"
    },
    "collapsed": false
   },
   "outputs": [
    {
     "name": "stdout",
     "output_type": "stream",
     "text": [
      "Statistique de test (Anderson-Darling) : 72341.24445513345\n",
      "A un niveau de signification de 15.0%, les données ne semblent pas normales (statistique >= 0.576).\n",
      "A un niveau de signification de 10.0%, les données ne semblent pas normales (statistique >= 0.656).\n",
      "A un niveau de signification de 5.0%, les données ne semblent pas normales (statistique >= 0.787).\n",
      "A un niveau de signification de 2.5%, les données ne semblent pas normales (statistique >= 0.918).\n",
      "A un niveau de signification de 1.0%, les données ne semblent pas normales (statistique >= 1.092).\n"
     ]
    }
   ],
   "source": [
    "# Test d'Anderson-Darling (comparaison avec une distribution normale)\n",
    "normality_check.anderson_darling_test()"
   ]
  },
  {
   "cell_type": "markdown",
   "id": "b419b9d9d7594b86",
   "metadata": {
    "collapsed": false
   },
   "source": []
  },
  {
   "cell_type": "markdown",
   "id": "cb93a6a7b82f4ce5",
   "metadata": {
    "collapsed": false
   },
   "source": [
    "Les trois tests de normalité effectuée jusque lá, montre que les données ne semble pas suivre une distribution gaussienne.\n"
   ]
  },
  {
   "cell_type": "markdown",
   "id": "54957a1f37ed6e57",
   "metadata": {
    "collapsed": false
   },
   "source": [
    "### Elimination de donneés aberrantes"
   ]
  },
  {
   "cell_type": "code",
   "execution_count": 16,
   "id": "4eeede07dc68eaac",
   "metadata": {
    "ExecuteTime": {
     "end_time": "2024-04-11T22:30:28.506859800Z",
     "start_time": "2024-04-11T22:30:27.928512500Z"
    },
    "collapsed": false
   },
   "outputs": [],
   "source": []
  },
  {
   "cell_type": "code",
   "execution_count": 16,
   "id": "a8361004bf3b3d06",
   "metadata": {
    "ExecuteTime": {
     "end_time": "2024-04-11T22:30:28.518887600Z",
     "start_time": "2024-04-11T22:30:27.931532500Z"
    },
    "collapsed": false
   },
   "outputs": [],
   "source": []
  },
  {
   "cell_type": "markdown",
   "id": "d3112978b300a2d6",
   "metadata": {
    "collapsed": false
   },
   "source": [
    "### RE-entrainment avec methode gaussienne sur un ensemble avec moins des données aberrantes"
   ]
  },
  {
   "cell_type": "code",
   "execution_count": 17,
   "id": "d567612cac18f87e",
   "metadata": {
    "ExecuteTime": {
     "end_time": "2024-04-11T22:32:56.768049200Z",
     "start_time": "2024-04-11T22:32:56.725973500Z"
    },
    "collapsed": false
   },
   "outputs": [
    {
     "name": "stdout",
     "output_type": "stream",
     "text": [
      "Accuracy: 0.6111111111111112\n",
      "Precision: 0.8100448933782268\n",
      "Recall: 0.6111111111111112\n",
      "F1-score: 0.5720888539070358\n"
     ]
    }
   ],
   "source": [
    "# Créer un modèle Naive Bayes gaussien\n",
    "#gnb = GaussianNB(var_smoothing=0.25)\n",
    "gnb = GaussianNB()\n",
    "\n",
    "# Entraîner le modèle sur les données d'entraînement\n",
    "gnb.fit(x_train, y_train)\n",
    "\n",
    "# Faire des prédictions sur les données de test\n",
    "y_pred = gnb.predict(x_test)\n",
    "\n",
    "# Calculer l'accuracy\n",
    "accuracy = accuracy_score(y_test, y_pred)\n",
    "\n",
    "# Calculer la precision\n",
    "precision = precision_score(y_test, y_pred, average='macro', zero_division=1)\n",
    "\n",
    "# Calculer le recall\n",
    "recall = recall_score(y_test, y_pred, average='macro',zero_division=1)\n",
    "\n",
    "# Calculer le F1-score\n",
    "f1 = f1_score(y_test, y_pred, average='macro', zero_division=1)\n",
    "\n",
    "print(\"Accuracy:\", accuracy)\n",
    "print(\"Precision:\", precision)\n",
    "print(\"Recall:\", recall)\n",
    "print(\"F1-score:\", f1)\n"
   ]
  },
  {
   "cell_type": "code",
   "execution_count": 18,
   "id": "1668e00c52ed6d8",
   "metadata": {
    "ExecuteTime": {
     "end_time": "2024-04-11T22:33:02.113141900Z",
     "start_time": "2024-04-11T22:33:01.214001Z"
    },
    "collapsed": false
   },
   "outputs": [
    {
     "name": "stdout",
     "output_type": "stream",
     "text": [
      "Meilleur var_smoothing trouvé: 0.01\n",
      "Meilleur score d'accuracy trouvé: 0.9772727272727272\n"
     ]
    }
   ],
   "source": [
    "from sklearn.model_selection import GridSearchCV\n",
    "from sklearn.naive_bayes import GaussianNB\n",
    "\n",
    "# Définir la grille de valeurs pour var_smoothing à rechercher\n",
    "params = {'var_smoothing': [1e-9, 1e-7, 1e-6, 1e-5, 1e-3, 1e-2]}\n",
    "\n",
    "# Initialiser le classifieur GaussianNB\n",
    "gnb = GaussianNB()\n",
    "\n",
    "# Initialiser GridSearchCV avec le classifieur et la grille de paramètres\n",
    "grid_search = GridSearchCV(gnb, params, cv=4, scoring='accuracy')\n",
    "\n",
    "# Effectuer la recherche des meilleurs paramètres en utilisant les données d'entraînement\n",
    "grid_search.fit(x_train, y_train)\n",
    "\n",
    "# Afficher les meilleurs paramètres et le meilleur score trouvé\n",
    "print(\"Meilleur var_smoothing trouvé:\", grid_search.best_params_['var_smoothing'])\n",
    "print(\"Meilleur score d'accuracy trouvé:\", grid_search.best_score_)"
   ]
  },
  {
   "cell_type": "markdown",
   "id": "94f263bee9c8bdf",
   "metadata": {
    "collapsed": false
   },
   "source": [
    "# Entrainement sur des méthodes sans hypothèses\n"
   ]
  },
  {
   "cell_type": "markdown",
   "id": "8a2aab55f9768641",
   "metadata": {
    "collapsed": false
   },
   "source": [
    "## Experimentation sur Random Forest"
   ]
  },
  {
   "cell_type": "markdown",
   "id": "b2f6cee703c03aae",
   "metadata": {
    "collapsed": false
   },
   "source": [
    "### Entrainment du Random Forest normale \n",
    "avec ses parametres par défaut,"
   ]
  },
  {
   "cell_type": "code",
   "execution_count": 19,
   "id": "25d0d42ddb3e083f",
   "metadata": {
    "ExecuteTime": {
     "end_time": "2024-04-11T22:33:15.575970900Z",
     "start_time": "2024-04-11T22:33:12.622523200Z"
    },
    "collapsed": false
   },
   "outputs": [
    {
     "name": "stdout",
     "output_type": "stream",
     "text": [
      "=== Random Forest Scores ==== \n",
      "Train Score: \n",
      "Accuracy : 1.0\n",
      "Train Loss : True\n",
      "\n",
      "Test Score :\n",
      "Accuracy : 0.9848484848484849\n",
      "Precision : 0.9882154882154882\n",
      "Recall : 0.9848484848484849\n",
      "F1-score : 0.9841750841750843\n"
     ]
    }
   ],
   "source": [
    "from sklearn.model_selection import cross_val_score\n",
    "\n",
    "rfc_model1 = RandomForestClassifier(n_estimators=100, oob_score=True,) #warm_start=True,\n",
    "rfc_model1.fit(x_train, y_train)\n",
    "\n",
    "oob_error = rfc_model1.oob_score\n",
    "\n",
    "#-cross_val_score(rfc_model1, x_train, y_train, cv=5, scoring='neg_log_loss').mean() \n",
    "\n",
    "\n",
    "train_score = rfc_model1.score(x_train, y_train)\n",
    "#test_score = best_rfc_model.score(x_test,)\n",
    "print(\"=== Random Forest Scores ==== \")\n",
    "print(\"Train Score: \\nAccuracy :\", train_score)\n",
    "print(\"Train Loss :\", oob_error)\n",
    "\n",
    "\n",
    "y_pred = rfc_model1.predict(x_test)\n",
    "\n",
    "#loss = -CrossValidate.cv_score(rfc_model1, x_test, y_test, scoring='neg_log_loss').mean() \n",
    "accuracy = accuracy_score(y_test, y_pred)\n",
    "precision = precision_score(y_test, y_pred, average='macro',  zero_division=1)\n",
    "recall = recall_score(y_test, y_pred, average='macro',  zero_division=1)\n",
    "f1 = f1_score(y_test, y_pred, average='macro',  zero_division=1)\n",
    "\n",
    "print(\"\\nTest Score :\",)\n",
    "print(f\"Accuracy : {accuracy}\")\n",
    "print(f\"Precision : {precision}\")\n",
    "print(f\"Recall : {recall}\")\n",
    "print(f\"F1-score : {f1}\")\n"
   ]
  },
  {
   "cell_type": "markdown",
   "id": "14d0e5be6f48fcd7",
   "metadata": {
    "collapsed": false
   },
   "source": [
    "#### Mesure de la performance sur les nombres d'arbres différents"
   ]
  },
  {
   "cell_type": "code",
   "execution_count": 26,
   "id": "4dcaa7a76b3bb282",
   "metadata": {
    "ExecuteTime": {
     "end_time": "2024-04-09T15:53:07.545891200Z",
     "start_time": "2024-04-09T15:53:07.431873700Z"
    },
    "collapsed": false
   },
   "outputs": [
    {
     "data": {
      "text/plain": [
       "(6, [1, 2, 3, 4, 6])"
      ]
     },
     "execution_count": 26,
     "metadata": {},
     "output_type": "execute_result"
    }
   ],
   "source": [
    "from src.features.utils import find_best_split\n",
    "\n",
    "find_best_split(x_train.shape[0], 5)"
   ]
  },
  {
   "cell_type": "code",
   "execution_count": 28,
   "id": "e528c6c59ad1951",
   "metadata": {
    "ExecuteTime": {
     "end_time": "2024-04-09T16:07:56.429654300Z",
     "start_time": "2024-04-09T16:05:21.400909200Z"
    },
    "collapsed": false
   },
   "outputs": [
    {
     "data": {
      "image/png": "[encoded data removed]",
      "text/plain": [
       "<Figure size 640x480 with 1 Axes>"
      ]
     },
     "metadata": {},
     "output_type": "display_data"
    }
   ],
   "source": [
    "from sklearn.model_selection import cross_val_score, StratifiedKFold\n",
    "import numpy as np\n",
    "import matplotlib.pyplot as plt\n",
    "\n",
    "# Effectuer la validation croisée stratifiée avec différentes valeurs pour le nombre d'arbres\n",
    "min_trees = 20\n",
    "max_trees = 300\n",
    "num_trees = list(range(min_trees, max_trees+1, 20))\n",
    "mean_accuracy = []\n",
    "std_accuracy = []\n",
    "\n",
    "# Créer un objet StratifiedKFold\n",
    "n_splits, _ = find_best_split(x_train.shape[0], 5)\n",
    "#skf = StratifiedKFold(n_splits=n_splits, shuffle=True, random_state=42)\n",
    "\n",
    "# Boucle sur chaque nombre d'arbres à tester\n",
    "for n_trees in num_trees:\n",
    "    rf_clf = RandomForestClassifier(n_estimators=n_trees)\n",
    "    \n",
    "    # Utiliser la validation croisée stratifiée\n",
    "    scores = CrossValidate.cv_score(rf_clf, x_train, y_train, scoring='accuracy')\n",
    "    \n",
    "    # Calculer la moyenne et l'écart type des scores d'accuracy\n",
    "    mean_accuracy.append(np.mean(scores))\n",
    "    std_accuracy.append(np.std(scores))\n",
    "\n",
    "# Afficher la courbe de l'accuracy en fonction du nombre d'arbres\n",
    "plt.errorbar(num_trees, mean_accuracy, yerr=std_accuracy, fmt='-o')\n",
    "plt.title('Evolution de l\\'accuracy pour RandomForestClassifier')\n",
    "plt.xlabel('Nombre d\\'arbres')\n",
    "plt.ylabel('Accuracy')\n",
    "plt.show()\n"
   ]
  },
  {
   "cell_type": "markdown",
   "id": "b86780301330ffee",
   "metadata": {
    "collapsed": false
   },
   "source": [
    "Plus nous augmentons les nombres d'arbre plus la precision augmente"
   ]
  },
  {
   "cell_type": "markdown",
   "id": "3a32c21134e04a1e",
   "metadata": {
    "collapsed": false
   },
   "source": [
    "### Mesure de l'erreur sur les nombres d'arbres différents\n",
    "\n",
    "Experimentation sur trois arbres différents"
   ]
  },
  {
   "cell_type": "code",
   "execution_count": 20,
   "id": "ac1cf8ad36ff924",
   "metadata": {
    "ExecuteTime": {
     "end_time": "2024-04-11T22:36:50.859213200Z",
     "start_time": "2024-04-11T22:34:35.325552200Z"
    },
    "collapsed": false
   },
   "outputs": [
    {
     "data": {
      "image/png": "[encoded data removed]",
      "text/plain": [
       "<Figure size 640x480 with 1 Axes>"
      ]
     },
     "metadata": {},
     "output_type": "display_data"
    }
   ],
   "source": [
    "from collections import OrderedDict\n",
    "\n",
    "import matplotlib.pyplot as plt\n",
    "\n",
    "from sklearn.datasets import make_classification\n",
    "from sklearn.ensemble import RandomForestClassifier\n",
    "\n",
    "RANDOM_STATE = 42\n",
    "\n",
    "# REMARQUE : définir le paramètre de construction `warm_start` sur `True` désactive la prise en charge des ensembles parallélisés mais est nécessaire pour suivre la trajectoire des erreurs OOB pendant la formation.\n",
    "\n",
    "# Chaque arbre à un nombre de caractéristiques différent [max_features] à considérer lors de la recherche de la meilleure division pour chaque nœud de l’arbre.\n",
    "ensemble_rf_clfs = [\n",
    "    (\n",
    "        \"RandomForestClassifier, max_features='sqrt'\",\n",
    "        RandomForestClassifier(\n",
    "            warm_start=True,\n",
    "            oob_score=True,\n",
    "            max_features=\"sqrt\",\n",
    "            random_state=RANDOM_STATE,\n",
    "        ),\n",
    "    ),\n",
    "    (\n",
    "        \"RandomForestClassifier, max_features='log2'\",\n",
    "        RandomForestClassifier(\n",
    "            warm_start=True,\n",
    "            max_features=\"log2\",\n",
    "            oob_score=True,\n",
    "            random_state=RANDOM_STATE,\n",
    "        ),\n",
    "    ),\n",
    "    (\n",
    "        \"RandomForestClassifier, max_features=None\",\n",
    "        RandomForestClassifier(\n",
    "            warm_start=True,\n",
    "            max_features=None,\n",
    "            oob_score=True,\n",
    "            random_state=RANDOM_STATE,\n",
    "        ),\n",
    "    ),\n",
    "]\n",
    "\n",
    "# Mappez un nom de classificateur à une liste de paires (<n_estimators>, <error rate>).\n",
    "error_rate = OrderedDict((label, []) for label, _ in ensemble_rf_clfs)\n",
    "\n",
    "# Plage de valeurs `n_estimators` à explorer.\n",
    "min_estimators = 20\n",
    "max_estimators = 300\n",
    "\n",
    "\n",
    "for label, clf in ensemble_rf_clfs:\n",
    "    for i in range(min_estimators, max_estimators + 1, 10):\n",
    "        clf.set_params(n_estimators=i)\n",
    "        clf.fit(x_train, y_train)\n",
    "\n",
    "        # Enregistrez l'erreur OOB pour chaque paramètre `n_estimators=i`.\n",
    "        oob_error = 1 - clf.oob_score_\n",
    "        error_rate[label].append((i, oob_error))\n",
    "\n",
    "# Générez le tracé « Taux d'erreur OOB » par rapport aux « n_estimators ».\n",
    "for label, clf_err in error_rate.items():\n",
    "    xs, ys = zip(*clf_err)\n",
    "    plt.plot(xs, ys, label=label)\n",
    "    \n",
    "plt.title('Evolution de l\\'erreur OOB pour RandomForestClassifier')\n",
    "plt.xlim(min_estimators, max_estimators)\n",
    "plt.xlabel(\"Nombre d\\'arbres\")\n",
    "plt.ylabel(\"OOB error rate\")\n",
    "plt.legend(loc=\"upper right\")\n",
    "plt.show()"
   ]
  },
  {
   "cell_type": "code",
   "execution_count": null,
   "id": "df62af3cc10b02bf",
   "metadata": {
    "collapsed": false
   },
   "outputs": [],
   "source": []
  },
  {
   "cell_type": "markdown",
   "id": "61bc30fef2748acf",
   "metadata": {
    "collapsed": false
   },
   "source": []
  },
  {
   "cell_type": "code",
   "execution_count": null,
   "id": "3fa6d9e6bf0a2678",
   "metadata": {
    "collapsed": false
   },
   "outputs": [],
   "source": [
    "from sklearn.metrics import roc_curve, auc, f1_score\n",
    "\n",
    "# Entraîner le modèle RandomForestClassifier\n",
    "clf = RandomForestClassifier(n_estimators=100)\n",
    "clf.fit(x_train, y_train)\n",
    "\n",
    "# Faire des prédictions sur les données de test\n",
    "y_pred_proba = clf.predict_proba(y_train)\n",
    "\n",
    "# Calculer le ROC curve et l'Area Under the Curve (AUC)\n",
    "fpr, tpr, thresholds = roc_curve(y_test, y_pred_proba[:, 1])\n",
    "roc_auc = auc(fpr, tpr)\n",
    "\n",
    "# Afficher le ROC curve\n",
    "plt.figure()\n",
    "plt.plot(fpr, tpr, color='darkorange', lw=2, label='ROC curve (area = %0.2f)' % roc_auc)\n",
    "plt.plot([0, 1], [0, 1], color='navy', lw=2, linestyle='--')\n",
    "plt.xlim([0.0, 1.0])\n",
    "plt.ylim([0.0, 1.05])\n",
    "plt.xlabel('False Positive Rate')\n",
    "plt.ylabel('True Positive Rate')\n",
    "plt.title('Receiver Operating Characteristic (ROC)')\n",
    "plt.legend(loc=\"lower right\")\n",
    "plt.show()\n",
    "\n",
    "# F1 score\n",
    "y_pred = clf.predict(x_test)\n",
    "f1 = f1_score(y_test, y_pred)\n",
    "print(\"F1 Score:\", f1)\n"
   ]
  },
  {
   "cell_type": "markdown",
   "id": "a2837978164c23fe",
   "metadata": {
    "collapsed": false
   },
   "source": [
    "### Random Forest : La recherche de meilleurs d'hyperparamètres"
   ]
  },
  {
   "cell_type": "code",
   "execution_count": 31,
   "id": "8716e65f3639d0b6",
   "metadata": {
    "ExecuteTime": {
     "end_time": "2024-04-09T17:13:15.822568600Z",
     "start_time": "2024-04-09T17:08:07.319403600Z"
    },
    "collapsed": false
   },
   "outputs": [
    {
     "name": "stdout",
     "output_type": "stream",
     "text": [
      "Ramdom Forest Meilleurs hyperparamètres : {'criterion': 'gini', 'max_depth': None, 'min_samples_split': 2, 'n_estimators': 100}\n"
     ]
    },
    {
     "data": {
      "text/html": [
       "<style>#sk-container-id-2 {\n",
       "  /* Definition of color scheme common for light and dark mode */\n",
       "  --sklearn-color-text: black;\n",
       "  --sklearn-color-line: gray;\n",
       "  /* Definition of color scheme for unfitted estimators */\n",
       "  --sklearn-color-unfitted-level-0: #fff5e6;\n",
       "  --sklearn-color-unfitted-level-1: #f6e4d2;\n",
       "  --sklearn-color-unfitted-level-2: #ffe0b3;\n",
       "  --sklearn-color-unfitted-level-3: chocolate;\n",
       "  /* Definition of color scheme for fitted estimators */\n",
       "  --sklearn-color-fitted-level-0: #f0f8ff;\n",
       "  --sklearn-color-fitted-level-1: #d4ebff;\n",
       "  --sklearn-color-fitted-level-2: #b3dbfd;\n",
       "  --sklearn-color-fitted-level-3: cornflowerblue;\n",
       "\n",
       "  /* Specific color for light theme */\n",
       "  --sklearn-color-text-on-default-background: var(--sg-text-color, var(--theme-code-foreground, var(--jp-content-font-color1, black)));\n",
       "  --sklearn-color-background: var(--sg-background-color, var(--theme-background, var(--jp-layout-color0, white)));\n",
       "  --sklearn-color-border-box: var(--sg-text-color, var(--theme-code-foreground, var(--jp-content-font-color1, black)));\n",
       "  --sklearn-color-icon: #696969;\n",
       "\n",
       "  @media (prefers-color-scheme: dark) {\n",
       "    /* Redefinition of color scheme for dark theme */\n",
       "    --sklearn-color-text-on-default-background: var(--sg-text-color, var(--theme-code-foreground, var(--jp-content-font-color1, white)));\n",
       "    --sklearn-color-background: var(--sg-background-color, var(--theme-background, var(--jp-layout-color0, #111)));\n",
       "    --sklearn-color-border-box: var(--sg-text-color, var(--theme-code-foreground, var(--jp-content-font-color1, white)));\n",
       "    --sklearn-color-icon: #878787;\n",
       "  }\n",
       "}\n",
       "\n",
       "#sk-container-id-2 {\n",
       "  color: var(--sklearn-color-text);\n",
       "}\n",
       "\n",
       "#sk-container-id-2 pre {\n",
       "  padding: 0;\n",
       "}\n",
       "\n",
       "#sk-container-id-2 input.sk-hidden--visually {\n",
       "  border: 0;\n",
       "  clip: rect(1px 1px 1px 1px);\n",
       "  clip: rect(1px, 1px, 1px, 1px);\n",
       "  height: 1px;\n",
       "  margin: -1px;\n",
       "  overflow: hidden;\n",
       "  padding: 0;\n",
       "  position: absolute;\n",
       "  width: 1px;\n",
       "}\n",
       "\n",
       "#sk-container-id-2 div.sk-dashed-wrapped {\n",
       "  border: 1px dashed var(--sklearn-color-line);\n",
       "  margin: 0 0.4em 0.5em 0.4em;\n",
       "  box-sizing: border-box;\n",
       "  padding-bottom: 0.4em;\n",
       "  background-color: var(--sklearn-color-background);\n",
       "}\n",
       "\n",
       "#sk-container-id-2 div.sk-container {\n",
       "  /* jupyter's `normalize.less` sets `[hidden] { display: none; }`\n",
       "     but bootstrap.min.css set `[hidden] { display: none !important; }`\n",
       "     so we also need the `!important` here to be able to override the\n",
       "     default hidden behavior on the sphinx rendered scikit-learn.org.\n",
       "     See: https://github.com/scikit-learn/scikit-learn/issues/21755 */\n",
       "  display: inline-block !important;\n",
       "  position: relative;\n",
       "}\n",
       "\n",
       "#sk-container-id-2 div.sk-text-repr-fallback {\n",
       "  display: none;\n",
       "}\n",
       "\n",
       "div.sk-parallel-item,\n",
       "div.sk-serial,\n",
       "div.sk-item {\n",
       "  /* draw centered vertical line to link estimators */\n",
       "  background-image: linear-gradient(var(--sklearn-color-text-on-default-background), var(--sklearn-color-text-on-default-background));\n",
       "  background-size: 2px 100%;\n",
       "  background-repeat: no-repeat;\n",
       "  background-position: center center;\n",
       "}\n",
       "\n",
       "/* Parallel-specific style estimator block */\n",
       "\n",
       "#sk-container-id-2 div.sk-parallel-item::after {\n",
       "  content: \"\";\n",
       "  width: 100%;\n",
       "  border-bottom: 2px solid var(--sklearn-color-text-on-default-background);\n",
       "  flex-grow: 1;\n",
       "}\n",
       "\n",
       "#sk-container-id-2 div.sk-parallel {\n",
       "  display: flex;\n",
       "  align-items: stretch;\n",
       "  justify-content: center;\n",
       "  background-color: var(--sklearn-color-background);\n",
       "  position: relative;\n",
       "}\n",
       "\n",
       "#sk-container-id-2 div.sk-parallel-item {\n",
       "  display: flex;\n",
       "  flex-direction: column;\n",
       "}\n",
       "\n",
       "#sk-container-id-2 div.sk-parallel-item:first-child::after {\n",
       "  align-self: flex-end;\n",
       "  width: 50%;\n",
       "}\n",
       "\n",
       "#sk-container-id-2 div.sk-parallel-item:last-child::after {\n",
       "  align-self: flex-start;\n",
       "  width: 50%;\n",
       "}\n",
       "\n",
       "#sk-container-id-2 div.sk-parallel-item:only-child::after {\n",
       "  width: 0;\n",
       "}\n",
       "\n",
       "/* Serial-specific style estimator block */\n",
       "\n",
       "#sk-container-id-2 div.sk-serial {\n",
       "  display: flex;\n",
       "  flex-direction: column;\n",
       "  align-items: center;\n",
       "  background-color: var(--sklearn-color-background);\n",
       "  padding-right: 1em;\n",
       "  padding-left: 1em;\n",
       "}\n",
       "\n",
       "\n",
       "/* Toggleable style: style used for estimator/Pipeline/ColumnTransformer box that is\n",
       "clickable and can be expanded/collapsed.\n",
       "- Pipeline and ColumnTransformer use this feature and define the default style\n",
       "- Estimators will overwrite some part of the style using the `sk-estimator` class\n",
       "*/\n",
       "\n",
       "/* Pipeline and ColumnTransformer style (default) */\n",
       "\n",
       "#sk-container-id-2 div.sk-toggleable {\n",
       "  /* Default theme specific background. It is overwritten whether we have a\n",
       "  specific estimator or a Pipeline/ColumnTransformer */\n",
       "  background-color: var(--sklearn-color-background);\n",
       "}\n",
       "\n",
       "/* Toggleable label */\n",
       "#sk-container-id-2 label.sk-toggleable__label {\n",
       "  cursor: pointer;\n",
       "  display: block;\n",
       "  width: 100%;\n",
       "  margin-bottom: 0;\n",
       "  padding: 0.5em;\n",
       "  box-sizing: border-box;\n",
       "  text-align: center;\n",
       "}\n",
       "\n",
       "#sk-container-id-2 label.sk-toggleable__label-arrow:before {\n",
       "  /* Arrow on the left of the label */\n",
       "  content: \"▸\";\n",
       "  float: left;\n",
       "  margin-right: 0.25em;\n",
       "  color: var(--sklearn-color-icon);\n",
       "}\n",
       "\n",
       "#sk-container-id-2 label.sk-toggleable__label-arrow:hover:before {\n",
       "  color: var(--sklearn-color-text);\n",
       "}\n",
       "\n",
       "/* Toggleable content - dropdown */\n",
       "\n",
       "#sk-container-id-2 div.sk-toggleable__content {\n",
       "  max-height: 0;\n",
       "  max-width: 0;\n",
       "  overflow: hidden;\n",
       "  text-align: left;\n",
       "  /* unfitted */\n",
       "  background-color: var(--sklearn-color-unfitted-level-0);\n",
       "}\n",
       "\n",
       "#sk-container-id-2 div.sk-toggleable__content.fitted {\n",
       "  /* fitted */\n",
       "  background-color: var(--sklearn-color-fitted-level-0);\n",
       "}\n",
       "\n",
       "#sk-container-id-2 div.sk-toggleable__content pre {\n",
       "  margin: 0.2em;\n",
       "  border-radius: 0.25em;\n",
       "  color: var(--sklearn-color-text);\n",
       "  /* unfitted */\n",
       "  background-color: var(--sklearn-color-unfitted-level-0);\n",
       "}\n",
       "\n",
       "#sk-container-id-2 div.sk-toggleable__content.fitted pre {\n",
       "  /* unfitted */\n",
       "  background-color: var(--sklearn-color-fitted-level-0);\n",
       "}\n",
       "\n",
       "#sk-container-id-2 input.sk-toggleable__control:checked~div.sk-toggleable__content {\n",
       "  /* Expand drop-down */\n",
       "  max-height: 200px;\n",
       "  max-width: 100%;\n",
       "  overflow: auto;\n",
       "}\n",
       "\n",
       "#sk-container-id-2 input.sk-toggleable__control:checked~label.sk-toggleable__label-arrow:before {\n",
       "  content: \"▾\";\n",
       "}\n",
       "\n",
       "/* Pipeline/ColumnTransformer-specific style */\n",
       "\n",
       "#sk-container-id-2 div.sk-label input.sk-toggleable__control:checked~label.sk-toggleable__label {\n",
       "  color: var(--sklearn-color-text);\n",
       "  background-color: var(--sklearn-color-unfitted-level-2);\n",
       "}\n",
       "\n",
       "#sk-container-id-2 div.sk-label.fitted input.sk-toggleable__control:checked~label.sk-toggleable__label {\n",
       "  background-color: var(--sklearn-color-fitted-level-2);\n",
       "}\n",
       "\n",
       "/* Estimator-specific style */\n",
       "\n",
       "/* Colorize estimator box */\n",
       "#sk-container-id-2 div.sk-estimator input.sk-toggleable__control:checked~label.sk-toggleable__label {\n",
       "  /* unfitted */\n",
       "  background-color: var(--sklearn-color-unfitted-level-2);\n",
       "}\n",
       "\n",
       "#sk-container-id-2 div.sk-estimator.fitted input.sk-toggleable__control:checked~label.sk-toggleable__label {\n",
       "  /* fitted */\n",
       "  background-color: var(--sklearn-color-fitted-level-2);\n",
       "}\n",
       "\n",
       "#sk-container-id-2 div.sk-label label.sk-toggleable__label,\n",
       "#sk-container-id-2 div.sk-label label {\n",
       "  /* The background is the default theme color */\n",
       "  color: var(--sklearn-color-text-on-default-background);\n",
       "}\n",
       "\n",
       "/* On hover, darken the color of the background */\n",
       "#sk-container-id-2 div.sk-label:hover label.sk-toggleable__label {\n",
       "  color: var(--sklearn-color-text);\n",
       "  background-color: var(--sklearn-color-unfitted-level-2);\n",
       "}\n",
       "\n",
       "/* Label box, darken color on hover, fitted */\n",
       "#sk-container-id-2 div.sk-label.fitted:hover label.sk-toggleable__label.fitted {\n",
       "  color: var(--sklearn-color-text);\n",
       "  background-color: var(--sklearn-color-fitted-level-2);\n",
       "}\n",
       "\n",
       "/* Estimator label */\n",
       "\n",
       "#sk-container-id-2 div.sk-label label {\n",
       "  font-family: monospace;\n",
       "  font-weight: bold;\n",
       "  display: inline-block;\n",
       "  line-height: 1.2em;\n",
       "}\n",
       "\n",
       "#sk-container-id-2 div.sk-label-container {\n",
       "  text-align: center;\n",
       "}\n",
       "\n",
       "/* Estimator-specific */\n",
       "#sk-container-id-2 div.sk-estimator {\n",
       "  font-family: monospace;\n",
       "  border: 1px dotted var(--sklearn-color-border-box);\n",
       "  border-radius: 0.25em;\n",
       "  box-sizing: border-box;\n",
       "  margin-bottom: 0.5em;\n",
       "  /* unfitted */\n",
       "  background-color: var(--sklearn-color-unfitted-level-0);\n",
       "}\n",
       "\n",
       "#sk-container-id-2 div.sk-estimator.fitted {\n",
       "  /* fitted */\n",
       "  background-color: var(--sklearn-color-fitted-level-0);\n",
       "}\n",
       "\n",
       "/* on hover */\n",
       "#sk-container-id-2 div.sk-estimator:hover {\n",
       "  /* unfitted */\n",
       "  background-color: var(--sklearn-color-unfitted-level-2);\n",
       "}\n",
       "\n",
       "#sk-container-id-2 div.sk-estimator.fitted:hover {\n",
       "  /* fitted */\n",
       "  background-color: var(--sklearn-color-fitted-level-2);\n",
       "}\n",
       "\n",
       "/* Specification for estimator info (e.g. \"i\" and \"?\") */\n",
       "\n",
       "/* Common style for \"i\" and \"?\" */\n",
       "\n",
       ".sk-estimator-doc-link,\n",
       "a:link.sk-estimator-doc-link,\n",
       "a:visited.sk-estimator-doc-link {\n",
       "  float: right;\n",
       "  font-size: smaller;\n",
       "  line-height: 1em;\n",
       "  font-family: monospace;\n",
       "  background-color: var(--sklearn-color-background);\n",
       "  border-radius: 1em;\n",
       "  height: 1em;\n",
       "  width: 1em;\n",
       "  text-decoration: none !important;\n",
       "  margin-left: 1ex;\n",
       "  /* unfitted */\n",
       "  border: var(--sklearn-color-unfitted-level-1) 1pt solid;\n",
       "  color: var(--sklearn-color-unfitted-level-1);\n",
       "}\n",
       "\n",
       ".sk-estimator-doc-link.fitted,\n",
       "a:link.sk-estimator-doc-link.fitted,\n",
       "a:visited.sk-estimator-doc-link.fitted {\n",
       "  /* fitted */\n",
       "  border: var(--sklearn-color-fitted-level-1) 1pt solid;\n",
       "  color: var(--sklearn-color-fitted-level-1);\n",
       "}\n",
       "\n",
       "/* On hover */\n",
       "div.sk-estimator:hover .sk-estimator-doc-link:hover,\n",
       ".sk-estimator-doc-link:hover,\n",
       "div.sk-label-container:hover .sk-estimator-doc-link:hover,\n",
       ".sk-estimator-doc-link:hover {\n",
       "  /* unfitted */\n",
       "  background-color: var(--sklearn-color-unfitted-level-3);\n",
       "  color: var(--sklearn-color-background);\n",
       "  text-decoration: none;\n",
       "}\n",
       "\n",
       "div.sk-estimator.fitted:hover .sk-estimator-doc-link.fitted:hover,\n",
       ".sk-estimator-doc-link.fitted:hover,\n",
       "div.sk-label-container:hover .sk-estimator-doc-link.fitted:hover,\n",
       ".sk-estimator-doc-link.fitted:hover {\n",
       "  /* fitted */\n",
       "  background-color: var(--sklearn-color-fitted-level-3);\n",
       "  color: var(--sklearn-color-background);\n",
       "  text-decoration: none;\n",
       "}\n",
       "\n",
       "/* Span, style for the box shown on hovering the info icon */\n",
       ".sk-estimator-doc-link span {\n",
       "  display: none;\n",
       "  z-index: 9999;\n",
       "  position: relative;\n",
       "  font-weight: normal;\n",
       "  right: .2ex;\n",
       "  padding: .5ex;\n",
       "  margin: .5ex;\n",
       "  width: min-content;\n",
       "  min-width: 20ex;\n",
       "  max-width: 50ex;\n",
       "  color: var(--sklearn-color-text);\n",
       "  box-shadow: 2pt 2pt 4pt #999;\n",
       "  /* unfitted */\n",
       "  background: var(--sklearn-color-unfitted-level-0);\n",
       "  border: .5pt solid var(--sklearn-color-unfitted-level-3);\n",
       "}\n",
       "\n",
       ".sk-estimator-doc-link.fitted span {\n",
       "  /* fitted */\n",
       "  background: var(--sklearn-color-fitted-level-0);\n",
       "  border: var(--sklearn-color-fitted-level-3);\n",
       "}\n",
       "\n",
       ".sk-estimator-doc-link:hover span {\n",
       "  display: block;\n",
       "}\n",
       "\n",
       "/* \"?\"-specific style due to the `<a>` HTML tag */\n",
       "\n",
       "#sk-container-id-2 a.estimator_doc_link {\n",
       "  float: right;\n",
       "  font-size: 1rem;\n",
       "  line-height: 1em;\n",
       "  font-family: monospace;\n",
       "  background-color: var(--sklearn-color-background);\n",
       "  border-radius: 1rem;\n",
       "  height: 1rem;\n",
       "  width: 1rem;\n",
       "  text-decoration: none;\n",
       "  /* unfitted */\n",
       "  color: var(--sklearn-color-unfitted-level-1);\n",
       "  border: var(--sklearn-color-unfitted-level-1) 1pt solid;\n",
       "}\n",
       "\n",
       "#sk-container-id-2 a.estimator_doc_link.fitted {\n",
       "  /* fitted */\n",
       "  border: var(--sklearn-color-fitted-level-1) 1pt solid;\n",
       "  color: var(--sklearn-color-fitted-level-1);\n",
       "}\n",
       "\n",
       "/* On hover */\n",
       "#sk-container-id-2 a.estimator_doc_link:hover {\n",
       "  /* unfitted */\n",
       "  background-color: var(--sklearn-color-unfitted-level-3);\n",
       "  color: var(--sklearn-color-background);\n",
       "  text-decoration: none;\n",
       "}\n",
       "\n",
       "#sk-container-id-2 a.estimator_doc_link.fitted:hover {\n",
       "  /* fitted */\n",
       "  background-color: var(--sklearn-color-fitted-level-3);\n",
       "}\n",
       "</style><div id=\"sk-container-id-2\" class=\"sk-top-container\"><div class=\"sk-text-repr-fallback\"><pre>RandomForestClassifier()</pre><b>In a Jupyter environment, please rerun this cell to show the HTML representation or trust the notebook. <br />On GitHub, the HTML representation is unable to render, please try loading this page with nbviewer.org.</b></div><div class=\"sk-container\" hidden><div class=\"sk-item\"><div class=\"sk-estimator fitted sk-toggleable\"><input class=\"sk-toggleable__control sk-hidden--visually\" id=\"sk-estimator-id-2\" type=\"checkbox\" checked><label for=\"sk-estimator-id-2\" class=\"sk-toggleable__label fitted sk-toggleable__label-arrow fitted\">&nbsp;&nbsp;RandomForestClassifier<a class=\"sk-estimator-doc-link fitted\" rel=\"noreferrer\" target=\"_blank\" href=\"https://scikit-learn.org/1.4/modules/generated/sklearn.ensemble.RandomForestClassifier.html\">?<span>Documentation for RandomForestClassifier</span></a><span class=\"sk-estimator-doc-link fitted\">i<span>Fitted</span></span></label><div class=\"sk-toggleable__content fitted\"><pre>RandomForestClassifier()</pre></div> </div></div></div></div>"
      ],
      "text/plain": [
       "RandomForestClassifier()"
      ]
     },
     "execution_count": 31,
     "metadata": {},
     "output_type": "execute_result"
    }
   ],
   "source": [
    "\n",
    "# Définir les hyperparamètres à rechercher\n",
    "rfc_param_grid = {\n",
    "    'n_estimators': [10, 50, 100],\n",
    "    'max_depth': [None, 10, 20],\n",
    "    'min_samples_split': [2, 5, 10],\n",
    "    'criterion':[\"gini\", \"entropy\", \"log_loss\"]\n",
    "}\n",
    "\n",
    "# Créer une instance du modèle Random Forest\n",
    "rfc_model = RandomForestClassifier()\n",
    "\n",
    "# Effectuer une recherche des hyperparamètres avec validation croisée\n",
    "rfc_cross_val = CrossValidate(model=rfc_model, params=rfc_param_grid, k_fold=4, metric='accuracy')\n",
    "rfc_cross_val.train(x_train, y_train)\n",
    "\n",
    "# Afficher les meilleurs hyperparamètres trouvés\n",
    "print(\"Ramdom Forest Meilleurs hyperparamètres :\", rfc_cross_val.best_params)\n",
    "\n",
    "# Entraîner le modèle avec les meilleurs hyperparamètres trouvés\n",
    "best_ = rfc_cross_val.best_params\n",
    "best_rfc_model = rfc_cross_val.best_model\n",
    "best_rfc_model.fit(x_train, y_train)"
   ]
  },
  {
   "cell_type": "code",
   "execution_count": 32,
   "id": "8fff13dff37a6e33",
   "metadata": {
    "ExecuteTime": {
     "end_time": "2024-04-09T17:15:51.527713900Z",
     "start_time": "2024-04-09T17:15:51.246285500Z"
    },
    "collapsed": false
   },
   "outputs": [
    {
     "name": "stdout",
     "output_type": "stream",
     "text": [
      "=== Random Forest Scores ====  1.0\n",
      "Train Score: \n",
      "Accuracy : 1.0\n",
      "\n",
      "Test Score :\n",
      "Accuracy : 0.9797979797979798\n",
      "Precision : 0.9803921568627451\n",
      "Recall : 0.9852941176470589\n",
      "F1-score : 0.9784262796027501\n"
     ]
    }
   ],
   "source": [
    "train_score = best_rfc_model.score(x_train, y_train)\n",
    "#test_score = best_rfc_model.score(x_test,)\n",
    "print(\"=== Random Forest Scores ==== \")\n",
    "print(\"Train Score: \\nAccuracy :\", train_score)\n",
    "\n",
    "\n",
    "y_pred = best_rfc_model.predict(x_test)\n",
    "\n",
    "accuracy = accuracy_score(y_test, y_pred)\n",
    "precision = precision_score(y_test, y_pred, average='macro')\n",
    "recall = recall_score(y_test, y_pred, average='macro')\n",
    "f1 = f1_score(y_test, y_pred, average='macro')\n",
    "\n",
    "print(\"\\nTest Score :\",)\n",
    "print(f\"Accuracy : {accuracy}\")\n",
    "print(f\"Precision : {precision}\")\n",
    "print(f\"Recall : {recall}\")\n",
    "print(f\"F1-score : {f1}\")"
   ]
  },
  {
   "cell_type": "code",
   "execution_count": null,
   "id": "8907c31f244c35fc",
   "metadata": {
    "collapsed": false
   },
   "outputs": [],
   "source": [
    "### Random Forest avec reduction de dimension PCA "
   ]
  },
  {
   "cell_type": "code",
   "execution_count": 55,
   "id": "f2288116ca7e64b3",
   "metadata": {
    "ExecuteTime": {
     "end_time": "2024-04-11T21:26:35.631131800Z",
     "start_time": "2024-04-11T21:26:22.596182300Z"
    },
    "collapsed": false
   },
   "outputs": [
    {
     "name": "stderr",
     "output_type": "stream",
     "text": [
      "C:\\Users\\lordyhas\\PycharmProjects\\ift712-final-project\\.venv\\Lib\\site-packages\\sklearn\\model_selection\\_split.py:737: UserWarning: The least populated class in y has only 4 members, which is less than n_splits=5.\n",
      "  warnings.warn(\n",
      "C:\\Users\\lordyhas\\PycharmProjects\\ift712-final-project\\.venv\\Lib\\site-packages\\sklearn\\metrics\\_classification.py:2981: UserWarning: The y_pred values do not sum to one. Starting from 1.5 thiswill result in an error.\n",
      "  warnings.warn(\n",
      "C:\\Users\\lordyhas\\PycharmProjects\\ift712-final-project\\.venv\\Lib\\site-packages\\sklearn\\model_selection\\_validation.py:1011: UserWarning: Scoring failed. The score on this train-test partition for these parameters will be set to nan. Details: \n",
      "Traceback (most recent call last):\n",
      "  File \"C:\\Users\\lordyhas\\PycharmProjects\\ift712-final-project\\.venv\\Lib\\site-packages\\sklearn\\metrics\\_scorer.py\", line 137, in __call__\n",
      "    score = scorer._score(\n",
      "            ^^^^^^^^^^^^^^\n",
      "  File \"C:\\Users\\lordyhas\\PycharmProjects\\ift712-final-project\\.venv\\Lib\\site-packages\\sklearn\\metrics\\_scorer.py\", line 350, in _score\n",
      "    return self._sign * self._score_func(y_true, y_pred, **scoring_kwargs)\n",
      "                        ^^^^^^^^^^^^^^^^^^^^^^^^^^^^^^^^^^^^^^^^^^^^^^^^^^\n",
      "  File \"C:\\Users\\lordyhas\\PycharmProjects\\ift712-final-project\\.venv\\Lib\\site-packages\\sklearn\\utils\\_param_validation.py\", line 213, in wrapper\n",
      "    return func(*args, **kwargs)\n",
      "           ^^^^^^^^^^^^^^^^^^^^^\n",
      "  File \"C:\\Users\\lordyhas\\PycharmProjects\\ift712-final-project\\.venv\\Lib\\site-packages\\sklearn\\metrics\\_classification.py\", line 2962, in log_loss\n",
      "    raise ValueError(\n",
      "ValueError: y_true and y_pred contain different number of classes 98, 99. Please provide the true labels explicitly through the labels argument. Classes found in y_true: [ 0  1  2  3  4  5  6  7  8  9 10 11 12 13 14 15 16 17 18 19 20 21 22 23\n",
      " 24 25 26 27 28 29 30 31 32 33 34 35 36 37 38 39 40 41 42 43 44 45 46 47\n",
      " 48 49 50 51 53 54 55 56 57 58 59 60 61 62 63 64 65 66 67 68 69 70 71 72\n",
      " 73 74 75 76 77 78 79 80 81 82 83 84 85 86 87 88 89 90 91 92 93 94 95 96\n",
      " 97 98]\n",
      "\n",
      "  warnings.warn(\n",
      "C:\\Users\\lordyhas\\PycharmProjects\\ift712-final-project\\.venv\\Lib\\site-packages\\sklearn\\model_selection\\_validation.py:1011: UserWarning: Scoring failed. The score on this train-test partition for these parameters will be set to nan. Details: \n",
      "Traceback (most recent call last):\n",
      "  File \"C:\\Users\\lordyhas\\PycharmProjects\\ift712-final-project\\.venv\\Lib\\site-packages\\sklearn\\metrics\\_scorer.py\", line 137, in __call__\n",
      "    score = scorer._score(\n",
      "            ^^^^^^^^^^^^^^\n",
      "  File \"C:\\Users\\lordyhas\\PycharmProjects\\ift712-final-project\\.venv\\Lib\\site-packages\\sklearn\\metrics\\_scorer.py\", line 350, in _score\n",
      "    return self._sign * self._score_func(y_true, y_pred, **scoring_kwargs)\n",
      "                        ^^^^^^^^^^^^^^^^^^^^^^^^^^^^^^^^^^^^^^^^^^^^^^^^^^\n",
      "  File \"C:\\Users\\lordyhas\\PycharmProjects\\ift712-final-project\\.venv\\Lib\\site-packages\\sklearn\\utils\\_param_validation.py\", line 213, in wrapper\n",
      "    return func(*args, **kwargs)\n",
      "           ^^^^^^^^^^^^^^^^^^^^^\n",
      "  File \"C:\\Users\\lordyhas\\PycharmProjects\\ift712-final-project\\.venv\\Lib\\site-packages\\sklearn\\metrics\\_classification.py\", line 2962, in log_loss\n",
      "    raise ValueError(\n",
      "ValueError: y_true and y_pred contain different number of classes 98, 99. Please provide the true labels explicitly through the labels argument. Classes found in y_true: [ 0  1  2  3  4  5  6  7  8  9 10 11 12 13 14 15 16 17 18 19 20 21 22 23\n",
      " 24 25 26 27 28 29 30 31 32 33 34 35 36 37 38 39 40 41 42 43 44 45 46 47\n",
      " 48 49 50 51 52 53 54 55 56 57 58 59 60 61 62 63 64 65 67 68 69 70 71 72\n",
      " 73 74 75 76 77 78 79 80 81 82 83 84 85 86 87 88 89 90 91 92 93 94 95 96\n",
      " 97 98]\n",
      "\n",
      "  warnings.warn(\n",
      "C:\\Users\\lordyhas\\PycharmProjects\\ift712-final-project\\.venv\\Lib\\site-packages\\sklearn\\metrics\\_classification.py:2981: UserWarning: The y_pred values do not sum to one. Starting from 1.5 thiswill result in an error.\n",
      "  warnings.warn(\n",
      "C:\\Users\\lordyhas\\PycharmProjects\\ift712-final-project\\.venv\\Lib\\site-packages\\sklearn\\metrics\\_classification.py:2981: UserWarning: The y_pred values do not sum to one. Starting from 1.5 thiswill result in an error.\n",
      "  warnings.warn(\n"
     ]
    },
    {
     "ename": "NameError",
     "evalue": "name 'best_rfc_model' is not defined",
     "output_type": "error",
     "traceback": [
      "\u001B[1;31m---------------------------------------------------------------------------\u001B[0m",
      "\u001B[1;31mNameError\u001B[0m                                 Traceback (most recent call last)",
      "Cell \u001B[1;32mIn[55], line 28\u001B[0m\n\u001B[0;32m     25\u001B[0m train_loss \u001B[38;5;241m=\u001B[39m \u001B[38;5;241m-\u001B[39mcross_val_score(pipeline, x_train, y_train, cv\u001B[38;5;241m=\u001B[39m\u001B[38;5;241m5\u001B[39m, scoring\u001B[38;5;241m=\u001B[39m\u001B[38;5;124m'\u001B[39m\u001B[38;5;124mneg_log_loss\u001B[39m\u001B[38;5;124m'\u001B[39m)\u001B[38;5;241m.\u001B[39mmean() \n\u001B[0;32m     27\u001B[0m \u001B[38;5;66;03m# Prédictions sur les données de test\u001B[39;00m\n\u001B[1;32m---> 28\u001B[0m train_score \u001B[38;5;241m=\u001B[39m \u001B[43mbest_rfc_model\u001B[49m\u001B[38;5;241m.\u001B[39mscore(x_train, y_train)\n\u001B[0;32m     29\u001B[0m \u001B[38;5;66;03m#test_score = best_rfc_model.score(x_test,)\u001B[39;00m\n\u001B[0;32m     30\u001B[0m \u001B[38;5;28mprint\u001B[39m(\u001B[38;5;124m\"\u001B[39m\u001B[38;5;124m=== Random Forest Scores ==== \u001B[39m\u001B[38;5;124m\"\u001B[39m, train_score)\n",
      "\u001B[1;31mNameError\u001B[0m: name 'best_rfc_model' is not defined"
     ]
    }
   ],
   "source": [
    "from sklearn.metrics import accuracy_score, precision_score, recall_score, f1_score\n",
    "from sklearn.decomposition import PCA\n",
    "from sklearn.preprocessing import StandardScaler\n",
    "from sklearn.model_selection import train_test_split\n",
    "from sklearn.ensemble import RandomForestClassifier\n",
    "from sklearn.pipeline import Pipeline\n",
    "\n",
    "# Meilleurs hyperparamètres : {'max_depth': None, 'min_samples_split': 2, 'n_estimators': 100, 'criterion':\"gini\"} utilisé\n",
    "\n",
    "\n",
    "    \n",
    "# Création d'un pipeline avec standardisation, PCA et classification\n",
    "pipeline = Pipeline([\n",
    "    #('scaler', StandardScaler()),\n",
    "    ('pca', PCA(n_components=0.95)),\n",
    "    # avec les meilleurs hyperparametres trouvées\n",
    "    ('classifier', RandomForestClassifier(n_estimators=100, min_samples_split=2, criterion=\"gini\"))\n",
    "])\n",
    "    \n",
    "# Entraînement du modèle\n",
    "pipeline.fit(x_train, y_train)\n",
    "\n",
    "    \n",
    "\n",
    "train_loss = -cross_val_score(pipeline, x_train, y_train, cv=5, scoring='neg_log_loss').mean() \n",
    "\n",
    "# Prédictions sur les données de test\n",
    "train_score = best_rfc_model.score(x_train, y_train)\n",
    "#test_score = best_rfc_model.score(x_test,)\n",
    "print(\"=== Random Forest Scores ==== \", train_score)\n",
    "print(\"Train Score: \\nAccuracy :\", train_score)\n",
    "print(\"Train Loss :\", train_loss)\n",
    "\n",
    "# Prédictions sur les données de test\n",
    "y_pred = pipeline.predict(x_test)\n",
    "\n",
    "# Calculer et imprimer les différentes métriques\n",
    "accuracy = accuracy_score(y_test, y_pred)\n",
    "precision = precision_score(y_test, y_pred, average='macro')\n",
    "recall = recall_score(y_test, y_pred, average='macro')\n",
    "f1 = f1_score(y_test, y_pred, average='macro')\n",
    "\n",
    "loss = -cross_val_score(pipeline, x_test, y_test, cv=5, scoring='neg_log_loss').mean() \n",
    "print(\"\\nTest Score :\",) \n",
    "print(\"Test Loss :\", train_loss)\n",
    "print(f\"Accuracy : {accuracy}\")\n",
    "print(f\"Precision : {precision}\")\n",
    "print(f\"Recall : {recall}\")\n",
    "print(f\"F1-score : {f1}\")\n",
    "\n"
   ]
  },
  {
   "cell_type": "markdown",
   "id": "d449a36f0daf1d38",
   "metadata": {
    "collapsed": false
   },
   "source": []
  },
  {
   "cell_type": "markdown",
   "id": "327988bfe62abe91",
   "metadata": {
    "collapsed": false
   },
   "source": [
    "## Support Vector Machine"
   ]
  },
  {
   "cell_type": "markdown",
   "id": "676fdc692aab51f7",
   "metadata": {
    "collapsed": false
   },
   "source": [
    "Implementation naïve de SVM"
   ]
  },
  {
   "cell_type": "code",
   "execution_count": 55,
   "id": "f663aa7cfaa910bc",
   "metadata": {
    "ExecuteTime": {
     "end_time": "2024-04-12T00:20:45.743318500Z",
     "start_time": "2024-04-12T00:20:45.281531Z"
    },
    "collapsed": false
   },
   "outputs": [
    {
     "name": "stdout",
     "output_type": "stream",
     "text": [
      "\n",
      "Train Score:\n",
      "Accuracy : 0.9974747474747475\n",
      "Precision : 0.9977553310886643\n",
      "Recall : 0.9974747474747475\n",
      "F1-score : 0.997464844523668\n",
      "\n",
      "Test Score :\n",
      "Accuracy : 0.9797979797979798\n",
      "Precision : 0.9865319865319865\n",
      "Recall : 0.9797979797979798\n",
      "F1-score : 0.9784511784511786\n"
     ]
    }
   ],
   "source": [
    "from sklearn.svm import SVC\n",
    "\n",
    "svc_model = SVC()\n",
    "svc_model.fit(x_train, y_train)\n",
    "\n",
    "metrics = Measure(svc_model,x_train,y_train, x_test, y_test)\n",
    "metrics.show_metrics_train()\n",
    "metrics.show_metrics_test()"
   ]
  },
  {
   "cell_type": "markdown",
   "id": "85705bb8658b0151",
   "metadata": {
    "collapsed": false
   },
   "source": [
    "La recherche d'hyperparametre pour le SVM"
   ]
  },
  {
   "cell_type": "code",
   "execution_count": 56,
   "id": "321d3dda7f7506d1",
   "metadata": {
    "ExecuteTime": {
     "end_time": "2024-04-12T00:26:31.964046100Z",
     "start_time": "2024-04-12T00:22:49.353777200Z"
    },
    "collapsed": false
   },
   "outputs": [
    {
     "name": "stdout",
     "output_type": "stream",
     "text": [
      "SGD Meilleurs hyperparamètres : {'C': 0.1, 'degree': 1, 'gamma': 10, 'kernel': 'poly'}\n",
      "\n",
      "Train Score:\n",
      "Accuracy : 1.0\n",
      "Precision : 1.0\n",
      "Recall : 1.0\n",
      "F1-score : 1.0\n",
      "\n",
      "Test Score :\n",
      "Accuracy : 0.98989898989899\n",
      "Precision : 0.9932659932659934\n",
      "Recall : 0.98989898989899\n",
      "F1-score : 0.9892255892255892\n"
     ]
    }
   ],
   "source": [
    "param_grid_svm = {\n",
    "    'kernel': ['linear', 'poly', 'rbf', 'sigmoid'],\n",
    "    'C': [0.1, 1, 10],\n",
    "    'gamma': [0.1, 1, 10],\n",
    "    'degree': np.arange(0, 11)\n",
    "}\n",
    "svc_model = SVC()\n",
    "\n",
    "svm_cross_val = CrossValidate(model=svc_model, params=param_grid_svm, k_fold=4, metric='accuracy')\n",
    "svm_cross_val.train(x_train, y_train)\n",
    "\n",
    "\n",
    "# Entraîner le modèle avec les meilleurs hyperparamètres trouvés\n",
    "best_hp = svm_cross_val.best_params\n",
    "best_lr_model = svm_cross_val.best_model\n",
    "# Afficher les meilleurs hyperparamètres trouvés\n",
    "print(\"SVM Meilleurs hyperparamètres :\", best_hp)\n",
    "metrics = Measure(best_lr_model,x_train,y_train, x_test, y_test)\n",
    "metrics.show_metrics_train()\n",
    "metrics.show_metrics_test()"
   ]
  },
  {
   "cell_type": "markdown",
   "id": "6375dd83ef505c55",
   "metadata": {
    "collapsed": false
   },
   "source": [
    "## Stochastic Gradient Descent"
   ]
  },
  {
   "cell_type": "markdown",
   "id": "cff9da99f369bbe6",
   "metadata": {
    "collapsed": false
   },
   "source": [
    "Implementation naïve de SGD"
   ]
  },
  {
   "cell_type": "code",
   "execution_count": 46,
   "id": "27e8ea86fca68c85",
   "metadata": {
    "ExecuteTime": {
     "end_time": "2024-04-12T00:16:35.096465200Z",
     "start_time": "2024-04-12T00:16:34.807062900Z"
    },
    "collapsed": false
   },
   "outputs": [
    {
     "name": "stdout",
     "output_type": "stream",
     "text": [
      "\n",
      "Train Score:\n",
      "Accuracy : 0.9924242424242424\n",
      "Precision : 0.9938781756963575\n",
      "Recall : 0.9924242424242424\n",
      "F1-score : 0.9922713681227613\n",
      "\n",
      "Test Score :\n",
      "Accuracy : 0.9242424242424242\n",
      "Precision : 0.9282828282828284\n",
      "Recall : 0.9242424242424242\n",
      "F1-score : 0.9128427128427128\n"
     ]
    }
   ],
   "source": [
    "from sklearn.linear_model import SGDClassifier\n",
    "\n",
    "\n",
    "sgdc_model = SGDClassifier()\n",
    "sgdc_model.fit(x_train, y_train)\n",
    "\n",
    "metrics = Measure(sgdc_model,x_train,y_train, x_test, y_test)\n",
    "metrics.show_metrics_train()\n",
    "metrics.show_metrics_test()"
   ]
  },
  {
   "cell_type": "markdown",
   "id": "b0d41c3493ef0617",
   "metadata": {
    "collapsed": false
   },
   "source": [
    "#### La recherche d'hyperparametre pour la SGD"
   ]
  },
  {
   "cell_type": "code",
   "execution_count": 47,
   "id": "9ddf29f71b32b084",
   "metadata": {
    "ExecuteTime": {
     "end_time": "2024-04-12T00:17:39.908071200Z",
     "start_time": "2024-04-12T00:16:51.168483400Z"
    },
    "collapsed": false
   },
   "outputs": [
    {
     "name": "stdout",
     "output_type": "stream",
     "text": [
      "SGD Meilleurs hyperparamètres : {'alpha': 0.0001, 'loss': 'log_loss', 'penalty': 'l2'}\n",
      "\n",
      "Train Score:\n",
      "Accuracy : 1.0\n",
      "Precision : 1.0\n",
      "Recall : 1.0\n",
      "F1-score : 1.0\n",
      "\n",
      "Test Score :\n",
      "Accuracy : 0.9797979797979798\n",
      "Precision : 0.9865319865319866\n",
      "Recall : 0.9797979797979798\n",
      "F1-score : 0.9784511784511786\n"
     ]
    }
   ],
   "source": [
    "param_grid_sgdc = {\n",
    "    'loss': ['hinge', 'perceptron', 'log_loss', 'log'],\n",
    "    'penalty': ['l1', 'l2'],\n",
    "    'alpha': [1e-4, 1.e-3, 1e-2, 1.e-1 , 1],  \n",
    "}\n",
    "sgdc_model = SGDClassifier()\n",
    "sgd_cross_val = CrossValidate(model=sgdc_model, params=param_grid_sgdc, k_fold=4, metric='accuracy')\n",
    "sgd_cross_val.train(x_train, y_train)\n",
    "\n",
    "# Entraîner le modèle avec les meilleurs hyperparamètres trouvés\n",
    "best_hp = sgd_cross_val.best_params\n",
    "best_lr_model = sgd_cross_val.best_model\n",
    "# Afficher les meilleurs hyperparamètres trouvés\n",
    "print(\"SGD Meilleurs hyperparamètres :\", best_hp)\n",
    "metrics = Measure(best_lr_model,x_train,y_train, x_test, y_test)\n",
    "metrics.show_metrics_train()\n",
    "metrics.show_metrics_test()"
   ]
  },
  {
   "cell_type": "markdown",
   "id": "e59b3827449be90c",
   "metadata": {
    "collapsed": false
   },
   "source": [
    " De la même manière qu'avec le modèle précédent, une amélioration nette et plus conséquente des performances est observée après la recherche d'hyperparamètres toujours du point de vue de la métrique de justesse(accuracy) \n",
    " \n",
    "La particularité de ce modèle(SGDC) est qu'il effectue un apprentissage itératif et mets à jour les paramètre au fur et à mesure de l,entrainement. D'où l'intérêt d'observer la convergence progressive de notre modèle."
   ]
  },
  {
   "cell_type": "code",
   "execution_count": 53,
   "id": "334b9c4b766d7eaf",
   "metadata": {
    "ExecuteTime": {
     "end_time": "2024-04-12T00:20:33.847730300Z",
     "start_time": "2024-04-12T00:20:19.690014900Z"
    },
    "collapsed": false
   },
   "outputs": [
    {
     "name": "stdout",
     "output_type": "stream",
     "text": [
      "Itération n° 1 : =============> acc train: 0.5138888888888888 loss train: 6.952878634921156  ¦¦ acc_test:  0.46464646464646464 loss tess:  8.139140490446367\n",
      "Itération n° 2 : =============> acc train: 0.8169191919191919 loss train: 1.2815004233975777  ¦¦ acc_test:  0.7525252525252525 loss tess:  1.9032165122452116\n",
      "Itération n° 3 : =============> acc train: 0.9166666666666666 loss train: 0.8098970453443217  ¦¦ acc_test:  0.8585858585858586 loss tess:  1.0736114697181285\n",
      "Itération n° 4 : =============> acc train: 0.9242424242424242 loss train: 0.6257897344054  ¦¦ acc_test:  0.8434343434343434 loss tess:  0.9263479598554645\n",
      "Itération n° 5 : =============> acc train: 0.9633838383838383 loss train: 0.38216439986620077  ¦¦ acc_test:  0.9292929292929293 loss tess:  0.6014074082476009\n",
      "Itération n° 6 : =============> acc train: 0.9823232323232324 loss train: 0.12218386784211584  ¦¦ acc_test:  0.9494949494949495 loss tess:  0.3204403634618911\n",
      "Itération n° 7 : =============> acc train: 0.9924242424242424 loss train: 0.06477785292027485  ¦¦ acc_test:  0.9696969696969697 loss tess:  0.1952468276709359\n",
      "Itération n° 8 : =============> acc train: 0.9974747474747475 loss train: 0.0713206921030432  ¦¦ acc_test:  0.9646464646464646 loss tess:  0.1965059353564978\n",
      "Itération n° 9 : =============> acc train: 0.9936868686868687 loss train: 0.08183682283939918  ¦¦ acc_test:  0.9696969696969697 loss tess:  0.20333676034632242\n",
      "Itération n° 10 : =============> acc train: 0.9974747474747475 loss train: 0.07770183534809123  ¦¦ acc_test:  0.9747474747474747 loss tess:  0.190434796464631\n",
      "Itération n° 11 : =============> acc train: 1.0 loss train: 0.07941449368286707  ¦¦ acc_test:  0.9848484848484849 loss tess:  0.17431590486762863\n",
      "Itération n° 12 : =============> acc train: 1.0 loss train: 0.08214430301233078  ¦¦ acc_test:  0.9848484848484849 loss tess:  0.17278945737229504\n",
      "Itération n° 13 : =============> acc train: 1.0 loss train: 0.09275528151747733  ¦¦ acc_test:  0.98989898989899 loss tess:  0.18067083928449024\n",
      "Itération n° 14 : =============> acc train: 1.0 loss train: 0.09178897237255468  ¦¦ acc_test:  0.9848484848484849 loss tess:  0.18947847687546177\n",
      "Itération n° 15 : =============> acc train: 1.0 loss train: 0.0933103977190262  ¦¦ acc_test:  0.9848484848484849 loss tess:  0.18751819748174967\n"
     ]
    }
   ],
   "source": [
    "from sklearn.metrics import accuracy_score, log_loss\n",
    "\n",
    "model_sgdc = SGDClassifier(alpha=0.0001, loss='log_loss', penalty='l2')\n",
    "\n",
    "losses_train = []     # Liste pour stocker les valeurs de la perte sur les données d'entraînement\n",
    "accuracies_train = []  # Liste pour stocker les valeurs de l'accuracy sur les données d'entraînement\n",
    "losses_val = []       # Liste pour stocker les valeurs de la perte sur les données de validation\n",
    "accuracies_val = []   # Liste pour stocker les valeurs de l'accuracy sur les données de validation\n",
    "\n",
    "\n",
    "\n",
    "batch_size = 32\n",
    "nbr_epoch = int(len(x_train) / batch_size) + 1\n",
    "train_batches = np.array_split(x_train, nbr_epoch)\n",
    "target_batches = np.array_split(y_train, nbr_epoch)\n",
    "max_iter = 15\n",
    "\n",
    "for i in range(max_iter):\n",
    "    for epoch in range(nbr_epoch):\n",
    "        model_sgdc.partial_fit(train_batches[epoch], target_batches[epoch], classes=np.unique(y_train))\n",
    "        \n",
    "    # Calcul de la perte et de l'accuracy sur les données d'entraînement\n",
    "    y_train_prob = model_sgdc.predict_proba(x_train)\n",
    "    loss_train = log_loss(y_train, y_train_prob)\n",
    "    y_pred_train = model_sgdc.predict(x_train)\n",
    "    accuracy_train = accuracy_score(y_train, y_pred_train)\n",
    "\n",
    "    # Calcul de la perte et de l'accuracy sur les données de validation\n",
    "    y_val_prob = model_sgdc.predict_proba(x_test)\n",
    "    loss_val = log_loss(y_test, y_val_prob)\n",
    "    y_pred_val = model_sgdc.predict(x_test)\n",
    "    accuracy_val = accuracy_score(y_test, y_pred_val)\n",
    "        \n",
    "    # Stockage des valeurs\n",
    "    losses_train.append(loss_train)\n",
    "    accuracies_train.append(accuracy_train)\n",
    "    losses_val.append(loss_val)\n",
    "    accuracies_val.append(accuracy_val)\n",
    "    print('Itération n°',i+1,': =============> acc train:', accuracy_train, 'loss train:', loss_train,' ¦¦ acc_test: ', accuracy_val, 'loss tess: ', loss_val)"
   ]
  },
  {
   "cell_type": "code",
   "execution_count": 54,
   "id": "71630c1299ccd585",
   "metadata": {
    "ExecuteTime": {
     "end_time": "2024-04-12T00:20:34.254706900Z",
     "start_time": "2024-04-12T00:20:33.850262800Z"
    },
    "collapsed": false
   },
   "outputs": [
    {
     "data": {
      "image/png": "[encoded data removed]",
      "text/plain": [
       "<Figure size 1000x600 with 1 Axes>"
      ]
     },
     "metadata": {},
     "output_type": "display_data"
    },
    {
     "data": {
      "image/png": "[encoded data removed]",
      "text/plain": [
       "<Figure size 1000x600 with 1 Axes>"
      ]
     },
     "metadata": {},
     "output_type": "display_data"
    }
   ],
   "source": [
    "steps = range(max_iter)\n",
    "\n",
    "plt.figure(figsize=(10, 6))\n",
    "plt.plot(steps, losses_train, label='Perte sur les données d\\'entraînement')\n",
    "plt.plot(steps, losses_val, label='Perte sur les données de validation')\n",
    "plt.xlabel('Itérations')\n",
    "plt.ylabel('Perte (Loss)')\n",
    "plt.title('Évolution de la perte après chaque itération')\n",
    "plt.legend()\n",
    "plt.grid()\n",
    "plt.show()\n",
    "\n",
    "plt.figure(figsize=(10, 6))\n",
    "plt.plot(steps, accuracies_train, label='Accuracy sur les données d\\'entraînement')\n",
    "plt.plot(steps, accuracies_val, label='Accuracy sur les données de validation')\n",
    "plt.xlabel('Itérations')\n",
    "plt.ylabel('Accuracy')\n",
    "plt.title('Évolution de l\\'accuracy après chaque itération')\n",
    "plt.legend()\n",
    "plt.grid()\n",
    "plt.show()"
   ]
  },
  {
   "cell_type": "markdown",
   "id": "1ce86d4788ab9664",
   "metadata": {
    "collapsed": false
   },
   "source": [
    "## Entrainement Logistic Regression"
   ]
  },
  {
   "cell_type": "markdown",
   "id": "3e62c1444fab4993",
   "metadata": {
    "collapsed": false
   },
   "source": [
    "Implementation naïve de Logistic Regression"
   ]
  },
  {
   "cell_type": "code",
   "execution_count": 20,
   "id": "aae2295a810086ed",
   "metadata": {
    "ExecuteTime": {
     "end_time": "2024-04-11T23:37:19.337009Z",
     "start_time": "2024-04-11T23:37:19.020314700Z"
    },
    "collapsed": false
   },
   "outputs": [
    {
     "name": "stdout",
     "output_type": "stream",
     "text": [
      "Logistic Regression Meilleurs hyperparamètres : 0.9987373737373737\n",
      "\n",
      "Train Score:\n",
      "Accuracy : 0.9987373737373737\n",
      "Precision : 0.9988776655443322\n",
      "Recall : 0.9987373737373737\n",
      "F1-score : 0.998732422261834\n",
      "\n",
      "Test Score :\n",
      "Accuracy : 0.98989898989899\n",
      "Precision : 0.9932659932659934\n",
      "Recall : 0.98989898989899\n",
      "F1-score : 0.9892255892255892\n"
     ]
    }
   ],
   "source": [
    "from src.models.metrics import Measure\n",
    "from sklearn.linear_model import LogisticRegression\n",
    "lr_model = LogisticRegression()\n",
    "lr_model.fit(x_train, y_train)\n",
    "\n",
    "print(\"Logistic Regression Meilleurs hyperparamètres :\", lr_model.score(x_train,y_train))\n",
    "\n",
    "metrics = Measure(lr_model,x_train,y_train, x_test, y_test)\n",
    "metrics.show_metrics_train()\n",
    "metrics.show_metrics_test()"
   ]
  },
  {
   "cell_type": "markdown",
   "id": "501b521b3edaed48",
   "metadata": {
    "collapsed": false
   },
   "source": [
    "#### La recherche d'hyperparametre pour la logistic regression"
   ]
  },
  {
   "cell_type": "code",
   "execution_count": 24,
   "id": "a5d497a0302ab2d9",
   "metadata": {
    "ExecuteTime": {
     "end_time": "2024-04-12T00:05:45.546260300Z",
     "start_time": "2024-04-11T23:47:12.285129700Z"
    },
    "collapsed": false
   },
   "outputs": [
    {
     "name": "stderr",
     "output_type": "stream",
     "text": [
      "C:\\Users\\lordyhas\\PycharmProjects\\ift712-final-project\\.venv\\Lib\\site-packages\\sklearn\\linear_model\\_sag.py:350: ConvergenceWarning: The max_iter was reached which means the coef_ did not converge\n",
      "  warnings.warn(\n",
      "C:\\Users\\lordyhas\\PycharmProjects\\ift712-final-project\\.venv\\Lib\\site-packages\\sklearn\\linear_model\\_sag.py:350: ConvergenceWarning: The max_iter was reached which means the coef_ did not converge\n",
      "  warnings.warn(\n",
      "C:\\Users\\lordyhas\\PycharmProjects\\ift712-final-project\\.venv\\Lib\\site-packages\\sklearn\\linear_model\\_sag.py:350: ConvergenceWarning: The max_iter was reached which means the coef_ did not converge\n",
      "  warnings.warn(\n",
      "C:\\Users\\lordyhas\\PycharmProjects\\ift712-final-project\\.venv\\Lib\\site-packages\\sklearn\\linear_model\\_logistic.py:1186: UserWarning: Setting penalty=None will ignore the C and l1_ratio parameters\n",
      "  warnings.warn(\n",
      "C:\\Users\\lordyhas\\PycharmProjects\\ift712-final-project\\.venv\\Lib\\site-packages\\sklearn\\linear_model\\_logistic.py:1186: UserWarning: Setting penalty=None will ignore the C and l1_ratio parameters\n",
      "  warnings.warn(\n",
      "C:\\Users\\lordyhas\\PycharmProjects\\ift712-final-project\\.venv\\Lib\\site-packages\\sklearn\\linear_model\\_logistic.py:1186: UserWarning: Setting penalty=None will ignore the C and l1_ratio parameters\n",
      "  warnings.warn(\n",
      "C:\\Users\\lordyhas\\PycharmProjects\\ift712-final-project\\.venv\\Lib\\site-packages\\sklearn\\linear_model\\_logistic.py:1186: UserWarning: Setting penalty=None will ignore the C and l1_ratio parameters\n",
      "  warnings.warn(\n",
      "C:\\Users\\lordyhas\\PycharmProjects\\ift712-final-project\\.venv\\Lib\\site-packages\\sklearn\\linear_model\\_logistic.py:1186: UserWarning: Setting penalty=None will ignore the C and l1_ratio parameters\n",
      "  warnings.warn(\n",
      "C:\\Users\\lordyhas\\PycharmProjects\\ift712-final-project\\.venv\\Lib\\site-packages\\sklearn\\linear_model\\_logistic.py:1186: UserWarning: Setting penalty=None will ignore the C and l1_ratio parameters\n",
      "  warnings.warn(\n",
      "C:\\Users\\lordyhas\\PycharmProjects\\ift712-final-project\\.venv\\Lib\\site-packages\\sklearn\\linear_model\\_logistic.py:1186: UserWarning: Setting penalty=None will ignore the C and l1_ratio parameters\n",
      "  warnings.warn(\n",
      "C:\\Users\\lordyhas\\PycharmProjects\\ift712-final-project\\.venv\\Lib\\site-packages\\sklearn\\linear_model\\_logistic.py:1186: UserWarning: Setting penalty=None will ignore the C and l1_ratio parameters\n",
      "  warnings.warn(\n",
      "C:\\Users\\lordyhas\\PycharmProjects\\ift712-final-project\\.venv\\Lib\\site-packages\\sklearn\\linear_model\\_logistic.py:1186: UserWarning: Setting penalty=None will ignore the C and l1_ratio parameters\n",
      "  warnings.warn(\n",
      "C:\\Users\\lordyhas\\PycharmProjects\\ift712-final-project\\.venv\\Lib\\site-packages\\sklearn\\linear_model\\_logistic.py:1186: UserWarning: Setting penalty=None will ignore the C and l1_ratio parameters\n",
      "  warnings.warn(\n",
      "C:\\Users\\lordyhas\\PycharmProjects\\ift712-final-project\\.venv\\Lib\\site-packages\\sklearn\\linear_model\\_logistic.py:1186: UserWarning: Setting penalty=None will ignore the C and l1_ratio parameters\n",
      "  warnings.warn(\n",
      "C:\\Users\\lordyhas\\PycharmProjects\\ift712-final-project\\.venv\\Lib\\site-packages\\sklearn\\linear_model\\_logistic.py:1186: UserWarning: Setting penalty=None will ignore the C and l1_ratio parameters\n",
      "  warnings.warn(\n",
      "C:\\Users\\lordyhas\\PycharmProjects\\ift712-final-project\\.venv\\Lib\\site-packages\\sklearn\\linear_model\\_logistic.py:1186: UserWarning: Setting penalty=None will ignore the C and l1_ratio parameters\n",
      "  warnings.warn(\n",
      "C:\\Users\\lordyhas\\PycharmProjects\\ift712-final-project\\.venv\\Lib\\site-packages\\sklearn\\linear_model\\_sag.py:350: ConvergenceWarning: The max_iter was reached which means the coef_ did not converge\n",
      "  warnings.warn(\n",
      "C:\\Users\\lordyhas\\PycharmProjects\\ift712-final-project\\.venv\\Lib\\site-packages\\sklearn\\linear_model\\_logistic.py:1186: UserWarning: Setting penalty=None will ignore the C and l1_ratio parameters\n",
      "  warnings.warn(\n",
      "C:\\Users\\lordyhas\\PycharmProjects\\ift712-final-project\\.venv\\Lib\\site-packages\\sklearn\\linear_model\\_sag.py:350: ConvergenceWarning: The max_iter was reached which means the coef_ did not converge\n",
      "  warnings.warn(\n",
      "C:\\Users\\lordyhas\\PycharmProjects\\ift712-final-project\\.venv\\Lib\\site-packages\\sklearn\\linear_model\\_logistic.py:1186: UserWarning: Setting penalty=None will ignore the C and l1_ratio parameters\n",
      "  warnings.warn(\n",
      "C:\\Users\\lordyhas\\PycharmProjects\\ift712-final-project\\.venv\\Lib\\site-packages\\sklearn\\linear_model\\_sag.py:350: ConvergenceWarning: The max_iter was reached which means the coef_ did not converge\n",
      "  warnings.warn(\n",
      "C:\\Users\\lordyhas\\PycharmProjects\\ift712-final-project\\.venv\\Lib\\site-packages\\sklearn\\linear_model\\_logistic.py:1186: UserWarning: Setting penalty=None will ignore the C and l1_ratio parameters\n",
      "  warnings.warn(\n",
      "C:\\Users\\lordyhas\\PycharmProjects\\ift712-final-project\\.venv\\Lib\\site-packages\\sklearn\\linear_model\\_sag.py:350: ConvergenceWarning: The max_iter was reached which means the coef_ did not converge\n",
      "  warnings.warn(\n",
      "C:\\Users\\lordyhas\\PycharmProjects\\ift712-final-project\\.venv\\Lib\\site-packages\\sklearn\\linear_model\\_logistic.py:1186: UserWarning: Setting penalty=None will ignore the C and l1_ratio parameters\n",
      "  warnings.warn(\n",
      "C:\\Users\\lordyhas\\PycharmProjects\\ift712-final-project\\.venv\\Lib\\site-packages\\sklearn\\linear_model\\_sag.py:350: ConvergenceWarning: The max_iter was reached which means the coef_ did not converge\n",
      "  warnings.warn(\n",
      "C:\\Users\\lordyhas\\PycharmProjects\\ift712-final-project\\.venv\\Lib\\site-packages\\sklearn\\linear_model\\_logistic.py:1186: UserWarning: Setting penalty=None will ignore the C and l1_ratio parameters\n",
      "  warnings.warn(\n",
      "C:\\Users\\lordyhas\\PycharmProjects\\ift712-final-project\\.venv\\Lib\\site-packages\\sklearn\\linear_model\\_sag.py:350: ConvergenceWarning: The max_iter was reached which means the coef_ did not converge\n",
      "  warnings.warn(\n",
      "C:\\Users\\lordyhas\\PycharmProjects\\ift712-final-project\\.venv\\Lib\\site-packages\\sklearn\\linear_model\\_logistic.py:1186: UserWarning: Setting penalty=None will ignore the C and l1_ratio parameters\n",
      "  warnings.warn(\n",
      "C:\\Users\\lordyhas\\PycharmProjects\\ift712-final-project\\.venv\\Lib\\site-packages\\sklearn\\linear_model\\_sag.py:350: ConvergenceWarning: The max_iter was reached which means the coef_ did not converge\n",
      "  warnings.warn(\n",
      "C:\\Users\\lordyhas\\PycharmProjects\\ift712-final-project\\.venv\\Lib\\site-packages\\sklearn\\linear_model\\_logistic.py:1186: UserWarning: Setting penalty=None will ignore the C and l1_ratio parameters\n",
      "  warnings.warn(\n",
      "C:\\Users\\lordyhas\\PycharmProjects\\ift712-final-project\\.venv\\Lib\\site-packages\\sklearn\\linear_model\\_sag.py:350: ConvergenceWarning: The max_iter was reached which means the coef_ did not converge\n",
      "  warnings.warn(\n",
      "C:\\Users\\lordyhas\\PycharmProjects\\ift712-final-project\\.venv\\Lib\\site-packages\\sklearn\\linear_model\\_sag.py:350: ConvergenceWarning: The max_iter was reached which means the coef_ did not converge\n",
      "  warnings.warn(\n",
      "C:\\Users\\lordyhas\\PycharmProjects\\ift712-final-project\\.venv\\Lib\\site-packages\\sklearn\\linear_model\\_sag.py:350: ConvergenceWarning: The max_iter was reached which means the coef_ did not converge\n",
      "  warnings.warn(\n",
      "C:\\Users\\lordyhas\\PycharmProjects\\ift712-final-project\\.venv\\Lib\\site-packages\\sklearn\\linear_model\\_sag.py:350: ConvergenceWarning: The max_iter was reached which means the coef_ did not converge\n",
      "  warnings.warn(\n",
      "C:\\Users\\lordyhas\\PycharmProjects\\ift712-final-project\\.venv\\Lib\\site-packages\\sklearn\\linear_model\\_sag.py:350: ConvergenceWarning: The max_iter was reached which means the coef_ did not converge\n",
      "  warnings.warn(\n"
     ]
    },
    {
     "ename": "KeyboardInterrupt",
     "evalue": "",
     "output_type": "error",
     "traceback": [
      "\u001B[1;31m---------------------------------------------------------------------------\u001B[0m",
      "\u001B[1;31mKeyboardInterrupt\u001B[0m                         Traceback (most recent call last)",
      "Cell \u001B[1;32mIn[24], line 11\u001B[0m\n\u001B[0;32m      8\u001B[0m lr_model \u001B[38;5;241m=\u001B[39m LogisticRegression(max_iter\u001B[38;5;241m=\u001B[39m\u001B[38;5;241m1000\u001B[39m, random_state\u001B[38;5;241m=\u001B[39m\u001B[38;5;241m42\u001B[39m)\n\u001B[0;32m     10\u001B[0m lr_cross_val \u001B[38;5;241m=\u001B[39m CrossValidate(model\u001B[38;5;241m=\u001B[39mlr_model, params\u001B[38;5;241m=\u001B[39mlr_param_grid, k_fold\u001B[38;5;241m=\u001B[39m\u001B[38;5;241m4\u001B[39m, metric\u001B[38;5;241m=\u001B[39m\u001B[38;5;124m'\u001B[39m\u001B[38;5;124maccuracy\u001B[39m\u001B[38;5;124m'\u001B[39m)\n\u001B[1;32m---> 11\u001B[0m \u001B[43mlr_cross_val\u001B[49m\u001B[38;5;241;43m.\u001B[39;49m\u001B[43mtrain\u001B[49m\u001B[43m(\u001B[49m\u001B[43mx_train\u001B[49m\u001B[43m,\u001B[49m\u001B[43m \u001B[49m\u001B[43my_train\u001B[49m\u001B[43m)\u001B[49m\n\u001B[0;32m     14\u001B[0m \u001B[38;5;66;03m# Entraîner le modèle avec les meilleurs hyperparamètres trouvés\u001B[39;00m\n\u001B[0;32m     15\u001B[0m best_hp \u001B[38;5;241m=\u001B[39m lr_cross_val\u001B[38;5;241m.\u001B[39mbest_params\n",
      "File \u001B[1;32m~\\PycharmProjects\\ift712-final-project\\src\\models\\train_model.py:80\u001B[0m, in \u001B[0;36mCrossValidate.train\u001B[1;34m(self, x_train, y_train)\u001B[0m\n\u001B[0;32m     72\u001B[0m \u001B[38;5;250m\u001B[39m\u001B[38;5;124;03m\"\"\"\u001B[39;00m\n\u001B[0;32m     73\u001B[0m \u001B[38;5;124;03mEffectue la recherche des hyperparamètres en utilisant GridSearchCV sur les données d'entraînement.\u001B[39;00m\n\u001B[0;32m     74\u001B[0m \n\u001B[1;32m   (...)\u001B[0m\n\u001B[0;32m     77\u001B[0m \u001B[38;5;124;03m    - y_train: Étiquettes d'entraînement.\u001B[39;00m\n\u001B[0;32m     78\u001B[0m \u001B[38;5;124;03m\"\"\"\u001B[39;00m\n\u001B[0;32m     79\u001B[0m \u001B[38;5;28;01mtry\u001B[39;00m:\n\u001B[1;32m---> 80\u001B[0m     \u001B[38;5;28;43mself\u001B[39;49m\u001B[38;5;241;43m.\u001B[39;49m\u001B[43mgrid_search\u001B[49m\u001B[38;5;241;43m.\u001B[39;49m\u001B[43mfit\u001B[49m\u001B[43m(\u001B[49m\u001B[43mx_train\u001B[49m\u001B[43m,\u001B[49m\u001B[43m \u001B[49m\u001B[43my_train\u001B[49m\u001B[43m)\u001B[49m\n\u001B[0;32m     81\u001B[0m     \u001B[38;5;28mself\u001B[39m\u001B[38;5;241m.\u001B[39mis_trained \u001B[38;5;241m=\u001B[39m \u001B[38;5;28;01mTrue\u001B[39;00m\n\u001B[0;32m     82\u001B[0m \u001B[38;5;28;01mexcept\u001B[39;00m \u001B[38;5;167;01mException\u001B[39;00m \u001B[38;5;28;01mas\u001B[39;00m e:\n",
      "File \u001B[1;32m~\\PycharmProjects\\ift712-final-project\\.venv\\Lib\\site-packages\\sklearn\\base.py:1474\u001B[0m, in \u001B[0;36m_fit_context.<locals>.decorator.<locals>.wrapper\u001B[1;34m(estimator, *args, **kwargs)\u001B[0m\n\u001B[0;32m   1467\u001B[0m     estimator\u001B[38;5;241m.\u001B[39m_validate_params()\n\u001B[0;32m   1469\u001B[0m \u001B[38;5;28;01mwith\u001B[39;00m config_context(\n\u001B[0;32m   1470\u001B[0m     skip_parameter_validation\u001B[38;5;241m=\u001B[39m(\n\u001B[0;32m   1471\u001B[0m         prefer_skip_nested_validation \u001B[38;5;129;01mor\u001B[39;00m global_skip_validation\n\u001B[0;32m   1472\u001B[0m     )\n\u001B[0;32m   1473\u001B[0m ):\n\u001B[1;32m-> 1474\u001B[0m     \u001B[38;5;28;01mreturn\u001B[39;00m \u001B[43mfit_method\u001B[49m\u001B[43m(\u001B[49m\u001B[43mestimator\u001B[49m\u001B[43m,\u001B[49m\u001B[43m \u001B[49m\u001B[38;5;241;43m*\u001B[39;49m\u001B[43margs\u001B[49m\u001B[43m,\u001B[49m\u001B[43m \u001B[49m\u001B[38;5;241;43m*\u001B[39;49m\u001B[38;5;241;43m*\u001B[39;49m\u001B[43mkwargs\u001B[49m\u001B[43m)\u001B[49m\n",
      "File \u001B[1;32m~\\PycharmProjects\\ift712-final-project\\.venv\\Lib\\site-packages\\sklearn\\model_selection\\_search.py:970\u001B[0m, in \u001B[0;36mBaseSearchCV.fit\u001B[1;34m(self, X, y, **params)\u001B[0m\n\u001B[0;32m    964\u001B[0m     results \u001B[38;5;241m=\u001B[39m \u001B[38;5;28mself\u001B[39m\u001B[38;5;241m.\u001B[39m_format_results(\n\u001B[0;32m    965\u001B[0m         all_candidate_params, n_splits, all_out, all_more_results\n\u001B[0;32m    966\u001B[0m     )\n\u001B[0;32m    968\u001B[0m     \u001B[38;5;28;01mreturn\u001B[39;00m results\n\u001B[1;32m--> 970\u001B[0m \u001B[38;5;28;43mself\u001B[39;49m\u001B[38;5;241;43m.\u001B[39;49m\u001B[43m_run_search\u001B[49m\u001B[43m(\u001B[49m\u001B[43mevaluate_candidates\u001B[49m\u001B[43m)\u001B[49m\n\u001B[0;32m    972\u001B[0m \u001B[38;5;66;03m# multimetric is determined here because in the case of a callable\u001B[39;00m\n\u001B[0;32m    973\u001B[0m \u001B[38;5;66;03m# self.scoring the return type is only known after calling\u001B[39;00m\n\u001B[0;32m    974\u001B[0m first_test_score \u001B[38;5;241m=\u001B[39m all_out[\u001B[38;5;241m0\u001B[39m][\u001B[38;5;124m\"\u001B[39m\u001B[38;5;124mtest_scores\u001B[39m\u001B[38;5;124m\"\u001B[39m]\n",
      "File \u001B[1;32m~\\PycharmProjects\\ift712-final-project\\.venv\\Lib\\site-packages\\sklearn\\model_selection\\_search.py:1527\u001B[0m, in \u001B[0;36mGridSearchCV._run_search\u001B[1;34m(self, evaluate_candidates)\u001B[0m\n\u001B[0;32m   1525\u001B[0m \u001B[38;5;28;01mdef\u001B[39;00m \u001B[38;5;21m_run_search\u001B[39m(\u001B[38;5;28mself\u001B[39m, evaluate_candidates):\n\u001B[0;32m   1526\u001B[0m \u001B[38;5;250m    \u001B[39m\u001B[38;5;124;03m\"\"\"Search all candidates in param_grid\"\"\"\u001B[39;00m\n\u001B[1;32m-> 1527\u001B[0m     \u001B[43mevaluate_candidates\u001B[49m\u001B[43m(\u001B[49m\u001B[43mParameterGrid\u001B[49m\u001B[43m(\u001B[49m\u001B[38;5;28;43mself\u001B[39;49m\u001B[38;5;241;43m.\u001B[39;49m\u001B[43mparam_grid\u001B[49m\u001B[43m)\u001B[49m\u001B[43m)\u001B[49m\n",
      "File \u001B[1;32m~\\PycharmProjects\\ift712-final-project\\.venv\\Lib\\site-packages\\sklearn\\model_selection\\_search.py:916\u001B[0m, in \u001B[0;36mBaseSearchCV.fit.<locals>.evaluate_candidates\u001B[1;34m(candidate_params, cv, more_results)\u001B[0m\n\u001B[0;32m    908\u001B[0m \u001B[38;5;28;01mif\u001B[39;00m \u001B[38;5;28mself\u001B[39m\u001B[38;5;241m.\u001B[39mverbose \u001B[38;5;241m>\u001B[39m \u001B[38;5;241m0\u001B[39m:\n\u001B[0;32m    909\u001B[0m     \u001B[38;5;28mprint\u001B[39m(\n\u001B[0;32m    910\u001B[0m         \u001B[38;5;124m\"\u001B[39m\u001B[38;5;124mFitting \u001B[39m\u001B[38;5;132;01m{0}\u001B[39;00m\u001B[38;5;124m folds for each of \u001B[39m\u001B[38;5;132;01m{1}\u001B[39;00m\u001B[38;5;124m candidates,\u001B[39m\u001B[38;5;124m\"\u001B[39m\n\u001B[0;32m    911\u001B[0m         \u001B[38;5;124m\"\u001B[39m\u001B[38;5;124m totalling \u001B[39m\u001B[38;5;132;01m{2}\u001B[39;00m\u001B[38;5;124m fits\u001B[39m\u001B[38;5;124m\"\u001B[39m\u001B[38;5;241m.\u001B[39mformat(\n\u001B[0;32m    912\u001B[0m             n_splits, n_candidates, n_candidates \u001B[38;5;241m*\u001B[39m n_splits\n\u001B[0;32m    913\u001B[0m         )\n\u001B[0;32m    914\u001B[0m     )\n\u001B[1;32m--> 916\u001B[0m out \u001B[38;5;241m=\u001B[39m \u001B[43mparallel\u001B[49m\u001B[43m(\u001B[49m\n\u001B[0;32m    917\u001B[0m \u001B[43m    \u001B[49m\u001B[43mdelayed\u001B[49m\u001B[43m(\u001B[49m\u001B[43m_fit_and_score\u001B[49m\u001B[43m)\u001B[49m\u001B[43m(\u001B[49m\n\u001B[0;32m    918\u001B[0m \u001B[43m        \u001B[49m\u001B[43mclone\u001B[49m\u001B[43m(\u001B[49m\u001B[43mbase_estimator\u001B[49m\u001B[43m)\u001B[49m\u001B[43m,\u001B[49m\n\u001B[0;32m    919\u001B[0m \u001B[43m        \u001B[49m\u001B[43mX\u001B[49m\u001B[43m,\u001B[49m\n\u001B[0;32m    920\u001B[0m \u001B[43m        \u001B[49m\u001B[43my\u001B[49m\u001B[43m,\u001B[49m\n\u001B[0;32m    921\u001B[0m \u001B[43m        \u001B[49m\u001B[43mtrain\u001B[49m\u001B[38;5;241;43m=\u001B[39;49m\u001B[43mtrain\u001B[49m\u001B[43m,\u001B[49m\n\u001B[0;32m    922\u001B[0m \u001B[43m        \u001B[49m\u001B[43mtest\u001B[49m\u001B[38;5;241;43m=\u001B[39;49m\u001B[43mtest\u001B[49m\u001B[43m,\u001B[49m\n\u001B[0;32m    923\u001B[0m \u001B[43m        \u001B[49m\u001B[43mparameters\u001B[49m\u001B[38;5;241;43m=\u001B[39;49m\u001B[43mparameters\u001B[49m\u001B[43m,\u001B[49m\n\u001B[0;32m    924\u001B[0m \u001B[43m        \u001B[49m\u001B[43msplit_progress\u001B[49m\u001B[38;5;241;43m=\u001B[39;49m\u001B[43m(\u001B[49m\u001B[43msplit_idx\u001B[49m\u001B[43m,\u001B[49m\u001B[43m \u001B[49m\u001B[43mn_splits\u001B[49m\u001B[43m)\u001B[49m\u001B[43m,\u001B[49m\n\u001B[0;32m    925\u001B[0m \u001B[43m        \u001B[49m\u001B[43mcandidate_progress\u001B[49m\u001B[38;5;241;43m=\u001B[39;49m\u001B[43m(\u001B[49m\u001B[43mcand_idx\u001B[49m\u001B[43m,\u001B[49m\u001B[43m \u001B[49m\u001B[43mn_candidates\u001B[49m\u001B[43m)\u001B[49m\u001B[43m,\u001B[49m\n\u001B[0;32m    926\u001B[0m \u001B[43m        \u001B[49m\u001B[38;5;241;43m*\u001B[39;49m\u001B[38;5;241;43m*\u001B[39;49m\u001B[43mfit_and_score_kwargs\u001B[49m\u001B[43m,\u001B[49m\n\u001B[0;32m    927\u001B[0m \u001B[43m    \u001B[49m\u001B[43m)\u001B[49m\n\u001B[0;32m    928\u001B[0m \u001B[43m    \u001B[49m\u001B[38;5;28;43;01mfor\u001B[39;49;00m\u001B[43m \u001B[49m\u001B[43m(\u001B[49m\u001B[43mcand_idx\u001B[49m\u001B[43m,\u001B[49m\u001B[43m \u001B[49m\u001B[43mparameters\u001B[49m\u001B[43m)\u001B[49m\u001B[43m,\u001B[49m\u001B[43m \u001B[49m\u001B[43m(\u001B[49m\u001B[43msplit_idx\u001B[49m\u001B[43m,\u001B[49m\u001B[43m \u001B[49m\u001B[43m(\u001B[49m\u001B[43mtrain\u001B[49m\u001B[43m,\u001B[49m\u001B[43m \u001B[49m\u001B[43mtest\u001B[49m\u001B[43m)\u001B[49m\u001B[43m)\u001B[49m\u001B[43m \u001B[49m\u001B[38;5;129;43;01min\u001B[39;49;00m\u001B[43m \u001B[49m\u001B[43mproduct\u001B[49m\u001B[43m(\u001B[49m\n\u001B[0;32m    929\u001B[0m \u001B[43m        \u001B[49m\u001B[38;5;28;43menumerate\u001B[39;49m\u001B[43m(\u001B[49m\u001B[43mcandidate_params\u001B[49m\u001B[43m)\u001B[49m\u001B[43m,\u001B[49m\n\u001B[0;32m    930\u001B[0m \u001B[43m        \u001B[49m\u001B[38;5;28;43menumerate\u001B[39;49m\u001B[43m(\u001B[49m\u001B[43mcv\u001B[49m\u001B[38;5;241;43m.\u001B[39;49m\u001B[43msplit\u001B[49m\u001B[43m(\u001B[49m\u001B[43mX\u001B[49m\u001B[43m,\u001B[49m\u001B[43m \u001B[49m\u001B[43my\u001B[49m\u001B[43m,\u001B[49m\u001B[43m \u001B[49m\u001B[38;5;241;43m*\u001B[39;49m\u001B[38;5;241;43m*\u001B[39;49m\u001B[43mrouted_params\u001B[49m\u001B[38;5;241;43m.\u001B[39;49m\u001B[43msplitter\u001B[49m\u001B[38;5;241;43m.\u001B[39;49m\u001B[43msplit\u001B[49m\u001B[43m)\u001B[49m\u001B[43m)\u001B[49m\u001B[43m,\u001B[49m\n\u001B[0;32m    931\u001B[0m \u001B[43m    \u001B[49m\u001B[43m)\u001B[49m\n\u001B[0;32m    932\u001B[0m \u001B[43m\u001B[49m\u001B[43m)\u001B[49m\n\u001B[0;32m    934\u001B[0m \u001B[38;5;28;01mif\u001B[39;00m \u001B[38;5;28mlen\u001B[39m(out) \u001B[38;5;241m<\u001B[39m \u001B[38;5;241m1\u001B[39m:\n\u001B[0;32m    935\u001B[0m     \u001B[38;5;28;01mraise\u001B[39;00m \u001B[38;5;167;01mValueError\u001B[39;00m(\n\u001B[0;32m    936\u001B[0m         \u001B[38;5;124m\"\u001B[39m\u001B[38;5;124mNo fits were performed. \u001B[39m\u001B[38;5;124m\"\u001B[39m\n\u001B[0;32m    937\u001B[0m         \u001B[38;5;124m\"\u001B[39m\u001B[38;5;124mWas the CV iterator empty? \u001B[39m\u001B[38;5;124m\"\u001B[39m\n\u001B[0;32m    938\u001B[0m         \u001B[38;5;124m\"\u001B[39m\u001B[38;5;124mWere there no candidates?\u001B[39m\u001B[38;5;124m\"\u001B[39m\n\u001B[0;32m    939\u001B[0m     )\n",
      "File \u001B[1;32m~\\PycharmProjects\\ift712-final-project\\.venv\\Lib\\site-packages\\sklearn\\utils\\parallel.py:67\u001B[0m, in \u001B[0;36mParallel.__call__\u001B[1;34m(self, iterable)\u001B[0m\n\u001B[0;32m     62\u001B[0m config \u001B[38;5;241m=\u001B[39m get_config()\n\u001B[0;32m     63\u001B[0m iterable_with_config \u001B[38;5;241m=\u001B[39m (\n\u001B[0;32m     64\u001B[0m     (_with_config(delayed_func, config), args, kwargs)\n\u001B[0;32m     65\u001B[0m     \u001B[38;5;28;01mfor\u001B[39;00m delayed_func, args, kwargs \u001B[38;5;129;01min\u001B[39;00m iterable\n\u001B[0;32m     66\u001B[0m )\n\u001B[1;32m---> 67\u001B[0m \u001B[38;5;28;01mreturn\u001B[39;00m \u001B[38;5;28;43msuper\u001B[39;49m\u001B[43m(\u001B[49m\u001B[43m)\u001B[49m\u001B[38;5;241;43m.\u001B[39;49m\u001B[38;5;21;43m__call__\u001B[39;49m\u001B[43m(\u001B[49m\u001B[43miterable_with_config\u001B[49m\u001B[43m)\u001B[49m\n",
      "File \u001B[1;32m~\\PycharmProjects\\ift712-final-project\\.venv\\Lib\\site-packages\\joblib\\parallel.py:1863\u001B[0m, in \u001B[0;36mParallel.__call__\u001B[1;34m(self, iterable)\u001B[0m\n\u001B[0;32m   1861\u001B[0m     output \u001B[38;5;241m=\u001B[39m \u001B[38;5;28mself\u001B[39m\u001B[38;5;241m.\u001B[39m_get_sequential_output(iterable)\n\u001B[0;32m   1862\u001B[0m     \u001B[38;5;28mnext\u001B[39m(output)\n\u001B[1;32m-> 1863\u001B[0m     \u001B[38;5;28;01mreturn\u001B[39;00m output \u001B[38;5;28;01mif\u001B[39;00m \u001B[38;5;28mself\u001B[39m\u001B[38;5;241m.\u001B[39mreturn_generator \u001B[38;5;28;01melse\u001B[39;00m \u001B[38;5;28mlist\u001B[39m(output)\n\u001B[0;32m   1865\u001B[0m \u001B[38;5;66;03m# Let's create an ID that uniquely identifies the current call. If the\u001B[39;00m\n\u001B[0;32m   1866\u001B[0m \u001B[38;5;66;03m# call is interrupted early and that the same instance is immediately\u001B[39;00m\n\u001B[0;32m   1867\u001B[0m \u001B[38;5;66;03m# re-used, this id will be used to prevent workers that were\u001B[39;00m\n\u001B[0;32m   1868\u001B[0m \u001B[38;5;66;03m# concurrently finalizing a task from the previous call to run the\u001B[39;00m\n\u001B[0;32m   1869\u001B[0m \u001B[38;5;66;03m# callback.\u001B[39;00m\n\u001B[0;32m   1870\u001B[0m \u001B[38;5;28;01mwith\u001B[39;00m \u001B[38;5;28mself\u001B[39m\u001B[38;5;241m.\u001B[39m_lock:\n",
      "File \u001B[1;32m~\\PycharmProjects\\ift712-final-project\\.venv\\Lib\\site-packages\\joblib\\parallel.py:1792\u001B[0m, in \u001B[0;36mParallel._get_sequential_output\u001B[1;34m(self, iterable)\u001B[0m\n\u001B[0;32m   1790\u001B[0m \u001B[38;5;28mself\u001B[39m\u001B[38;5;241m.\u001B[39mn_dispatched_batches \u001B[38;5;241m+\u001B[39m\u001B[38;5;241m=\u001B[39m \u001B[38;5;241m1\u001B[39m\n\u001B[0;32m   1791\u001B[0m \u001B[38;5;28mself\u001B[39m\u001B[38;5;241m.\u001B[39mn_dispatched_tasks \u001B[38;5;241m+\u001B[39m\u001B[38;5;241m=\u001B[39m \u001B[38;5;241m1\u001B[39m\n\u001B[1;32m-> 1792\u001B[0m res \u001B[38;5;241m=\u001B[39m \u001B[43mfunc\u001B[49m\u001B[43m(\u001B[49m\u001B[38;5;241;43m*\u001B[39;49m\u001B[43margs\u001B[49m\u001B[43m,\u001B[49m\u001B[43m \u001B[49m\u001B[38;5;241;43m*\u001B[39;49m\u001B[38;5;241;43m*\u001B[39;49m\u001B[43mkwargs\u001B[49m\u001B[43m)\u001B[49m\n\u001B[0;32m   1793\u001B[0m \u001B[38;5;28mself\u001B[39m\u001B[38;5;241m.\u001B[39mn_completed_tasks \u001B[38;5;241m+\u001B[39m\u001B[38;5;241m=\u001B[39m \u001B[38;5;241m1\u001B[39m\n\u001B[0;32m   1794\u001B[0m \u001B[38;5;28mself\u001B[39m\u001B[38;5;241m.\u001B[39mprint_progress()\n",
      "File \u001B[1;32m~\\PycharmProjects\\ift712-final-project\\.venv\\Lib\\site-packages\\sklearn\\utils\\parallel.py:129\u001B[0m, in \u001B[0;36m_FuncWrapper.__call__\u001B[1;34m(self, *args, **kwargs)\u001B[0m\n\u001B[0;32m    127\u001B[0m     config \u001B[38;5;241m=\u001B[39m {}\n\u001B[0;32m    128\u001B[0m \u001B[38;5;28;01mwith\u001B[39;00m config_context(\u001B[38;5;241m*\u001B[39m\u001B[38;5;241m*\u001B[39mconfig):\n\u001B[1;32m--> 129\u001B[0m     \u001B[38;5;28;01mreturn\u001B[39;00m \u001B[38;5;28;43mself\u001B[39;49m\u001B[38;5;241;43m.\u001B[39;49m\u001B[43mfunction\u001B[49m\u001B[43m(\u001B[49m\u001B[38;5;241;43m*\u001B[39;49m\u001B[43margs\u001B[49m\u001B[43m,\u001B[49m\u001B[43m \u001B[49m\u001B[38;5;241;43m*\u001B[39;49m\u001B[38;5;241;43m*\u001B[39;49m\u001B[43mkwargs\u001B[49m\u001B[43m)\u001B[49m\n",
      "File \u001B[1;32m~\\PycharmProjects\\ift712-final-project\\.venv\\Lib\\site-packages\\sklearn\\model_selection\\_validation.py:895\u001B[0m, in \u001B[0;36m_fit_and_score\u001B[1;34m(estimator, X, y, scorer, train, test, verbose, parameters, fit_params, score_params, return_train_score, return_parameters, return_n_test_samples, return_times, return_estimator, split_progress, candidate_progress, error_score)\u001B[0m\n\u001B[0;32m    893\u001B[0m         estimator\u001B[38;5;241m.\u001B[39mfit(X_train, \u001B[38;5;241m*\u001B[39m\u001B[38;5;241m*\u001B[39mfit_params)\n\u001B[0;32m    894\u001B[0m     \u001B[38;5;28;01melse\u001B[39;00m:\n\u001B[1;32m--> 895\u001B[0m         \u001B[43mestimator\u001B[49m\u001B[38;5;241;43m.\u001B[39;49m\u001B[43mfit\u001B[49m\u001B[43m(\u001B[49m\u001B[43mX_train\u001B[49m\u001B[43m,\u001B[49m\u001B[43m \u001B[49m\u001B[43my_train\u001B[49m\u001B[43m,\u001B[49m\u001B[43m \u001B[49m\u001B[38;5;241;43m*\u001B[39;49m\u001B[38;5;241;43m*\u001B[39;49m\u001B[43mfit_params\u001B[49m\u001B[43m)\u001B[49m\n\u001B[0;32m    897\u001B[0m \u001B[38;5;28;01mexcept\u001B[39;00m \u001B[38;5;167;01mException\u001B[39;00m:\n\u001B[0;32m    898\u001B[0m     \u001B[38;5;66;03m# Note fit time as time until error\u001B[39;00m\n\u001B[0;32m    899\u001B[0m     fit_time \u001B[38;5;241m=\u001B[39m time\u001B[38;5;241m.\u001B[39mtime() \u001B[38;5;241m-\u001B[39m start_time\n",
      "File \u001B[1;32m~\\PycharmProjects\\ift712-final-project\\.venv\\Lib\\site-packages\\sklearn\\base.py:1474\u001B[0m, in \u001B[0;36m_fit_context.<locals>.decorator.<locals>.wrapper\u001B[1;34m(estimator, *args, **kwargs)\u001B[0m\n\u001B[0;32m   1467\u001B[0m     estimator\u001B[38;5;241m.\u001B[39m_validate_params()\n\u001B[0;32m   1469\u001B[0m \u001B[38;5;28;01mwith\u001B[39;00m config_context(\n\u001B[0;32m   1470\u001B[0m     skip_parameter_validation\u001B[38;5;241m=\u001B[39m(\n\u001B[0;32m   1471\u001B[0m         prefer_skip_nested_validation \u001B[38;5;129;01mor\u001B[39;00m global_skip_validation\n\u001B[0;32m   1472\u001B[0m     )\n\u001B[0;32m   1473\u001B[0m ):\n\u001B[1;32m-> 1474\u001B[0m     \u001B[38;5;28;01mreturn\u001B[39;00m \u001B[43mfit_method\u001B[49m\u001B[43m(\u001B[49m\u001B[43mestimator\u001B[49m\u001B[43m,\u001B[49m\u001B[43m \u001B[49m\u001B[38;5;241;43m*\u001B[39;49m\u001B[43margs\u001B[49m\u001B[43m,\u001B[49m\u001B[43m \u001B[49m\u001B[38;5;241;43m*\u001B[39;49m\u001B[38;5;241;43m*\u001B[39;49m\u001B[43mkwargs\u001B[49m\u001B[43m)\u001B[49m\n",
      "File \u001B[1;32m~\\PycharmProjects\\ift712-final-project\\.venv\\Lib\\site-packages\\sklearn\\linear_model\\_logistic.py:1296\u001B[0m, in \u001B[0;36mLogisticRegression.fit\u001B[1;34m(self, X, y, sample_weight)\u001B[0m\n\u001B[0;32m   1293\u001B[0m \u001B[38;5;28;01melse\u001B[39;00m:\n\u001B[0;32m   1294\u001B[0m     n_threads \u001B[38;5;241m=\u001B[39m \u001B[38;5;241m1\u001B[39m\n\u001B[1;32m-> 1296\u001B[0m fold_coefs_ \u001B[38;5;241m=\u001B[39m \u001B[43mParallel\u001B[49m\u001B[43m(\u001B[49m\u001B[43mn_jobs\u001B[49m\u001B[38;5;241;43m=\u001B[39;49m\u001B[38;5;28;43mself\u001B[39;49m\u001B[38;5;241;43m.\u001B[39;49m\u001B[43mn_jobs\u001B[49m\u001B[43m,\u001B[49m\u001B[43m \u001B[49m\u001B[43mverbose\u001B[49m\u001B[38;5;241;43m=\u001B[39;49m\u001B[38;5;28;43mself\u001B[39;49m\u001B[38;5;241;43m.\u001B[39;49m\u001B[43mverbose\u001B[49m\u001B[43m,\u001B[49m\u001B[43m \u001B[49m\u001B[43mprefer\u001B[49m\u001B[38;5;241;43m=\u001B[39;49m\u001B[43mprefer\u001B[49m\u001B[43m)\u001B[49m\u001B[43m(\u001B[49m\n\u001B[0;32m   1297\u001B[0m \u001B[43m    \u001B[49m\u001B[43mpath_func\u001B[49m\u001B[43m(\u001B[49m\n\u001B[0;32m   1298\u001B[0m \u001B[43m        \u001B[49m\u001B[43mX\u001B[49m\u001B[43m,\u001B[49m\n\u001B[0;32m   1299\u001B[0m \u001B[43m        \u001B[49m\u001B[43my\u001B[49m\u001B[43m,\u001B[49m\n\u001B[0;32m   1300\u001B[0m \u001B[43m        \u001B[49m\u001B[43mpos_class\u001B[49m\u001B[38;5;241;43m=\u001B[39;49m\u001B[43mclass_\u001B[49m\u001B[43m,\u001B[49m\n\u001B[0;32m   1301\u001B[0m \u001B[43m        \u001B[49m\u001B[43mCs\u001B[49m\u001B[38;5;241;43m=\u001B[39;49m\u001B[43m[\u001B[49m\u001B[43mC_\u001B[49m\u001B[43m]\u001B[49m\u001B[43m,\u001B[49m\n\u001B[0;32m   1302\u001B[0m \u001B[43m        \u001B[49m\u001B[43ml1_ratio\u001B[49m\u001B[38;5;241;43m=\u001B[39;49m\u001B[38;5;28;43mself\u001B[39;49m\u001B[38;5;241;43m.\u001B[39;49m\u001B[43ml1_ratio\u001B[49m\u001B[43m,\u001B[49m\n\u001B[0;32m   1303\u001B[0m \u001B[43m        \u001B[49m\u001B[43mfit_intercept\u001B[49m\u001B[38;5;241;43m=\u001B[39;49m\u001B[38;5;28;43mself\u001B[39;49m\u001B[38;5;241;43m.\u001B[39;49m\u001B[43mfit_intercept\u001B[49m\u001B[43m,\u001B[49m\n\u001B[0;32m   1304\u001B[0m \u001B[43m        \u001B[49m\u001B[43mtol\u001B[49m\u001B[38;5;241;43m=\u001B[39;49m\u001B[38;5;28;43mself\u001B[39;49m\u001B[38;5;241;43m.\u001B[39;49m\u001B[43mtol\u001B[49m\u001B[43m,\u001B[49m\n\u001B[0;32m   1305\u001B[0m \u001B[43m        \u001B[49m\u001B[43mverbose\u001B[49m\u001B[38;5;241;43m=\u001B[39;49m\u001B[38;5;28;43mself\u001B[39;49m\u001B[38;5;241;43m.\u001B[39;49m\u001B[43mverbose\u001B[49m\u001B[43m,\u001B[49m\n\u001B[0;32m   1306\u001B[0m \u001B[43m        \u001B[49m\u001B[43msolver\u001B[49m\u001B[38;5;241;43m=\u001B[39;49m\u001B[43msolver\u001B[49m\u001B[43m,\u001B[49m\n\u001B[0;32m   1307\u001B[0m \u001B[43m        \u001B[49m\u001B[43mmulti_class\u001B[49m\u001B[38;5;241;43m=\u001B[39;49m\u001B[43mmulti_class\u001B[49m\u001B[43m,\u001B[49m\n\u001B[0;32m   1308\u001B[0m \u001B[43m        \u001B[49m\u001B[43mmax_iter\u001B[49m\u001B[38;5;241;43m=\u001B[39;49m\u001B[38;5;28;43mself\u001B[39;49m\u001B[38;5;241;43m.\u001B[39;49m\u001B[43mmax_iter\u001B[49m\u001B[43m,\u001B[49m\n\u001B[0;32m   1309\u001B[0m \u001B[43m        \u001B[49m\u001B[43mclass_weight\u001B[49m\u001B[38;5;241;43m=\u001B[39;49m\u001B[38;5;28;43mself\u001B[39;49m\u001B[38;5;241;43m.\u001B[39;49m\u001B[43mclass_weight\u001B[49m\u001B[43m,\u001B[49m\n\u001B[0;32m   1310\u001B[0m \u001B[43m        \u001B[49m\u001B[43mcheck_input\u001B[49m\u001B[38;5;241;43m=\u001B[39;49m\u001B[38;5;28;43;01mFalse\u001B[39;49;00m\u001B[43m,\u001B[49m\n\u001B[0;32m   1311\u001B[0m \u001B[43m        \u001B[49m\u001B[43mrandom_state\u001B[49m\u001B[38;5;241;43m=\u001B[39;49m\u001B[38;5;28;43mself\u001B[39;49m\u001B[38;5;241;43m.\u001B[39;49m\u001B[43mrandom_state\u001B[49m\u001B[43m,\u001B[49m\n\u001B[0;32m   1312\u001B[0m \u001B[43m        \u001B[49m\u001B[43mcoef\u001B[49m\u001B[38;5;241;43m=\u001B[39;49m\u001B[43mwarm_start_coef_\u001B[49m\u001B[43m,\u001B[49m\n\u001B[0;32m   1313\u001B[0m \u001B[43m        \u001B[49m\u001B[43mpenalty\u001B[49m\u001B[38;5;241;43m=\u001B[39;49m\u001B[43mpenalty\u001B[49m\u001B[43m,\u001B[49m\n\u001B[0;32m   1314\u001B[0m \u001B[43m        \u001B[49m\u001B[43mmax_squared_sum\u001B[49m\u001B[38;5;241;43m=\u001B[39;49m\u001B[43mmax_squared_sum\u001B[49m\u001B[43m,\u001B[49m\n\u001B[0;32m   1315\u001B[0m \u001B[43m        \u001B[49m\u001B[43msample_weight\u001B[49m\u001B[38;5;241;43m=\u001B[39;49m\u001B[43msample_weight\u001B[49m\u001B[43m,\u001B[49m\n\u001B[0;32m   1316\u001B[0m \u001B[43m        \u001B[49m\u001B[43mn_threads\u001B[49m\u001B[38;5;241;43m=\u001B[39;49m\u001B[43mn_threads\u001B[49m\u001B[43m,\u001B[49m\n\u001B[0;32m   1317\u001B[0m \u001B[43m    \u001B[49m\u001B[43m)\u001B[49m\n\u001B[0;32m   1318\u001B[0m \u001B[43m    \u001B[49m\u001B[38;5;28;43;01mfor\u001B[39;49;00m\u001B[43m \u001B[49m\u001B[43mclass_\u001B[49m\u001B[43m,\u001B[49m\u001B[43m \u001B[49m\u001B[43mwarm_start_coef_\u001B[49m\u001B[43m \u001B[49m\u001B[38;5;129;43;01min\u001B[39;49;00m\u001B[43m \u001B[49m\u001B[38;5;28;43mzip\u001B[39;49m\u001B[43m(\u001B[49m\u001B[43mclasses_\u001B[49m\u001B[43m,\u001B[49m\u001B[43m \u001B[49m\u001B[43mwarm_start_coef\u001B[49m\u001B[43m)\u001B[49m\n\u001B[0;32m   1319\u001B[0m \u001B[43m\u001B[49m\u001B[43m)\u001B[49m\n\u001B[0;32m   1321\u001B[0m fold_coefs_, _, n_iter_ \u001B[38;5;241m=\u001B[39m \u001B[38;5;28mzip\u001B[39m(\u001B[38;5;241m*\u001B[39mfold_coefs_)\n\u001B[0;32m   1322\u001B[0m \u001B[38;5;28mself\u001B[39m\u001B[38;5;241m.\u001B[39mn_iter_ \u001B[38;5;241m=\u001B[39m np\u001B[38;5;241m.\u001B[39masarray(n_iter_, dtype\u001B[38;5;241m=\u001B[39mnp\u001B[38;5;241m.\u001B[39mint32)[:, \u001B[38;5;241m0\u001B[39m]\n",
      "File \u001B[1;32m~\\PycharmProjects\\ift712-final-project\\.venv\\Lib\\site-packages\\sklearn\\utils\\parallel.py:67\u001B[0m, in \u001B[0;36mParallel.__call__\u001B[1;34m(self, iterable)\u001B[0m\n\u001B[0;32m     62\u001B[0m config \u001B[38;5;241m=\u001B[39m get_config()\n\u001B[0;32m     63\u001B[0m iterable_with_config \u001B[38;5;241m=\u001B[39m (\n\u001B[0;32m     64\u001B[0m     (_with_config(delayed_func, config), args, kwargs)\n\u001B[0;32m     65\u001B[0m     \u001B[38;5;28;01mfor\u001B[39;00m delayed_func, args, kwargs \u001B[38;5;129;01min\u001B[39;00m iterable\n\u001B[0;32m     66\u001B[0m )\n\u001B[1;32m---> 67\u001B[0m \u001B[38;5;28;01mreturn\u001B[39;00m \u001B[38;5;28;43msuper\u001B[39;49m\u001B[43m(\u001B[49m\u001B[43m)\u001B[49m\u001B[38;5;241;43m.\u001B[39;49m\u001B[38;5;21;43m__call__\u001B[39;49m\u001B[43m(\u001B[49m\u001B[43miterable_with_config\u001B[49m\u001B[43m)\u001B[49m\n",
      "File \u001B[1;32m~\\PycharmProjects\\ift712-final-project\\.venv\\Lib\\site-packages\\joblib\\parallel.py:1863\u001B[0m, in \u001B[0;36mParallel.__call__\u001B[1;34m(self, iterable)\u001B[0m\n\u001B[0;32m   1861\u001B[0m     output \u001B[38;5;241m=\u001B[39m \u001B[38;5;28mself\u001B[39m\u001B[38;5;241m.\u001B[39m_get_sequential_output(iterable)\n\u001B[0;32m   1862\u001B[0m     \u001B[38;5;28mnext\u001B[39m(output)\n\u001B[1;32m-> 1863\u001B[0m     \u001B[38;5;28;01mreturn\u001B[39;00m output \u001B[38;5;28;01mif\u001B[39;00m \u001B[38;5;28mself\u001B[39m\u001B[38;5;241m.\u001B[39mreturn_generator \u001B[38;5;28;01melse\u001B[39;00m \u001B[38;5;28mlist\u001B[39m(output)\n\u001B[0;32m   1865\u001B[0m \u001B[38;5;66;03m# Let's create an ID that uniquely identifies the current call. If the\u001B[39;00m\n\u001B[0;32m   1866\u001B[0m \u001B[38;5;66;03m# call is interrupted early and that the same instance is immediately\u001B[39;00m\n\u001B[0;32m   1867\u001B[0m \u001B[38;5;66;03m# re-used, this id will be used to prevent workers that were\u001B[39;00m\n\u001B[0;32m   1868\u001B[0m \u001B[38;5;66;03m# concurrently finalizing a task from the previous call to run the\u001B[39;00m\n\u001B[0;32m   1869\u001B[0m \u001B[38;5;66;03m# callback.\u001B[39;00m\n\u001B[0;32m   1870\u001B[0m \u001B[38;5;28;01mwith\u001B[39;00m \u001B[38;5;28mself\u001B[39m\u001B[38;5;241m.\u001B[39m_lock:\n",
      "File \u001B[1;32m~\\PycharmProjects\\ift712-final-project\\.venv\\Lib\\site-packages\\joblib\\parallel.py:1792\u001B[0m, in \u001B[0;36mParallel._get_sequential_output\u001B[1;34m(self, iterable)\u001B[0m\n\u001B[0;32m   1790\u001B[0m \u001B[38;5;28mself\u001B[39m\u001B[38;5;241m.\u001B[39mn_dispatched_batches \u001B[38;5;241m+\u001B[39m\u001B[38;5;241m=\u001B[39m \u001B[38;5;241m1\u001B[39m\n\u001B[0;32m   1791\u001B[0m \u001B[38;5;28mself\u001B[39m\u001B[38;5;241m.\u001B[39mn_dispatched_tasks \u001B[38;5;241m+\u001B[39m\u001B[38;5;241m=\u001B[39m \u001B[38;5;241m1\u001B[39m\n\u001B[1;32m-> 1792\u001B[0m res \u001B[38;5;241m=\u001B[39m \u001B[43mfunc\u001B[49m\u001B[43m(\u001B[49m\u001B[38;5;241;43m*\u001B[39;49m\u001B[43margs\u001B[49m\u001B[43m,\u001B[49m\u001B[43m \u001B[49m\u001B[38;5;241;43m*\u001B[39;49m\u001B[38;5;241;43m*\u001B[39;49m\u001B[43mkwargs\u001B[49m\u001B[43m)\u001B[49m\n\u001B[0;32m   1793\u001B[0m \u001B[38;5;28mself\u001B[39m\u001B[38;5;241m.\u001B[39mn_completed_tasks \u001B[38;5;241m+\u001B[39m\u001B[38;5;241m=\u001B[39m \u001B[38;5;241m1\u001B[39m\n\u001B[0;32m   1794\u001B[0m \u001B[38;5;28mself\u001B[39m\u001B[38;5;241m.\u001B[39mprint_progress()\n",
      "File \u001B[1;32m~\\PycharmProjects\\ift712-final-project\\.venv\\Lib\\site-packages\\sklearn\\utils\\parallel.py:129\u001B[0m, in \u001B[0;36m_FuncWrapper.__call__\u001B[1;34m(self, *args, **kwargs)\u001B[0m\n\u001B[0;32m    127\u001B[0m     config \u001B[38;5;241m=\u001B[39m {}\n\u001B[0;32m    128\u001B[0m \u001B[38;5;28;01mwith\u001B[39;00m config_context(\u001B[38;5;241m*\u001B[39m\u001B[38;5;241m*\u001B[39mconfig):\n\u001B[1;32m--> 129\u001B[0m     \u001B[38;5;28;01mreturn\u001B[39;00m \u001B[38;5;28;43mself\u001B[39;49m\u001B[38;5;241;43m.\u001B[39;49m\u001B[43mfunction\u001B[49m\u001B[43m(\u001B[49m\u001B[38;5;241;43m*\u001B[39;49m\u001B[43margs\u001B[49m\u001B[43m,\u001B[49m\u001B[43m \u001B[49m\u001B[38;5;241;43m*\u001B[39;49m\u001B[38;5;241;43m*\u001B[39;49m\u001B[43mkwargs\u001B[49m\u001B[43m)\u001B[49m\n",
      "File \u001B[1;32m~\\PycharmProjects\\ift712-final-project\\.venv\\Lib\\site-packages\\sklearn\\linear_model\\_logistic.py:540\u001B[0m, in \u001B[0;36m_logistic_regression_path\u001B[1;34m(X, y, pos_class, Cs, fit_intercept, max_iter, tol, verbose, solver, coef, class_weight, dual, penalty, intercept_scaling, multi_class, random_state, check_input, max_squared_sum, sample_weight, l1_ratio, n_threads)\u001B[0m\n\u001B[0;32m    537\u001B[0m         alpha \u001B[38;5;241m=\u001B[39m (\u001B[38;5;241m1.0\u001B[39m \u001B[38;5;241m/\u001B[39m C) \u001B[38;5;241m*\u001B[39m (\u001B[38;5;241m1\u001B[39m \u001B[38;5;241m-\u001B[39m l1_ratio)\n\u001B[0;32m    538\u001B[0m         beta \u001B[38;5;241m=\u001B[39m (\u001B[38;5;241m1.0\u001B[39m \u001B[38;5;241m/\u001B[39m C) \u001B[38;5;241m*\u001B[39m l1_ratio\n\u001B[1;32m--> 540\u001B[0m     w0, n_iter_i, warm_start_sag \u001B[38;5;241m=\u001B[39m \u001B[43msag_solver\u001B[49m\u001B[43m(\u001B[49m\n\u001B[0;32m    541\u001B[0m \u001B[43m        \u001B[49m\u001B[43mX\u001B[49m\u001B[43m,\u001B[49m\n\u001B[0;32m    542\u001B[0m \u001B[43m        \u001B[49m\u001B[43mtarget\u001B[49m\u001B[43m,\u001B[49m\n\u001B[0;32m    543\u001B[0m \u001B[43m        \u001B[49m\u001B[43msample_weight\u001B[49m\u001B[43m,\u001B[49m\n\u001B[0;32m    544\u001B[0m \u001B[43m        \u001B[49m\u001B[43mloss\u001B[49m\u001B[43m,\u001B[49m\n\u001B[0;32m    545\u001B[0m \u001B[43m        \u001B[49m\u001B[43malpha\u001B[49m\u001B[43m,\u001B[49m\n\u001B[0;32m    546\u001B[0m \u001B[43m        \u001B[49m\u001B[43mbeta\u001B[49m\u001B[43m,\u001B[49m\n\u001B[0;32m    547\u001B[0m \u001B[43m        \u001B[49m\u001B[43mmax_iter\u001B[49m\u001B[43m,\u001B[49m\n\u001B[0;32m    548\u001B[0m \u001B[43m        \u001B[49m\u001B[43mtol\u001B[49m\u001B[43m,\u001B[49m\n\u001B[0;32m    549\u001B[0m \u001B[43m        \u001B[49m\u001B[43mverbose\u001B[49m\u001B[43m,\u001B[49m\n\u001B[0;32m    550\u001B[0m \u001B[43m        \u001B[49m\u001B[43mrandom_state\u001B[49m\u001B[43m,\u001B[49m\n\u001B[0;32m    551\u001B[0m \u001B[43m        \u001B[49m\u001B[38;5;28;43;01mFalse\u001B[39;49;00m\u001B[43m,\u001B[49m\n\u001B[0;32m    552\u001B[0m \u001B[43m        \u001B[49m\u001B[43mmax_squared_sum\u001B[49m\u001B[43m,\u001B[49m\n\u001B[0;32m    553\u001B[0m \u001B[43m        \u001B[49m\u001B[43mwarm_start_sag\u001B[49m\u001B[43m,\u001B[49m\n\u001B[0;32m    554\u001B[0m \u001B[43m        \u001B[49m\u001B[43mis_saga\u001B[49m\u001B[38;5;241;43m=\u001B[39;49m\u001B[43m(\u001B[49m\u001B[43msolver\u001B[49m\u001B[43m \u001B[49m\u001B[38;5;241;43m==\u001B[39;49m\u001B[43m \u001B[49m\u001B[38;5;124;43m\"\u001B[39;49m\u001B[38;5;124;43msaga\u001B[39;49m\u001B[38;5;124;43m\"\u001B[39;49m\u001B[43m)\u001B[49m\u001B[43m,\u001B[49m\n\u001B[0;32m    555\u001B[0m \u001B[43m    \u001B[49m\u001B[43m)\u001B[49m\n\u001B[0;32m    557\u001B[0m \u001B[38;5;28;01melse\u001B[39;00m:\n\u001B[0;32m    558\u001B[0m     \u001B[38;5;28;01mraise\u001B[39;00m \u001B[38;5;167;01mValueError\u001B[39;00m(\n\u001B[0;32m    559\u001B[0m         \u001B[38;5;124m\"\u001B[39m\u001B[38;5;124msolver must be one of \u001B[39m\u001B[38;5;124m{\u001B[39m\u001B[38;5;124m'\u001B[39m\u001B[38;5;124mliblinear\u001B[39m\u001B[38;5;124m'\u001B[39m\u001B[38;5;124m, \u001B[39m\u001B[38;5;124m'\u001B[39m\u001B[38;5;124mlbfgs\u001B[39m\u001B[38;5;124m'\u001B[39m\u001B[38;5;124m, \u001B[39m\u001B[38;5;124m\"\u001B[39m\n\u001B[0;32m    560\u001B[0m         \u001B[38;5;124m\"\u001B[39m\u001B[38;5;124m'\u001B[39m\u001B[38;5;124mnewton-cg\u001B[39m\u001B[38;5;124m'\u001B[39m\u001B[38;5;124m, \u001B[39m\u001B[38;5;124m'\u001B[39m\u001B[38;5;124msag\u001B[39m\u001B[38;5;124m'\u001B[39m\u001B[38;5;124m}, got \u001B[39m\u001B[38;5;124m'\u001B[39m\u001B[38;5;132;01m%s\u001B[39;00m\u001B[38;5;124m'\u001B[39m\u001B[38;5;124m instead\u001B[39m\u001B[38;5;124m\"\u001B[39m \u001B[38;5;241m%\u001B[39m solver\n\u001B[0;32m    561\u001B[0m     )\n",
      "File \u001B[1;32m~\\PycharmProjects\\ift712-final-project\\.venv\\Lib\\site-packages\\sklearn\\linear_model\\_sag.py:325\u001B[0m, in \u001B[0;36msag_solver\u001B[1;34m(X, y, sample_weight, loss, alpha, beta, max_iter, tol, verbose, random_state, check_input, max_squared_sum, warm_start_mem, is_saga)\u001B[0m\n\u001B[0;32m    319\u001B[0m     \u001B[38;5;28;01mraise\u001B[39;00m \u001B[38;5;167;01mZeroDivisionError\u001B[39;00m(\n\u001B[0;32m    320\u001B[0m         \u001B[38;5;124m\"\u001B[39m\u001B[38;5;124mCurrent sag implementation does not handle \u001B[39m\u001B[38;5;124m\"\u001B[39m\n\u001B[0;32m    321\u001B[0m         \u001B[38;5;124m\"\u001B[39m\u001B[38;5;124mthe case step_size * alpha_scaled == 1\u001B[39m\u001B[38;5;124m\"\u001B[39m\n\u001B[0;32m    322\u001B[0m     )\n\u001B[0;32m    324\u001B[0m sag \u001B[38;5;241m=\u001B[39m sag64 \u001B[38;5;28;01mif\u001B[39;00m X\u001B[38;5;241m.\u001B[39mdtype \u001B[38;5;241m==\u001B[39m np\u001B[38;5;241m.\u001B[39mfloat64 \u001B[38;5;28;01melse\u001B[39;00m sag32\n\u001B[1;32m--> 325\u001B[0m num_seen, n_iter_ \u001B[38;5;241m=\u001B[39m \u001B[43msag\u001B[49m\u001B[43m(\u001B[49m\n\u001B[0;32m    326\u001B[0m \u001B[43m    \u001B[49m\u001B[43mdataset\u001B[49m\u001B[43m,\u001B[49m\n\u001B[0;32m    327\u001B[0m \u001B[43m    \u001B[49m\u001B[43mcoef_init\u001B[49m\u001B[43m,\u001B[49m\n\u001B[0;32m    328\u001B[0m \u001B[43m    \u001B[49m\u001B[43mintercept_init\u001B[49m\u001B[43m,\u001B[49m\n\u001B[0;32m    329\u001B[0m \u001B[43m    \u001B[49m\u001B[43mn_samples\u001B[49m\u001B[43m,\u001B[49m\n\u001B[0;32m    330\u001B[0m \u001B[43m    \u001B[49m\u001B[43mn_features\u001B[49m\u001B[43m,\u001B[49m\n\u001B[0;32m    331\u001B[0m \u001B[43m    \u001B[49m\u001B[43mn_classes\u001B[49m\u001B[43m,\u001B[49m\n\u001B[0;32m    332\u001B[0m \u001B[43m    \u001B[49m\u001B[43mtol\u001B[49m\u001B[43m,\u001B[49m\n\u001B[0;32m    333\u001B[0m \u001B[43m    \u001B[49m\u001B[43mmax_iter\u001B[49m\u001B[43m,\u001B[49m\n\u001B[0;32m    334\u001B[0m \u001B[43m    \u001B[49m\u001B[43mloss\u001B[49m\u001B[43m,\u001B[49m\n\u001B[0;32m    335\u001B[0m \u001B[43m    \u001B[49m\u001B[43mstep_size\u001B[49m\u001B[43m,\u001B[49m\n\u001B[0;32m    336\u001B[0m \u001B[43m    \u001B[49m\u001B[43malpha_scaled\u001B[49m\u001B[43m,\u001B[49m\n\u001B[0;32m    337\u001B[0m \u001B[43m    \u001B[49m\u001B[43mbeta_scaled\u001B[49m\u001B[43m,\u001B[49m\n\u001B[0;32m    338\u001B[0m \u001B[43m    \u001B[49m\u001B[43msum_gradient_init\u001B[49m\u001B[43m,\u001B[49m\n\u001B[0;32m    339\u001B[0m \u001B[43m    \u001B[49m\u001B[43mgradient_memory_init\u001B[49m\u001B[43m,\u001B[49m\n\u001B[0;32m    340\u001B[0m \u001B[43m    \u001B[49m\u001B[43mseen_init\u001B[49m\u001B[43m,\u001B[49m\n\u001B[0;32m    341\u001B[0m \u001B[43m    \u001B[49m\u001B[43mnum_seen_init\u001B[49m\u001B[43m,\u001B[49m\n\u001B[0;32m    342\u001B[0m \u001B[43m    \u001B[49m\u001B[43mfit_intercept\u001B[49m\u001B[43m,\u001B[49m\n\u001B[0;32m    343\u001B[0m \u001B[43m    \u001B[49m\u001B[43mintercept_sum_gradient\u001B[49m\u001B[43m,\u001B[49m\n\u001B[0;32m    344\u001B[0m \u001B[43m    \u001B[49m\u001B[43mintercept_decay\u001B[49m\u001B[43m,\u001B[49m\n\u001B[0;32m    345\u001B[0m \u001B[43m    \u001B[49m\u001B[43mis_saga\u001B[49m\u001B[43m,\u001B[49m\n\u001B[0;32m    346\u001B[0m \u001B[43m    \u001B[49m\u001B[43mverbose\u001B[49m\u001B[43m,\u001B[49m\n\u001B[0;32m    347\u001B[0m \u001B[43m\u001B[49m\u001B[43m)\u001B[49m\n\u001B[0;32m    349\u001B[0m \u001B[38;5;28;01mif\u001B[39;00m n_iter_ \u001B[38;5;241m==\u001B[39m max_iter:\n\u001B[0;32m    350\u001B[0m     warnings\u001B[38;5;241m.\u001B[39mwarn(\n\u001B[0;32m    351\u001B[0m         \u001B[38;5;124m\"\u001B[39m\u001B[38;5;124mThe max_iter was reached which means the coef_ did not converge\u001B[39m\u001B[38;5;124m\"\u001B[39m,\n\u001B[0;32m    352\u001B[0m         ConvergenceWarning,\n\u001B[0;32m    353\u001B[0m     )\n",
      "\u001B[1;31mKeyboardInterrupt\u001B[0m: "
     ]
    }
   ],
   "source": [
    "\n",
    "\n",
    "lr_param_grid = {\n",
    "    'solver': ['lbfgs', 'liblinear', 'newton-cholesky'],\n",
    "    'C': np.linspace(-1, 3, 7),\n",
    "    'penalty' : ['l1', 'l2', 'elasticnet', None],\n",
    "}\n",
    "\n",
    "lr_model = LogisticRegression(random_state=42)\n",
    "\n",
    "lr_cross_val = CrossValidate(model=lr_model, params=lr_param_grid, k_fold=4, metric='accuracy')\n",
    "lr_cross_val.train(x_train, y_train)\n",
    "\n",
    "\n",
    "# Entraîner le modèle avec les meilleurs hyperparamètres trouvés\n",
    "best_hp = lr_cross_val.best_params\n",
    "best_lr_model = lr_cross_val.best_model\n",
    "# Afficher les meilleurs hyperparamètres trouvés\n",
    "print(\"Logistic Regression Meilleurs hyperparamètres :\", best_hp)\n",
    "metrics = Measure(best_lr_model,x_train,y_train, x_test, y_test)\n",
    "metrics.show_metrics_train()\n",
    "metrics.show_metrics_test()\n"
   ]
  },
  {
   "cell_type": "code",
   "execution_count": null,
   "id": "c740a7d4bbd456e4",
   "metadata": {
    "collapsed": false
   },
   "outputs": [],
   "source": []
  },
  {
   "cell_type": "code",
   "execution_count": null,
   "id": "ea8550ddaf6640fd",
   "metadata": {
    "collapsed": false
   },
   "outputs": [],
   "source": []
  },
  {
   "cell_type": "markdown",
   "id": "39f85e01c458ee09",
   "metadata": {
    "collapsed": false
   },
   "source": [
    "## Entrainement MLP"
   ]
  },
  {
   "cell_type": "markdown",
   "id": "cd9ed2d086e26c40",
   "metadata": {
    "collapsed": false
   },
   "source": [
    "Implementation naïve de MLP"
   ]
  },
  {
   "cell_type": "code",
   "execution_count": 60,
   "id": "92a97d2747be2ba8",
   "metadata": {
    "collapsed": false,
    "ExecuteTime": {
     "end_time": "2024-04-12T01:10:05.923887600Z",
     "start_time": "2024-04-12T01:10:02.806808400Z"
    }
   },
   "outputs": [
    {
     "name": "stdout",
     "output_type": "stream",
     "text": [
      "Meilleurs loss 0.03079088646628271 \n",
      "\n",
      "\n",
      "Train Score:\n",
      "Accuracy : 1.0\n",
      "Precision : 1.0\n",
      "Recall : 1.0\n",
      "F1-score : 1.0\n",
      "\n",
      "Test Score :\n",
      "Accuracy : 0.9797979797979798\n",
      "Precision : 0.9865319865319865\n",
      "Recall : 0.9797979797979798\n",
      "F1-score : 0.9784511784511786\n"
     ]
    }
   ],
   "source": [
    "from sklearn.neural_network import MLPClassifier\n",
    "\n",
    "\n",
    "mlp_model = MLPClassifier()\n",
    "mlp_model.fit(x_train, y_train)\n",
    "print(f\"Meilleurs loss {mlp_model.best_loss_}\")\n",
    "metrics = Measure(mlp_model,x_train,y_train, x_test, y_test)\n",
    "metrics.show_metrics_train()\n",
    "metrics.show_metrics_test()"
   ]
  },
  {
   "cell_type": "markdown",
   "id": "31f6d398de594138",
   "metadata": {
    "collapsed": false
   },
   "source": [
    "Avec l'implementation naïve de MLP il faut plus de 5000 iterations pour converger, "
   ]
  },
  {
   "cell_type": "markdown",
   "id": "604a972c82cf7a70",
   "metadata": {
    "collapsed": false
   },
   "source": [
    "#### La recherche d'hyperparametre"
   ]
  },
  {
   "cell_type": "code",
   "outputs": [
    {
     "data": {
      "text/plain": "array([1.0000e-05, 2.5075e-03, 5.0050e-03, 7.5025e-03, 1.0000e-02])"
     },
     "execution_count": 65,
     "metadata": {},
     "output_type": "execute_result"
    }
   ],
   "source": [],
   "metadata": {
    "collapsed": false,
    "ExecuteTime": {
     "end_time": "2024-04-12T01:37:11.815563700Z",
     "start_time": "2024-04-12T01:37:11.629671100Z"
    }
   },
   "id": "c15af90b4a9cbdd1",
   "execution_count": 65
  },
  {
   "cell_type": "code",
   "execution_count": null,
   "id": "89715c9e1e370c7a",
   "metadata": {
    "collapsed": false,
    "is_executing": true,
    "ExecuteTime": {
     "start_time": "2024-04-12T01:13:53.178749600Z"
    }
   },
   "outputs": [],
   "source": [
    "from src.models.train_model import CrossValidate\n",
    "from sklearn.neural_network import MLPClassifier\n",
    "\n",
    "# Définir les hyperparamètres à rechercher\n",
    "param_grid = {\n",
    "    'hidden_layer_sizes': [(100,), (50, 50), (100, 50, 100)],\n",
    "    'activation': ['relu', 'tanh','softmax', 'elu', 'selu'],\n",
    "    # Différentes valeurs pour alpha pour tester la régularisation L2\n",
    "    'alpha': np.linspace(1e-5, 0.01, 7), #[0.0001, 0.001, 0.01] ,\n",
    "    'early_stopping': [True],\n",
    "    'n_iter_no_change': [5, 10, 20]\n",
    "}\n",
    "\n",
    "\n",
    "# Créer une instance du modèle MLP\n",
    "mpl_model = MLPClassifier()\n",
    "\n",
    "# Effectuer une recherche des hyperparamètres avec validation croisée\n",
    "grid_search = CrossValidate(model=mpl_model, params=param_grid, k_fold=5, metric='accuracy')\n",
    "grid_search.train(x_train, y_train)\n",
    "\n",
    "# Afficher les meilleurs hyperparamètres trouvés\n",
    "print(\"MLP Meilleurs hyperparamètres :\", grid_search.best_params)\n",
    "\n",
    "# Entraîner le modèle avec les meilleurs hyperparamètres trouvés\n",
    "best_mlp_model = grid_search.best_model\n",
    "metrics = Measure(best_mlp_model,x_train,y_train, x_test, y_test)\n",
    "metrics.show_metrics_train()\n",
    "metrics.show_metrics_test()\n"
   ]
  },
  {
   "cell_type": "code",
   "execution_count": 48,
   "id": "54087357bb66f6db",
   "metadata": {
    "ExecuteTime": {
     "end_time": "2024-04-03T02:37:29.039688200Z",
     "start_time": "2024-04-03T02:37:28.723322Z"
    },
    "collapsed": false
   },
   "outputs": [
    {
     "name": "stdout",
     "output_type": "stream",
     "text": [
      "MLP Meilleurs hyperparamètres : {'activation': 'relu', 'alpha': 0.0001, 'early_stopping': True, 'hidden_layer_sizes': (100,), 'n_iter_no_change': 20, 'tol': 0.001}\n"
     ]
    }
   ],
   "source": [
    "print(\"MLP Meilleurs hyperparamètres :\", grid_search.best_params)"
   ]
  },
  {
   "cell_type": "code",
   "execution_count": 46,
   "id": "bdea82d1b82bd3d6",
   "metadata": {
    "ExecuteTime": {
     "end_time": "2024-04-03T01:33:12.223017400Z",
     "start_time": "2024-04-03T01:33:12.090799500Z"
    },
    "collapsed": false
   },
   "outputs": [
    {
     "name": "stdout",
     "output_type": "stream",
     "text": [
      "MLP Meilleurs hyperparamètres : {'activation': 'tanh', 'alpha': 0.01, 'hidden_layer_sizes': (100,)}\n"
     ]
    }
   ],
   "source": [
    "print(\"MLP Meilleurs hyperparamètres :\", grid_search.best_params)"
   ]
  },
  {
   "cell_type": "code",
   "execution_count": 49,
   "id": "f094d6549d3833bd",
   "metadata": {
    "ExecuteTime": {
     "end_time": "2024-04-03T03:00:51.428496200Z",
     "start_time": "2024-04-03T03:00:51.308963Z"
    },
    "collapsed": false
   },
   "outputs": [
    {
     "name": "stdout",
     "output_type": "stream",
     "text": [
      "MLP Train Accuracy : 0.9878787878787879\n"
     ]
    }
   ],
   "source": [
    "train_score = best_mlp_model.score(x_train, y_train)\n",
    "#test_score = best_rfc_model.score(x_test,)\n",
    "print(\"MLP Train Accuracy :\", train_score)"
   ]
  },
  {
   "cell_type": "code",
   "execution_count": null,
   "id": "38cfb67a7a067cf5",
   "metadata": {
    "collapsed": false
   },
   "outputs": [],
   "source": [
    "from sklearn.metrics import accuracy_score, precision_score, recall_score, f1_score, log_loss\n",
    "\n",
    "# Prédictions sur les données de test\n",
    "y_pred = best_mlp_model.predict(x_test)\n",
    "y_pred_proba = best_mlp_model.predict_proba(x_test)  # Probabilités prédites pour log_loss\n",
    "\n",
    "# Calculer et imprimer les différentes métriques\n",
    "accuracy = accuracy_score(y_test, y_pred)\n",
    "precision = precision_score(y_test, y_pred, average='macro')\n",
    "recall = recall_score(y_test, y_pred, average='macro')\n",
    "f1 = f1_score(y_test, y_pred, average='macro')\n",
    "\n",
    "# Calculer la perte (loss)\n",
    "loss = log_loss(y_test, y_pred_proba)\n",
    "\n",
    "print(f\"Accuracy : {accuracy}\")\n",
    "print(f\"Precision : {precision}\")\n",
    "print(f\"Recall : {recall}\")\n",
    "print(f\"F1-score : {f1}\")\n",
    "print(f\"Log Loss : {loss}\")\n",
    "\n"
   ]
  },
  {
   "cell_type": "markdown",
   "id": "af273b26a10d3b30",
   "metadata": {
    "collapsed": false
   },
   "source": [
    "Loss curve"
   ]
  },
  {
   "cell_type": "code",
   "execution_count": 52,
   "id": "5a958964cd0d8635",
   "metadata": {
    "ExecuteTime": {
     "end_time": "2024-04-03T03:04:08.276118900Z",
     "start_time": "2024-04-03T03:04:07.892366500Z"
    },
    "collapsed": false
   },
   "outputs": [
    {
     "data": {
      "image/png": "[encoded data removed]",
      "text/plain": [
       "<Figure size 640x480 with 1 Axes>"
      ]
     },
     "metadata": {},
     "output_type": "display_data"
    }
   ],
   "source": [
    "plt.plot(best_mlp_model.loss_curve_)\n",
    "plt.title('Courbe de perte du MLPClassifier')\n",
    "plt.xlabel('Nombre d\\'itérations')\n",
    "plt.ylabel('Perte')\n",
    "plt.show()"
   ]
  },
  {
   "cell_type": "markdown",
   "id": "7636124587b02ee",
   "metadata": {
    "collapsed": false
   },
   "source": [
    "Accuracy curve"
   ]
  },
  {
   "cell_type": "code",
   "execution_count": 54,
   "id": "3b9675ef741353",
   "metadata": {
    "ExecuteTime": {
     "end_time": "2024-04-03T03:19:33.283620Z",
     "start_time": "2024-04-03T03:19:31.936551500Z"
    },
    "collapsed": false
   },
   "outputs": [
    {
     "name": "stdout",
     "output_type": "stream",
     "text": [
      "Iteration 1, loss = 4.59801173\n",
      "Validation score: 0.030303\n",
      "Iteration 2, loss = 4.52403924\n",
      "Validation score: 0.040404\n",
      "Iteration 3, loss = 4.45890087\n",
      "Validation score: 0.070707\n",
      "Iteration 4, loss = 4.38605485\n",
      "Validation score: 0.070707\n",
      "Iteration 5, loss = 4.30995631\n",
      "Validation score: 0.060606\n",
      "Iteration 6, loss = 4.22711854\n",
      "Validation score: 0.080808\n",
      "Iteration 7, loss = 4.13508900\n",
      "Validation score: 0.121212\n",
      "Iteration 8, loss = 4.03659586\n",
      "Validation score: 0.141414\n",
      "Iteration 9, loss = 3.92744151\n",
      "Validation score: 0.141414\n",
      "Iteration 10, loss = 3.81293093\n",
      "Validation score: 0.141414\n",
      "Iteration 11, loss = 3.69214488\n",
      "Validation score: 0.161616\n",
      "Iteration 12, loss = 3.56616972\n",
      "Validation score: 0.232323\n",
      "Iteration 13, loss = 3.43310574\n",
      "Validation score: 0.292929\n",
      "Iteration 14, loss = 3.29695603\n",
      "Validation score: 0.363636\n",
      "Iteration 15, loss = 3.15763186\n",
      "Validation score: 0.393939\n",
      "Iteration 16, loss = 3.01655021\n",
      "Validation score: 0.474747\n",
      "Iteration 17, loss = 2.87525397\n",
      "Validation score: 0.505051\n",
      "Iteration 18, loss = 2.73550726\n",
      "Validation score: 0.545455\n",
      "Iteration 19, loss = 2.59569400\n",
      "Validation score: 0.555556\n",
      "Iteration 20, loss = 2.46173027\n",
      "Validation score: 0.575758\n",
      "Iteration 21, loss = 2.32917064\n",
      "Validation score: 0.616162\n",
      "Iteration 22, loss = 2.20073560\n",
      "Validation score: 0.656566\n",
      "Iteration 23, loss = 2.07884031\n",
      "Validation score: 0.676768\n",
      "Iteration 24, loss = 1.95970000\n",
      "Validation score: 0.737374\n",
      "Iteration 25, loss = 1.84504352\n",
      "Validation score: 0.767677\n",
      "Iteration 26, loss = 1.73739563\n",
      "Validation score: 0.777778\n",
      "Iteration 27, loss = 1.63493697\n",
      "Validation score: 0.747475\n",
      "Iteration 28, loss = 1.53872075\n",
      "Validation score: 0.787879\n",
      "Iteration 29, loss = 1.44977336\n",
      "Validation score: 0.797980\n",
      "Iteration 30, loss = 1.36239614\n",
      "Validation score: 0.828283\n",
      "Iteration 31, loss = 1.28187649\n",
      "Validation score: 0.838384\n",
      "Iteration 32, loss = 1.20642577\n",
      "Validation score: 0.878788\n",
      "Iteration 33, loss = 1.13613189\n",
      "Validation score: 0.888889\n",
      "Iteration 34, loss = 1.06912077\n",
      "Validation score: 0.878788\n",
      "Iteration 35, loss = 1.00848757\n",
      "Validation score: 0.898990\n",
      "Iteration 36, loss = 0.95325026\n",
      "Validation score: 0.878788\n",
      "Iteration 37, loss = 0.89948056\n",
      "Validation score: 0.909091\n",
      "Iteration 38, loss = 0.84960302\n",
      "Validation score: 0.909091\n",
      "Iteration 39, loss = 0.80378197\n",
      "Validation score: 0.909091\n",
      "Iteration 40, loss = 0.76043317\n",
      "Validation score: 0.929293\n",
      "Iteration 41, loss = 0.72044092\n",
      "Validation score: 0.919192\n",
      "Iteration 42, loss = 0.68230292\n",
      "Validation score: 0.939394\n",
      "Iteration 43, loss = 0.64905914\n",
      "Validation score: 0.939394\n",
      "Iteration 44, loss = 0.61654554\n",
      "Validation score: 0.939394\n",
      "Iteration 45, loss = 0.58546109\n",
      "Validation score: 0.939394\n",
      "Iteration 46, loss = 0.55675805\n",
      "Validation score: 0.949495\n",
      "Iteration 47, loss = 0.53181889\n",
      "Validation score: 0.949495\n",
      "Iteration 48, loss = 0.50600862\n",
      "Validation score: 0.959596\n",
      "Iteration 49, loss = 0.48267240\n",
      "Validation score: 0.959596\n",
      "Iteration 50, loss = 0.46234701\n",
      "Validation score: 0.949495\n",
      "Iteration 51, loss = 0.44092733\n",
      "Validation score: 0.949495\n",
      "Iteration 52, loss = 0.42233010\n",
      "Validation score: 0.949495\n",
      "Iteration 53, loss = 0.40433888\n",
      "Validation score: 0.949495\n",
      "Iteration 54, loss = 0.38818414\n",
      "Validation score: 0.959596\n",
      "Iteration 55, loss = 0.37262004\n",
      "Validation score: 0.959596\n",
      "Iteration 56, loss = 0.35800612\n",
      "Validation score: 0.959596\n",
      "Iteration 57, loss = 0.34348916\n",
      "Validation score: 0.959596\n",
      "Iteration 58, loss = 0.33020505\n",
      "Validation score: 0.969697\n",
      "Iteration 59, loss = 0.31732885\n",
      "Validation score: 0.969697\n",
      "Iteration 60, loss = 0.30614085\n",
      "Validation score: 0.969697\n",
      "Iteration 61, loss = 0.29499960\n",
      "Validation score: 0.969697\n",
      "Iteration 62, loss = 0.28437356\n",
      "Validation score: 0.969697\n",
      "Iteration 63, loss = 0.27407279\n",
      "Validation score: 0.969697\n",
      "Iteration 64, loss = 0.26520894\n",
      "Validation score: 0.969697\n",
      "Iteration 65, loss = 0.25602650\n",
      "Validation score: 0.969697\n",
      "Iteration 66, loss = 0.24788955\n",
      "Validation score: 0.969697\n",
      "Iteration 67, loss = 0.23965100\n",
      "Validation score: 0.969697\n",
      "Iteration 68, loss = 0.23207085\n",
      "Validation score: 0.969697\n",
      "Iteration 69, loss = 0.22416983\n",
      "Validation score: 0.969697\n",
      "Iteration 70, loss = 0.21711395\n",
      "Validation score: 0.969697\n",
      "Iteration 71, loss = 0.21053456\n",
      "Validation score: 0.959596\n",
      "Iteration 72, loss = 0.20441339\n",
      "Validation score: 0.969697\n",
      "Iteration 73, loss = 0.19790867\n",
      "Validation score: 0.969697\n",
      "Iteration 74, loss = 0.19199102\n",
      "Validation score: 0.969697\n",
      "Iteration 75, loss = 0.18658698\n",
      "Validation score: 0.969697\n",
      "Iteration 76, loss = 0.18158544\n",
      "Validation score: 0.969697\n",
      "Iteration 77, loss = 0.17612429\n",
      "Validation score: 0.969697\n",
      "Iteration 78, loss = 0.17142086\n",
      "Validation score: 0.969697\n",
      "Iteration 79, loss = 0.16686090\n",
      "Validation score: 0.969697\n",
      "Validation score did not improve more than tol=0.001000 for 20 consecutive epochs. Stopping.\n"
     ]
    },
    {
     "data": {
      "image/png": "[encoded data removed]",
      "text/plain": [
       "<Figure size 640x480 with 1 Axes>"
      ]
     },
     "metadata": {},
     "output_type": "display_data"
    }
   ],
   "source": [
    "\n",
    "# Récupérer l'accuracy à chaque itération\n",
    "train_accuracy = best_mlp_model.validation_scores_\n",
    "\n",
    "# Afficher la courbe d'accuracy\n",
    "plt.plot(np.arange(1, len(train_accuracy) + 1), train_accuracy)\n",
    "plt.title('Courbe d\\'accuracy du MLPClassifier')\n",
    "plt.xlabel('Nombre d\\'itérations')\n",
    "plt.ylabel('Accuracy')\n",
    "plt.show()"
   ]
  },
  {
   "cell_type": "code",
   "execution_count": null,
   "id": "1d90fb94c297efad",
   "metadata": {
    "collapsed": false
   },
   "outputs": [],
   "source": []
  },
  {
   "cell_type": "markdown",
   "id": "99a32ffebca5868b",
   "metadata": {
    "collapsed": false
   },
   "source": [
    "##"
   ]
  },
  {
   "cell_type": "code",
   "execution_count": null,
   "id": "60ea33646d3c21e5",
   "metadata": {
    "collapsed": false
   },
   "outputs": [],
   "source": []
  },
  {
   "cell_type": "markdown",
   "id": "7dec7c30587233f7",
   "metadata": {
    "collapsed": false
   },
   "source": []
  },
  {
   "cell_type": "code",
   "execution_count": null,
   "id": "606f0e27a6c789e4",
   "metadata": {
    "ExecuteTime": {
     "start_time": "2024-04-02T23:32:25.482130100Z"
    },
    "collapsed": false
   },
   "outputs": [],
   "source": []
  },
  {
   "cell_type": "markdown",
   "id": "2035af58f6f0e32b",
   "metadata": {
    "collapsed": false
   },
   "source": [
    "### Résultats\n",
    "\n",
    "Résultats :\n",
    "\n",
    "| Model | Best Parameter | Accuracy Train Score | Accuracy Train Score |\n",
    "--------|----------------|----------------------|----------------------|\n",
    "| Random Forest |  | 100% | |\n",
    "| MLP |  | 100% | |\n",
    "\n",
    "\n",
    "- Random Forest  Meilleurs hyperparamètres : {'max_depth': None, 'min_samples_split': 2, 'n_estimators': 100}\n",
    "- MLP Meilleurs hyperparamètres : {'activation': 'relu', 'alpha': 0.0001, 'early_stopping': True, 'hidden_layer_sizes': (100,), 'n_iter_no_change': 20, 'tol': 0.001}\n",
    "- "
   ]
  },
  {
   "cell_type": "code",
   "execution_count": null,
   "id": "c32be993a36e694",
   "metadata": {
    "ExecuteTime": {
     "start_time": "2024-04-02T23:32:25.484608500Z"
    },
    "collapsed": false
   },
   "outputs": [],
   "source": []
  },
  {
   "cell_type": "code",
   "outputs": [],
   "source": [],
   "metadata": {
    "collapsed": false
   },
   "id": "995f44bf054d17eb"
  },
  {
   "cell_type": "markdown",
   "source": [
    "============================================================================"
   ],
   "metadata": {
    "collapsed": false
   },
   "id": "e460e7ead005238d"
  },
  {
   "cell_type": "markdown",
   "source": [
    "# Reduction de dimension avec PCA"
   ],
   "metadata": {
    "collapsed": false
   },
   "id": "e82225e8ee8bf572"
  },
  {
   "cell_type": "markdown",
   "source": [
    " Comme on pu le remarrquer plus haut, la trop frande quantité d'attribut empeche une visualisation correcte des données.\n",
    "Nous allons tenter de réduits la dimension de nos données et voir l'influence sur les performances de nos modèles.\n",
    "\n",
    "Comment allons nous décider du nombre de composantes environs à utiliser? Un bon indice peut être obtenu via une ACP."
   ],
   "metadata": {
    "collapsed": false
   },
   "id": "5875de3aec2087d6"
  },
  {
   "cell_type": "code",
   "outputs": [
    {
     "data": {
      "application/vnd.plotly.v1+json": {
       "data": [
        {
         "line": {
          "dash": "dash"
         },
         "marker": {
          "size": 8,
          "symbol": "circle"
         },
         "mode": "lines+markers",
         "x": [
          1,
          2,
          3,
          4,
          5,
          6,
          7,
          8,
          9,
          10,
          11,
          12,
          13,
          14,
          15,
          16,
          17,
          18,
          19,
          20,
          21,
          22,
          23,
          24,
          25,
          26,
          27,
          28,
          29,
          30,
          31,
          32,
          33,
          34,
          35,
          36,
          37,
          38,
          39,
          40,
          41,
          42,
          43,
          44,
          45,
          46,
          47,
          48,
          49,
          50,
          51,
          52,
          53,
          54,
          55,
          56,
          57,
          58,
          59,
          60,
          61,
          62,
          63,
          64,
          65,
          66,
          67,
          68,
          69,
          70,
          71,
          72,
          73,
          74,
          75,
          76,
          77,
          78,
          79,
          80,
          81,
          82,
          83,
          84,
          85,
          86,
          87,
          88,
          89,
          90,
          91,
          92,
          93,
          94,
          95,
          96,
          97,
          98,
          99,
          100,
          101,
          102,
          103,
          104,
          105,
          106,
          107,
          108,
          109,
          110,
          111,
          112,
          113,
          114,
          115,
          116,
          117,
          118,
          119,
          120,
          121,
          122,
          123,
          124,
          125,
          126,
          127,
          128,
          129,
          130,
          131,
          132,
          133,
          134,
          135,
          136,
          137,
          138,
          139,
          140,
          141,
          142,
          143,
          144,
          145,
          146,
          147,
          148,
          149,
          150,
          151,
          152,
          153,
          154,
          155,
          156,
          157,
          158,
          159,
          160,
          161,
          162,
          163,
          164,
          165,
          166,
          167,
          168,
          169,
          170,
          171,
          172,
          173,
          174,
          175,
          176,
          177,
          178,
          179,
          180,
          181,
          182,
          183,
          184,
          185,
          186,
          187,
          188,
          189,
          190,
          191,
          192
         ],
         "y": [
          0.22960268225901048,
          0.36854847175218886,
          0.43043448679669133,
          0.4906648491443212,
          0.533663767873725,
          0.5723025479008145,
          0.6070124380474649,
          0.6345407271724416,
          0.6578241980305614,
          0.6765401737281425,
          0.6938835105407724,
          0.710537502518392,
          0.7260502830200601,
          0.7396532930943901,
          0.7511562697216432,
          0.7621572797549331,
          0.7729701400932505,
          0.7823436207535754,
          0.7914606361624802,
          0.799996074152077,
          0.807660078014097,
          0.8149320698334609,
          0.822015275492687,
          0.828471865781327,
          0.8347025666041843,
          0.8403748157148394,
          0.8459849808419521,
          0.8511720295017128,
          0.8561357415487362,
          0.8607007449383484,
          0.8648923038455043,
          0.8690174370148663,
          0.8728994960982795,
          0.8767216290420218,
          0.8803363262473034,
          0.8838508720330577,
          0.8872919790970842,
          0.890631454297511,
          0.893866475682296,
          0.8969359746707398,
          0.8999248445885084,
          0.902785869884988,
          0.9055462952866331,
          0.9082846053022465,
          0.9108796593592304,
          0.9134533371536037,
          0.915912641812048,
          0.9182790536110178,
          0.9205679945848457,
          0.9227864086905009,
          0.9249375728318593,
          0.9269960729067553,
          0.9289979938081139,
          0.9309540203378058,
          0.9328613926691403,
          0.9346708954917143,
          0.9364510623950606,
          0.9382096076809587,
          0.9399308609481015,
          0.9415928859415251,
          0.9432099022549518,
          0.9448063552128217,
          0.9463707962619866,
          0.9479102734710562,
          0.9494104118279368,
          0.9508614285569484,
          0.9523013721030075,
          0.9537012041999025,
          0.9550596499235369,
          0.9563775820844301,
          0.9576693201695877,
          0.9589067487143084,
          0.96013097561586,
          0.9613307999370225,
          0.962499127572549,
          0.9636531481024903,
          0.9647921040027895,
          0.9658913255786862,
          0.9669266448737749,
          0.9679580991244034,
          0.968980272686611,
          0.9699533545025906,
          0.9709080901036446,
          0.9718277200934109,
          0.9727394072777761,
          0.9736164754448116,
          0.9744747317653532,
          0.975313956003659,
          0.9761227497399461,
          0.9769154061972671,
          0.9776890135128146,
          0.9784533188321343,
          0.9791885657593584,
          0.9799106289324907,
          0.9806180667717798,
          0.9813117961886745,
          0.9819867370131552,
          0.9826504277763203,
          0.9833127729225286,
          0.9839360374510279,
          0.9845478007684244,
          0.9851388358169043,
          0.985720762405967,
          0.9862902018382866,
          0.9868508316867698,
          0.9874006384478917,
          0.9879335088575337,
          0.9884474526234797,
          0.9889462926828367,
          0.9894416105391557,
          0.9899218434785869,
          0.9903978882688957,
          0.9908581894716123,
          0.9913140917718476,
          0.9917521977343421,
          0.9921828045734442,
          0.992589603229121,
          0.9929892435282823,
          0.9933832902584431,
          0.9937465440378976,
          0.9941013996799258,
          0.9944490056810835,
          0.9947797195268885,
          0.9951072902745143,
          0.9954153117904421,
          0.9957180455032186,
          0.996005325347976,
          0.9962815886825622,
          0.9965513195500038,
          0.9968100244321562,
          0.997058957731792,
          0.9972984373907836,
          0.9975238074605269,
          0.9977388643267663,
          0.997948539993574,
          0.998149506636367,
          0.9983371520734251,
          0.9985059588563976,
          0.9986609262831042,
          0.998802166743248,
          0.9989352906684085,
          0.9990541264495877,
          0.999161454383031,
          0.9992558863090804,
          0.99933815334532,
          0.9994094841545667,
          0.9994744304994689,
          0.9995234080506321,
          0.9995695107432387,
          0.9996118476687179,
          0.9996493456762195,
          0.9996804815478174,
          0.9997082890169284,
          0.9997342115759608,
          0.9997591741531685,
          0.999779908284793,
          0.99979789975608,
          0.9998147396445295,
          0.9998290870936346,
          0.999842530659708,
          0.9998546507508815,
          0.9998661910487034,
          0.9998768309740966,
          0.9998862014767584,
          0.9998954037394739,
          0.9999034084435305,
          0.9999110589501978,
          0.9999177967667345,
          0.9999242729108491,
          0.9999302717370645,
          0.9999360021214659,
          0.9999415101913814,
          0.9999465966063806,
          0.9999513675856542,
          0.9999558688949636,
          0.9999600995249723,
          0.9999640243190195,
          0.9999679434167591,
          0.9999716340246981,
          0.9999751647079806,
          0.9999785298932213,
          0.9999815476666171,
          0.999984379554124,
          0.9999870731436791,
          0.999989679032483,
          0.9999921907184481,
          0.9999945753051698,
          0.9999967001511652,
          0.9999984601604032,
          0.9999999999977441,
          0.9999999999994159,
          1.0000000000000007
         ],
         "type": "scatter"
        }
       ],
       "layout": {
        "template": {
         "data": {
          "histogram2dcontour": [
           {
            "type": "histogram2dcontour",
            "colorbar": {
             "outlinewidth": 0,
             "ticks": ""
            },
            "colorscale": [
             [
              0.0,
              "#0d0887"
             ],
             [
              0.1111111111111111,
              "#46039f"
             ],
             [
              0.2222222222222222,
              "#7201a8"
             ],
             [
              0.3333333333333333,
              "#9c179e"
             ],
             [
              0.4444444444444444,
              "#bd3786"
             ],
             [
              0.5555555555555556,
              "#d8576b"
             ],
             [
              0.6666666666666666,
              "#ed7953"
             ],
             [
              0.7777777777777778,
              "#fb9f3a"
             ],
             [
              0.8888888888888888,
              "#fdca26"
             ],
             [
              1.0,
              "#f0f921"
             ]
            ]
           }
          ],
          "choropleth": [
           {
            "type": "choropleth",
            "colorbar": {
             "outlinewidth": 0,
             "ticks": ""
            }
           }
          ],
          "histogram2d": [
           {
            "type": "histogram2d",
            "colorbar": {
             "outlinewidth": 0,
             "ticks": ""
            },
            "colorscale": [
             [
              0.0,
              "#0d0887"
             ],
             [
              0.1111111111111111,
              "#46039f"
             ],
             [
              0.2222222222222222,
              "#7201a8"
             ],
             [
              0.3333333333333333,
              "#9c179e"
             ],
             [
              0.4444444444444444,
              "#bd3786"
             ],
             [
              0.5555555555555556,
              "#d8576b"
             ],
             [
              0.6666666666666666,
              "#ed7953"
             ],
             [
              0.7777777777777778,
              "#fb9f3a"
             ],
             [
              0.8888888888888888,
              "#fdca26"
             ],
             [
              1.0,
              "#f0f921"
             ]
            ]
           }
          ],
          "heatmap": [
           {
            "type": "heatmap",
            "colorbar": {
             "outlinewidth": 0,
             "ticks": ""
            },
            "colorscale": [
             [
              0.0,
              "#0d0887"
             ],
             [
              0.1111111111111111,
              "#46039f"
             ],
             [
              0.2222222222222222,
              "#7201a8"
             ],
             [
              0.3333333333333333,
              "#9c179e"
             ],
             [
              0.4444444444444444,
              "#bd3786"
             ],
             [
              0.5555555555555556,
              "#d8576b"
             ],
             [
              0.6666666666666666,
              "#ed7953"
             ],
             [
              0.7777777777777778,
              "#fb9f3a"
             ],
             [
              0.8888888888888888,
              "#fdca26"
             ],
             [
              1.0,
              "#f0f921"
             ]
            ]
           }
          ],
          "heatmapgl": [
           {
            "type": "heatmapgl",
            "colorbar": {
             "outlinewidth": 0,
             "ticks": ""
            },
            "colorscale": [
             [
              0.0,
              "#0d0887"
             ],
             [
              0.1111111111111111,
              "#46039f"
             ],
             [
              0.2222222222222222,
              "#7201a8"
             ],
             [
              0.3333333333333333,
              "#9c179e"
             ],
             [
              0.4444444444444444,
              "#bd3786"
             ],
             [
              0.5555555555555556,
              "#d8576b"
             ],
             [
              0.6666666666666666,
              "#ed7953"
             ],
             [
              0.7777777777777778,
              "#fb9f3a"
             ],
             [
              0.8888888888888888,
              "#fdca26"
             ],
             [
              1.0,
              "#f0f921"
             ]
            ]
           }
          ],
          "contourcarpet": [
           {
            "type": "contourcarpet",
            "colorbar": {
             "outlinewidth": 0,
             "ticks": ""
            }
           }
          ],
          "contour": [
           {
            "type": "contour",
            "colorbar": {
             "outlinewidth": 0,
             "ticks": ""
            },
            "colorscale": [
             [
              0.0,
              "#0d0887"
             ],
             [
              0.1111111111111111,
              "#46039f"
             ],
             [
              0.2222222222222222,
              "#7201a8"
             ],
             [
              0.3333333333333333,
              "#9c179e"
             ],
             [
              0.4444444444444444,
              "#bd3786"
             ],
             [
              0.5555555555555556,
              "#d8576b"
             ],
             [
              0.6666666666666666,
              "#ed7953"
             ],
             [
              0.7777777777777778,
              "#fb9f3a"
             ],
             [
              0.8888888888888888,
              "#fdca26"
             ],
             [
              1.0,
              "#f0f921"
             ]
            ]
           }
          ],
          "surface": [
           {
            "type": "surface",
            "colorbar": {
             "outlinewidth": 0,
             "ticks": ""
            },
            "colorscale": [
             [
              0.0,
              "#0d0887"
             ],
             [
              0.1111111111111111,
              "#46039f"
             ],
             [
              0.2222222222222222,
              "#7201a8"
             ],
             [
              0.3333333333333333,
              "#9c179e"
             ],
             [
              0.4444444444444444,
              "#bd3786"
             ],
             [
              0.5555555555555556,
              "#d8576b"
             ],
             [
              0.6666666666666666,
              "#ed7953"
             ],
             [
              0.7777777777777778,
              "#fb9f3a"
             ],
             [
              0.8888888888888888,
              "#fdca26"
             ],
             [
              1.0,
              "#f0f921"
             ]
            ]
           }
          ],
          "mesh3d": [
           {
            "type": "mesh3d",
            "colorbar": {
             "outlinewidth": 0,
             "ticks": ""
            }
           }
          ],
          "scatter": [
           {
            "fillpattern": {
             "fillmode": "overlay",
             "size": 10,
             "solidity": 0.2
            },
            "type": "scatter"
           }
          ],
          "parcoords": [
           {
            "type": "parcoords",
            "line": {
             "colorbar": {
              "outlinewidth": 0,
              "ticks": ""
             }
            }
           }
          ],
          "scatterpolargl": [
           {
            "type": "scatterpolargl",
            "marker": {
             "colorbar": {
              "outlinewidth": 0,
              "ticks": ""
             }
            }
           }
          ],
          "bar": [
           {
            "error_x": {
             "color": "#2a3f5f"
            },
            "error_y": {
             "color": "#2a3f5f"
            },
            "marker": {
             "line": {
              "color": "#E5ECF6",
              "width": 0.5
             },
             "pattern": {
              "fillmode": "overlay",
              "size": 10,
              "solidity": 0.2
             }
            },
            "type": "bar"
           }
          ],
          "scattergeo": [
           {
            "type": "scattergeo",
            "marker": {
             "colorbar": {
              "outlinewidth": 0,
              "ticks": ""
             }
            }
           }
          ],
          "scatterpolar": [
           {
            "type": "scatterpolar",
            "marker": {
             "colorbar": {
              "outlinewidth": 0,
              "ticks": ""
             }
            }
           }
          ],
          "histogram": [
           {
            "marker": {
             "pattern": {
              "fillmode": "overlay",
              "size": 10,
              "solidity": 0.2
             }
            },
            "type": "histogram"
           }
          ],
          "scattergl": [
           {
            "type": "scattergl",
            "marker": {
             "colorbar": {
              "outlinewidth": 0,
              "ticks": ""
             }
            }
           }
          ],
          "scatter3d": [
           {
            "type": "scatter3d",
            "line": {
             "colorbar": {
              "outlinewidth": 0,
              "ticks": ""
             }
            },
            "marker": {
             "colorbar": {
              "outlinewidth": 0,
              "ticks": ""
             }
            }
           }
          ],
          "scattermapbox": [
           {
            "type": "scattermapbox",
            "marker": {
             "colorbar": {
              "outlinewidth": 0,
              "ticks": ""
             }
            }
           }
          ],
          "scatterternary": [
           {
            "type": "scatterternary",
            "marker": {
             "colorbar": {
              "outlinewidth": 0,
              "ticks": ""
             }
            }
           }
          ],
          "scattercarpet": [
           {
            "type": "scattercarpet",
            "marker": {
             "colorbar": {
              "outlinewidth": 0,
              "ticks": ""
             }
            }
           }
          ],
          "carpet": [
           {
            "aaxis": {
             "endlinecolor": "#2a3f5f",
             "gridcolor": "white",
             "linecolor": "white",
             "minorgridcolor": "white",
             "startlinecolor": "#2a3f5f"
            },
            "baxis": {
             "endlinecolor": "#2a3f5f",
             "gridcolor": "white",
             "linecolor": "white",
             "minorgridcolor": "white",
             "startlinecolor": "#2a3f5f"
            },
            "type": "carpet"
           }
          ],
          "table": [
           {
            "cells": {
             "fill": {
              "color": "#EBF0F8"
             },
             "line": {
              "color": "white"
             }
            },
            "header": {
             "fill": {
              "color": "#C8D4E3"
             },
             "line": {
              "color": "white"
             }
            },
            "type": "table"
           }
          ],
          "barpolar": [
           {
            "marker": {
             "line": {
              "color": "#E5ECF6",
              "width": 0.5
             },
             "pattern": {
              "fillmode": "overlay",
              "size": 10,
              "solidity": 0.2
             }
            },
            "type": "barpolar"
           }
          ],
          "pie": [
           {
            "automargin": true,
            "type": "pie"
           }
          ]
         },
         "layout": {
          "autotypenumbers": "strict",
          "colorway": [
           "#636efa",
           "#EF553B",
           "#00cc96",
           "#ab63fa",
           "#FFA15A",
           "#19d3f3",
           "#FF6692",
           "#B6E880",
           "#FF97FF",
           "#FECB52"
          ],
          "font": {
           "color": "#2a3f5f"
          },
          "hovermode": "closest",
          "hoverlabel": {
           "align": "left"
          },
          "paper_bgcolor": "white",
          "plot_bgcolor": "#E5ECF6",
          "polar": {
           "bgcolor": "#E5ECF6",
           "angularaxis": {
            "gridcolor": "white",
            "linecolor": "white",
            "ticks": ""
           },
           "radialaxis": {
            "gridcolor": "white",
            "linecolor": "white",
            "ticks": ""
           }
          },
          "ternary": {
           "bgcolor": "#E5ECF6",
           "aaxis": {
            "gridcolor": "white",
            "linecolor": "white",
            "ticks": ""
           },
           "baxis": {
            "gridcolor": "white",
            "linecolor": "white",
            "ticks": ""
           },
           "caxis": {
            "gridcolor": "white",
            "linecolor": "white",
            "ticks": ""
           }
          },
          "coloraxis": {
           "colorbar": {
            "outlinewidth": 0,
            "ticks": ""
           }
          },
          "colorscale": {
           "sequential": [
            [
             0.0,
             "#0d0887"
            ],
            [
             0.1111111111111111,
             "#46039f"
            ],
            [
             0.2222222222222222,
             "#7201a8"
            ],
            [
             0.3333333333333333,
             "#9c179e"
            ],
            [
             0.4444444444444444,
             "#bd3786"
            ],
            [
             0.5555555555555556,
             "#d8576b"
            ],
            [
             0.6666666666666666,
             "#ed7953"
            ],
            [
             0.7777777777777778,
             "#fb9f3a"
            ],
            [
             0.8888888888888888,
             "#fdca26"
            ],
            [
             1.0,
             "#f0f921"
            ]
           ],
           "sequentialminus": [
            [
             0.0,
             "#0d0887"
            ],
            [
             0.1111111111111111,
             "#46039f"
            ],
            [
             0.2222222222222222,
             "#7201a8"
            ],
            [
             0.3333333333333333,
             "#9c179e"
            ],
            [
             0.4444444444444444,
             "#bd3786"
            ],
            [
             0.5555555555555556,
             "#d8576b"
            ],
            [
             0.6666666666666666,
             "#ed7953"
            ],
            [
             0.7777777777777778,
             "#fb9f3a"
            ],
            [
             0.8888888888888888,
             "#fdca26"
            ],
            [
             1.0,
             "#f0f921"
            ]
           ],
           "diverging": [
            [
             0,
             "#8e0152"
            ],
            [
             0.1,
             "#c51b7d"
            ],
            [
             0.2,
             "#de77ae"
            ],
            [
             0.3,
             "#f1b6da"
            ],
            [
             0.4,
             "#fde0ef"
            ],
            [
             0.5,
             "#f7f7f7"
            ],
            [
             0.6,
             "#e6f5d0"
            ],
            [
             0.7,
             "#b8e186"
            ],
            [
             0.8,
             "#7fbc41"
            ],
            [
             0.9,
             "#4d9221"
            ],
            [
             1,
             "#276419"
            ]
           ]
          },
          "xaxis": {
           "gridcolor": "white",
           "linecolor": "white",
           "ticks": "",
           "title": {
            "standoff": 15
           },
           "zerolinecolor": "white",
           "automargin": true,
           "zerolinewidth": 2
          },
          "yaxis": {
           "gridcolor": "white",
           "linecolor": "white",
           "ticks": "",
           "title": {
            "standoff": 15
           },
           "zerolinecolor": "white",
           "automargin": true,
           "zerolinewidth": 2
          },
          "scene": {
           "xaxis": {
            "backgroundcolor": "#E5ECF6",
            "gridcolor": "white",
            "linecolor": "white",
            "showbackground": true,
            "ticks": "",
            "zerolinecolor": "white",
            "gridwidth": 2
           },
           "yaxis": {
            "backgroundcolor": "#E5ECF6",
            "gridcolor": "white",
            "linecolor": "white",
            "showbackground": true,
            "ticks": "",
            "zerolinecolor": "white",
            "gridwidth": 2
           },
           "zaxis": {
            "backgroundcolor": "#E5ECF6",
            "gridcolor": "white",
            "linecolor": "white",
            "showbackground": true,
            "ticks": "",
            "zerolinecolor": "white",
            "gridwidth": 2
           }
          },
          "shapedefaults": {
           "line": {
            "color": "#2a3f5f"
           }
          },
          "annotationdefaults": {
           "arrowcolor": "#2a3f5f",
           "arrowhead": 0,
           "arrowwidth": 1
          },
          "geo": {
           "bgcolor": "white",
           "landcolor": "#E5ECF6",
           "subunitcolor": "white",
           "showland": true,
           "showlakes": true,
           "lakecolor": "white"
          },
          "title": {
           "x": 0.05
          },
          "mapbox": {
           "style": "light"
          }
         }
        },
        "xaxis": {
         "title": {
          "text": "Nombre de composants"
         }
        },
        "yaxis": {
         "title": {
          "text": "Ratio de variance expliquée cumulée"
         }
        },
        "title": {
         "text": "Ratio de variance expliquée cumulée par nombre de composantes"
        }
       },
       "config": {
        "plotlyServerURL": "https://plot.ly"
       }
      },
      "text/html": "<div>                            <div id=\"60c34862-2e34-4235-8f45-114e608516bb\" class=\"plotly-graph-div\" style=\"height:525px; width:100%;\"></div>            <script type=\"text/javascript\">                require([\"plotly\"], function(Plotly) {                    window.PLOTLYENV=window.PLOTLYENV || {};                                    if (document.getElementById(\"60c34862-2e34-4235-8f45-114e608516bb\")) {                    Plotly.newPlot(                        \"60c34862-2e34-4235-8f45-114e608516bb\",                        [{\"line\":{\"dash\":\"dash\"},\"marker\":{\"size\":8,\"symbol\":\"circle\"},\"mode\":\"lines+markers\",\"x\":[1,2,3,4,5,6,7,8,9,10,11,12,13,14,15,16,17,18,19,20,21,22,23,24,25,26,27,28,29,30,31,32,33,34,35,36,37,38,39,40,41,42,43,44,45,46,47,48,49,50,51,52,53,54,55,56,57,58,59,60,61,62,63,64,65,66,67,68,69,70,71,72,73,74,75,76,77,78,79,80,81,82,83,84,85,86,87,88,89,90,91,92,93,94,95,96,97,98,99,100,101,102,103,104,105,106,107,108,109,110,111,112,113,114,115,116,117,118,119,120,121,122,123,124,125,126,127,128,129,130,131,132,133,134,135,136,137,138,139,140,141,142,143,144,145,146,147,148,149,150,151,152,153,154,155,156,157,158,159,160,161,162,163,164,165,166,167,168,169,170,171,172,173,174,175,176,177,178,179,180,181,182,183,184,185,186,187,188,189,190,191,192],\"y\":[0.22960268225901048,0.36854847175218886,0.43043448679669133,0.4906648491443212,0.533663767873725,0.5723025479008145,0.6070124380474649,0.6345407271724416,0.6578241980305614,0.6765401737281425,0.6938835105407724,0.710537502518392,0.7260502830200601,0.7396532930943901,0.7511562697216432,0.7621572797549331,0.7729701400932505,0.7823436207535754,0.7914606361624802,0.799996074152077,0.807660078014097,0.8149320698334609,0.822015275492687,0.828471865781327,0.8347025666041843,0.8403748157148394,0.8459849808419521,0.8511720295017128,0.8561357415487362,0.8607007449383484,0.8648923038455043,0.8690174370148663,0.8728994960982795,0.8767216290420218,0.8803363262473034,0.8838508720330577,0.8872919790970842,0.890631454297511,0.893866475682296,0.8969359746707398,0.8999248445885084,0.902785869884988,0.9055462952866331,0.9082846053022465,0.9108796593592304,0.9134533371536037,0.915912641812048,0.9182790536110178,0.9205679945848457,0.9227864086905009,0.9249375728318593,0.9269960729067553,0.9289979938081139,0.9309540203378058,0.9328613926691403,0.9346708954917143,0.9364510623950606,0.9382096076809587,0.9399308609481015,0.9415928859415251,0.9432099022549518,0.9448063552128217,0.9463707962619866,0.9479102734710562,0.9494104118279368,0.9508614285569484,0.9523013721030075,0.9537012041999025,0.9550596499235369,0.9563775820844301,0.9576693201695877,0.9589067487143084,0.96013097561586,0.9613307999370225,0.962499127572549,0.9636531481024903,0.9647921040027895,0.9658913255786862,0.9669266448737749,0.9679580991244034,0.968980272686611,0.9699533545025906,0.9709080901036446,0.9718277200934109,0.9727394072777761,0.9736164754448116,0.9744747317653532,0.975313956003659,0.9761227497399461,0.9769154061972671,0.9776890135128146,0.9784533188321343,0.9791885657593584,0.9799106289324907,0.9806180667717798,0.9813117961886745,0.9819867370131552,0.9826504277763203,0.9833127729225286,0.9839360374510279,0.9845478007684244,0.9851388358169043,0.985720762405967,0.9862902018382866,0.9868508316867698,0.9874006384478917,0.9879335088575337,0.9884474526234797,0.9889462926828367,0.9894416105391557,0.9899218434785869,0.9903978882688957,0.9908581894716123,0.9913140917718476,0.9917521977343421,0.9921828045734442,0.992589603229121,0.9929892435282823,0.9933832902584431,0.9937465440378976,0.9941013996799258,0.9944490056810835,0.9947797195268885,0.9951072902745143,0.9954153117904421,0.9957180455032186,0.996005325347976,0.9962815886825622,0.9965513195500038,0.9968100244321562,0.997058957731792,0.9972984373907836,0.9975238074605269,0.9977388643267663,0.997948539993574,0.998149506636367,0.9983371520734251,0.9985059588563976,0.9986609262831042,0.998802166743248,0.9989352906684085,0.9990541264495877,0.999161454383031,0.9992558863090804,0.99933815334532,0.9994094841545667,0.9994744304994689,0.9995234080506321,0.9995695107432387,0.9996118476687179,0.9996493456762195,0.9996804815478174,0.9997082890169284,0.9997342115759608,0.9997591741531685,0.999779908284793,0.99979789975608,0.9998147396445295,0.9998290870936346,0.999842530659708,0.9998546507508815,0.9998661910487034,0.9998768309740966,0.9998862014767584,0.9998954037394739,0.9999034084435305,0.9999110589501978,0.9999177967667345,0.9999242729108491,0.9999302717370645,0.9999360021214659,0.9999415101913814,0.9999465966063806,0.9999513675856542,0.9999558688949636,0.9999600995249723,0.9999640243190195,0.9999679434167591,0.9999716340246981,0.9999751647079806,0.9999785298932213,0.9999815476666171,0.999984379554124,0.9999870731436791,0.999989679032483,0.9999921907184481,0.9999945753051698,0.9999967001511652,0.9999984601604032,0.9999999999977441,0.9999999999994159,1.0000000000000007],\"type\":\"scatter\"}],                        {\"template\":{\"data\":{\"histogram2dcontour\":[{\"type\":\"histogram2dcontour\",\"colorbar\":{\"outlinewidth\":0,\"ticks\":\"\"},\"colorscale\":[[0.0,\"#0d0887\"],[0.1111111111111111,\"#46039f\"],[0.2222222222222222,\"#7201a8\"],[0.3333333333333333,\"#9c179e\"],[0.4444444444444444,\"#bd3786\"],[0.5555555555555556,\"#d8576b\"],[0.6666666666666666,\"#ed7953\"],[0.7777777777777778,\"#fb9f3a\"],[0.8888888888888888,\"#fdca26\"],[1.0,\"#f0f921\"]]}],\"choropleth\":[{\"type\":\"choropleth\",\"colorbar\":{\"outlinewidth\":0,\"ticks\":\"\"}}],\"histogram2d\":[{\"type\":\"histogram2d\",\"colorbar\":{\"outlinewidth\":0,\"ticks\":\"\"},\"colorscale\":[[0.0,\"#0d0887\"],[0.1111111111111111,\"#46039f\"],[0.2222222222222222,\"#7201a8\"],[0.3333333333333333,\"#9c179e\"],[0.4444444444444444,\"#bd3786\"],[0.5555555555555556,\"#d8576b\"],[0.6666666666666666,\"#ed7953\"],[0.7777777777777778,\"#fb9f3a\"],[0.8888888888888888,\"#fdca26\"],[1.0,\"#f0f921\"]]}],\"heatmap\":[{\"type\":\"heatmap\",\"colorbar\":{\"outlinewidth\":0,\"ticks\":\"\"},\"colorscale\":[[0.0,\"#0d0887\"],[0.1111111111111111,\"#46039f\"],[0.2222222222222222,\"#7201a8\"],[0.3333333333333333,\"#9c179e\"],[0.4444444444444444,\"#bd3786\"],[0.5555555555555556,\"#d8576b\"],[0.6666666666666666,\"#ed7953\"],[0.7777777777777778,\"#fb9f3a\"],[0.8888888888888888,\"#fdca26\"],[1.0,\"#f0f921\"]]}],\"heatmapgl\":[{\"type\":\"heatmapgl\",\"colorbar\":{\"outlinewidth\":0,\"ticks\":\"\"},\"colorscale\":[[0.0,\"#0d0887\"],[0.1111111111111111,\"#46039f\"],[0.2222222222222222,\"#7201a8\"],[0.3333333333333333,\"#9c179e\"],[0.4444444444444444,\"#bd3786\"],[0.5555555555555556,\"#d8576b\"],[0.6666666666666666,\"#ed7953\"],[0.7777777777777778,\"#fb9f3a\"],[0.8888888888888888,\"#fdca26\"],[1.0,\"#f0f921\"]]}],\"contourcarpet\":[{\"type\":\"contourcarpet\",\"colorbar\":{\"outlinewidth\":0,\"ticks\":\"\"}}],\"contour\":[{\"type\":\"contour\",\"colorbar\":{\"outlinewidth\":0,\"ticks\":\"\"},\"colorscale\":[[0.0,\"#0d0887\"],[0.1111111111111111,\"#46039f\"],[0.2222222222222222,\"#7201a8\"],[0.3333333333333333,\"#9c179e\"],[0.4444444444444444,\"#bd3786\"],[0.5555555555555556,\"#d8576b\"],[0.6666666666666666,\"#ed7953\"],[0.7777777777777778,\"#fb9f3a\"],[0.8888888888888888,\"#fdca26\"],[1.0,\"#f0f921\"]]}],\"surface\":[{\"type\":\"surface\",\"colorbar\":{\"outlinewidth\":0,\"ticks\":\"\"},\"colorscale\":[[0.0,\"#0d0887\"],[0.1111111111111111,\"#46039f\"],[0.2222222222222222,\"#7201a8\"],[0.3333333333333333,\"#9c179e\"],[0.4444444444444444,\"#bd3786\"],[0.5555555555555556,\"#d8576b\"],[0.6666666666666666,\"#ed7953\"],[0.7777777777777778,\"#fb9f3a\"],[0.8888888888888888,\"#fdca26\"],[1.0,\"#f0f921\"]]}],\"mesh3d\":[{\"type\":\"mesh3d\",\"colorbar\":{\"outlinewidth\":0,\"ticks\":\"\"}}],\"scatter\":[{\"fillpattern\":{\"fillmode\":\"overlay\",\"size\":10,\"solidity\":0.2},\"type\":\"scatter\"}],\"parcoords\":[{\"type\":\"parcoords\",\"line\":{\"colorbar\":{\"outlinewidth\":0,\"ticks\":\"\"}}}],\"scatterpolargl\":[{\"type\":\"scatterpolargl\",\"marker\":{\"colorbar\":{\"outlinewidth\":0,\"ticks\":\"\"}}}],\"bar\":[{\"error_x\":{\"color\":\"#2a3f5f\"},\"error_y\":{\"color\":\"#2a3f5f\"},\"marker\":{\"line\":{\"color\":\"#E5ECF6\",\"width\":0.5},\"pattern\":{\"fillmode\":\"overlay\",\"size\":10,\"solidity\":0.2}},\"type\":\"bar\"}],\"scattergeo\":[{\"type\":\"scattergeo\",\"marker\":{\"colorbar\":{\"outlinewidth\":0,\"ticks\":\"\"}}}],\"scatterpolar\":[{\"type\":\"scatterpolar\",\"marker\":{\"colorbar\":{\"outlinewidth\":0,\"ticks\":\"\"}}}],\"histogram\":[{\"marker\":{\"pattern\":{\"fillmode\":\"overlay\",\"size\":10,\"solidity\":0.2}},\"type\":\"histogram\"}],\"scattergl\":[{\"type\":\"scattergl\",\"marker\":{\"colorbar\":{\"outlinewidth\":0,\"ticks\":\"\"}}}],\"scatter3d\":[{\"type\":\"scatter3d\",\"line\":{\"colorbar\":{\"outlinewidth\":0,\"ticks\":\"\"}},\"marker\":{\"colorbar\":{\"outlinewidth\":0,\"ticks\":\"\"}}}],\"scattermapbox\":[{\"type\":\"scattermapbox\",\"marker\":{\"colorbar\":{\"outlinewidth\":0,\"ticks\":\"\"}}}],\"scatterternary\":[{\"type\":\"scatterternary\",\"marker\":{\"colorbar\":{\"outlinewidth\":0,\"ticks\":\"\"}}}],\"scattercarpet\":[{\"type\":\"scattercarpet\",\"marker\":{\"colorbar\":{\"outlinewidth\":0,\"ticks\":\"\"}}}],\"carpet\":[{\"aaxis\":{\"endlinecolor\":\"#2a3f5f\",\"gridcolor\":\"white\",\"linecolor\":\"white\",\"minorgridcolor\":\"white\",\"startlinecolor\":\"#2a3f5f\"},\"baxis\":{\"endlinecolor\":\"#2a3f5f\",\"gridcolor\":\"white\",\"linecolor\":\"white\",\"minorgridcolor\":\"white\",\"startlinecolor\":\"#2a3f5f\"},\"type\":\"carpet\"}],\"table\":[{\"cells\":{\"fill\":{\"color\":\"#EBF0F8\"},\"line\":{\"color\":\"white\"}},\"header\":{\"fill\":{\"color\":\"#C8D4E3\"},\"line\":{\"color\":\"white\"}},\"type\":\"table\"}],\"barpolar\":[{\"marker\":{\"line\":{\"color\":\"#E5ECF6\",\"width\":0.5},\"pattern\":{\"fillmode\":\"overlay\",\"size\":10,\"solidity\":0.2}},\"type\":\"barpolar\"}],\"pie\":[{\"automargin\":true,\"type\":\"pie\"}]},\"layout\":{\"autotypenumbers\":\"strict\",\"colorway\":[\"#636efa\",\"#EF553B\",\"#00cc96\",\"#ab63fa\",\"#FFA15A\",\"#19d3f3\",\"#FF6692\",\"#B6E880\",\"#FF97FF\",\"#FECB52\"],\"font\":{\"color\":\"#2a3f5f\"},\"hovermode\":\"closest\",\"hoverlabel\":{\"align\":\"left\"},\"paper_bgcolor\":\"white\",\"plot_bgcolor\":\"#E5ECF6\",\"polar\":{\"bgcolor\":\"#E5ECF6\",\"angularaxis\":{\"gridcolor\":\"white\",\"linecolor\":\"white\",\"ticks\":\"\"},\"radialaxis\":{\"gridcolor\":\"white\",\"linecolor\":\"white\",\"ticks\":\"\"}},\"ternary\":{\"bgcolor\":\"#E5ECF6\",\"aaxis\":{\"gridcolor\":\"white\",\"linecolor\":\"white\",\"ticks\":\"\"},\"baxis\":{\"gridcolor\":\"white\",\"linecolor\":\"white\",\"ticks\":\"\"},\"caxis\":{\"gridcolor\":\"white\",\"linecolor\":\"white\",\"ticks\":\"\"}},\"coloraxis\":{\"colorbar\":{\"outlinewidth\":0,\"ticks\":\"\"}},\"colorscale\":{\"sequential\":[[0.0,\"#0d0887\"],[0.1111111111111111,\"#46039f\"],[0.2222222222222222,\"#7201a8\"],[0.3333333333333333,\"#9c179e\"],[0.4444444444444444,\"#bd3786\"],[0.5555555555555556,\"#d8576b\"],[0.6666666666666666,\"#ed7953\"],[0.7777777777777778,\"#fb9f3a\"],[0.8888888888888888,\"#fdca26\"],[1.0,\"#f0f921\"]],\"sequentialminus\":[[0.0,\"#0d0887\"],[0.1111111111111111,\"#46039f\"],[0.2222222222222222,\"#7201a8\"],[0.3333333333333333,\"#9c179e\"],[0.4444444444444444,\"#bd3786\"],[0.5555555555555556,\"#d8576b\"],[0.6666666666666666,\"#ed7953\"],[0.7777777777777778,\"#fb9f3a\"],[0.8888888888888888,\"#fdca26\"],[1.0,\"#f0f921\"]],\"diverging\":[[0,\"#8e0152\"],[0.1,\"#c51b7d\"],[0.2,\"#de77ae\"],[0.3,\"#f1b6da\"],[0.4,\"#fde0ef\"],[0.5,\"#f7f7f7\"],[0.6,\"#e6f5d0\"],[0.7,\"#b8e186\"],[0.8,\"#7fbc41\"],[0.9,\"#4d9221\"],[1,\"#276419\"]]},\"xaxis\":{\"gridcolor\":\"white\",\"linecolor\":\"white\",\"ticks\":\"\",\"title\":{\"standoff\":15},\"zerolinecolor\":\"white\",\"automargin\":true,\"zerolinewidth\":2},\"yaxis\":{\"gridcolor\":\"white\",\"linecolor\":\"white\",\"ticks\":\"\",\"title\":{\"standoff\":15},\"zerolinecolor\":\"white\",\"automargin\":true,\"zerolinewidth\":2},\"scene\":{\"xaxis\":{\"backgroundcolor\":\"#E5ECF6\",\"gridcolor\":\"white\",\"linecolor\":\"white\",\"showbackground\":true,\"ticks\":\"\",\"zerolinecolor\":\"white\",\"gridwidth\":2},\"yaxis\":{\"backgroundcolor\":\"#E5ECF6\",\"gridcolor\":\"white\",\"linecolor\":\"white\",\"showbackground\":true,\"ticks\":\"\",\"zerolinecolor\":\"white\",\"gridwidth\":2},\"zaxis\":{\"backgroundcolor\":\"#E5ECF6\",\"gridcolor\":\"white\",\"linecolor\":\"white\",\"showbackground\":true,\"ticks\":\"\",\"zerolinecolor\":\"white\",\"gridwidth\":2}},\"shapedefaults\":{\"line\":{\"color\":\"#2a3f5f\"}},\"annotationdefaults\":{\"arrowcolor\":\"#2a3f5f\",\"arrowhead\":0,\"arrowwidth\":1},\"geo\":{\"bgcolor\":\"white\",\"landcolor\":\"#E5ECF6\",\"subunitcolor\":\"white\",\"showland\":true,\"showlakes\":true,\"lakecolor\":\"white\"},\"title\":{\"x\":0.05},\"mapbox\":{\"style\":\"light\"}}},\"xaxis\":{\"title\":{\"text\":\"Nombre de composants\"}},\"yaxis\":{\"title\":{\"text\":\"Ratio de variance expliqu\\u00e9e cumul\\u00e9e\"}},\"title\":{\"text\":\"Ratio de variance expliqu\\u00e9e cumul\\u00e9e par nombre de composantes\"}},                        {\"responsive\": true}                    ).then(function(){\n                            \nvar gd = document.getElementById('60c34862-2e34-4235-8f45-114e608516bb');\nvar x = new MutationObserver(function (mutations, observer) {{\n        var display = window.getComputedStyle(gd).display;\n        if (!display || display === 'none') {{\n            console.log([gd, 'removed!']);\n            Plotly.purge(gd);\n            observer.disconnect();\n        }}\n}});\n\n// Listen for the removal of the full notebook cells\nvar notebookContainer = gd.closest('#notebook-container');\nif (notebookContainer) {{\n    x.observe(notebookContainer, {childList: true});\n}}\n\n// Listen for the clearing of the current output cell\nvar outputEl = gd.closest('.output');\nif (outputEl) {{\n    x.observe(outputEl, {childList: true});\n}}\n\n                        })                };                });            </script>        </div>"
     },
     "metadata": {},
     "output_type": "display_data"
    }
   ],
   "source": [
    "import plotly.graph_objects as go\n",
    "import numpy as np\n",
    "from sklearn.decomposition import PCA\n",
    "\n",
    "X_acp = x_train\n",
    "pca = PCA().fit(X_acp)\n",
    "\n",
    "cumulative_variance_ratio = np.cumsum(pca.explained_variance_ratio_)\n",
    "\n",
    "fig = go.Figure()\n",
    "fig.add_trace(go.Scatter(\n",
    "    x=list(range(1, len(cumulative_variance_ratio) + 1)),  # Conversion en liste\n",
    "    y=cumulative_variance_ratio,\n",
    "    mode='lines+markers',\n",
    "    marker=dict(symbol='circle', size=8),\n",
    "    line=dict(dash='dash'),\n",
    "))\n",
    "\n",
    "fig.update_layout(\n",
    "    xaxis_title='Nombre de composants',\n",
    "    yaxis_title='Ratio de variance expliquée cumulée',\n",
    "    title='Ratio de variance expliquée cumulée par nombre de composantes',\n",
    ")\n",
    "\n",
    "fig.show()"
   ],
   "metadata": {
    "collapsed": false,
    "ExecuteTime": {
     "end_time": "2024-04-12T00:53:26.643817100Z",
     "start_time": "2024-04-12T00:53:25.876924400Z"
    }
   },
   "id": "b9bd0b941cd7e02d",
   "execution_count": 58
  },
  {
   "cell_type": "markdown",
   "source": [],
   "metadata": {
    "collapsed": false
   },
   "id": "63de33c09fda8393"
  },
  {
   "cell_type": "markdown",
   "source": [
    "pca3 = PCA(n_components=95)\n",
    "X_pca3 = pca3.fit_transform(processed_data.get_processed_data())\n",
    "\n",
    "X_pca3\n",
    "\n",
    "\"\"\"df_pca3 = pd.DataFrame(X_pca3, columns=['PC1', 'PC2', 'PC3'])\n",
    "df_pca3['species']= df_train['species'].values\n",
    "df_pca3.head()\"\"\""
   ],
   "metadata": {
    "collapsed": false
   },
   "id": "55f9331c80177fad"
  },
  {
   "cell_type": "code",
   "outputs": [],
   "source": [],
   "metadata": {
    "collapsed": false,
    "ExecuteTime": {
     "end_time": "2024-04-12T00:42:06.260728200Z",
     "start_time": "2024-04-12T00:42:06.222695800Z"
    }
   },
   "id": "dbadc626c906042f",
   "execution_count": 56
  },
  {
   "cell_type": "code",
   "outputs": [],
   "source": [],
   "metadata": {
    "collapsed": false,
    "ExecuteTime": {
     "end_time": "2024-04-12T00:42:06.440592600Z",
     "start_time": "2024-04-12T00:42:06.391589300Z"
    }
   },
   "id": "641eccdd3b913c8c",
   "execution_count": 56
  },
  {
   "cell_type": "code",
   "outputs": [],
   "source": [],
   "metadata": {
    "collapsed": false,
    "ExecuteTime": {
     "end_time": "2024-04-12T00:42:06.812441800Z",
     "start_time": "2024-04-12T00:42:06.664689Z"
    }
   },
   "id": "5a97b3ef67394b55",
   "execution_count": 56
  },
  {
   "cell_type": "code",
   "outputs": [],
   "source": [],
   "metadata": {
    "collapsed": false,
    "ExecuteTime": {
     "end_time": "2024-04-12T00:42:07.148162Z",
     "start_time": "2024-04-12T00:42:06.945714700Z"
    }
   },
   "id": "61c30acbb06b7a44",
   "execution_count": 56
  },
  {
   "cell_type": "code",
   "outputs": [],
   "source": [],
   "metadata": {
    "collapsed": false,
    "ExecuteTime": {
     "end_time": "2024-04-12T00:42:07.272676Z",
     "start_time": "2024-04-12T00:42:07.130176700Z"
    }
   },
   "id": "1ad50ed910236a65",
   "execution_count": 56
  },
  {
   "cell_type": "code",
   "outputs": [],
   "source": [],
   "metadata": {
    "collapsed": false,
    "ExecuteTime": {
     "end_time": "2024-04-12T00:42:07.312726Z",
     "start_time": "2024-04-12T00:42:07.273182Z"
    }
   },
   "id": "52cb43143dfae8c9",
   "execution_count": 56
  },
  {
   "cell_type": "code",
   "outputs": [],
   "source": [],
   "metadata": {
    "collapsed": false
   },
   "id": "6f58fa83278cfbc1"
  }
 ],
 "metadata": {
  "kernelspec": {
   "display_name": "Python 3 (ipykernel)",
   "language": "python",
   "name": "python3"
  },
  "language_info": {
   "codemirror_mode": {
    "name": "ipython",
    "version": 3
   },
   "file_extension": ".py",
   "mimetype": "text/x-python",
   "name": "python",
   "nbconvert_exporter": "python",
   "pygments_lexer": "ipython3",
   "version": "3.11.4"
  }
 },
 "nbformat": 4,
 "nbformat_minor": 5
}
